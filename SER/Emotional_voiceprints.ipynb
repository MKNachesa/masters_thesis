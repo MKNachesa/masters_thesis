{
  "cells": [
    {
      "cell_type": "markdown",
      "source": [
        "#Installing packages"
      ],
      "metadata": {
        "id": "pyzERXlV-k9M"
      }
    },
    {
      "cell_type": "code",
      "execution_count": null,
      "metadata": {
        "id": "Su6sbOtjrA6A"
      },
      "outputs": [],
      "source": [
        "%%capture\n",
        "!pip install nemo-toolkit['asr']\n",
        "!pip install wget\n",
        "!apt-get install sox libsndfile1 ffmpeg\n",
        "!pip install text-unidecode\n",
        "\n",
        "## Install NeMo\n",
        "BRANCH = 'main'\n",
        "!python -m pip install git+https://github.com/NVIDIA/NeMo.git@$BRANCH#egg=nemo_toolkit[asr]\n",
        "\n",
        "# Install TorchAudio\n",
        "!pip install torchaudio>=0.10.0 -f https://download.pytorch.org/whl/torch_stable.html\n",
        "\n",
        "from omegaconf import OmegaConf\n",
        "import os \n",
        "\n",
        "!mkdir conf \n",
        "!wget -P conf https://raw.githubusercontent.com/NVIDIA/NeMo/$BRANCH/examples/speaker_tasks/recognition/conf/titanet-large.yaml\n",
        "NEMO_ROOT = os.getcwd()\n",
        "MODEL_CONFIG = os.path.join(NEMO_ROOT,'conf/titanet-large.yaml')\n",
        "config = OmegaConf.load(MODEL_CONFIG)"
      ]
    },
    {
      "cell_type": "markdown",
      "source": [
        "#Extracting Voiceprints"
      ],
      "metadata": {
        "id": "Fx0LUkDL-tws"
      }
    },
    {
      "cell_type": "code",
      "execution_count": null,
      "metadata": {
        "colab": {
          "base_uri": "https://localhost:8080/"
        },
        "id": "3La4l-hPxr4T",
        "outputId": "b7cb574f-2735-4c73-f699-55743414e411"
      },
      "outputs": [
        {
          "name": "stderr",
          "output_type": "stream",
          "text": [
            "[NeMo W 2023-03-15 14:50:41 optimizers:54] Apex was not found. Using the lamb or fused_adam optimizer will error out.\n",
            "[NeMo W 2023-03-15 14:50:45 experimental:27] Module <class 'nemo.collections.asr.modules.audio_modules.SpectrogramToMultichannelFeatures'> is experimental, not ready for production and is not fully supported. Use at your own risk.\n"
          ]
        },
        {
          "name": "stdout",
          "output_type": "stream",
          "text": [
            "[NeMo I 2023-03-15 14:50:46 cloud:68] Downloading from: https://api.ngc.nvidia.com/v2/models/nvidia/nemo/titanet_large/versions/v1/files/titanet-l.nemo to /root/.cache/torch/NeMo/NeMo_1.17.0rc0/titanet-l/11ba0924fdf87c049e339adbf6899d48/titanet-l.nemo\n",
            "[NeMo I 2023-03-15 14:50:50 common:913] Instantiating model from pre-trained checkpoint\n"
          ]
        },
        {
          "name": "stderr",
          "output_type": "stream",
          "text": [
            "[NeMo W 2023-03-15 14:50:51 modelPT:161] If you intend to do training or fine-tuning, please call the ModelPT.setup_training_data() method and provide a valid configuration file to setup the train data loader.\n",
            "    Train config : \n",
            "    manifest_filepath: /manifests/combined_fisher_swbd_voxceleb12_librispeech/train.json\n",
            "    sample_rate: 16000\n",
            "    labels: null\n",
            "    batch_size: 64\n",
            "    shuffle: true\n",
            "    is_tarred: false\n",
            "    tarred_audio_filepaths: null\n",
            "    tarred_shard_strategy: scatter\n",
            "    augmentor:\n",
            "      noise:\n",
            "        manifest_path: /manifests/noise/rir_noise_manifest.json\n",
            "        prob: 0.5\n",
            "        min_snr_db: 0\n",
            "        max_snr_db: 15\n",
            "      speed:\n",
            "        prob: 0.5\n",
            "        sr: 16000\n",
            "        resample_type: kaiser_fast\n",
            "        min_speed_rate: 0.95\n",
            "        max_speed_rate: 1.05\n",
            "    num_workers: 15\n",
            "    pin_memory: true\n",
            "    \n",
            "[NeMo W 2023-03-15 14:50:51 modelPT:168] If you intend to do validation, please call the ModelPT.setup_validation_data() or ModelPT.setup_multiple_validation_data() method and provide a valid configuration file to setup the validation data loader(s). \n",
            "    Validation config : \n",
            "    manifest_filepath: /manifests/combined_fisher_swbd_voxceleb12_librispeech/dev.json\n",
            "    sample_rate: 16000\n",
            "    labels: null\n",
            "    batch_size: 128\n",
            "    shuffle: false\n",
            "    num_workers: 15\n",
            "    pin_memory: true\n",
            "    \n"
          ]
        },
        {
          "name": "stdout",
          "output_type": "stream",
          "text": [
            "[NeMo I 2023-03-15 14:50:51 features:287] PADDING: 16\n",
            "[NeMo I 2023-03-15 14:50:59 save_restore_connector:247] Model EncDecSpeakerLabelModel was successfully restored from /root/.cache/torch/NeMo/NeMo_1.17.0rc0/titanet-l/11ba0924fdf87c049e339adbf6899d48/titanet-l.nemo.\n"
          ]
        }
      ],
      "source": [
        "import nemo.collections.asr as nemo_asr\n",
        "from collections import defaultdict\n",
        "\n",
        "speaker_model = nemo_asr.models.EncDecSpeakerLabelModel.from_pretrained(model_name='titanet_large')"
      ]
    },
    {
      "cell_type": "code",
      "execution_count": null,
      "metadata": {
        "id": "m6GbMaFiy5TX"
      },
      "outputs": [],
      "source": [
        "from tqdm import tqdm"
      ]
    },
    {
      "cell_type": "code",
      "execution_count": null,
      "metadata": {
        "colab": {
          "base_uri": "https://localhost:8080/",
          "height": 1000
        },
        "id": "JwBEnhzUrOex",
        "outputId": "ce900d9b-70b0-4ba1-899e-83310f947bf7"
      },
      "outputs": [
        {
          "name": "stdout",
          "output_type": "stream",
          "text": [
            "Processing speaker 0001\n"
          ]
        },
        {
          "name": "stderr",
          "output_type": "stream",
          "text": [
            "\rEmotion: Neutral split: evaluation:   0%|          | 0/20 [00:00<?, ?it/s][NeMo W 2023-03-15 14:51:14 nemo_logging:349] /usr/local/lib/python3.9/dist-packages/nemo/collections/asr/models/label_models.py:432: UserWarning: Creating a tensor from a list of numpy.ndarrays is extremely slow. Please consider converting the list to a single numpy.ndarray with numpy.array() before converting to a tensor. (Triggered internally at ../torch/csrc/utils/tensor_new.cpp:230.)\n",
            "      torch.tensor([audio], device=device),\n",
            "    \n",
            "Emotion: Neutral split: evaluation: 100%|██████████| 20/20 [00:28<00:00,  1.42s/it]\n",
            "Emotion: Neutral split: test      : 100%|██████████| 30/30 [00:08<00:00,  3.46it/s]\n",
            "Emotion: Neutral split: train     : 100%|██████████| 300/300 [00:08<00:00, 35.83it/s]\n",
            "Emotion: Sad     split: evaluation: 100%|██████████| 20/20 [00:06<00:00,  3.26it/s]\n",
            "Emotion: Sad     split: test      : 100%|██████████| 30/30 [00:10<00:00,  2.82it/s]\n",
            "Emotion: Sad     split: train     : 100%|██████████| 300/300 [00:13<00:00, 22.68it/s]\n",
            "Emotion: Angry   split: train     : 100%|██████████| 300/300 [00:10<00:00, 29.00it/s]\n",
            "Emotion: Angry   split: test      : 100%|██████████| 30/30 [00:09<00:00,  3.13it/s]\n",
            "Emotion: Angry   split: evaluation: 100%|██████████| 20/20 [00:06<00:00,  2.89it/s]\n",
            "Emotion: Happy   split: train     : 100%|██████████| 300/300 [00:09<00:00, 31.83it/s]\n",
            "Emotion: Happy   split: test      : 100%|██████████| 30/30 [00:09<00:00,  3.05it/s]\n",
            "Emotion: Happy   split: evaluation: 100%|██████████| 20/20 [00:05<00:00,  3.98it/s]\n"
          ]
        },
        {
          "name": "stdout",
          "output_type": "stream",
          "text": [
            "Processing speaker 0002\n"
          ]
        },
        {
          "name": "stderr",
          "output_type": "stream",
          "text": [
            "Emotion: Happy   split: train     : 100%|██████████| 300/300 [00:08<00:00, 36.06it/s]\n",
            "Emotion: Happy   split: evaluation: 100%|██████████| 20/20 [00:05<00:00,  3.99it/s]\n",
            "Emotion: Happy   split: test      : 100%|██████████| 30/30 [00:09<00:00,  3.30it/s]\n",
            "Emotion: Sad     split: train     : 100%|██████████| 300/300 [00:20<00:00, 14.31it/s]\n",
            "Emotion: Sad     split: test      : 100%|██████████| 30/30 [00:12<00:00,  2.39it/s]\n",
            "Emotion: Sad     split: evaluation: 100%|██████████| 20/20 [00:07<00:00,  2.83it/s]\n",
            "Emotion: Neutral split: train     : 100%|██████████| 300/300 [00:14<00:00, 21.34it/s]\n",
            "Emotion: Neutral split: test      : 100%|██████████| 30/30 [00:07<00:00,  3.84it/s]\n",
            "Emotion: Neutral split: evaluation: 100%|██████████| 20/20 [00:06<00:00,  3.27it/s]\n",
            "Emotion: Angry   split: test      : 100%|██████████| 30/30 [00:08<00:00,  3.53it/s]\n",
            "Emotion: Angry   split: evaluation: 100%|██████████| 20/20 [00:06<00:00,  3.31it/s]\n",
            "Emotion: Angry   split: train     : 100%|██████████| 300/300 [00:08<00:00, 33.87it/s]\n"
          ]
        },
        {
          "name": "stdout",
          "output_type": "stream",
          "text": [
            "Processing speaker 0003\n"
          ]
        },
        {
          "name": "stderr",
          "output_type": "stream",
          "text": [
            "Emotion: Angry   split: evaluation: 100%|██████████| 20/20 [00:05<00:00,  3.44it/s]\n",
            "Emotion: Angry   split: test      : 100%|██████████| 30/30 [00:07<00:00,  3.93it/s]\n",
            "Emotion: Angry   split: train     : 100%|██████████| 300/300 [00:09<00:00, 30.10it/s]\n",
            "Emotion: Sad     split: evaluation: 100%|██████████| 20/20 [00:06<00:00,  2.88it/s]\n",
            "Emotion: Sad     split: train     : 100%|██████████| 300/300 [00:11<00:00, 26.81it/s]\n",
            "Emotion: Sad     split: test      : 100%|██████████| 30/30 [00:08<00:00,  3.54it/s]\n",
            "Emotion: Happy   split: test      : 100%|██████████| 30/30 [00:09<00:00,  3.20it/s]\n",
            "Emotion: Happy   split: train     : 100%|██████████| 300/300 [00:13<00:00, 21.98it/s]\n",
            "Emotion: Happy   split: evaluation: 100%|██████████| 20/20 [00:05<00:00,  3.62it/s]\n",
            "Emotion: Neutral split: train     : 100%|██████████| 300/300 [00:13<00:00, 22.86it/s]\n",
            "Emotion: Neutral split: evaluation: 100%|██████████| 20/20 [00:06<00:00,  3.10it/s]\n",
            "Emotion: Neutral split: test      : 100%|██████████| 30/30 [00:09<00:00,  3.24it/s]\n"
          ]
        },
        {
          "name": "stdout",
          "output_type": "stream",
          "text": [
            "Processing speaker 0004\n"
          ]
        },
        {
          "name": "stderr",
          "output_type": "stream",
          "text": [
            "Emotion: Happy   split: train     : 100%|██████████| 300/300 [00:07<00:00, 40.19it/s]\n",
            "Emotion: Happy   split: test      : 100%|██████████| 30/30 [00:08<00:00,  3.63it/s]\n",
            "Emotion: Happy   split: evaluation: 100%|██████████| 20/20 [00:06<00:00,  3.07it/s]\n",
            "Emotion: Angry   split: train     : 100%|██████████| 300/300 [00:15<00:00, 19.90it/s]\n",
            "Emotion: Angry   split: evaluation: 100%|██████████| 20/20 [00:06<00:00,  3.12it/s]\n",
            "Emotion: Angry   split: test      : 100%|██████████| 30/30 [00:07<00:00,  3.89it/s]\n",
            "Emotion: Neutral split: test      : 100%|██████████| 30/30 [00:09<00:00,  3.11it/s]\n",
            "Emotion: Neutral split: evaluation: 100%|██████████| 20/20 [00:04<00:00,  4.66it/s]\n",
            "Emotion: Neutral split: train     : 100%|██████████| 300/300 [00:08<00:00, 34.50it/s]\n",
            "Emotion: Sad     split: train     : 100%|██████████| 300/300 [00:09<00:00, 32.69it/s]\n",
            "Emotion: Sad     split: evaluation: 100%|██████████| 20/20 [00:05<00:00,  3.48it/s]\n",
            "Emotion: Sad     split: test      : 100%|██████████| 30/30 [00:10<00:00,  2.78it/s]\n"
          ]
        },
        {
          "name": "stdout",
          "output_type": "stream",
          "text": [
            "Processing speaker 0005\n"
          ]
        },
        {
          "name": "stderr",
          "output_type": "stream",
          "text": [
            "Emotion: Angry   split: evaluation: 100%|██████████| 20/20 [00:05<00:00,  3.62it/s]\n",
            "Emotion: Angry   split: test      : 100%|██████████| 30/30 [00:08<00:00,  3.46it/s]\n",
            "Emotion: Angry   split: train     : 100%|██████████| 300/300 [00:16<00:00, 18.60it/s]\n",
            "Emotion: Happy   split: test      : 100%|██████████| 30/30 [00:09<00:00,  3.20it/s]\n",
            "Emotion: Happy   split: evaluation: 100%|██████████| 20/20 [00:06<00:00,  3.12it/s]\n",
            "Emotion: Happy   split: train     : 100%|██████████| 300/300 [00:08<00:00, 36.49it/s]\n",
            "Emotion: Neutral split: train     : 100%|██████████| 300/300 [00:08<00:00, 34.33it/s]\n",
            "Emotion: Neutral split: evaluation: 100%|██████████| 20/20 [00:06<00:00,  2.95it/s]\n",
            "Emotion: Neutral split: test      : 100%|██████████| 30/30 [00:08<00:00,  3.53it/s]\n",
            "Emotion: Sad     split: evaluation:  95%|█████████▌| 20/21 [00:10<00:00,  1.75it/s][NeMo W 2023-03-15 15:00:21 nemo_logging:349] /usr/local/lib/python3.9/dist-packages/nemo/collections/asr/models/label_models.py:424: UserWarning: PySoundFile failed. Trying audioread instead.\n",
            "      audio, sr = librosa.load(path2audio_file, sr=None)\n",
            "    \n",
            "[NeMo W 2023-03-15 15:00:21 nemo_logging:349] /usr/local/lib/python3.9/dist-packages/librosa/core/audio.py:184: FutureWarning: librosa.core.audio.__audioread_load\n",
            "    \tDeprecated as of librosa version 0.10.0.\n",
            "    \tIt will be removed in librosa version 1.0.\n",
            "      y, sr_native = __audioread_load(path, offset, duration, dtype)\n",
            "    \n",
            "Emotion: Sad     split: evaluation:  95%|█████████▌| 20/21 [00:10<00:00,  1.83it/s]\n"
          ]
        },
        {
          "ename": "NoBackendError",
          "evalue": "ignored",
          "output_type": "error",
          "traceback": [
            "\u001b[0;31m---------------------------------------------------------------------------\u001b[0m",
            "\u001b[0;31mLibsndfileError\u001b[0m                           Traceback (most recent call last)",
            "\u001b[0;32m/usr/local/lib/python3.9/dist-packages/librosa/core/audio.py\u001b[0m in \u001b[0;36mload\u001b[0;34m(path, sr, mono, offset, duration, dtype, res_type)\u001b[0m\n\u001b[1;32m    175\u001b[0m         \u001b[0;32mtry\u001b[0m\u001b[0;34m:\u001b[0m\u001b[0;34m\u001b[0m\u001b[0;34m\u001b[0m\u001b[0m\n\u001b[0;32m--> 176\u001b[0;31m             \u001b[0my\u001b[0m\u001b[0;34m,\u001b[0m \u001b[0msr_native\u001b[0m \u001b[0;34m=\u001b[0m \u001b[0m__soundfile_load\u001b[0m\u001b[0;34m(\u001b[0m\u001b[0mpath\u001b[0m\u001b[0;34m,\u001b[0m \u001b[0moffset\u001b[0m\u001b[0;34m,\u001b[0m \u001b[0mduration\u001b[0m\u001b[0;34m,\u001b[0m \u001b[0mdtype\u001b[0m\u001b[0;34m)\u001b[0m\u001b[0;34m\u001b[0m\u001b[0;34m\u001b[0m\u001b[0m\n\u001b[0m\u001b[1;32m    177\u001b[0m \u001b[0;34m\u001b[0m\u001b[0m\n",
            "\u001b[0;32m/usr/local/lib/python3.9/dist-packages/librosa/core/audio.py\u001b[0m in \u001b[0;36m__soundfile_load\u001b[0;34m(path, offset, duration, dtype)\u001b[0m\n\u001b[1;32m    208\u001b[0m         \u001b[0;31m# Otherwise, create the soundfile object\u001b[0m\u001b[0;34m\u001b[0m\u001b[0;34m\u001b[0m\u001b[0m\n\u001b[0;32m--> 209\u001b[0;31m         \u001b[0mcontext\u001b[0m \u001b[0;34m=\u001b[0m \u001b[0msf\u001b[0m\u001b[0;34m.\u001b[0m\u001b[0mSoundFile\u001b[0m\u001b[0;34m(\u001b[0m\u001b[0mpath\u001b[0m\u001b[0;34m)\u001b[0m\u001b[0;34m\u001b[0m\u001b[0;34m\u001b[0m\u001b[0m\n\u001b[0m\u001b[1;32m    210\u001b[0m \u001b[0;34m\u001b[0m\u001b[0m\n",
            "\u001b[0;32m/usr/local/lib/python3.9/dist-packages/soundfile.py\u001b[0m in \u001b[0;36m__init__\u001b[0;34m(self, file, mode, samplerate, channels, subtype, endian, format, closefd)\u001b[0m\n\u001b[1;32m    657\u001b[0m                                          format, subtype, endian)\n\u001b[0;32m--> 658\u001b[0;31m         \u001b[0mself\u001b[0m\u001b[0;34m.\u001b[0m\u001b[0m_file\u001b[0m \u001b[0;34m=\u001b[0m \u001b[0mself\u001b[0m\u001b[0;34m.\u001b[0m\u001b[0m_open\u001b[0m\u001b[0;34m(\u001b[0m\u001b[0mfile\u001b[0m\u001b[0;34m,\u001b[0m \u001b[0mmode_int\u001b[0m\u001b[0;34m,\u001b[0m \u001b[0mclosefd\u001b[0m\u001b[0;34m)\u001b[0m\u001b[0;34m\u001b[0m\u001b[0;34m\u001b[0m\u001b[0m\n\u001b[0m\u001b[1;32m    659\u001b[0m         \u001b[0;32mif\u001b[0m \u001b[0mset\u001b[0m\u001b[0;34m(\u001b[0m\u001b[0mmode\u001b[0m\u001b[0;34m)\u001b[0m\u001b[0;34m.\u001b[0m\u001b[0missuperset\u001b[0m\u001b[0;34m(\u001b[0m\u001b[0;34m'r+'\u001b[0m\u001b[0;34m)\u001b[0m \u001b[0;32mand\u001b[0m \u001b[0mself\u001b[0m\u001b[0;34m.\u001b[0m\u001b[0mseekable\u001b[0m\u001b[0;34m(\u001b[0m\u001b[0;34m)\u001b[0m\u001b[0;34m:\u001b[0m\u001b[0;34m\u001b[0m\u001b[0;34m\u001b[0m\u001b[0m\n",
            "\u001b[0;32m/usr/local/lib/python3.9/dist-packages/soundfile.py\u001b[0m in \u001b[0;36m_open\u001b[0;34m(self, file, mode_int, closefd)\u001b[0m\n\u001b[1;32m   1215\u001b[0m             \u001b[0merr\u001b[0m \u001b[0;34m=\u001b[0m \u001b[0m_snd\u001b[0m\u001b[0;34m.\u001b[0m\u001b[0msf_error\u001b[0m\u001b[0;34m(\u001b[0m\u001b[0mfile_ptr\u001b[0m\u001b[0;34m)\u001b[0m\u001b[0;34m\u001b[0m\u001b[0;34m\u001b[0m\u001b[0m\n\u001b[0;32m-> 1216\u001b[0;31m             \u001b[0;32mraise\u001b[0m \u001b[0mLibsndfileError\u001b[0m\u001b[0;34m(\u001b[0m\u001b[0merr\u001b[0m\u001b[0;34m,\u001b[0m \u001b[0mprefix\u001b[0m\u001b[0;34m=\u001b[0m\u001b[0;34m\"Error opening {0!r}: \"\u001b[0m\u001b[0;34m.\u001b[0m\u001b[0mformat\u001b[0m\u001b[0;34m(\u001b[0m\u001b[0mself\u001b[0m\u001b[0;34m.\u001b[0m\u001b[0mname\u001b[0m\u001b[0;34m)\u001b[0m\u001b[0;34m)\u001b[0m\u001b[0;34m\u001b[0m\u001b[0;34m\u001b[0m\u001b[0m\n\u001b[0m\u001b[1;32m   1217\u001b[0m         \u001b[0;32mif\u001b[0m \u001b[0mmode_int\u001b[0m \u001b[0;34m==\u001b[0m \u001b[0m_snd\u001b[0m\u001b[0;34m.\u001b[0m\u001b[0mSFM_WRITE\u001b[0m\u001b[0;34m:\u001b[0m\u001b[0;34m\u001b[0m\u001b[0;34m\u001b[0m\u001b[0m\n",
            "\u001b[0;31mLibsndfileError\u001b[0m: Error opening '/content/drive/MyDrive/Colab Notebooks/MA LangTech/Research and Development/Emotional Speech Dataset (ESD)/0005/Sad/evaluation/=0.10.0': Format not recognised.",
            "\nDuring handling of the above exception, another exception occurred:\n",
            "\u001b[0;31mNoBackendError\u001b[0m                            Traceback (most recent call last)",
            "\u001b[0;32m<ipython-input-22-d75cfa605102>\u001b[0m in \u001b[0;36m<module>\u001b[0;34m\u001b[0m\n\u001b[1;32m     22\u001b[0m                              desc=f\"Emotion: {emotion:<7} split: {splt:<10}\"): # REMOVE SPLICE LATER\n\u001b[1;32m     23\u001b[0m         \u001b[0msound_path\u001b[0m \u001b[0;34m=\u001b[0m \u001b[0mos\u001b[0m\u001b[0;34m.\u001b[0m\u001b[0mpath\u001b[0m\u001b[0;34m.\u001b[0m\u001b[0mjoin\u001b[0m\u001b[0;34m(\u001b[0m\u001b[0msplt_path\u001b[0m\u001b[0;34m,\u001b[0m \u001b[0msound_file\u001b[0m\u001b[0;34m)\u001b[0m\u001b[0;34m\u001b[0m\u001b[0;34m\u001b[0m\u001b[0m\n\u001b[0;32m---> 24\u001b[0;31m         \u001b[0memb\u001b[0m \u001b[0;34m=\u001b[0m \u001b[0mspeaker_model\u001b[0m\u001b[0;34m.\u001b[0m\u001b[0mget_embedding\u001b[0m\u001b[0;34m(\u001b[0m\u001b[0msound_path\u001b[0m\u001b[0;34m)\u001b[0m\u001b[0;34m.\u001b[0m\u001b[0mcpu\u001b[0m\u001b[0;34m(\u001b[0m\u001b[0;34m)\u001b[0m\u001b[0;34m\u001b[0m\u001b[0;34m\u001b[0m\u001b[0m\n\u001b[0m\u001b[1;32m     25\u001b[0m         \u001b[0msplt_list\u001b[0m\u001b[0;34m.\u001b[0m\u001b[0mappend\u001b[0m\u001b[0;34m(\u001b[0m\u001b[0memb\u001b[0m\u001b[0;34m)\u001b[0m\u001b[0;34m\u001b[0m\u001b[0;34m\u001b[0m\u001b[0m\n\u001b[1;32m     26\u001b[0m       \u001b[0memotion_dict\u001b[0m\u001b[0;34m[\u001b[0m\u001b[0msplt\u001b[0m\u001b[0;34m]\u001b[0m \u001b[0;34m=\u001b[0m \u001b[0msplt_list\u001b[0m\u001b[0;34m\u001b[0m\u001b[0;34m\u001b[0m\u001b[0m\n",
            "\u001b[0;32m/usr/local/lib/python3.9/dist-packages/nemo/collections/asr/models/label_models.py\u001b[0m in \u001b[0;36mget_embedding\u001b[0;34m(self, path2audio_file)\u001b[0m\n\u001b[1;32m    477\u001b[0m         \"\"\"\n\u001b[1;32m    478\u001b[0m \u001b[0;34m\u001b[0m\u001b[0m\n\u001b[0;32m--> 479\u001b[0;31m         \u001b[0memb\u001b[0m\u001b[0;34m,\u001b[0m \u001b[0m_\u001b[0m \u001b[0;34m=\u001b[0m \u001b[0mself\u001b[0m\u001b[0;34m.\u001b[0m\u001b[0minfer_file\u001b[0m\u001b[0;34m(\u001b[0m\u001b[0mpath2audio_file\u001b[0m\u001b[0;34m=\u001b[0m\u001b[0mpath2audio_file\u001b[0m\u001b[0;34m)\u001b[0m\u001b[0;34m\u001b[0m\u001b[0;34m\u001b[0m\u001b[0m\n\u001b[0m\u001b[1;32m    480\u001b[0m \u001b[0;34m\u001b[0m\u001b[0m\n\u001b[1;32m    481\u001b[0m         \u001b[0;32mreturn\u001b[0m \u001b[0memb\u001b[0m\u001b[0;34m\u001b[0m\u001b[0;34m\u001b[0m\u001b[0m\n",
            "\u001b[0;32m/usr/local/lib/python3.9/dist-packages/torch/autograd/grad_mode.py\u001b[0m in \u001b[0;36mdecorate_context\u001b[0;34m(*args, **kwargs)\u001b[0m\n\u001b[1;32m     25\u001b[0m         \u001b[0;32mdef\u001b[0m \u001b[0mdecorate_context\u001b[0m\u001b[0;34m(\u001b[0m\u001b[0;34m*\u001b[0m\u001b[0margs\u001b[0m\u001b[0;34m,\u001b[0m \u001b[0;34m**\u001b[0m\u001b[0mkwargs\u001b[0m\u001b[0;34m)\u001b[0m\u001b[0;34m:\u001b[0m\u001b[0;34m\u001b[0m\u001b[0;34m\u001b[0m\u001b[0m\n\u001b[1;32m     26\u001b[0m             \u001b[0;32mwith\u001b[0m \u001b[0mself\u001b[0m\u001b[0;34m.\u001b[0m\u001b[0mclone\u001b[0m\u001b[0;34m(\u001b[0m\u001b[0;34m)\u001b[0m\u001b[0;34m:\u001b[0m\u001b[0;34m\u001b[0m\u001b[0;34m\u001b[0m\u001b[0m\n\u001b[0;32m---> 27\u001b[0;31m                 \u001b[0;32mreturn\u001b[0m \u001b[0mfunc\u001b[0m\u001b[0;34m(\u001b[0m\u001b[0;34m*\u001b[0m\u001b[0margs\u001b[0m\u001b[0;34m,\u001b[0m \u001b[0;34m**\u001b[0m\u001b[0mkwargs\u001b[0m\u001b[0;34m)\u001b[0m\u001b[0;34m\u001b[0m\u001b[0;34m\u001b[0m\u001b[0m\n\u001b[0m\u001b[1;32m     28\u001b[0m         \u001b[0;32mreturn\u001b[0m \u001b[0mcast\u001b[0m\u001b[0;34m(\u001b[0m\u001b[0mF\u001b[0m\u001b[0;34m,\u001b[0m \u001b[0mdecorate_context\u001b[0m\u001b[0;34m)\u001b[0m\u001b[0;34m\u001b[0m\u001b[0;34m\u001b[0m\u001b[0m\n\u001b[1;32m     29\u001b[0m \u001b[0;34m\u001b[0m\u001b[0m\n",
            "\u001b[0;32m/usr/local/lib/python3.9/dist-packages/nemo/collections/asr/models/label_models.py\u001b[0m in \u001b[0;36minfer_file\u001b[0;34m(self, path2audio_file)\u001b[0m\n\u001b[1;32m    422\u001b[0m             \u001b[0mlogits\u001b[0m\u001b[0;34m:\u001b[0m \u001b[0mlogits\u001b[0m \u001b[0mcorresponding\u001b[0m \u001b[0mof\u001b[0m \u001b[0mfinal\u001b[0m \u001b[0mlayer\u001b[0m\u001b[0;34m\u001b[0m\u001b[0;34m\u001b[0m\u001b[0m\n\u001b[1;32m    423\u001b[0m         \"\"\"\n\u001b[0;32m--> 424\u001b[0;31m         \u001b[0maudio\u001b[0m\u001b[0;34m,\u001b[0m \u001b[0msr\u001b[0m \u001b[0;34m=\u001b[0m \u001b[0mlibrosa\u001b[0m\u001b[0;34m.\u001b[0m\u001b[0mload\u001b[0m\u001b[0;34m(\u001b[0m\u001b[0mpath2audio_file\u001b[0m\u001b[0;34m,\u001b[0m \u001b[0msr\u001b[0m\u001b[0;34m=\u001b[0m\u001b[0;32mNone\u001b[0m\u001b[0;34m)\u001b[0m\u001b[0;34m\u001b[0m\u001b[0;34m\u001b[0m\u001b[0m\n\u001b[0m\u001b[1;32m    425\u001b[0m         \u001b[0mtarget_sr\u001b[0m \u001b[0;34m=\u001b[0m \u001b[0mself\u001b[0m\u001b[0;34m.\u001b[0m\u001b[0m_cfg\u001b[0m\u001b[0;34m.\u001b[0m\u001b[0mtrain_ds\u001b[0m\u001b[0;34m.\u001b[0m\u001b[0mget\u001b[0m\u001b[0;34m(\u001b[0m\u001b[0;34m'sample_rate'\u001b[0m\u001b[0;34m,\u001b[0m \u001b[0;36m16000\u001b[0m\u001b[0;34m)\u001b[0m\u001b[0;34m\u001b[0m\u001b[0;34m\u001b[0m\u001b[0m\n\u001b[1;32m    426\u001b[0m         \u001b[0;32mif\u001b[0m \u001b[0msr\u001b[0m \u001b[0;34m!=\u001b[0m \u001b[0mtarget_sr\u001b[0m\u001b[0;34m:\u001b[0m\u001b[0;34m\u001b[0m\u001b[0;34m\u001b[0m\u001b[0m\n",
            "\u001b[0;32m/usr/local/lib/python3.9/dist-packages/librosa/core/audio.py\u001b[0m in \u001b[0;36mload\u001b[0;34m(path, sr, mono, offset, duration, dtype, res_type)\u001b[0m\n\u001b[1;32m    182\u001b[0m                     \u001b[0;34m\"PySoundFile failed. Trying audioread instead.\"\u001b[0m\u001b[0;34m,\u001b[0m \u001b[0mstacklevel\u001b[0m\u001b[0;34m=\u001b[0m\u001b[0;36m2\u001b[0m\u001b[0;34m\u001b[0m\u001b[0;34m\u001b[0m\u001b[0m\n\u001b[1;32m    183\u001b[0m                 )\n\u001b[0;32m--> 184\u001b[0;31m                 \u001b[0my\u001b[0m\u001b[0;34m,\u001b[0m \u001b[0msr_native\u001b[0m \u001b[0;34m=\u001b[0m \u001b[0m__audioread_load\u001b[0m\u001b[0;34m(\u001b[0m\u001b[0mpath\u001b[0m\u001b[0;34m,\u001b[0m \u001b[0moffset\u001b[0m\u001b[0;34m,\u001b[0m \u001b[0mduration\u001b[0m\u001b[0;34m,\u001b[0m \u001b[0mdtype\u001b[0m\u001b[0;34m)\u001b[0m\u001b[0;34m\u001b[0m\u001b[0;34m\u001b[0m\u001b[0m\n\u001b[0m\u001b[1;32m    185\u001b[0m             \u001b[0;32melse\u001b[0m\u001b[0;34m:\u001b[0m\u001b[0;34m\u001b[0m\u001b[0;34m\u001b[0m\u001b[0m\n\u001b[1;32m    186\u001b[0m                 \u001b[0;32mraise\u001b[0m \u001b[0mexc\u001b[0m\u001b[0;34m\u001b[0m\u001b[0;34m\u001b[0m\u001b[0m\n",
            "\u001b[0;32m<decorator-gen-124>\u001b[0m in \u001b[0;36m__audioread_load\u001b[0;34m(path, offset, duration, dtype)\u001b[0m\n",
            "\u001b[0;32m/usr/local/lib/python3.9/dist-packages/librosa/util/decorators.py\u001b[0m in \u001b[0;36m__wrapper\u001b[0;34m(func, *args, **kwargs)\u001b[0m\n\u001b[1;32m     58\u001b[0m             \u001b[0mstacklevel\u001b[0m\u001b[0;34m=\u001b[0m\u001b[0;36m3\u001b[0m\u001b[0;34m,\u001b[0m  \u001b[0;31m# Would be 2, but the decorator adds a level\u001b[0m\u001b[0;34m\u001b[0m\u001b[0;34m\u001b[0m\u001b[0m\n\u001b[1;32m     59\u001b[0m         )\n\u001b[0;32m---> 60\u001b[0;31m         \u001b[0;32mreturn\u001b[0m \u001b[0mfunc\u001b[0m\u001b[0;34m(\u001b[0m\u001b[0;34m*\u001b[0m\u001b[0margs\u001b[0m\u001b[0;34m,\u001b[0m \u001b[0;34m**\u001b[0m\u001b[0mkwargs\u001b[0m\u001b[0;34m)\u001b[0m\u001b[0;34m\u001b[0m\u001b[0;34m\u001b[0m\u001b[0m\n\u001b[0m\u001b[1;32m     61\u001b[0m \u001b[0;34m\u001b[0m\u001b[0m\n\u001b[1;32m     62\u001b[0m     \u001b[0;32mreturn\u001b[0m \u001b[0mdecorator\u001b[0m\u001b[0;34m(\u001b[0m\u001b[0m__wrapper\u001b[0m\u001b[0;34m)\u001b[0m\u001b[0;34m\u001b[0m\u001b[0;34m\u001b[0m\u001b[0m\n",
            "\u001b[0;32m/usr/local/lib/python3.9/dist-packages/librosa/core/audio.py\u001b[0m in \u001b[0;36m__audioread_load\u001b[0;34m(path, offset, duration, dtype)\u001b[0m\n\u001b[1;32m    239\u001b[0m     \u001b[0;32melse\u001b[0m\u001b[0;34m:\u001b[0m\u001b[0;34m\u001b[0m\u001b[0;34m\u001b[0m\u001b[0m\n\u001b[1;32m    240\u001b[0m         \u001b[0;31m# If the input was not an audioread object, try to open it\u001b[0m\u001b[0;34m\u001b[0m\u001b[0;34m\u001b[0m\u001b[0m\n\u001b[0;32m--> 241\u001b[0;31m         \u001b[0mreader\u001b[0m \u001b[0;34m=\u001b[0m \u001b[0maudioread\u001b[0m\u001b[0;34m.\u001b[0m\u001b[0maudio_open\u001b[0m\u001b[0;34m(\u001b[0m\u001b[0mpath\u001b[0m\u001b[0;34m)\u001b[0m\u001b[0;34m\u001b[0m\u001b[0;34m\u001b[0m\u001b[0m\n\u001b[0m\u001b[1;32m    242\u001b[0m \u001b[0;34m\u001b[0m\u001b[0m\n\u001b[1;32m    243\u001b[0m     \u001b[0;32mwith\u001b[0m \u001b[0mreader\u001b[0m \u001b[0;32mas\u001b[0m \u001b[0minput_file\u001b[0m\u001b[0;34m:\u001b[0m\u001b[0;34m\u001b[0m\u001b[0;34m\u001b[0m\u001b[0m\n",
            "\u001b[0;32m/usr/local/lib/python3.9/dist-packages/audioread/__init__.py\u001b[0m in \u001b[0;36maudio_open\u001b[0;34m(path, backends)\u001b[0m\n\u001b[1;32m    130\u001b[0m \u001b[0;34m\u001b[0m\u001b[0m\n\u001b[1;32m    131\u001b[0m     \u001b[0;31m# All backends failed!\u001b[0m\u001b[0;34m\u001b[0m\u001b[0;34m\u001b[0m\u001b[0m\n\u001b[0;32m--> 132\u001b[0;31m     \u001b[0;32mraise\u001b[0m \u001b[0mNoBackendError\u001b[0m\u001b[0;34m(\u001b[0m\u001b[0;34m)\u001b[0m\u001b[0;34m\u001b[0m\u001b[0;34m\u001b[0m\u001b[0m\n\u001b[0m",
            "\u001b[0;31mNoBackendError\u001b[0m: "
          ]
        }
      ],
      "source": [
        "data_dir = \"/content/drive/MyDrive/Colab Notebooks/MA LangTech/Research and Development/Emotional Speech Dataset (ESD)\"\n",
        "\n",
        "voiceprints = {\"en\": dict(), \"ch\": dict()}\n",
        "\n",
        "for speaker in sorted(next(os.walk(data_dir))[1]):\n",
        "  print(f\"Processing speaker {speaker}\")\n",
        "  if 1 <= int(speaker) <= 10:\n",
        "    lang = \"ch\"\n",
        "  elif 11 <= int(speaker) <= 20:\n",
        "    lang = \"en\"\n",
        "  else:\n",
        "    raise ValueError(f\"Directory {speaker} does not exist\")\n",
        "  speaker_dir = os.path.join(data_dir, speaker)\n",
        "  speaker_dict = dict()\n",
        "  for emotion in next(os.walk(speaker_dir))[1]:\n",
        "    emotion_dir = os.path.join(speaker_dir, emotion)\n",
        "    emotion_dict = dict()\n",
        "    for splt in next(os.walk(emotion_dir))[1]:\n",
        "      splt_path = os.path.join(emotion_dir, splt)\n",
        "      splt_list = []\n",
        "      for sound_file in tqdm(list(filter(lambda x: \")\" not in x, next(os.walk(splt_path))[2])),\n",
        "                             desc=f\"Emotion: {emotion:<7} split: {splt:<10}\"): # REMOVE SPLICE LATER\n",
        "        sound_path = os.path.join(splt_path, sound_file)\n",
        "        emb = speaker_model.get_embedding(sound_path).cpu()\n",
        "        splt_list.append(emb)\n",
        "      emotion_dict[splt] = splt_list\n",
        "    speaker_dict[emotion] = emotion_dict\n",
        "  voiceprints[lang][speaker] = speaker_dict"
      ]
    },
    {
      "cell_type": "code",
      "execution_count": null,
      "metadata": {
        "id": "OdAUAnxHKxsr"
      },
      "outputs": [],
      "source": [
        "next(os.path.join(data_dir, \"Angry\"))"
      ]
    },
    {
      "cell_type": "code",
      "execution_count": null,
      "metadata": {
        "colab": {
          "base_uri": "https://localhost:8080/"
        },
        "id": "i4Tuy73iDES3",
        "outputId": "43eea6ad-9279-4d42-f21b-a2c6a758fb64"
      },
      "outputs": [
        {
          "data": {
            "text/plain": [
              "['0020']"
            ]
          },
          "execution_count": 41,
          "metadata": {},
          "output_type": "execute_result"
        }
      ],
      "source": [
        "sorted(next(os.walk(data_dir))[1])[-1:]"
      ]
    },
    {
      "cell_type": "code",
      "execution_count": null,
      "metadata": {
        "colab": {
          "base_uri": "https://localhost:8080/"
        },
        "id": "QT9Ks0GjHNpy",
        "outputId": "ababfe53-3e0d-4f59-ff75-3335983fcd07"
      },
      "outputs": [
        {
          "data": {
            "text/plain": [
              "28000"
            ]
          },
          "execution_count": 46,
          "metadata": {},
          "output_type": "execute_result"
        }
      ],
      "source": [
        "20*4*350"
      ]
    },
    {
      "cell_type": "code",
      "execution_count": null,
      "metadata": {
        "colab": {
          "base_uri": "https://localhost:8080/"
        },
        "id": "nbHnXrRwCaqr",
        "outputId": "61d2d3aa-c4bf-4e36-c6cf-2ec5b44d1b53"
      },
      "outputs": [
        {
          "name": "stdout",
          "output_type": "stream",
          "text": [
            "28005\n"
          ]
        }
      ],
      "source": [
        "total_len = 0\n",
        "for lang, lang_value in voiceprints.items():\n",
        "  for speaker, speaker_value in lang_value.items():\n",
        "    for emotion, emotion_value in speaker_value.items():\n",
        "      for split, split_data in emotion_value.items():\n",
        "        total_len += len(split_data)\n",
        "\n",
        "print(total_len)"
      ]
    },
    {
      "cell_type": "code",
      "execution_count": null,
      "metadata": {
        "colab": {
          "base_uri": "https://localhost:8080/"
        },
        "id": "utPhM8cHyTyf",
        "outputId": "816f6887-5351-4ab2-ff70-5fd3ff161c35"
      },
      "outputs": [
        {
          "name": "stdout",
          "output_type": "stream",
          "text": [
            "/content/drive/MyDrive/Colab Notebooks/MA LangTech/Thesis/masters_thesis/data/emotion_voiceprints\n"
          ]
        }
      ],
      "source": [
        "%cd /content/drive/MyDrive/Colab Notebooks/MA LangTech/Thesis/masters_thesis/data/emotion_voiceprints"
      ]
    },
    {
      "cell_type": "code",
      "execution_count": null,
      "metadata": {
        "id": "nhxouVrAyPjl"
      },
      "outputs": [],
      "source": [
        "import pickle as pkl\n",
        "\n",
        "save_dir = \"/content/drive/MyDrive/Colab Notebooks/MA LangTech/Thesis/masters_thesis/data/emotion_voiceprints\"\n",
        "\n",
        "with open(os.path.join(save_dir, \"emotion_voiceprints.pkl\"), \"wb\") as f:\n",
        "  pkl.dump(voiceprints, f)"
      ]
    },
    {
      "cell_type": "code",
      "execution_count": null,
      "metadata": {
        "id": "_Rs0-AvedVwB"
      },
      "outputs": [],
      "source": [
        "%%capture\n",
        "!pip install transformers"
      ]
    },
    {
      "cell_type": "code",
      "execution_count": null,
      "metadata": {
        "id": "EnW5lyC6PQl9"
      },
      "outputs": [],
      "source": [
        "import os\n",
        "import pickle as pkl"
      ]
    },
    {
      "cell_type": "code",
      "execution_count": null,
      "metadata": {
        "id": "yEJGO8-cPFx1"
      },
      "outputs": [],
      "source": [
        "data_dir = \"/content/drive/MyDrive/Colab Notebooks/MA LangTech/Thesis/masters_thesis/data/emotion_voiceprints\"\n",
        "\n",
        "labels = {\"happy\": 0, \"angry\": 1, \"sad\": 2, \"neutral\": 3}\n",
        "\n",
        "with open(os.path.join(data_dir, \"emotion_voiceprints.pkl\"), \"rb\") as f:\n",
        "  voiceprints = pkl.load(f)\n",
        "samples = []\n",
        "\n",
        "langs = [\"en\", \"ch\"]\n",
        "\n",
        "for lang, lang_value in voiceprints.items():\n",
        "  if lang not in langs:\n",
        "    continue\n",
        "  for speaker, speaker_value in lang_value.items():\n",
        "    for emotion, emotion_value in speaker_value.items():\n",
        "      for split, split_data in emotion_value.items():\n",
        "        for emb in split_data:\n",
        "          samples.append((emb, labels[emotion.lower()]))"
      ]
    },
    {
      "cell_type": "code",
      "execution_count": null,
      "metadata": {
        "colab": {
          "base_uri": "https://localhost:8080/"
        },
        "id": "nBbhmkbuP1Pa",
        "outputId": "251daefd-4dff-4f70-a967-7c3221521ed6"
      },
      "outputs": [
        {
          "data": {
            "text/plain": [
              "28000"
            ]
          },
          "execution_count": 10,
          "metadata": {},
          "output_type": "execute_result"
        }
      ],
      "source": [
        "len(samples)"
      ]
    },
    {
      "cell_type": "code",
      "execution_count": null,
      "metadata": {
        "colab": {
          "base_uri": "https://localhost:8080/"
        },
        "id": "Xr9HTSmc8N-e",
        "outputId": "1020ba3a-e3db-47a1-ff0e-13dac4a62ea4"
      },
      "outputs": [
        {
          "name": "stdout",
          "output_type": "stream",
          "text": [
            "0 6 2 4\n"
          ]
        }
      ],
      "source": [
        "pipeline.train_dataset.shuffle()\n",
        "s = [i[1] for i in pipeline.train_dataset.samples]\n",
        "print(s.index(0), s.index(1), s.index(2), s.index(3))"
      ]
    },
    {
      "cell_type": "code",
      "execution_count": null,
      "metadata": {
        "id": "Yygklmeo84P9"
      },
      "outputs": [],
      "source": [
        "random.shuffle(b)"
      ]
    },
    {
      "cell_type": "code",
      "execution_count": null,
      "metadata": {
        "colab": {
          "base_uri": "https://localhost:8080/"
        },
        "id": "rjhFkWyEDtxh",
        "outputId": "21aa6daf-372a-493d-cdc4-97336d40bf27"
      },
      "outputs": [
        {
          "data": {
            "text/plain": [
              "True"
            ]
          },
          "execution_count": 30,
          "metadata": {},
          "output_type": "execute_result"
        }
      ],
      "source": [
        "\"en\" in pipeline.train_dataset.LANGS"
      ]
    },
    {
      "cell_type": "code",
      "execution_count": null,
      "metadata": {
        "colab": {
          "base_uri": "https://localhost:8080/"
        },
        "id": "B4bfrfCj9bgu",
        "outputId": "cbacc44d-d8ed-4946-f439-b6c79cabc844"
      },
      "outputs": [
        {
          "data": {
            "text/plain": [
              "[0, 0, 1, 0, 1, 0, 0, 1, 1, 0, 0, 1, 1, 1, 1, 0, 0, 1, 0, 1]"
            ]
          },
          "execution_count": 25,
          "metadata": {},
          "output_type": "execute_result"
        }
      ],
      "source": [
        "b"
      ]
    },
    {
      "cell_type": "markdown",
      "source": [
        "#TitaNet SER"
      ],
      "metadata": {
        "id": "gJ56iTkR-cxB"
      }
    },
    {
      "cell_type": "markdown",
      "source": [
        "## Extract voiceprints"
      ],
      "metadata": {
        "id": "lKewIeq0n4p7"
      }
    },
    {
      "cell_type": "code",
      "source": [
        "import os\n",
        "import pickle as pkl\n",
        "vp_path = \"/content/drive/MyDrive/Colab Notebooks/MA LangTech/Thesis/masters_thesis/data/emotion_voiceprints\"\n",
        "voiceprints_path = os.path.join(vp_path, \"emotion_voiceprints.pkl\")\n",
        "\n",
        "langs = [\"en\", \"ch\"]\n",
        "labels = {\"happy\": 0, \"angry\": 1, \"sad\": 2, \"neutral\": 3}\n",
        "eval_speakers = [7, 8]\n",
        "\n",
        "with open(os.path.join(voiceprints_path), \"rb\") as f:\n",
        "  voiceprints = pkl.load(f)\n",
        "samples = {\"en\": dict(), \"ch\": dict()}\n",
        "\n",
        "for eval_speaker in eval_speakers:\n",
        "  for lang, lang_value in voiceprints.items():\n",
        "    if lang not in langs:\n",
        "      continue\n",
        "    lang_dict = {\"train\": [], \"evaluation\": [], \"test\": []}\n",
        "    for speaker, speaker_value in lang_value.items():\n",
        "      mod_speaker = (int(speaker)-1)%10 + 1\n",
        "      if mod_speaker >= 9:\n",
        "        split_speaker = \"test\"\n",
        "      elif mod_speaker == eval_speaker: # 7 or 8\n",
        "        split_speaker = \"evaluation\"\n",
        "      else:\n",
        "        split_speaker = \"train\"\n",
        "      for emotion, emotion_value in speaker_value.items():\n",
        "        for split, split_value in emotion_value.items():\n",
        "          for emb in split_value:\n",
        "            lang_dict[split_speaker].append((emb, labels[emotion.lower()]))\n",
        "    # samples[lang] = lang_dict\n",
        "    save_path = os.path.join(vp_path, f\"emotion_voiceprints_{lang}_{eval_speaker}.pkl\")\n",
        "    with open(save_path, \"wb\") as outfile:\n",
        "      pkl.dump(lang_dict, outfile)"
      ],
      "metadata": {
        "id": "51jrFGwJ_RsF"
      },
      "execution_count": null,
      "outputs": []
    },
    {
      "cell_type": "markdown",
      "source": [
        "## Set up model"
      ],
      "metadata": {
        "id": "LeLKMZ-8n6_q"
      }
    },
    {
      "cell_type": "code",
      "source": [
        "def running_time(start, end):\n",
        "  duration = end-start\n",
        "  secs = int(duration%60)\n",
        "  duration = duration//60\n",
        "  mins = int(duration%60)\n",
        "  hours = int(duration//60)\n",
        "\n",
        "  return f\"{str(hours).zfill(2)}:{str(mins).zfill(2)}:{str(secs).zfill(2)}\""
      ],
      "metadata": {
        "id": "-BEmzyh0UQca"
      },
      "execution_count": null,
      "outputs": []
    },
    {
      "cell_type": "code",
      "execution_count": null,
      "metadata": {
        "id": "6_4x4FzgdNo9"
      },
      "outputs": [],
      "source": [
        "import torch\n",
        "import numpy as np\n",
        "import os\n",
        "import torch.nn as nn\n",
        "from torch.utils.data import Dataset, DataLoader\n",
        "from tqdm import tqdm\n",
        "import pickle\n",
        "import time\n",
        "import random\n",
        "import argparse\n",
        "import pickle as pkl\n",
        "from torch.optim.lr_scheduler import LambdaLR, ReduceLROnPlateau\n",
        "\n",
        "\n",
        "class RawDataset(Dataset):\n",
        "  \"\"\"class to load the data\n",
        "\n",
        "  X_train\n",
        "    contains training data\n",
        "  X_test\n",
        "    contains training data\n",
        "  y\n",
        "    sentiment scores\n",
        "    order is the same for training and test, so only one array created\n",
        "  \"\"\"\n",
        "  def __init__(self, data_dir, langs, split, proportion=1.0):\n",
        "    self.data_dir = data_dir\n",
        "    self.LANGS = langs\n",
        "    self.split = split\n",
        "    self.proportion = proportion\n",
        "    self.labels = {\"happy\": 0, \"angry\": 1, \"sad\": 2, \"neutral\": 3}\n",
        "    self.idx_to_labels = [\"happy\", \"angry\", \"sad\", \"neutral\"]\n",
        "    self.samples = self.get_dataset(self.data_dir, langs, split, proportion)\n",
        "\n",
        "\n",
        "  def __len__(self):\n",
        "    if (\"ch\" in self.LANGS and \"en\" in self.LANGS) and self.split != \"test\":\n",
        "      return len(self.samples) // 2\n",
        "    return len(self.samples)\n",
        "\n",
        "\n",
        "  def shuffle(self):\n",
        "    quarter_len = len(self.samples)\n",
        "    english = self.samples[:quarter_len] + self.samples[2*quarter_len:3*quarter_len]\n",
        "    random.shuffle(english)\n",
        "    chinese = self.samples[quarter_len:2*quarter_len] + self.samples[3*quarter_len:]\n",
        "    random.shuffle(chinese)\n",
        "    self.samples = english[:quarter_len] + chinese[:quarter_len] \\\n",
        "                   + english[quarter_len:] + chinese[quarter_len:]\n",
        "\n",
        "\n",
        "\n",
        "  def __getitem__(self, idx):\n",
        "    if torch.is_tensor(idx):\n",
        "      idx = idx.tolist()\n",
        "\n",
        "    X = self.samples[idx][0]\n",
        "    y = self.samples[idx][1]\n",
        "    return (X, y)\n",
        "\n",
        "\n",
        "  def fetch_sound_text_mapping(self, data_dir, langs=[\"en\"], split=\"train\", proportion=1.0):\n",
        "    \"\"\"\n",
        "    inputs:\n",
        "      - data_dir: string; directory from which to extract wav-file paths\n",
        "              |_ readme\n",
        "              |_ speakers\n",
        "                        |_ transcriptions\n",
        "                        |_ emotions\n",
        "                                  |_ splits\n",
        "\n",
        "      - langs: list of strings; which languages are extracted\n",
        "      - split: string; train, test, or evaluation\n",
        "      - proportion: float; what proportion of files to extract \n",
        "                    (intended for development, set to 1.0 at implementation)\n",
        "\n",
        "    outputs:\n",
        "      - list: [float speech array, str emotion label]\n",
        "    \"\"\"\n",
        "\n",
        "    samples = []\n",
        "\n",
        "    # for lang in langs:\n",
        "      # with open(os.path.join(data_dir, f\"emotion_voiceprints_{lang}_7.pkl\"), \"rb\") as f:\n",
        "      #   voiceprints = pkl.load(f)\n",
        "      # samples.extend(voiceprints[split])\n",
        "    with open(os.path.join(data_dir, f\"emotion_voiceprints.pkl\"), \"rb\") as f:\n",
        "      voiceprints = pkl.load(f)\n",
        "    for lang, lang_value in voiceprints.items():\n",
        "      if lang not in langs:\n",
        "        continue\n",
        "      for speaker, speaker_value in lang_value.items():\n",
        "        for emotion, emotion_value in speaker_value.items():\n",
        "          split_data = emotion_value[split]\n",
        "          for emb in split_data:\n",
        "            samples.append((emb, self.labels[emotion.lower()]))\n",
        "\n",
        "    return samples\n",
        "\n",
        "  \n",
        "  def get_dataset(self, data_dir, langs, split, proportion=1.0):\n",
        "    print(f\"Getting {int(100*proportion)}% of samples\")\n",
        "    start = time.time()\n",
        "    samples = self.fetch_sound_text_mapping(data_dir, langs, split, proportion)\n",
        "    end = time.time()\n",
        "    duration = end-start\n",
        "    secs = int(duration%60)\n",
        "    duration = duration//60\n",
        "    mins = int(duration%60)\n",
        "    hours = int(duration//60)\n",
        "\n",
        "    if \"en\" in langs and \"ch\" in langs:\n",
        "      quarter_len = len(samples)//4\n",
        "      samples = samples[:quarter_len] + samples[2*quarter_len:3*quarter_len] \\\n",
        "                + samples[quarter_len:2*quarter_len] + samples[3*quarter_len:]\n",
        "\n",
        "    print(f\"Processing {int(100*proportion)}% of samples took {str(hours).zfill(2)}:{str(mins).zfill(2)}:{str(secs).zfill(2)}\")\n",
        "\n",
        "    return samples\n",
        "\n",
        "\n",
        "class SERwav2vec2(nn.Module):\n",
        "  def __init__(self, learning_rate, hidden_size=1024):\n",
        "    super(SERwav2vec2, self).__init__()\n",
        "    self.drop = 0.50\n",
        "    self._clf = nn.Sequential(\n",
        "                              nn.Linear(192, hidden_size),\n",
        "                              nn.ReLU(),\n",
        "                              nn.Dropout(self.drop),\n",
        "                              nn.Linear(hidden_size, hidden_size),\n",
        "                              nn.ReLU(),\n",
        "                              nn.Dropout(self.drop),\n",
        "                              nn.Linear(hidden_size, hidden_size),\n",
        "                              nn.ReLU(),\n",
        "                              nn.Dropout(self.drop),\n",
        "                              nn.Linear(hidden_size, 4),\n",
        "                              # nn.Linear(192, 4),\n",
        "                              nn.LogSoftmax(dim=1))\n",
        "\n",
        "    self.training_loss_ = list()                                                # For plotting\n",
        "    self.training_accuracy_ = list()\n",
        "    self.validation_loss_ = list()                                              # For plotting\n",
        "    self.validation_accuracy_ = list()\n",
        "\n",
        "    self.loss_function = nn.NLLLoss()\n",
        "    self.val_loss_function = nn.NLLLoss(reduction=\"none\")\n",
        "    self.optimizer = torch.optim.Adam(self._clf.parameters(), lr=learning_rate,\n",
        "                                      weight_decay=0.000)\n",
        "\n",
        "    # lambda1 = lambda epoch: epoch // 30\n",
        "    lambda2 = lambda epoch: 0.95 ** (epoch // 30)\n",
        "    self.scheduler = LambdaLR(self.optimizer, lr_lambda=[lambda2])\n",
        "    # self.scheduler = ReduceLROnPlateau(self.optimizer, 'min')#, factor=0.5,#, patience=0,\n",
        "                                      #  threshold=1e-2, cooldown=0)\n",
        "\n",
        "    self.test_perf = {\"en\": {\"labels correct\": {0: [], 1: [], 2: [], 3: []},\n",
        "                             \"test acc\": 0, \"test loss\": 0},\n",
        "                      \"ch\": {\"labels correct\": {0: [], 1: [], 2: [], 3: []},\n",
        "                             \"test acc\": 0, \"test loss\": 0}\n",
        "    }\n",
        "\n",
        "    self.BATCH_SIZE = 20\n",
        "    # self.BATCH_SIZE = 2\n",
        "\n",
        "    if torch.cuda.is_available():                                               # Move the model to the GPU (if we have one)\n",
        "      self.cuda()\n",
        "\n",
        "\n",
        "  def coll_fn(self, X):\n",
        "    max_len = max(input.shape[1] for input, target in X)\n",
        "    num_tensors = len(X)\n",
        "    padded = torch.zeros(num_tensors, max_len, dtype=torch.float32)\n",
        "    for i, (input, output) in enumerate(X):\n",
        "      padded[i, :input.shape[1]] = input\n",
        "    labels = torch.tensor([label for input, label in X])\n",
        "    return padded, labels\n",
        "\n",
        "\n",
        "  def forward(self, X):\n",
        "    \"\"\"The forward pass through the network\"\"\"\n",
        "    scores = self._clf(X)\n",
        "    return scores\n",
        "\n",
        "  def fit(self, train_set, epochs, validation_set=None):\n",
        "    \"\"\"fitting the model to the training data\"\"\"\n",
        "\n",
        "    for epoch in range(epochs):                                                 # Times to loop over the full dataset\n",
        "      if \"en\" in train_set.LANGS and \"ch\" in train_set.LANGS:\n",
        "        train_set.shuffle()\n",
        "\n",
        "      self.train()\n",
        "\n",
        "      with tqdm(DataLoader(train_set, batch_size=self.BATCH_SIZE, shuffle=True,\n",
        "                          num_workers=0, collate_fn=self.coll_fn),\n",
        "                total=len(train_set)//self.BATCH_SIZE, unit=\"batch\", \n",
        "                desc=f\"Epoch {epoch+1}\") as batches:\n",
        "        losses = []\n",
        "        accuracies = []\n",
        "        for inputs, targets in batches:                                         # Loop once over the training data\n",
        "          self.optimizer.zero_grad()                                            # Reset gradients\n",
        "          if torch.cuda.is_available():\n",
        "            inputs = inputs.cuda()\n",
        "            targets = targets.cuda()\n",
        "          \n",
        "          scores = self(inputs)                                                 # Forward pass, flatten output\n",
        "          loss = self.loss_function(scores, targets)                            # Get loss     \n",
        "          loss.backward()                                                       # Backpropagate the error\n",
        "          self.optimizer.step()                                                 # Run the optimizer to change the weights w.r.t the loss\n",
        "          \n",
        "          predictions = scores.argmax(dim=1)                                    # Calculate the batch training accuracy          \n",
        "          correct = (predictions == targets).sum().item()                       # sum where prediction == target\n",
        "          accuracy = correct / len(targets)*100\n",
        "          self.training_accuracy_.append(accuracy)                              # Save the accuracy for plotting\n",
        "          self.training_loss_.append(loss.item())                               # Save the loss for plotting\n",
        "          losses.append(loss.item())\n",
        "          accuracies.append(accuracy)\n",
        "          batches.set_postfix(loss=sum(losses)/len(losses), accuracy=sum(accuracies)/len(accuracies))              # Update the progress bar\n",
        "      # self.scheduler.step()                                                     # Run the optimizer to change the weights w.r.t the loss\n",
        "          \n",
        "      if validation_set:\n",
        "        self.eval()\n",
        "        with torch.no_grad():                                                       # Do not use the following forward passes to calculate a gradient\n",
        "          n_correct = 0\n",
        "          n_total = len(validation_set)\n",
        "          losses = list()\n",
        "\n",
        "          if \"en\" in train_set.LANGS and \"ch\" in train_set.LANGS:\n",
        "            validation_set.shuffle()\n",
        "          for inputs, targets in DataLoader(validation_set, batch_size=self.BATCH_SIZE, \n",
        "                                            shuffle=True, num_workers=0, collate_fn=self.coll_fn):           # Loop once over the test data\n",
        "            if torch.cuda.is_available():\n",
        "              inputs = inputs.cuda()\n",
        "              targets = targets.cuda()\n",
        "            scores = self(inputs)\n",
        "            predictions = scores.argmax(dim=1)                                      # Runs the test data through the model and finds the predictions\n",
        "            n_correct += (predictions == targets).sum().item()              # Sums the number of correct predictions\n",
        "            losses += self.val_loss_function(scores, targets).tolist()\n",
        "        loss = sum(losses)/n_total\n",
        "        accuracy = 100*n_correct/n_total\n",
        "        self.validation_loss_.append(loss)\n",
        "        self.validation_accuracy_.append(accuracy)\n",
        "        print(f\"accuracy={accuracy}, loss={loss}\")\n",
        "      # self.scheduler.step(loss)\n",
        "\n",
        "  def score(self, test_set):\n",
        "    \"\"\"returns a score given some data\"\"\"\n",
        "    self.eval()\n",
        "    labels_correct = {0: [], 1: [], 2: [], 3: []}\n",
        "    lang = test_set.LANGS[0]\n",
        "    with torch.no_grad():                                                       # Do not use the following forward passes to calculate a gradient\n",
        "      n_correct = 0\n",
        "      n_total = len(test_set)\n",
        "      losses = list()\n",
        "      for inputs, targets in DataLoader(test_set, batch_size=self.BATCH_SIZE, \n",
        "                                        shuffle=True, num_workers=0, collate_fn=self.coll_fn):             # Loop once over the test data\n",
        "        if torch.cuda.is_available():\n",
        "          inputs = inputs.cuda()\n",
        "          targets = targets.cuda()\n",
        "        scores = self(inputs)\n",
        "        predictions = scores.argmax(dim=1)                                    # Runs the test data through the model and finds the predictions\n",
        "        n_correct += (predictions == targets).sum().item()          # Sums the number of correct predictions\n",
        "        for i, target in enumerate(targets):\n",
        "          labels_correct[target.item()].append((target == predictions[i]).item())\n",
        "        losses += self.val_loss_function(scores, targets).tolist()\n",
        "    loss = sum(losses)/n_total\n",
        "    accuracy = 100*n_correct/n_total\n",
        "    # print(f\"{lang} Test accuracy: {accuracy:.1f}, test loss: {loss:.1f}\")\n",
        "    self.test_perf[lang][\"labels correct\"] = labels_correct\n",
        "    self.test_perf[lang][\"test acc\"] = accuracy\n",
        "    self.test_perf[lang][\"test loss\"] = loss\n",
        "\n",
        "\n",
        "class ModelDataPipeline():\n",
        "  def __init__(self, epochs=10, learning_rate = 1e-4, langs=[\"en\"], proportion=1.0):\n",
        "    self.EPOCHS = epochs\n",
        "    self.LEARNING_RATE = learning_rate\n",
        "    self.LANGS = langs.copy()\n",
        "    self.HIDDEN_SIZE = 1024\n",
        "\n",
        "    print(f\"Setting up epochs: {epochs}\\n\\tlearning rate: {learning_rate}\\n\\tlangs: {', '.join(langs)}\")\n",
        "    \n",
        "    # check the input is valid\n",
        "    for lang in self.LANGS:\n",
        "      assert lang in [\"en\", \"ch\"], f\"{lang} is not a valid language, should be one or both of 'en' or 'ch'\"\n",
        "\n",
        "    self.output_path = f\"titanet_{'_'.join(self.LANGS)}_{self.EPOCHS}ep\" #{self.MODEL_TYPE}_\n",
        "\n",
        "    self.data_dir = \"/content/drive/MyDrive/Colab Notebooks/MA LangTech/Thesis/masters_thesis/data/emotion_voiceprints\"\n",
        "    # history_path = f\"/home/mnachesa/rd_project/scripts/results/torch_history_{output_path}.pkl\"\n",
        "    self.perf_path = f\"/content/drive/MyDrive/Colab Notebooks/MA LangTech/Thesis/results/performance_{self.output_path}.pkl\"\n",
        "    self.saved_model_path = f\"/content/drive/MyDrive/Colab Notebooks/MA LangTech/Thesis/results/{self.output_path}.pth\"\n",
        "\n",
        "    self.train_dataset = RawDataset(self.data_dir, langs=self.LANGS, split=\"train\", proportion=proportion)\n",
        "    self.eval_dataset = RawDataset(self.data_dir, langs=self.LANGS, split=\"evaluation\", proportion=proportion)\n",
        "    self.en_test_dataset = RawDataset(self.data_dir, langs=[\"en\"], split=\"test\", proportion=proportion)\n",
        "    self.ch_test_dataset = RawDataset(self.data_dir, langs=[\"ch\"], split=\"test\", proportion=proportion)\n",
        "    self.sermod = SERwav2vec2(self.LEARNING_RATE, self.HIDDEN_SIZE)\n",
        "\n",
        "    self.test_accs = {\"ch\": [], \"en\": []}\n",
        "    self.test_losses = {\"ch\": [], \"en\": []}\n",
        "\n",
        "  \n",
        "  def train_model(self):\n",
        "    print(\"Begin training\")\n",
        "    self.sermod.fit(self.train_dataset, epochs=self.EPOCHS, validation_set=self.eval_dataset)\n",
        "    torch.save(self.sermod.state_dict(), self.saved_model_path)\n",
        "\n",
        "\n",
        "  def test_model(self):\n",
        "    self.sermod.score(self.en_test_dataset)\n",
        "    self.sermod.score(self.ch_test_dataset)\n",
        "    print(f\"\\nTest performance\")\n",
        "    print(\"lang accuracy loss\")\n",
        "    print(\"------------------\")\n",
        "    for lang in [\"en\", \"ch\"]:\n",
        "      acc = self.sermod.test_perf[lang][\"test acc\"]\n",
        "      loss = self.sermod.test_perf[lang][\"test loss\"]\n",
        "      print(f\"{lang:>4} {acc:>8.1f} {loss:>4.1f}\")\n",
        "    print()\n",
        "\n",
        "  \n",
        "  def save_model_performance(self):\n",
        "    metrics = {\"training accuracy\": self.sermod.training_accuracy_,\n",
        "               \"training loss\": self.sermod.training_loss_,\n",
        "               \"validation accuracy\": self.sermod.validation_accuracy_,\n",
        "               \"validation loss\": self.sermod.validation_loss_}\n",
        "    test_perf = self.sermod.test_perf\n",
        "\n",
        "    to_save = {\"metrics\": metrics, \"test perf\": test_perf}\n",
        "\n",
        "    with open(self.perf_path, \"wb\") as f:\n",
        "        pickle.dump(to_save, f)\n",
        "\n",
        "\n",
        "  def set_data(self, eval_sp, langs, lang, remixed_data=True):\n",
        "    if remixed_data:\n",
        "      samples = dict() # {\"ch\": samples_ch, \"en\": samples_en}\n",
        "      for train_lang in [\"en\", \"ch\"]:\n",
        "        if train_lang == lang:\n",
        "          with open(os.path.join(self.data_dir, f\"emotion_voiceprints_{train_lang}_{eval_sp}.pkl\"), \"rb\") as f:\n",
        "            samples[train_lang] = pkl.load(f)\n",
        "        else:\n",
        "          with open(os.path.join(self.data_dir, f\"emotion_voiceprints_{train_lang}_7.pkl\"), \"rb\") as f:\n",
        "            samples[train_lang] = pkl.load(f)\n",
        "      \n",
        "      self.train_dataset.samples = []\n",
        "      self.eval_dataset.samples = []\n",
        "      for lang in langs:\n",
        "        self.train_dataset.samples += samples[lang][\"train\"]\n",
        "        self.eval_dataset.samples += samples[lang][\"evaluation\"]\n",
        "      self.ch_test_dataset.samples = samples[\"ch\"][\"test\"]\n",
        "      self.en_test_dataset.samples = samples[\"en\"][\"test\"]\n",
        "\n",
        "      if len(langs) == 2:\n",
        "        quarter_len = len(self.train_dataset.samples)//4\n",
        "        self.train_dataset.samples = self.train_dataset.samples[:quarter_len] \\\n",
        "                                    + self.train_dataset.samples[2*quarter_len:3*quarter_len] \\\n",
        "                                    + self.train_dataset.samples[quarter_len:2*quarter_len] \\\n",
        "                                    + self.train_dataset.samples[3*quarter_len:]\n",
        "\n",
        "\n",
        "  def run_per_split(self, remixed_data=True):\n",
        "    for lang in self.LANGS:\n",
        "      for eval_sp in [7, 8]:\n",
        "        self.sermod = SERwav2vec2(self.LEARNING_RATE, self.HIDDEN_SIZE)\n",
        "        \n",
        "        self.set_data(eval_sp, self.LANGS, lang, remixed_data)\n",
        "        self.train_model()\n",
        "        self.test_model()\n",
        "        for test_lang in [\"en\", \"ch\"]:\n",
        "          self.test_accs[test_lang].append(self.sermod.test_perf[test_lang][\"test acc\"])\n",
        "          self.test_losses[test_lang].append(self.sermod.test_perf[test_lang][\"test loss\"])\n",
        "        self.output_path = f\"titanet_{'_'.join(self.LANGS)}_{self.EPOCHS}ep_eval_sp_{eval_sp}_{lang}_original_data_{not remixed_data}\"\n",
        "        self.perf_path = f\"/content/drive/MyDrive/Colab Notebooks/MA LangTech/Thesis/results/performance_{self.output_path}.pkl\"\n",
        "        self.save_model_performance()\n",
        "\n",
        "    num_its = len(self.test_accs[lang])\n",
        "    print(f\"\\n\\nTrained on {' '.join(self.LANGS)} TitaNet voiceprints\")\n",
        "    print(f\"Average test performance over {num_its} iteration(s)\")\n",
        "    print(\"lang accuracy loss\")\n",
        "    print(\"------------------\")\n",
        "    for lang in [\"en\", \"ch\"]:\n",
        "      avg_acc = sum(self.test_accs[lang])/num_its\n",
        "      avg_loss = sum(self.test_losses[lang])/num_its\n",
        "      print(f\"{lang:>4} {avg_acc:>8.1f} {avg_loss:>4.1f}\")\n",
        "\n",
        "if __name__ != \"__main__\":\n",
        "  start = time.time()\n",
        "\n",
        "  if False:\n",
        "    ap = argparse.ArgumentParser()\n",
        "    ap.add_argument('--epochs', default=10, type=int,\n",
        "                      help='number of training epochs')\n",
        "    ap.add_argument('--lr', default=1e-4, type=float,\n",
        "                      help='model learning rate')\n",
        "    ap.add_argument('--langs', default=[\"en\"], nargs=\"+\",\n",
        "                      help='langs to train model on')\n",
        "    ap.add_argument('--proportion', default=1.0, type=float,\n",
        "                      help='Proportion of data to train on (mainly used in development)')\n",
        "\n",
        "    args = ap.parse_args()\n",
        "\n",
        "    epochs = args.epochs\n",
        "    learning_rate = args.lr\n",
        "    langs = args.langs\n",
        "    proportion = args.proportion\n",
        "\n",
        "  epochs = 10\n",
        "  learning_rate = 1e-5\n",
        "  langs = [\"en\", \"ch\"]\n",
        "  proportion = 1.0\n",
        "\n",
        "  pipeline = ModelDataPipeline(epochs=epochs,\n",
        "                               learning_rate=learning_rate,\n",
        "                               langs=langs,\n",
        "                               proportion=proportion)\n",
        "\n",
        "  # pipeline.train_model()\n",
        "  # pipeline.test_model()\n",
        "  # pipeline.save_model_performance()\n",
        "\n",
        "  end = time.time()\n",
        "  duration = end-start\n",
        "  secs = int(duration%60)\n",
        "  duration = duration//60\n",
        "  mins = int(duration%60)\n",
        "  hours = int(duration//60)\n",
        "\n",
        "  print(f\"\\nRunning the script took {str(hours).zfill(2)}:{str(mins).zfill(2)}:{str(secs).zfill(2)}\")"
      ]
    },
    {
      "cell_type": "code",
      "source": [
        "epochs = 40\n",
        "learning_rate = 5e-5\n",
        "proportion = 1.0"
      ],
      "metadata": {
        "id": "Oh7vQh_MUr0Z"
      },
      "execution_count": null,
      "outputs": []
    },
    {
      "cell_type": "markdown",
      "source": [
        "## Train and test models"
      ],
      "metadata": {
        "id": "iErCrT7epedI"
      }
    },
    {
      "cell_type": "markdown",
      "source": [
        "### Train and test with new split"
      ],
      "metadata": {
        "id": "hSogu2swpgmm"
      }
    },
    {
      "cell_type": "code",
      "source": [
        "if __name__ == \"__main__\":\n",
        "  start = time.time()\n",
        "\n",
        "  langs = [\"en\", \"ch\"]\n",
        "\n",
        "  pipeline = ModelDataPipeline(epochs=epochs,\n",
        "                               learning_rate=learning_rate,\n",
        "                               langs=langs,\n",
        "                               proportion=proportion)\n",
        "  \n",
        "  pipeline.run_per_split()\n",
        "\n",
        "  end = time.time()\n",
        "\n",
        "  print(f\"\\nRunning the script took {running_time(start, end)}\")"
      ],
      "metadata": {
        "colab": {
          "base_uri": "https://localhost:8080/"
        },
        "id": "-zHR4VcnT_9m",
        "outputId": "4395db03-d9bf-4635-b3ba-f3b40cde9d99"
      },
      "execution_count": null,
      "outputs": [
        {
          "output_type": "stream",
          "name": "stdout",
          "text": [
            "Setting up epochs: 40\n",
            "\tlearning rate: 5e-05\n",
            "\tlangs: en, ch\n",
            "Getting 100% of samples\n",
            "Processing 100% of samples took 00:00:02\n",
            "Getting 100% of samples\n",
            "Processing 100% of samples took 00:00:02\n",
            "Getting 100% of samples\n",
            "Processing 100% of samples took 00:00:03\n",
            "Getting 100% of samples\n",
            "Processing 100% of samples took 00:00:02\n",
            "Begin training\n"
          ]
        },
        {
          "output_type": "stream",
          "name": "stderr",
          "text": [
            "Epoch 1: 100%|██████████| 490/490 [00:02<00:00, 165.68batch/s, accuracy=33.4, loss=1.37]\n"
          ]
        },
        {
          "output_type": "stream",
          "name": "stdout",
          "text": [
            "accuracy=63.285714285714285, loss=1.3089099437849863\n"
          ]
        },
        {
          "output_type": "stream",
          "name": "stderr",
          "text": [
            "Epoch 2: 100%|██████████| 490/490 [00:03<00:00, 158.79batch/s, accuracy=61.6, loss=0.909]\n"
          ]
        },
        {
          "output_type": "stream",
          "name": "stdout",
          "text": [
            "accuracy=72.28571428571429, loss=0.7086757837608456\n"
          ]
        },
        {
          "output_type": "stream",
          "name": "stderr",
          "text": [
            "Epoch 3: 100%|██████████| 490/490 [00:02<00:00, 163.53batch/s, accuracy=76.4, loss=0.6]\n"
          ]
        },
        {
          "output_type": "stream",
          "name": "stdout",
          "text": [
            "accuracy=79.78571428571429, loss=0.5532678425751094\n"
          ]
        },
        {
          "output_type": "stream",
          "name": "stderr",
          "text": [
            "Epoch 4: 100%|██████████| 490/490 [00:03<00:00, 153.48batch/s, accuracy=83.8, loss=0.43]\n"
          ]
        },
        {
          "output_type": "stream",
          "name": "stdout",
          "text": [
            "accuracy=76.92857142857143, loss=0.5340812937243442\n"
          ]
        },
        {
          "output_type": "stream",
          "name": "stderr",
          "text": [
            "Epoch 5: 100%|██████████| 490/490 [00:02<00:00, 165.28batch/s, accuracy=87.4, loss=0.342]\n"
          ]
        },
        {
          "output_type": "stream",
          "name": "stdout",
          "text": [
            "accuracy=73.5, loss=0.5784622947010212\n"
          ]
        },
        {
          "output_type": "stream",
          "name": "stderr",
          "text": [
            "Epoch 6: 100%|██████████| 490/490 [00:02<00:00, 164.06batch/s, accuracy=89.7, loss=0.282]\n"
          ]
        },
        {
          "output_type": "stream",
          "name": "stdout",
          "text": [
            "accuracy=76.42857142857143, loss=0.5374470293714798\n"
          ]
        },
        {
          "output_type": "stream",
          "name": "stderr",
          "text": [
            "Epoch 7: 100%|██████████| 490/490 [00:03<00:00, 158.80batch/s, accuracy=90.3, loss=0.262]\n"
          ]
        },
        {
          "output_type": "stream",
          "name": "stdout",
          "text": [
            "accuracy=77.85714285714286, loss=0.5103940916892108\n"
          ]
        },
        {
          "output_type": "stream",
          "name": "stderr",
          "text": [
            "Epoch 8: 100%|██████████| 490/490 [00:03<00:00, 153.42batch/s, accuracy=91.3, loss=0.231]\n"
          ]
        },
        {
          "output_type": "stream",
          "name": "stdout",
          "text": [
            "accuracy=76.5, loss=0.5434193719835353\n"
          ]
        },
        {
          "output_type": "stream",
          "name": "stderr",
          "text": [
            "Epoch 9: 100%|██████████| 490/490 [00:03<00:00, 149.08batch/s, accuracy=92.1, loss=0.212]\n"
          ]
        },
        {
          "output_type": "stream",
          "name": "stdout",
          "text": [
            "accuracy=77.92857142857143, loss=0.5200324171926644\n"
          ]
        },
        {
          "output_type": "stream",
          "name": "stderr",
          "text": [
            "Epoch 10: 100%|██████████| 490/490 [00:03<00:00, 153.30batch/s, accuracy=92.6, loss=0.197]\n"
          ]
        },
        {
          "output_type": "stream",
          "name": "stdout",
          "text": [
            "accuracy=73.42857142857143, loss=0.6445268275892054\n"
          ]
        },
        {
          "output_type": "stream",
          "name": "stderr",
          "text": [
            "Epoch 11: 100%|██████████| 490/490 [00:03<00:00, 159.88batch/s, accuracy=93.2, loss=0.186]\n"
          ]
        },
        {
          "output_type": "stream",
          "name": "stdout",
          "text": [
            "accuracy=75.07142857142857, loss=0.5853520119214747\n"
          ]
        },
        {
          "output_type": "stream",
          "name": "stderr",
          "text": [
            "Epoch 12: 100%|██████████| 490/490 [00:03<00:00, 161.58batch/s, accuracy=94, loss=0.17]\n"
          ]
        },
        {
          "output_type": "stream",
          "name": "stdout",
          "text": [
            "accuracy=73.28571428571429, loss=0.7029740926159762\n"
          ]
        },
        {
          "output_type": "stream",
          "name": "stderr",
          "text": [
            "Epoch 13: 100%|██████████| 490/490 [00:03<00:00, 160.37batch/s, accuracy=93.9, loss=0.161]\n"
          ]
        },
        {
          "output_type": "stream",
          "name": "stdout",
          "text": [
            "accuracy=74.5, loss=0.6337803474053881\n"
          ]
        },
        {
          "output_type": "stream",
          "name": "stderr",
          "text": [
            "Epoch 14: 100%|██████████| 490/490 [00:03<00:00, 151.60batch/s, accuracy=94.3, loss=0.156]\n"
          ]
        },
        {
          "output_type": "stream",
          "name": "stdout",
          "text": [
            "accuracy=73.92857142857143, loss=0.6303991808122009\n"
          ]
        },
        {
          "output_type": "stream",
          "name": "stderr",
          "text": [
            "Epoch 15: 100%|██████████| 490/490 [00:03<00:00, 140.07batch/s, accuracy=94.6, loss=0.149]\n"
          ]
        },
        {
          "output_type": "stream",
          "name": "stdout",
          "text": [
            "accuracy=76.28571428571429, loss=0.6116753462365055\n"
          ]
        },
        {
          "output_type": "stream",
          "name": "stderr",
          "text": [
            "Epoch 16: 100%|██████████| 490/490 [00:03<00:00, 141.73batch/s, accuracy=94.8, loss=0.143]\n"
          ]
        },
        {
          "output_type": "stream",
          "name": "stdout",
          "text": [
            "accuracy=75.78571428571429, loss=0.6285490673565904\n"
          ]
        },
        {
          "output_type": "stream",
          "name": "stderr",
          "text": [
            "Epoch 17: 100%|██████████| 490/490 [00:03<00:00, 156.79batch/s, accuracy=95.5, loss=0.127]\n"
          ]
        },
        {
          "output_type": "stream",
          "name": "stdout",
          "text": [
            "accuracy=72.85714285714286, loss=0.6913010646972387\n"
          ]
        },
        {
          "output_type": "stream",
          "name": "stderr",
          "text": [
            "Epoch 18: 100%|██████████| 490/490 [00:03<00:00, 159.28batch/s, accuracy=95.5, loss=0.127]\n"
          ]
        },
        {
          "output_type": "stream",
          "name": "stdout",
          "text": [
            "accuracy=74.14285714285714, loss=0.6454727851973258\n"
          ]
        },
        {
          "output_type": "stream",
          "name": "stderr",
          "text": [
            "Epoch 19: 100%|██████████| 490/490 [00:03<00:00, 154.14batch/s, accuracy=95.9, loss=0.117]\n"
          ]
        },
        {
          "output_type": "stream",
          "name": "stdout",
          "text": [
            "accuracy=73.64285714285714, loss=0.7179943827148054\n"
          ]
        },
        {
          "output_type": "stream",
          "name": "stderr",
          "text": [
            "Epoch 20: 100%|██████████| 490/490 [00:03<00:00, 156.92batch/s, accuracy=96, loss=0.108]\n"
          ]
        },
        {
          "output_type": "stream",
          "name": "stdout",
          "text": [
            "accuracy=74.0, loss=0.7003282109129317\n"
          ]
        },
        {
          "output_type": "stream",
          "name": "stderr",
          "text": [
            "Epoch 21: 100%|██████████| 490/490 [00:03<00:00, 159.72batch/s, accuracy=96.2, loss=0.108]\n"
          ]
        },
        {
          "output_type": "stream",
          "name": "stdout",
          "text": [
            "accuracy=70.35714285714286, loss=0.8510515569127944\n"
          ]
        },
        {
          "output_type": "stream",
          "name": "stderr",
          "text": [
            "Epoch 22: 100%|██████████| 490/490 [00:03<00:00, 154.14batch/s, accuracy=96.4, loss=0.102]\n"
          ]
        },
        {
          "output_type": "stream",
          "name": "stdout",
          "text": [
            "accuracy=74.71428571428571, loss=0.6696294465245605\n"
          ]
        },
        {
          "output_type": "stream",
          "name": "stderr",
          "text": [
            "Epoch 23: 100%|██████████| 490/490 [00:03<00:00, 153.47batch/s, accuracy=96.7, loss=0.0962]\n"
          ]
        },
        {
          "output_type": "stream",
          "name": "stdout",
          "text": [
            "accuracy=70.07142857142857, loss=0.8950354446408411\n"
          ]
        },
        {
          "output_type": "stream",
          "name": "stderr",
          "text": [
            "Epoch 24: 100%|██████████| 490/490 [00:03<00:00, 153.85batch/s, accuracy=96.8, loss=0.0901]\n"
          ]
        },
        {
          "output_type": "stream",
          "name": "stdout",
          "text": [
            "accuracy=73.28571428571429, loss=0.760053062133346\n"
          ]
        },
        {
          "output_type": "stream",
          "name": "stderr",
          "text": [
            "Epoch 25: 100%|██████████| 490/490 [00:03<00:00, 154.76batch/s, accuracy=96.8, loss=0.0902]\n"
          ]
        },
        {
          "output_type": "stream",
          "name": "stdout",
          "text": [
            "accuracy=68.35714285714286, loss=0.9592132287410953\n"
          ]
        },
        {
          "output_type": "stream",
          "name": "stderr",
          "text": [
            "Epoch 26: 100%|██████████| 490/490 [00:03<00:00, 156.89batch/s, accuracy=97.1, loss=0.0833]\n"
          ]
        },
        {
          "output_type": "stream",
          "name": "stdout",
          "text": [
            "accuracy=67.07142857142857, loss=1.0657019383443964\n"
          ]
        },
        {
          "output_type": "stream",
          "name": "stderr",
          "text": [
            "Epoch 27: 100%|██████████| 490/490 [00:03<00:00, 160.58batch/s, accuracy=97.2, loss=0.0784]\n"
          ]
        },
        {
          "output_type": "stream",
          "name": "stdout",
          "text": [
            "accuracy=69.07142857142857, loss=0.9676704671802067\n"
          ]
        },
        {
          "output_type": "stream",
          "name": "stderr",
          "text": [
            "Epoch 28: 100%|██████████| 490/490 [00:03<00:00, 158.37batch/s, accuracy=97.3, loss=0.0753]\n"
          ]
        },
        {
          "output_type": "stream",
          "name": "stdout",
          "text": [
            "accuracy=69.35714285714286, loss=1.0137364371343573\n"
          ]
        },
        {
          "output_type": "stream",
          "name": "stderr",
          "text": [
            "Epoch 29: 100%|██████████| 490/490 [00:03<00:00, 153.25batch/s, accuracy=97.4, loss=0.0737]\n"
          ]
        },
        {
          "output_type": "stream",
          "name": "stdout",
          "text": [
            "accuracy=67.92857142857143, loss=1.0669888689373528\n"
          ]
        },
        {
          "output_type": "stream",
          "name": "stderr",
          "text": [
            "Epoch 30: 100%|██████████| 490/490 [00:03<00:00, 156.49batch/s, accuracy=97.4, loss=0.0725]\n"
          ]
        },
        {
          "output_type": "stream",
          "name": "stdout",
          "text": [
            "accuracy=70.85714285714286, loss=0.9197486949805034\n"
          ]
        },
        {
          "output_type": "stream",
          "name": "stderr",
          "text": [
            "Epoch 31: 100%|██████████| 490/490 [00:03<00:00, 155.66batch/s, accuracy=97.7, loss=0.066]\n"
          ]
        },
        {
          "output_type": "stream",
          "name": "stdout",
          "text": [
            "accuracy=70.64285714285714, loss=0.9165503492712505\n"
          ]
        },
        {
          "output_type": "stream",
          "name": "stderr",
          "text": [
            "Epoch 32: 100%|██████████| 490/490 [00:03<00:00, 155.27batch/s, accuracy=97.6, loss=0.0681]\n"
          ]
        },
        {
          "output_type": "stream",
          "name": "stdout",
          "text": [
            "accuracy=67.35714285714286, loss=1.1563488954377221\n"
          ]
        },
        {
          "output_type": "stream",
          "name": "stderr",
          "text": [
            "Epoch 33: 100%|██████████| 490/490 [00:03<00:00, 149.89batch/s, accuracy=97.9, loss=0.0624]\n"
          ]
        },
        {
          "output_type": "stream",
          "name": "stdout",
          "text": [
            "accuracy=72.71428571428571, loss=0.9064209617825599\n"
          ]
        },
        {
          "output_type": "stream",
          "name": "stderr",
          "text": [
            "Epoch 34: 100%|██████████| 490/490 [00:03<00:00, 152.78batch/s, accuracy=97.9, loss=0.0633]\n"
          ]
        },
        {
          "output_type": "stream",
          "name": "stdout",
          "text": [
            "accuracy=71.14285714285714, loss=1.0101311598701537\n"
          ]
        },
        {
          "output_type": "stream",
          "name": "stderr",
          "text": [
            "Epoch 35: 100%|██████████| 490/490 [00:03<00:00, 157.65batch/s, accuracy=97.9, loss=0.059]\n"
          ]
        },
        {
          "output_type": "stream",
          "name": "stdout",
          "text": [
            "accuracy=71.71428571428571, loss=0.9932718159006855\n"
          ]
        },
        {
          "output_type": "stream",
          "name": "stderr",
          "text": [
            "Epoch 36: 100%|██████████| 490/490 [00:03<00:00, 159.18batch/s, accuracy=98.4, loss=0.0492]\n"
          ]
        },
        {
          "output_type": "stream",
          "name": "stdout",
          "text": [
            "accuracy=70.64285714285714, loss=1.0448893931600303\n"
          ]
        },
        {
          "output_type": "stream",
          "name": "stderr",
          "text": [
            "Epoch 37: 100%|██████████| 490/490 [00:03<00:00, 155.08batch/s, accuracy=98.1, loss=0.0551]\n"
          ]
        },
        {
          "output_type": "stream",
          "name": "stdout",
          "text": [
            "accuracy=73.64285714285714, loss=0.928050749174688\n"
          ]
        },
        {
          "output_type": "stream",
          "name": "stderr",
          "text": [
            "Epoch 38: 100%|██████████| 490/490 [00:03<00:00, 155.42batch/s, accuracy=98.1, loss=0.0528]\n"
          ]
        },
        {
          "output_type": "stream",
          "name": "stdout",
          "text": [
            "accuracy=72.0, loss=0.9587877668369843\n"
          ]
        },
        {
          "output_type": "stream",
          "name": "stderr",
          "text": [
            "Epoch 39: 100%|██████████| 490/490 [00:03<00:00, 154.36batch/s, accuracy=98.3, loss=0.0508]\n"
          ]
        },
        {
          "output_type": "stream",
          "name": "stdout",
          "text": [
            "accuracy=70.5, loss=1.0186718001373285\n"
          ]
        },
        {
          "output_type": "stream",
          "name": "stderr",
          "text": [
            "Epoch 40: 100%|██████████| 490/490 [00:03<00:00, 158.11batch/s, accuracy=98.3, loss=0.0483]\n"
          ]
        },
        {
          "output_type": "stream",
          "name": "stdout",
          "text": [
            "accuracy=67.42857142857143, loss=1.2893230999821168\n",
            "\n",
            "Test performance\n",
            "lang accuracy loss\n",
            "------------------\n",
            "  en     59.3  1.8\n",
            "  ch     82.7  0.6\n",
            "\n",
            "Begin training\n"
          ]
        },
        {
          "output_type": "stream",
          "name": "stderr",
          "text": [
            "Epoch 1: 100%|██████████| 490/490 [00:03<00:00, 157.41batch/s, accuracy=32.3, loss=1.37]\n"
          ]
        },
        {
          "output_type": "stream",
          "name": "stdout",
          "text": [
            "accuracy=56.57142857142857, loss=1.2967074612208775\n"
          ]
        },
        {
          "output_type": "stream",
          "name": "stderr",
          "text": [
            "Epoch 2: 100%|██████████| 490/490 [00:03<00:00, 157.59batch/s, accuracy=60.2, loss=0.906]\n"
          ]
        },
        {
          "output_type": "stream",
          "name": "stdout",
          "text": [
            "accuracy=57.5, loss=0.9088629984642778\n"
          ]
        },
        {
          "output_type": "stream",
          "name": "stderr",
          "text": [
            "Epoch 3: 100%|██████████| 490/490 [00:03<00:00, 156.28batch/s, accuracy=74.2, loss=0.635]\n"
          ]
        },
        {
          "output_type": "stream",
          "name": "stdout",
          "text": [
            "accuracy=62.92857142857143, loss=0.9086137371137738\n"
          ]
        },
        {
          "output_type": "stream",
          "name": "stderr",
          "text": [
            "Epoch 4: 100%|██████████| 490/490 [00:03<00:00, 159.24batch/s, accuracy=83.2, loss=0.451]\n"
          ]
        },
        {
          "output_type": "stream",
          "name": "stdout",
          "text": [
            "accuracy=77.35714285714286, loss=0.6728953270155138\n"
          ]
        },
        {
          "output_type": "stream",
          "name": "stderr",
          "text": [
            "Epoch 5: 100%|██████████| 490/490 [00:03<00:00, 158.29batch/s, accuracy=87, loss=0.346]\n"
          ]
        },
        {
          "output_type": "stream",
          "name": "stdout",
          "text": [
            "accuracy=77.42857142857143, loss=0.6993207748264207\n"
          ]
        },
        {
          "output_type": "stream",
          "name": "stderr",
          "text": [
            "Epoch 6: 100%|██████████| 490/490 [00:03<00:00, 153.33batch/s, accuracy=89.2, loss=0.283]\n"
          ]
        },
        {
          "output_type": "stream",
          "name": "stdout",
          "text": [
            "accuracy=74.57142857142857, loss=0.7679205020065586\n"
          ]
        },
        {
          "output_type": "stream",
          "name": "stderr",
          "text": [
            "Epoch 7: 100%|██████████| 490/490 [00:02<00:00, 164.57batch/s, accuracy=91.1, loss=0.244]\n"
          ]
        },
        {
          "output_type": "stream",
          "name": "stdout",
          "text": [
            "accuracy=77.57142857142857, loss=0.7197262046450383\n"
          ]
        },
        {
          "output_type": "stream",
          "name": "stderr",
          "text": [
            "Epoch 8: 100%|██████████| 490/490 [00:02<00:00, 168.78batch/s, accuracy=91.9, loss=0.224]\n"
          ]
        },
        {
          "output_type": "stream",
          "name": "stdout",
          "text": [
            "accuracy=77.85714285714286, loss=0.689347443971284\n"
          ]
        },
        {
          "output_type": "stream",
          "name": "stderr",
          "text": [
            "Epoch 9: 100%|██████████| 490/490 [00:02<00:00, 166.86batch/s, accuracy=92.5, loss=0.205]\n"
          ]
        },
        {
          "output_type": "stream",
          "name": "stdout",
          "text": [
            "accuracy=77.64285714285714, loss=0.7403104729109743\n"
          ]
        },
        {
          "output_type": "stream",
          "name": "stderr",
          "text": [
            "Epoch 10: 100%|██████████| 490/490 [00:03<00:00, 155.20batch/s, accuracy=92.8, loss=0.192]\n"
          ]
        },
        {
          "output_type": "stream",
          "name": "stdout",
          "text": [
            "accuracy=77.21428571428571, loss=0.7595859170875545\n"
          ]
        },
        {
          "output_type": "stream",
          "name": "stderr",
          "text": [
            "Epoch 11: 100%|██████████| 490/490 [00:03<00:00, 156.52batch/s, accuracy=93.5, loss=0.177]\n"
          ]
        },
        {
          "output_type": "stream",
          "name": "stdout",
          "text": [
            "accuracy=77.0, loss=0.7302084354654446\n"
          ]
        },
        {
          "output_type": "stream",
          "name": "stderr",
          "text": [
            "Epoch 12: 100%|██████████| 490/490 [00:03<00:00, 152.69batch/s, accuracy=94.2, loss=0.163]\n"
          ]
        },
        {
          "output_type": "stream",
          "name": "stdout",
          "text": [
            "accuracy=76.14285714285714, loss=0.744807109669117\n"
          ]
        },
        {
          "output_type": "stream",
          "name": "stderr",
          "text": [
            "Epoch 13: 100%|██████████| 490/490 [00:03<00:00, 159.74batch/s, accuracy=94.1, loss=0.156]\n"
          ]
        },
        {
          "output_type": "stream",
          "name": "stdout",
          "text": [
            "accuracy=76.78571428571429, loss=0.7807506786808724\n"
          ]
        },
        {
          "output_type": "stream",
          "name": "stderr",
          "text": [
            "Epoch 14: 100%|██████████| 490/490 [00:03<00:00, 160.61batch/s, accuracy=94.5, loss=0.148]\n"
          ]
        },
        {
          "output_type": "stream",
          "name": "stdout",
          "text": [
            "accuracy=76.5, loss=0.7565640749576726\n"
          ]
        },
        {
          "output_type": "stream",
          "name": "stderr",
          "text": [
            "Epoch 15: 100%|██████████| 490/490 [00:03<00:00, 158.82batch/s, accuracy=94.8, loss=0.139]\n"
          ]
        },
        {
          "output_type": "stream",
          "name": "stdout",
          "text": [
            "accuracy=75.78571428571429, loss=0.8002251474782315\n"
          ]
        },
        {
          "output_type": "stream",
          "name": "stderr",
          "text": [
            "Epoch 16: 100%|██████████| 490/490 [00:03<00:00, 155.18batch/s, accuracy=95.4, loss=0.132]\n"
          ]
        },
        {
          "output_type": "stream",
          "name": "stdout",
          "text": [
            "accuracy=76.0, loss=0.8304853180547745\n"
          ]
        },
        {
          "output_type": "stream",
          "name": "stderr",
          "text": [
            "Epoch 17: 100%|██████████| 490/490 [00:03<00:00, 157.04batch/s, accuracy=95.4, loss=0.129]\n"
          ]
        },
        {
          "output_type": "stream",
          "name": "stdout",
          "text": [
            "accuracy=72.42857142857143, loss=1.0204954124416743\n"
          ]
        },
        {
          "output_type": "stream",
          "name": "stderr",
          "text": [
            "Epoch 18: 100%|██████████| 490/490 [00:03<00:00, 160.29batch/s, accuracy=95.7, loss=0.12]\n"
          ]
        },
        {
          "output_type": "stream",
          "name": "stdout",
          "text": [
            "accuracy=75.78571428571429, loss=0.8293370896021874\n"
          ]
        },
        {
          "output_type": "stream",
          "name": "stderr",
          "text": [
            "Epoch 19: 100%|██████████| 490/490 [00:03<00:00, 155.48batch/s, accuracy=96.2, loss=0.109]\n"
          ]
        },
        {
          "output_type": "stream",
          "name": "stdout",
          "text": [
            "accuracy=72.28571428571429, loss=0.9898719671134625\n"
          ]
        },
        {
          "output_type": "stream",
          "name": "stderr",
          "text": [
            "Epoch 20: 100%|██████████| 490/490 [00:03<00:00, 154.76batch/s, accuracy=96.6, loss=0.0969]\n"
          ]
        },
        {
          "output_type": "stream",
          "name": "stdout",
          "text": [
            "accuracy=75.0, loss=0.9292649691266031\n"
          ]
        },
        {
          "output_type": "stream",
          "name": "stderr",
          "text": [
            "Epoch 21: 100%|██████████| 490/490 [00:03<00:00, 153.82batch/s, accuracy=96.6, loss=0.099]\n"
          ]
        },
        {
          "output_type": "stream",
          "name": "stdout",
          "text": [
            "accuracy=75.78571428571429, loss=0.8716788247643554\n"
          ]
        },
        {
          "output_type": "stream",
          "name": "stderr",
          "text": [
            "Epoch 22: 100%|██████████| 490/490 [00:03<00:00, 153.20batch/s, accuracy=96.5, loss=0.0979]\n"
          ]
        },
        {
          "output_type": "stream",
          "name": "stdout",
          "text": [
            "accuracy=76.57142857142857, loss=0.8244267695806502\n"
          ]
        },
        {
          "output_type": "stream",
          "name": "stderr",
          "text": [
            "Epoch 23: 100%|██████████| 490/490 [00:03<00:00, 154.17batch/s, accuracy=97, loss=0.0865]\n"
          ]
        },
        {
          "output_type": "stream",
          "name": "stdout",
          "text": [
            "accuracy=75.71428571428571, loss=0.8864224227438289\n"
          ]
        },
        {
          "output_type": "stream",
          "name": "stderr",
          "text": [
            "Epoch 24: 100%|██████████| 490/490 [00:03<00:00, 153.16batch/s, accuracy=96.7, loss=0.0895]\n"
          ]
        },
        {
          "output_type": "stream",
          "name": "stdout",
          "text": [
            "accuracy=76.42857142857143, loss=0.8451326872328497\n"
          ]
        },
        {
          "output_type": "stream",
          "name": "stderr",
          "text": [
            "Epoch 25: 100%|██████████| 490/490 [00:03<00:00, 159.39batch/s, accuracy=96.8, loss=0.0827]\n"
          ]
        },
        {
          "output_type": "stream",
          "name": "stdout",
          "text": [
            "accuracy=75.21428571428571, loss=0.9375746042622891\n"
          ]
        },
        {
          "output_type": "stream",
          "name": "stderr",
          "text": [
            "Epoch 26: 100%|██████████| 490/490 [00:03<00:00, 149.99batch/s, accuracy=97.2, loss=0.0793]\n"
          ]
        },
        {
          "output_type": "stream",
          "name": "stdout",
          "text": [
            "accuracy=77.21428571428571, loss=0.8280015977124536\n"
          ]
        },
        {
          "output_type": "stream",
          "name": "stderr",
          "text": [
            "Epoch 27: 100%|██████████| 490/490 [00:03<00:00, 153.68batch/s, accuracy=97.2, loss=0.0773]\n"
          ]
        },
        {
          "output_type": "stream",
          "name": "stdout",
          "text": [
            "accuracy=76.64285714285714, loss=0.8942000345672159\n"
          ]
        },
        {
          "output_type": "stream",
          "name": "stderr",
          "text": [
            "Epoch 28: 100%|██████████| 490/490 [00:03<00:00, 151.39batch/s, accuracy=97.2, loss=0.0701]\n"
          ]
        },
        {
          "output_type": "stream",
          "name": "stdout",
          "text": [
            "accuracy=76.64285714285714, loss=0.920386330956038\n"
          ]
        },
        {
          "output_type": "stream",
          "name": "stderr",
          "text": [
            "Epoch 29: 100%|██████████| 490/490 [00:03<00:00, 150.07batch/s, accuracy=97.6, loss=0.0697]\n"
          ]
        },
        {
          "output_type": "stream",
          "name": "stdout",
          "text": [
            "accuracy=74.42857142857143, loss=0.9327814113349638\n"
          ]
        },
        {
          "output_type": "stream",
          "name": "stderr",
          "text": [
            "Epoch 30: 100%|██████████| 490/490 [00:03<00:00, 157.91batch/s, accuracy=97.5, loss=0.0673]\n"
          ]
        },
        {
          "output_type": "stream",
          "name": "stdout",
          "text": [
            "accuracy=74.64285714285714, loss=0.961584302706514\n"
          ]
        },
        {
          "output_type": "stream",
          "name": "stderr",
          "text": [
            "Epoch 31: 100%|██████████| 490/490 [00:03<00:00, 157.17batch/s, accuracy=97.8, loss=0.0631]\n"
          ]
        },
        {
          "output_type": "stream",
          "name": "stdout",
          "text": [
            "accuracy=75.0, loss=0.9857386361167304\n"
          ]
        },
        {
          "output_type": "stream",
          "name": "stderr",
          "text": [
            "Epoch 32: 100%|██████████| 490/490 [00:03<00:00, 153.58batch/s, accuracy=97.9, loss=0.0611]\n"
          ]
        },
        {
          "output_type": "stream",
          "name": "stdout",
          "text": [
            "accuracy=75.92857142857143, loss=1.0000687441674885\n"
          ]
        },
        {
          "output_type": "stream",
          "name": "stderr",
          "text": [
            "Epoch 33: 100%|██████████| 490/490 [00:03<00:00, 152.26batch/s, accuracy=98.1, loss=0.0552]\n"
          ]
        },
        {
          "output_type": "stream",
          "name": "stdout",
          "text": [
            "accuracy=75.35714285714286, loss=0.9469655960751729\n"
          ]
        },
        {
          "output_type": "stream",
          "name": "stderr",
          "text": [
            "Epoch 34: 100%|██████████| 490/490 [00:03<00:00, 153.50batch/s, accuracy=98.1, loss=0.0545]\n"
          ]
        },
        {
          "output_type": "stream",
          "name": "stdout",
          "text": [
            "accuracy=74.5, loss=1.0767195977340664\n"
          ]
        },
        {
          "output_type": "stream",
          "name": "stderr",
          "text": [
            "Epoch 35: 100%|██████████| 490/490 [00:03<00:00, 162.02batch/s, accuracy=98.1, loss=0.0536]\n"
          ]
        },
        {
          "output_type": "stream",
          "name": "stdout",
          "text": [
            "accuracy=78.85714285714286, loss=0.8160151336093265\n"
          ]
        },
        {
          "output_type": "stream",
          "name": "stderr",
          "text": [
            "Epoch 36: 100%|██████████| 490/490 [00:03<00:00, 162.39batch/s, accuracy=98, loss=0.0544]\n"
          ]
        },
        {
          "output_type": "stream",
          "name": "stdout",
          "text": [
            "accuracy=75.0, loss=1.0150270775033554\n"
          ]
        },
        {
          "output_type": "stream",
          "name": "stderr",
          "text": [
            "Epoch 37: 100%|██████████| 490/490 [00:03<00:00, 155.61batch/s, accuracy=98.3, loss=0.0489]\n"
          ]
        },
        {
          "output_type": "stream",
          "name": "stdout",
          "text": [
            "accuracy=74.57142857142857, loss=1.0887609389292752\n"
          ]
        },
        {
          "output_type": "stream",
          "name": "stderr",
          "text": [
            "Epoch 38: 100%|██████████| 490/490 [00:03<00:00, 154.65batch/s, accuracy=98.5, loss=0.0464]\n"
          ]
        },
        {
          "output_type": "stream",
          "name": "stdout",
          "text": [
            "accuracy=74.35714285714286, loss=1.1141950799213884\n"
          ]
        },
        {
          "output_type": "stream",
          "name": "stderr",
          "text": [
            "Epoch 39: 100%|██████████| 490/490 [00:03<00:00, 155.19batch/s, accuracy=98.4, loss=0.0446]\n"
          ]
        },
        {
          "output_type": "stream",
          "name": "stdout",
          "text": [
            "accuracy=75.71428571428571, loss=1.0170790886509193\n"
          ]
        },
        {
          "output_type": "stream",
          "name": "stderr",
          "text": [
            "Epoch 40: 100%|██████████| 490/490 [00:03<00:00, 163.30batch/s, accuracy=98.5, loss=0.0432]\n"
          ]
        },
        {
          "output_type": "stream",
          "name": "stdout",
          "text": [
            "accuracy=75.07142857142857, loss=1.0240752071407275\n",
            "\n",
            "Test performance\n",
            "lang accuracy loss\n",
            "------------------\n",
            "  en     64.7  1.5\n",
            "  ch     84.2  0.5\n",
            "\n",
            "Begin training\n"
          ]
        },
        {
          "output_type": "stream",
          "name": "stderr",
          "text": [
            "Epoch 1: 100%|██████████| 490/490 [00:03<00:00, 154.87batch/s, accuracy=30.3, loss=1.38]\n"
          ]
        },
        {
          "output_type": "stream",
          "name": "stdout",
          "text": [
            "accuracy=32.92857142857143, loss=1.3381003450495856\n"
          ]
        },
        {
          "output_type": "stream",
          "name": "stderr",
          "text": [
            "Epoch 2: 100%|██████████| 490/490 [00:03<00:00, 155.76batch/s, accuracy=61.4, loss=0.944]\n"
          ]
        },
        {
          "output_type": "stream",
          "name": "stdout",
          "text": [
            "accuracy=71.07142857142857, loss=0.7289956468237297\n"
          ]
        },
        {
          "output_type": "stream",
          "name": "stderr",
          "text": [
            "Epoch 3: 100%|██████████| 490/490 [00:03<00:00, 152.23batch/s, accuracy=76.6, loss=0.592]\n"
          ]
        },
        {
          "output_type": "stream",
          "name": "stdout",
          "text": [
            "accuracy=83.64285714285714, loss=0.529117258419948\n"
          ]
        },
        {
          "output_type": "stream",
          "name": "stderr",
          "text": [
            "Epoch 4: 100%|██████████| 490/490 [00:02<00:00, 165.47batch/s, accuracy=84.5, loss=0.422]\n"
          ]
        },
        {
          "output_type": "stream",
          "name": "stdout",
          "text": [
            "accuracy=83.14285714285714, loss=0.46198108980864555\n"
          ]
        },
        {
          "output_type": "stream",
          "name": "stderr",
          "text": [
            "Epoch 5: 100%|██████████| 490/490 [00:02<00:00, 166.46batch/s, accuracy=87.7, loss=0.331]\n"
          ]
        },
        {
          "output_type": "stream",
          "name": "stdout",
          "text": [
            "accuracy=76.78571428571429, loss=0.5453880184617759\n"
          ]
        },
        {
          "output_type": "stream",
          "name": "stderr",
          "text": [
            "Epoch 6: 100%|██████████| 490/490 [00:03<00:00, 153.55batch/s, accuracy=89.9, loss=0.276]\n"
          ]
        },
        {
          "output_type": "stream",
          "name": "stdout",
          "text": [
            "accuracy=77.57142857142857, loss=0.49739244216437717\n"
          ]
        },
        {
          "output_type": "stream",
          "name": "stderr",
          "text": [
            "Epoch 7: 100%|██████████| 490/490 [00:02<00:00, 165.20batch/s, accuracy=90.5, loss=0.253]\n"
          ]
        },
        {
          "output_type": "stream",
          "name": "stdout",
          "text": [
            "accuracy=79.14285714285714, loss=0.48468727836734615\n"
          ]
        },
        {
          "output_type": "stream",
          "name": "stderr",
          "text": [
            "Epoch 8: 100%|██████████| 490/490 [00:03<00:00, 152.65batch/s, accuracy=91.7, loss=0.232]\n"
          ]
        },
        {
          "output_type": "stream",
          "name": "stdout",
          "text": [
            "accuracy=78.5, loss=0.5250169359717568\n"
          ]
        },
        {
          "output_type": "stream",
          "name": "stderr",
          "text": [
            "Epoch 9: 100%|██████████| 490/490 [00:03<00:00, 151.49batch/s, accuracy=92.3, loss=0.212]\n"
          ]
        },
        {
          "output_type": "stream",
          "name": "stdout",
          "text": [
            "accuracy=77.07142857142857, loss=0.5513163415896789\n"
          ]
        },
        {
          "output_type": "stream",
          "name": "stderr",
          "text": [
            "Epoch 10: 100%|██████████| 490/490 [00:03<00:00, 162.64batch/s, accuracy=92.8, loss=0.203]\n"
          ]
        },
        {
          "output_type": "stream",
          "name": "stdout",
          "text": [
            "accuracy=78.07142857142857, loss=0.5298889505822653\n"
          ]
        },
        {
          "output_type": "stream",
          "name": "stderr",
          "text": [
            "Epoch 11: 100%|██████████| 490/490 [00:02<00:00, 165.92batch/s, accuracy=92.8, loss=0.195]\n"
          ]
        },
        {
          "output_type": "stream",
          "name": "stdout",
          "text": [
            "accuracy=77.5, loss=0.5553004208818518\n"
          ]
        },
        {
          "output_type": "stream",
          "name": "stderr",
          "text": [
            "Epoch 12: 100%|██████████| 490/490 [00:03<00:00, 153.36batch/s, accuracy=93.2, loss=0.177]\n"
          ]
        },
        {
          "output_type": "stream",
          "name": "stdout",
          "text": [
            "accuracy=76.42857142857143, loss=0.5834729535593838\n"
          ]
        },
        {
          "output_type": "stream",
          "name": "stderr",
          "text": [
            "Epoch 13: 100%|██████████| 490/490 [00:03<00:00, 156.17batch/s, accuracy=93.8, loss=0.172]\n"
          ]
        },
        {
          "output_type": "stream",
          "name": "stdout",
          "text": [
            "accuracy=80.78571428571429, loss=0.4643363331194996\n"
          ]
        },
        {
          "output_type": "stream",
          "name": "stderr",
          "text": [
            "Epoch 14: 100%|██████████| 490/490 [00:03<00:00, 155.07batch/s, accuracy=94.2, loss=0.161]\n"
          ]
        },
        {
          "output_type": "stream",
          "name": "stdout",
          "text": [
            "accuracy=74.64285714285714, loss=0.6418483834828865\n"
          ]
        },
        {
          "output_type": "stream",
          "name": "stderr",
          "text": [
            "Epoch 15: 100%|██████████| 490/490 [00:03<00:00, 162.55batch/s, accuracy=94.8, loss=0.145]\n"
          ]
        },
        {
          "output_type": "stream",
          "name": "stdout",
          "text": [
            "accuracy=72.0, loss=0.7703601118695536\n"
          ]
        },
        {
          "output_type": "stream",
          "name": "stderr",
          "text": [
            "Epoch 16: 100%|██████████| 490/490 [00:02<00:00, 165.55batch/s, accuracy=95, loss=0.139]\n"
          ]
        },
        {
          "output_type": "stream",
          "name": "stdout",
          "text": [
            "accuracy=73.92857142857143, loss=0.7016140238509875\n"
          ]
        },
        {
          "output_type": "stream",
          "name": "stderr",
          "text": [
            "Epoch 17: 100%|██████████| 490/490 [00:03<00:00, 160.41batch/s, accuracy=95.2, loss=0.135]\n"
          ]
        },
        {
          "output_type": "stream",
          "name": "stdout",
          "text": [
            "accuracy=72.92857142857143, loss=0.7515308985703814\n"
          ]
        },
        {
          "output_type": "stream",
          "name": "stderr",
          "text": [
            "Epoch 18: 100%|██████████| 490/490 [00:02<00:00, 168.70batch/s, accuracy=95.5, loss=0.125]\n"
          ]
        },
        {
          "output_type": "stream",
          "name": "stdout",
          "text": [
            "accuracy=72.14285714285714, loss=0.7648293295757763\n"
          ]
        },
        {
          "output_type": "stream",
          "name": "stderr",
          "text": [
            "Epoch 19: 100%|██████████| 490/490 [00:03<00:00, 160.38batch/s, accuracy=95.5, loss=0.12]\n"
          ]
        },
        {
          "output_type": "stream",
          "name": "stdout",
          "text": [
            "accuracy=74.78571428571429, loss=0.7075973002058176\n"
          ]
        },
        {
          "output_type": "stream",
          "name": "stderr",
          "text": [
            "Epoch 20: 100%|██████████| 490/490 [00:03<00:00, 151.78batch/s, accuracy=95.7, loss=0.118]\n"
          ]
        },
        {
          "output_type": "stream",
          "name": "stdout",
          "text": [
            "accuracy=73.64285714285714, loss=0.7888692673132027\n"
          ]
        },
        {
          "output_type": "stream",
          "name": "stderr",
          "text": [
            "Epoch 21: 100%|██████████| 490/490 [00:03<00:00, 160.11batch/s, accuracy=96.2, loss=0.105]\n"
          ]
        },
        {
          "output_type": "stream",
          "name": "stdout",
          "text": [
            "accuracy=72.42857142857143, loss=0.8182404585035901\n"
          ]
        },
        {
          "output_type": "stream",
          "name": "stderr",
          "text": [
            "Epoch 22: 100%|██████████| 490/490 [00:02<00:00, 168.13batch/s, accuracy=96.5, loss=0.102]\n"
          ]
        },
        {
          "output_type": "stream",
          "name": "stdout",
          "text": [
            "accuracy=76.07142857142857, loss=0.6793132320952736\n"
          ]
        },
        {
          "output_type": "stream",
          "name": "stderr",
          "text": [
            "Epoch 23: 100%|██████████| 490/490 [00:03<00:00, 152.25batch/s, accuracy=96.7, loss=0.0968]\n"
          ]
        },
        {
          "output_type": "stream",
          "name": "stdout",
          "text": [
            "accuracy=72.57142857142857, loss=0.8491697338965593\n"
          ]
        },
        {
          "output_type": "stream",
          "name": "stderr",
          "text": [
            "Epoch 24: 100%|██████████| 490/490 [00:03<00:00, 154.30batch/s, accuracy=96.5, loss=0.0937]\n"
          ]
        },
        {
          "output_type": "stream",
          "name": "stdout",
          "text": [
            "accuracy=73.21428571428571, loss=0.7999558281702334\n"
          ]
        },
        {
          "output_type": "stream",
          "name": "stderr",
          "text": [
            "Epoch 25: 100%|██████████| 490/490 [00:03<00:00, 152.41batch/s, accuracy=97, loss=0.0864]\n"
          ]
        },
        {
          "output_type": "stream",
          "name": "stdout",
          "text": [
            "accuracy=70.71428571428571, loss=1.0038753576162902\n"
          ]
        },
        {
          "output_type": "stream",
          "name": "stderr",
          "text": [
            "Epoch 26: 100%|██████████| 490/490 [00:03<00:00, 153.19batch/s, accuracy=97.1, loss=0.083]\n"
          ]
        },
        {
          "output_type": "stream",
          "name": "stdout",
          "text": [
            "accuracy=73.07142857142857, loss=0.9291177511764934\n"
          ]
        },
        {
          "output_type": "stream",
          "name": "stderr",
          "text": [
            "Epoch 27: 100%|██████████| 490/490 [00:03<00:00, 157.15batch/s, accuracy=97, loss=0.0816]\n"
          ]
        },
        {
          "output_type": "stream",
          "name": "stdout",
          "text": [
            "accuracy=71.78571428571429, loss=0.9285886037416484\n"
          ]
        },
        {
          "output_type": "stream",
          "name": "stderr",
          "text": [
            "Epoch 28: 100%|██████████| 490/490 [00:03<00:00, 156.70batch/s, accuracy=97.3, loss=0.0772]\n"
          ]
        },
        {
          "output_type": "stream",
          "name": "stdout",
          "text": [
            "accuracy=73.57142857142857, loss=0.8397319238269412\n"
          ]
        },
        {
          "output_type": "stream",
          "name": "stderr",
          "text": [
            "Epoch 29: 100%|██████████| 490/490 [00:02<00:00, 166.79batch/s, accuracy=97.5, loss=0.0746]\n"
          ]
        },
        {
          "output_type": "stream",
          "name": "stdout",
          "text": [
            "accuracy=69.71428571428571, loss=1.0974864480487785\n"
          ]
        },
        {
          "output_type": "stream",
          "name": "stderr",
          "text": [
            "Epoch 30: 100%|██████████| 490/490 [00:03<00:00, 155.20batch/s, accuracy=97.6, loss=0.0721]\n"
          ]
        },
        {
          "output_type": "stream",
          "name": "stdout",
          "text": [
            "accuracy=70.28571428571429, loss=1.0904468107986265\n"
          ]
        },
        {
          "output_type": "stream",
          "name": "stderr",
          "text": [
            "Epoch 31: 100%|██████████| 490/490 [00:03<00:00, 154.34batch/s, accuracy=97.6, loss=0.0682]\n"
          ]
        },
        {
          "output_type": "stream",
          "name": "stdout",
          "text": [
            "accuracy=74.35714285714286, loss=0.829710376159305\n"
          ]
        },
        {
          "output_type": "stream",
          "name": "stderr",
          "text": [
            "Epoch 32: 100%|██████████| 490/490 [00:02<00:00, 166.38batch/s, accuracy=97.7, loss=0.0658]\n"
          ]
        },
        {
          "output_type": "stream",
          "name": "stdout",
          "text": [
            "accuracy=72.71428571428571, loss=0.9152907859771893\n"
          ]
        },
        {
          "output_type": "stream",
          "name": "stderr",
          "text": [
            "Epoch 33: 100%|██████████| 490/490 [00:03<00:00, 162.86batch/s, accuracy=97.7, loss=0.0627]\n"
          ]
        },
        {
          "output_type": "stream",
          "name": "stdout",
          "text": [
            "accuracy=71.5, loss=1.038753770695305\n"
          ]
        },
        {
          "output_type": "stream",
          "name": "stderr",
          "text": [
            "Epoch 34: 100%|██████████| 490/490 [00:03<00:00, 154.50batch/s, accuracy=97.7, loss=0.063]\n"
          ]
        },
        {
          "output_type": "stream",
          "name": "stdout",
          "text": [
            "accuracy=72.5, loss=0.9575587103056022\n"
          ]
        },
        {
          "output_type": "stream",
          "name": "stderr",
          "text": [
            "Epoch 35: 100%|██████████| 490/490 [00:03<00:00, 158.55batch/s, accuracy=97.9, loss=0.0584]\n"
          ]
        },
        {
          "output_type": "stream",
          "name": "stdout",
          "text": [
            "accuracy=73.0, loss=0.9559136322021718\n"
          ]
        },
        {
          "output_type": "stream",
          "name": "stderr",
          "text": [
            "Epoch 36: 100%|██████████| 490/490 [00:03<00:00, 155.77batch/s, accuracy=98.2, loss=0.0531]\n"
          ]
        },
        {
          "output_type": "stream",
          "name": "stdout",
          "text": [
            "accuracy=69.78571428571429, loss=1.082892473652531\n"
          ]
        },
        {
          "output_type": "stream",
          "name": "stderr",
          "text": [
            "Epoch 37: 100%|██████████| 490/490 [00:03<00:00, 151.39batch/s, accuracy=98.3, loss=0.0505]\n"
          ]
        },
        {
          "output_type": "stream",
          "name": "stdout",
          "text": [
            "accuracy=68.5, loss=1.2940566252690138\n"
          ]
        },
        {
          "output_type": "stream",
          "name": "stderr",
          "text": [
            "Epoch 38: 100%|██████████| 490/490 [00:03<00:00, 162.65batch/s, accuracy=98, loss=0.0544]\n"
          ]
        },
        {
          "output_type": "stream",
          "name": "stdout",
          "text": [
            "accuracy=68.42857142857143, loss=1.398361114170035\n"
          ]
        },
        {
          "output_type": "stream",
          "name": "stderr",
          "text": [
            "Epoch 39: 100%|██████████| 490/490 [00:03<00:00, 149.82batch/s, accuracy=98.4, loss=0.046]\n"
          ]
        },
        {
          "output_type": "stream",
          "name": "stdout",
          "text": [
            "accuracy=73.35714285714286, loss=1.0164972802977732\n"
          ]
        },
        {
          "output_type": "stream",
          "name": "stderr",
          "text": [
            "Epoch 40: 100%|██████████| 490/490 [00:03<00:00, 152.45batch/s, accuracy=98.2, loss=0.0488]\n"
          ]
        },
        {
          "output_type": "stream",
          "name": "stdout",
          "text": [
            "accuracy=72.78571428571429, loss=1.0145982062130312\n",
            "\n",
            "Test performance\n",
            "lang accuracy loss\n",
            "------------------\n",
            "  en     63.0  1.5\n",
            "  ch     85.0  0.5\n",
            "\n",
            "Begin training\n"
          ]
        },
        {
          "output_type": "stream",
          "name": "stderr",
          "text": [
            "Epoch 1: 100%|██████████| 490/490 [00:03<00:00, 149.96batch/s, accuracy=30.8, loss=1.38]\n"
          ]
        },
        {
          "output_type": "stream",
          "name": "stdout",
          "text": [
            "accuracy=62.07142857142857, loss=1.3249136487926756\n"
          ]
        },
        {
          "output_type": "stream",
          "name": "stderr",
          "text": [
            "Epoch 2: 100%|██████████| 490/490 [00:02<00:00, 169.15batch/s, accuracy=60.7, loss=0.934]\n"
          ]
        },
        {
          "output_type": "stream",
          "name": "stdout",
          "text": [
            "accuracy=76.42857142857143, loss=0.7235795454734139\n"
          ]
        },
        {
          "output_type": "stream",
          "name": "stderr",
          "text": [
            "Epoch 3: 100%|██████████| 490/490 [00:02<00:00, 167.80batch/s, accuracy=76.9, loss=0.593]\n"
          ]
        },
        {
          "output_type": "stream",
          "name": "stdout",
          "text": [
            "accuracy=76.64285714285714, loss=0.5998578583908134\n"
          ]
        },
        {
          "output_type": "stream",
          "name": "stderr",
          "text": [
            "Epoch 4: 100%|██████████| 490/490 [00:03<00:00, 154.14batch/s, accuracy=84.8, loss=0.414]\n"
          ]
        },
        {
          "output_type": "stream",
          "name": "stdout",
          "text": [
            "accuracy=73.14285714285714, loss=0.6204367611457461\n"
          ]
        },
        {
          "output_type": "stream",
          "name": "stderr",
          "text": [
            "Epoch 5: 100%|██████████| 490/490 [00:03<00:00, 161.45batch/s, accuracy=88, loss=0.329]\n"
          ]
        },
        {
          "output_type": "stream",
          "name": "stdout",
          "text": [
            "accuracy=73.85714285714286, loss=0.611181106935671\n"
          ]
        },
        {
          "output_type": "stream",
          "name": "stderr",
          "text": [
            "Epoch 6: 100%|██████████| 490/490 [00:03<00:00, 157.99batch/s, accuracy=89.7, loss=0.274]\n"
          ]
        },
        {
          "output_type": "stream",
          "name": "stdout",
          "text": [
            "accuracy=73.35714285714286, loss=0.6469766933399452\n"
          ]
        },
        {
          "output_type": "stream",
          "name": "stderr",
          "text": [
            "Epoch 7: 100%|██████████| 490/490 [00:02<00:00, 164.95batch/s, accuracy=90.6, loss=0.25]\n"
          ]
        },
        {
          "output_type": "stream",
          "name": "stdout",
          "text": [
            "accuracy=70.28571428571429, loss=0.7628560252180822\n"
          ]
        },
        {
          "output_type": "stream",
          "name": "stderr",
          "text": [
            "Epoch 8: 100%|██████████| 490/490 [00:02<00:00, 168.46batch/s, accuracy=91.8, loss=0.221]\n"
          ]
        },
        {
          "output_type": "stream",
          "name": "stdout",
          "text": [
            "accuracy=68.21428571428571, loss=0.8439120326782619\n"
          ]
        },
        {
          "output_type": "stream",
          "name": "stderr",
          "text": [
            "Epoch 9: 100%|██████████| 490/490 [00:03<00:00, 162.31batch/s, accuracy=92.5, loss=0.206]\n"
          ]
        },
        {
          "output_type": "stream",
          "name": "stdout",
          "text": [
            "accuracy=67.92857142857143, loss=0.8361118202201241\n"
          ]
        },
        {
          "output_type": "stream",
          "name": "stderr",
          "text": [
            "Epoch 10: 100%|██████████| 490/490 [00:03<00:00, 158.83batch/s, accuracy=93.2, loss=0.183]\n"
          ]
        },
        {
          "output_type": "stream",
          "name": "stdout",
          "text": [
            "accuracy=68.92857142857143, loss=0.8130474510723954\n"
          ]
        },
        {
          "output_type": "stream",
          "name": "stderr",
          "text": [
            "Epoch 11: 100%|██████████| 490/490 [00:02<00:00, 164.67batch/s, accuracy=93.4, loss=0.18]\n"
          ]
        },
        {
          "output_type": "stream",
          "name": "stdout",
          "text": [
            "accuracy=69.71428571428571, loss=0.8007291977658938\n"
          ]
        },
        {
          "output_type": "stream",
          "name": "stderr",
          "text": [
            "Epoch 12: 100%|██████████| 490/490 [00:03<00:00, 160.13batch/s, accuracy=94.1, loss=0.16]\n"
          ]
        },
        {
          "output_type": "stream",
          "name": "stdout",
          "text": [
            "accuracy=63.714285714285715, loss=1.0093282916214075\n"
          ]
        },
        {
          "output_type": "stream",
          "name": "stderr",
          "text": [
            "Epoch 13: 100%|██████████| 490/490 [00:03<00:00, 162.64batch/s, accuracy=94.2, loss=0.159]\n"
          ]
        },
        {
          "output_type": "stream",
          "name": "stdout",
          "text": [
            "accuracy=65.64285714285714, loss=0.9954120124587383\n"
          ]
        },
        {
          "output_type": "stream",
          "name": "stderr",
          "text": [
            "Epoch 14: 100%|██████████| 490/490 [00:02<00:00, 165.75batch/s, accuracy=94.9, loss=0.144]\n"
          ]
        },
        {
          "output_type": "stream",
          "name": "stdout",
          "text": [
            "accuracy=64.5, loss=0.9957095029892375\n"
          ]
        },
        {
          "output_type": "stream",
          "name": "stderr",
          "text": [
            "Epoch 15: 100%|██████████| 490/490 [00:03<00:00, 156.72batch/s, accuracy=95.3, loss=0.137]\n"
          ]
        },
        {
          "output_type": "stream",
          "name": "stdout",
          "text": [
            "accuracy=67.21428571428571, loss=0.9124440936133449\n"
          ]
        },
        {
          "output_type": "stream",
          "name": "stderr",
          "text": [
            "Epoch 16: 100%|██████████| 490/490 [00:02<00:00, 171.88batch/s, accuracy=95.7, loss=0.126]\n"
          ]
        },
        {
          "output_type": "stream",
          "name": "stdout",
          "text": [
            "accuracy=63.0, loss=1.1147253191897315\n"
          ]
        },
        {
          "output_type": "stream",
          "name": "stderr",
          "text": [
            "Epoch 17: 100%|██████████| 490/490 [00:03<00:00, 152.53batch/s, accuracy=95.5, loss=0.122]\n"
          ]
        },
        {
          "output_type": "stream",
          "name": "stdout",
          "text": [
            "accuracy=65.21428571428571, loss=1.086636316407634\n"
          ]
        },
        {
          "output_type": "stream",
          "name": "stderr",
          "text": [
            "Epoch 18: 100%|██████████| 490/490 [00:02<00:00, 167.51batch/s, accuracy=96.1, loss=0.114]\n"
          ]
        },
        {
          "output_type": "stream",
          "name": "stdout",
          "text": [
            "accuracy=63.0, loss=1.0919402996293333\n"
          ]
        },
        {
          "output_type": "stream",
          "name": "stderr",
          "text": [
            "Epoch 19: 100%|██████████| 490/490 [00:02<00:00, 168.65batch/s, accuracy=95.9, loss=0.112]\n"
          ]
        },
        {
          "output_type": "stream",
          "name": "stdout",
          "text": [
            "accuracy=61.714285714285715, loss=1.2121449657760053\n"
          ]
        },
        {
          "output_type": "stream",
          "name": "stderr",
          "text": [
            "Epoch 20: 100%|██████████| 490/490 [00:03<00:00, 159.07batch/s, accuracy=96.4, loss=0.0999]\n"
          ]
        },
        {
          "output_type": "stream",
          "name": "stdout",
          "text": [
            "accuracy=64.07142857142857, loss=1.1771375069360537\n"
          ]
        },
        {
          "output_type": "stream",
          "name": "stderr",
          "text": [
            "Epoch 21: 100%|██████████| 490/490 [00:03<00:00, 156.06batch/s, accuracy=96.4, loss=0.0975]\n"
          ]
        },
        {
          "output_type": "stream",
          "name": "stdout",
          "text": [
            "accuracy=62.285714285714285, loss=1.2044012042794683\n"
          ]
        },
        {
          "output_type": "stream",
          "name": "stderr",
          "text": [
            "Epoch 22: 100%|██████████| 490/490 [00:03<00:00, 156.17batch/s, accuracy=96.5, loss=0.0995]\n"
          ]
        },
        {
          "output_type": "stream",
          "name": "stdout",
          "text": [
            "accuracy=65.78571428571429, loss=1.0212511711894032\n"
          ]
        },
        {
          "output_type": "stream",
          "name": "stderr",
          "text": [
            "Epoch 23: 100%|██████████| 490/490 [00:03<00:00, 150.60batch/s, accuracy=96.6, loss=0.0938]\n"
          ]
        },
        {
          "output_type": "stream",
          "name": "stdout",
          "text": [
            "accuracy=62.785714285714285, loss=1.1740627948671902\n"
          ]
        },
        {
          "output_type": "stream",
          "name": "stderr",
          "text": [
            "Epoch 24: 100%|██████████| 490/490 [00:03<00:00, 162.20batch/s, accuracy=97, loss=0.0855]\n"
          ]
        },
        {
          "output_type": "stream",
          "name": "stdout",
          "text": [
            "accuracy=61.857142857142854, loss=1.2020710224819302\n"
          ]
        },
        {
          "output_type": "stream",
          "name": "stderr",
          "text": [
            "Epoch 25: 100%|██████████| 490/490 [00:02<00:00, 165.26batch/s, accuracy=97.3, loss=0.0755]\n"
          ]
        },
        {
          "output_type": "stream",
          "name": "stdout",
          "text": [
            "accuracy=60.857142857142854, loss=1.3497191232754047\n"
          ]
        },
        {
          "output_type": "stream",
          "name": "stderr",
          "text": [
            "Epoch 26: 100%|██████████| 490/490 [00:03<00:00, 160.85batch/s, accuracy=97.4, loss=0.0761]\n"
          ]
        },
        {
          "output_type": "stream",
          "name": "stdout",
          "text": [
            "accuracy=58.642857142857146, loss=1.4717339661861157\n"
          ]
        },
        {
          "output_type": "stream",
          "name": "stderr",
          "text": [
            "Epoch 27: 100%|██████████| 490/490 [00:02<00:00, 171.17batch/s, accuracy=97.3, loss=0.0714]\n"
          ]
        },
        {
          "output_type": "stream",
          "name": "stdout",
          "text": [
            "accuracy=61.357142857142854, loss=1.4503505127859804\n"
          ]
        },
        {
          "output_type": "stream",
          "name": "stderr",
          "text": [
            "Epoch 28: 100%|██████████| 490/490 [00:02<00:00, 167.88batch/s, accuracy=97.2, loss=0.0758]\n"
          ]
        },
        {
          "output_type": "stream",
          "name": "stdout",
          "text": [
            "accuracy=57.42857142857143, loss=1.5083526295072767\n"
          ]
        },
        {
          "output_type": "stream",
          "name": "stderr",
          "text": [
            "Epoch 29: 100%|██████████| 490/490 [00:03<00:00, 152.70batch/s, accuracy=97.6, loss=0.0661]\n"
          ]
        },
        {
          "output_type": "stream",
          "name": "stdout",
          "text": [
            "accuracy=57.07142857142857, loss=1.6073850359289343\n"
          ]
        },
        {
          "output_type": "stream",
          "name": "stderr",
          "text": [
            "Epoch 30: 100%|██████████| 490/490 [00:02<00:00, 164.03batch/s, accuracy=97.6, loss=0.069]\n"
          ]
        },
        {
          "output_type": "stream",
          "name": "stdout",
          "text": [
            "accuracy=61.642857142857146, loss=1.3599549559835298\n"
          ]
        },
        {
          "output_type": "stream",
          "name": "stderr",
          "text": [
            "Epoch 31: 100%|██████████| 490/490 [00:02<00:00, 167.94batch/s, accuracy=98, loss=0.0552]\n"
          ]
        },
        {
          "output_type": "stream",
          "name": "stdout",
          "text": [
            "accuracy=56.42857142857143, loss=1.7550216359977542\n"
          ]
        },
        {
          "output_type": "stream",
          "name": "stderr",
          "text": [
            "Epoch 32: 100%|██████████| 490/490 [00:03<00:00, 156.49batch/s, accuracy=98, loss=0.0576]\n"
          ]
        },
        {
          "output_type": "stream",
          "name": "stdout",
          "text": [
            "accuracy=61.214285714285715, loss=1.54503575453187\n"
          ]
        },
        {
          "output_type": "stream",
          "name": "stderr",
          "text": [
            "Epoch 33: 100%|██████████| 490/490 [00:02<00:00, 166.37batch/s, accuracy=97.9, loss=0.0549]\n"
          ]
        },
        {
          "output_type": "stream",
          "name": "stdout",
          "text": [
            "accuracy=59.5, loss=1.5221410689736603\n"
          ]
        },
        {
          "output_type": "stream",
          "name": "stderr",
          "text": [
            "Epoch 34: 100%|██████████| 490/490 [00:02<00:00, 165.49batch/s, accuracy=98.2, loss=0.053]\n"
          ]
        },
        {
          "output_type": "stream",
          "name": "stdout",
          "text": [
            "accuracy=57.642857142857146, loss=1.6816101244591684\n"
          ]
        },
        {
          "output_type": "stream",
          "name": "stderr",
          "text": [
            "Epoch 35: 100%|██████████| 490/490 [00:03<00:00, 162.37batch/s, accuracy=98, loss=0.0568]\n"
          ]
        },
        {
          "output_type": "stream",
          "name": "stdout",
          "text": [
            "accuracy=58.42857142857143, loss=1.583636332876328\n"
          ]
        },
        {
          "output_type": "stream",
          "name": "stderr",
          "text": [
            "Epoch 36: 100%|██████████| 490/490 [00:02<00:00, 172.69batch/s, accuracy=98.2, loss=0.0505]\n"
          ]
        },
        {
          "output_type": "stream",
          "name": "stdout",
          "text": [
            "accuracy=59.857142857142854, loss=1.521893209891467\n"
          ]
        },
        {
          "output_type": "stream",
          "name": "stderr",
          "text": [
            "Epoch 37: 100%|██████████| 490/490 [00:02<00:00, 167.62batch/s, accuracy=98.2, loss=0.0492]\n"
          ]
        },
        {
          "output_type": "stream",
          "name": "stdout",
          "text": [
            "accuracy=58.357142857142854, loss=1.6393653351452115\n"
          ]
        },
        {
          "output_type": "stream",
          "name": "stderr",
          "text": [
            "Epoch 38: 100%|██████████| 490/490 [00:03<00:00, 158.12batch/s, accuracy=98.5, loss=0.0456]\n"
          ]
        },
        {
          "output_type": "stream",
          "name": "stdout",
          "text": [
            "accuracy=57.5, loss=1.834394583341528\n"
          ]
        },
        {
          "output_type": "stream",
          "name": "stderr",
          "text": [
            "Epoch 39: 100%|██████████| 490/490 [00:03<00:00, 147.83batch/s, accuracy=98.3, loss=0.0455]\n"
          ]
        },
        {
          "output_type": "stream",
          "name": "stdout",
          "text": [
            "accuracy=59.357142857142854, loss=1.6764136591380874\n"
          ]
        },
        {
          "output_type": "stream",
          "name": "stderr",
          "text": [
            "Epoch 40: 100%|██████████| 490/490 [00:03<00:00, 152.95batch/s, accuracy=98.3, loss=0.0479]\n"
          ]
        },
        {
          "output_type": "stream",
          "name": "stdout",
          "text": [
            "accuracy=56.92857142857143, loss=1.7695332314712866\n",
            "\n",
            "Test performance\n",
            "lang accuracy loss\n",
            "------------------\n",
            "  en     63.8  1.4\n",
            "  ch     76.4  0.8\n",
            "\n",
            "\n",
            "\n",
            "Trained on en ch TitaNet voiceprints\n",
            "Average test performance over 4 iteration(s)\n",
            "lang accuracy loss\n",
            "------------------\n",
            "  en     62.7  1.5\n",
            "  ch     82.1  0.6\n",
            "\n",
            "Running the script took 00:09:02\n"
          ]
        }
      ]
    },
    {
      "cell_type": "code",
      "source": [
        "if __name__ == \"__main__\":\n",
        "  start = time.time()\n",
        "\n",
        "  langs = [\"en\"]\n",
        "\n",
        "  pipeline = ModelDataPipeline(epochs=epochs,\n",
        "                               learning_rate=learning_rate,\n",
        "                               langs=langs,\n",
        "                               proportion=proportion)\n",
        "  \n",
        "  pipeline.run_per_split()\n",
        "\n",
        "  end = time.time()\n",
        "\n",
        "  print(f\"\\nRunning the script took {running_time(start, end)}\")"
      ],
      "metadata": {
        "colab": {
          "base_uri": "https://localhost:8080/"
        },
        "id": "vIK-d2P71BQ4",
        "outputId": "dceacc9c-6c68-4909-b944-8cf38930804c"
      },
      "execution_count": null,
      "outputs": [
        {
          "output_type": "stream",
          "name": "stdout",
          "text": [
            "Setting up epochs: 40\n",
            "\tlearning rate: 5e-05\n",
            "\tlangs: en\n",
            "Getting 100% of samples\n",
            "Processing 100% of samples took 00:00:04\n",
            "Getting 100% of samples\n",
            "Processing 100% of samples took 00:00:03\n",
            "Getting 100% of samples\n",
            "Processing 100% of samples took 00:00:03\n",
            "Getting 100% of samples\n",
            "Processing 100% of samples took 00:00:02\n",
            "Begin training\n"
          ]
        },
        {
          "output_type": "stream",
          "name": "stderr",
          "text": [
            "Epoch 1: 100%|██████████| 490/490 [00:03<00:00, 158.87batch/s, accuracy=32, loss=1.38]\n"
          ]
        },
        {
          "output_type": "stream",
          "name": "stdout",
          "text": [
            "accuracy=51.142857142857146, loss=1.335924832054547\n"
          ]
        },
        {
          "output_type": "stream",
          "name": "stderr",
          "text": [
            "Epoch 2: 100%|██████████| 490/490 [00:03<00:00, 161.19batch/s, accuracy=59.4, loss=0.954]\n"
          ]
        },
        {
          "output_type": "stream",
          "name": "stdout",
          "text": [
            "accuracy=54.857142857142854, loss=0.9165385457447597\n"
          ]
        },
        {
          "output_type": "stream",
          "name": "stderr",
          "text": [
            "Epoch 3: 100%|██████████| 490/490 [00:03<00:00, 161.61batch/s, accuracy=74.9, loss=0.636]\n"
          ]
        },
        {
          "output_type": "stream",
          "name": "stdout",
          "text": [
            "accuracy=54.857142857142854, loss=0.9070217375763293\n"
          ]
        },
        {
          "output_type": "stream",
          "name": "stderr",
          "text": [
            "Epoch 4: 100%|██████████| 490/490 [00:03<00:00, 159.17batch/s, accuracy=84.5, loss=0.432]\n"
          ]
        },
        {
          "output_type": "stream",
          "name": "stdout",
          "text": [
            "accuracy=49.57142857142857, loss=1.0982170863256657\n"
          ]
        },
        {
          "output_type": "stream",
          "name": "stderr",
          "text": [
            "Epoch 5: 100%|██████████| 490/490 [00:03<00:00, 160.88batch/s, accuracy=88.3, loss=0.325]\n"
          ]
        },
        {
          "output_type": "stream",
          "name": "stdout",
          "text": [
            "accuracy=53.285714285714285, loss=1.055895786876125\n"
          ]
        },
        {
          "output_type": "stream",
          "name": "stderr",
          "text": [
            "Epoch 6: 100%|██████████| 490/490 [00:03<00:00, 153.68batch/s, accuracy=90, loss=0.273]\n"
          ]
        },
        {
          "output_type": "stream",
          "name": "stdout",
          "text": [
            "accuracy=55.785714285714285, loss=1.0279672125088317\n"
          ]
        },
        {
          "output_type": "stream",
          "name": "stderr",
          "text": [
            "Epoch 7: 100%|██████████| 490/490 [00:03<00:00, 156.97batch/s, accuracy=91.2, loss=0.243]\n"
          ]
        },
        {
          "output_type": "stream",
          "name": "stdout",
          "text": [
            "accuracy=59.07142857142857, loss=1.0046622207411564\n"
          ]
        },
        {
          "output_type": "stream",
          "name": "stderr",
          "text": [
            "Epoch 8: 100%|██████████| 490/490 [00:03<00:00, 159.23batch/s, accuracy=92, loss=0.217]\n"
          ]
        },
        {
          "output_type": "stream",
          "name": "stdout",
          "text": [
            "accuracy=62.285714285714285, loss=0.9609194970859348\n"
          ]
        },
        {
          "output_type": "stream",
          "name": "stderr",
          "text": [
            "Epoch 9: 100%|██████████| 490/490 [00:03<00:00, 163.16batch/s, accuracy=93, loss=0.197]\n"
          ]
        },
        {
          "output_type": "stream",
          "name": "stdout",
          "text": [
            "accuracy=60.357142857142854, loss=1.0433588758364618\n"
          ]
        },
        {
          "output_type": "stream",
          "name": "stderr",
          "text": [
            "Epoch 10: 100%|██████████| 490/490 [00:03<00:00, 160.45batch/s, accuracy=93.8, loss=0.178]\n"
          ]
        },
        {
          "output_type": "stream",
          "name": "stdout",
          "text": [
            "accuracy=60.357142857142854, loss=1.1050228335329197\n"
          ]
        },
        {
          "output_type": "stream",
          "name": "stderr",
          "text": [
            "Epoch 11: 100%|██████████| 490/490 [00:03<00:00, 158.06batch/s, accuracy=93.9, loss=0.165]\n"
          ]
        },
        {
          "output_type": "stream",
          "name": "stdout",
          "text": [
            "accuracy=59.285714285714285, loss=1.1807663895673717\n"
          ]
        },
        {
          "output_type": "stream",
          "name": "stderr",
          "text": [
            "Epoch 12: 100%|██████████| 490/490 [00:03<00:00, 155.95batch/s, accuracy=94.7, loss=0.15]\n"
          ]
        },
        {
          "output_type": "stream",
          "name": "stdout",
          "text": [
            "accuracy=59.92857142857143, loss=1.165576859264672\n"
          ]
        },
        {
          "output_type": "stream",
          "name": "stderr",
          "text": [
            "Epoch 13: 100%|██████████| 490/490 [00:03<00:00, 160.00batch/s, accuracy=94.8, loss=0.144]\n"
          ]
        },
        {
          "output_type": "stream",
          "name": "stdout",
          "text": [
            "accuracy=60.0, loss=1.1890328733015798\n"
          ]
        },
        {
          "output_type": "stream",
          "name": "stderr",
          "text": [
            "Epoch 14: 100%|██████████| 490/490 [00:03<00:00, 157.74batch/s, accuracy=95.2, loss=0.136]\n"
          ]
        },
        {
          "output_type": "stream",
          "name": "stdout",
          "text": [
            "accuracy=59.0, loss=1.2829453915743008\n"
          ]
        },
        {
          "output_type": "stream",
          "name": "stderr",
          "text": [
            "Epoch 15: 100%|██████████| 490/490 [00:03<00:00, 154.32batch/s, accuracy=95.4, loss=0.125]\n"
          ]
        },
        {
          "output_type": "stream",
          "name": "stdout",
          "text": [
            "accuracy=60.57142857142857, loss=1.2250027397968473\n"
          ]
        },
        {
          "output_type": "stream",
          "name": "stderr",
          "text": [
            "Epoch 16: 100%|██████████| 490/490 [00:03<00:00, 162.61batch/s, accuracy=95.9, loss=0.12]\n"
          ]
        },
        {
          "output_type": "stream",
          "name": "stdout",
          "text": [
            "accuracy=58.642857142857146, loss=1.3685734575975947\n"
          ]
        },
        {
          "output_type": "stream",
          "name": "stderr",
          "text": [
            "Epoch 17: 100%|██████████| 490/490 [00:02<00:00, 167.75batch/s, accuracy=95.7, loss=0.118]\n"
          ]
        },
        {
          "output_type": "stream",
          "name": "stdout",
          "text": [
            "accuracy=57.92857142857143, loss=1.4102828202051438\n"
          ]
        },
        {
          "output_type": "stream",
          "name": "stderr",
          "text": [
            "Epoch 18: 100%|██████████| 490/490 [00:03<00:00, 161.35batch/s, accuracy=96.3, loss=0.105]\n"
          ]
        },
        {
          "output_type": "stream",
          "name": "stdout",
          "text": [
            "accuracy=61.214285714285715, loss=1.219566909015401\n"
          ]
        },
        {
          "output_type": "stream",
          "name": "stderr",
          "text": [
            "Epoch 19: 100%|██████████| 490/490 [00:03<00:00, 157.01batch/s, accuracy=96.3, loss=0.102]\n"
          ]
        },
        {
          "output_type": "stream",
          "name": "stdout",
          "text": [
            "accuracy=59.142857142857146, loss=1.38288208454535\n"
          ]
        },
        {
          "output_type": "stream",
          "name": "stderr",
          "text": [
            "Epoch 20: 100%|██████████| 490/490 [00:03<00:00, 158.70batch/s, accuracy=96.8, loss=0.0965]\n"
          ]
        },
        {
          "output_type": "stream",
          "name": "stdout",
          "text": [
            "accuracy=59.57142857142857, loss=1.3833436541808624\n"
          ]
        },
        {
          "output_type": "stream",
          "name": "stderr",
          "text": [
            "Epoch 21: 100%|██████████| 490/490 [00:03<00:00, 157.43batch/s, accuracy=96.7, loss=0.0912]\n"
          ]
        },
        {
          "output_type": "stream",
          "name": "stdout",
          "text": [
            "accuracy=58.642857142857146, loss=1.5114717419748507\n"
          ]
        },
        {
          "output_type": "stream",
          "name": "stderr",
          "text": [
            "Epoch 22: 100%|██████████| 490/490 [00:03<00:00, 160.86batch/s, accuracy=96.9, loss=0.0864]\n"
          ]
        },
        {
          "output_type": "stream",
          "name": "stdout",
          "text": [
            "accuracy=59.0, loss=1.481278313658204\n"
          ]
        },
        {
          "output_type": "stream",
          "name": "stderr",
          "text": [
            "Epoch 23: 100%|██████████| 490/490 [00:03<00:00, 153.62batch/s, accuracy=96.9, loss=0.0854]\n"
          ]
        },
        {
          "output_type": "stream",
          "name": "stdout",
          "text": [
            "accuracy=58.642857142857146, loss=1.4832112698397981\n"
          ]
        },
        {
          "output_type": "stream",
          "name": "stderr",
          "text": [
            "Epoch 24: 100%|██████████| 490/490 [00:03<00:00, 157.82batch/s, accuracy=97.3, loss=0.0743]\n"
          ]
        },
        {
          "output_type": "stream",
          "name": "stdout",
          "text": [
            "accuracy=56.07142857142857, loss=1.7726995122974052\n"
          ]
        },
        {
          "output_type": "stream",
          "name": "stderr",
          "text": [
            "Epoch 25: 100%|██████████| 490/490 [00:03<00:00, 155.43batch/s, accuracy=97.6, loss=0.0693]\n"
          ]
        },
        {
          "output_type": "stream",
          "name": "stdout",
          "text": [
            "accuracy=55.92857142857143, loss=1.8253793225090444\n"
          ]
        },
        {
          "output_type": "stream",
          "name": "stderr",
          "text": [
            "Epoch 26: 100%|██████████| 490/490 [00:03<00:00, 158.24batch/s, accuracy=97.6, loss=0.0669]\n"
          ]
        },
        {
          "output_type": "stream",
          "name": "stdout",
          "text": [
            "accuracy=58.714285714285715, loss=1.6721261592959074\n"
          ]
        },
        {
          "output_type": "stream",
          "name": "stderr",
          "text": [
            "Epoch 27: 100%|██████████| 490/490 [00:03<00:00, 151.82batch/s, accuracy=97.8, loss=0.0634]\n"
          ]
        },
        {
          "output_type": "stream",
          "name": "stdout",
          "text": [
            "accuracy=56.785714285714285, loss=1.8538508948141341\n"
          ]
        },
        {
          "output_type": "stream",
          "name": "stderr",
          "text": [
            "Epoch 28: 100%|██████████| 490/490 [00:03<00:00, 153.22batch/s, accuracy=97.9, loss=0.0611]\n"
          ]
        },
        {
          "output_type": "stream",
          "name": "stdout",
          "text": [
            "accuracy=56.07142857142857, loss=1.916479385477784\n"
          ]
        },
        {
          "output_type": "stream",
          "name": "stderr",
          "text": [
            "Epoch 29: 100%|██████████| 490/490 [00:03<00:00, 158.70batch/s, accuracy=97.9, loss=0.0594]\n"
          ]
        },
        {
          "output_type": "stream",
          "name": "stdout",
          "text": [
            "accuracy=58.142857142857146, loss=1.7067086377894858\n"
          ]
        },
        {
          "output_type": "stream",
          "name": "stderr",
          "text": [
            "Epoch 30: 100%|██████████| 490/490 [00:03<00:00, 156.20batch/s, accuracy=98, loss=0.0562]\n"
          ]
        },
        {
          "output_type": "stream",
          "name": "stdout",
          "text": [
            "accuracy=58.214285714285715, loss=1.7540774299607236\n"
          ]
        },
        {
          "output_type": "stream",
          "name": "stderr",
          "text": [
            "Epoch 31: 100%|██████████| 490/490 [00:03<00:00, 155.01batch/s, accuracy=97.9, loss=0.0531]\n"
          ]
        },
        {
          "output_type": "stream",
          "name": "stdout",
          "text": [
            "accuracy=56.142857142857146, loss=1.9557479656744927\n"
          ]
        },
        {
          "output_type": "stream",
          "name": "stderr",
          "text": [
            "Epoch 32: 100%|██████████| 490/490 [00:02<00:00, 168.86batch/s, accuracy=98.1, loss=0.0518]\n"
          ]
        },
        {
          "output_type": "stream",
          "name": "stdout",
          "text": [
            "accuracy=58.357142857142854, loss=1.8643691627060042\n"
          ]
        },
        {
          "output_type": "stream",
          "name": "stderr",
          "text": [
            "Epoch 33: 100%|██████████| 490/490 [00:02<00:00, 170.67batch/s, accuracy=98.4, loss=0.0501]\n"
          ]
        },
        {
          "output_type": "stream",
          "name": "stdout",
          "text": [
            "accuracy=56.57142857142857, loss=2.043409681561504\n"
          ]
        },
        {
          "output_type": "stream",
          "name": "stderr",
          "text": [
            "Epoch 34: 100%|██████████| 490/490 [00:03<00:00, 156.45batch/s, accuracy=98.4, loss=0.0452]\n"
          ]
        },
        {
          "output_type": "stream",
          "name": "stdout",
          "text": [
            "accuracy=58.5, loss=1.9152280611615875\n"
          ]
        },
        {
          "output_type": "stream",
          "name": "stderr",
          "text": [
            "Epoch 35: 100%|██████████| 490/490 [00:03<00:00, 157.76batch/s, accuracy=98.5, loss=0.0442]\n"
          ]
        },
        {
          "output_type": "stream",
          "name": "stdout",
          "text": [
            "accuracy=59.285714285714285, loss=1.8378744995276286\n"
          ]
        },
        {
          "output_type": "stream",
          "name": "stderr",
          "text": [
            "Epoch 36: 100%|██████████| 490/490 [00:03<00:00, 156.38batch/s, accuracy=98.4, loss=0.0436]\n"
          ]
        },
        {
          "output_type": "stream",
          "name": "stdout",
          "text": [
            "accuracy=59.07142857142857, loss=1.8648678079151133\n"
          ]
        },
        {
          "output_type": "stream",
          "name": "stderr",
          "text": [
            "Epoch 37: 100%|██████████| 490/490 [00:03<00:00, 159.41batch/s, accuracy=98.7, loss=0.0386]\n"
          ]
        },
        {
          "output_type": "stream",
          "name": "stdout",
          "text": [
            "accuracy=57.42857142857143, loss=2.1441512648665384\n"
          ]
        },
        {
          "output_type": "stream",
          "name": "stderr",
          "text": [
            "Epoch 38: 100%|██████████| 490/490 [00:03<00:00, 161.60batch/s, accuracy=98.9, loss=0.0334]\n"
          ]
        },
        {
          "output_type": "stream",
          "name": "stdout",
          "text": [
            "accuracy=57.857142857142854, loss=2.030186819702729\n"
          ]
        },
        {
          "output_type": "stream",
          "name": "stderr",
          "text": [
            "Epoch 39: 100%|██████████| 490/490 [00:02<00:00, 168.40batch/s, accuracy=98.7, loss=0.035]\n"
          ]
        },
        {
          "output_type": "stream",
          "name": "stdout",
          "text": [
            "accuracy=57.857142857142854, loss=2.0862174998737246\n"
          ]
        },
        {
          "output_type": "stream",
          "name": "stderr",
          "text": [
            "Epoch 40: 100%|██████████| 490/490 [00:03<00:00, 154.41batch/s, accuracy=98.8, loss=0.0336]\n"
          ]
        },
        {
          "output_type": "stream",
          "name": "stdout",
          "text": [
            "accuracy=57.785714285714285, loss=2.2756990721992727\n",
            "\n",
            "Test performance\n",
            "lang accuracy loss\n",
            "------------------\n",
            "  en     60.9  1.7\n",
            "  ch     57.3  2.4\n",
            "\n",
            "Begin training\n"
          ]
        },
        {
          "output_type": "stream",
          "name": "stderr",
          "text": [
            "Epoch 1: 100%|██████████| 490/490 [00:03<00:00, 155.78batch/s, accuracy=32.8, loss=1.38]\n"
          ]
        },
        {
          "output_type": "stream",
          "name": "stdout",
          "text": [
            "accuracy=41.642857142857146, loss=1.3195660757166998\n"
          ]
        },
        {
          "output_type": "stream",
          "name": "stderr",
          "text": [
            "Epoch 2: 100%|██████████| 490/490 [00:03<00:00, 159.77batch/s, accuracy=61.5, loss=0.911]\n"
          ]
        },
        {
          "output_type": "stream",
          "name": "stdout",
          "text": [
            "accuracy=45.0, loss=1.2191863809472747\n"
          ]
        },
        {
          "output_type": "stream",
          "name": "stderr",
          "text": [
            "Epoch 3: 100%|██████████| 490/490 [00:03<00:00, 158.53batch/s, accuracy=76.1, loss=0.602]\n"
          ]
        },
        {
          "output_type": "stream",
          "name": "stdout",
          "text": [
            "accuracy=44.357142857142854, loss=1.4798147184987154\n"
          ]
        },
        {
          "output_type": "stream",
          "name": "stderr",
          "text": [
            "Epoch 4: 100%|██████████| 490/490 [00:03<00:00, 160.27batch/s, accuracy=84.7, loss=0.416]\n"
          ]
        },
        {
          "output_type": "stream",
          "name": "stdout",
          "text": [
            "accuracy=55.642857142857146, loss=1.3357529083180375\n"
          ]
        },
        {
          "output_type": "stream",
          "name": "stderr",
          "text": [
            "Epoch 5: 100%|██████████| 490/490 [00:03<00:00, 154.82batch/s, accuracy=88.3, loss=0.317]\n"
          ]
        },
        {
          "output_type": "stream",
          "name": "stdout",
          "text": [
            "accuracy=54.285714285714285, loss=1.4674122805409466\n"
          ]
        },
        {
          "output_type": "stream",
          "name": "stderr",
          "text": [
            "Epoch 6: 100%|██████████| 490/490 [00:03<00:00, 156.12batch/s, accuracy=90.3, loss=0.266]\n"
          ]
        },
        {
          "output_type": "stream",
          "name": "stdout",
          "text": [
            "accuracy=57.92857142857143, loss=1.3628180766350955\n"
          ]
        },
        {
          "output_type": "stream",
          "name": "stderr",
          "text": [
            "Epoch 7: 100%|██████████| 490/490 [00:03<00:00, 153.16batch/s, accuracy=91.5, loss=0.231]\n"
          ]
        },
        {
          "output_type": "stream",
          "name": "stdout",
          "text": [
            "accuracy=57.92857142857143, loss=1.4684683051558594\n"
          ]
        },
        {
          "output_type": "stream",
          "name": "stderr",
          "text": [
            "Epoch 8: 100%|██████████| 490/490 [00:02<00:00, 169.30batch/s, accuracy=92.9, loss=0.202]\n"
          ]
        },
        {
          "output_type": "stream",
          "name": "stdout",
          "text": [
            "accuracy=60.42857142857143, loss=1.4124416021793564\n"
          ]
        },
        {
          "output_type": "stream",
          "name": "stderr",
          "text": [
            "Epoch 9: 100%|██████████| 490/490 [00:02<00:00, 171.16batch/s, accuracy=93.2, loss=0.19]\n"
          ]
        },
        {
          "output_type": "stream",
          "name": "stdout",
          "text": [
            "accuracy=60.357142857142854, loss=1.4654161561428711\n"
          ]
        },
        {
          "output_type": "stream",
          "name": "stderr",
          "text": [
            "Epoch 10: 100%|██████████| 490/490 [00:03<00:00, 162.74batch/s, accuracy=94.1, loss=0.169]\n"
          ]
        },
        {
          "output_type": "stream",
          "name": "stdout",
          "text": [
            "accuracy=63.57142857142857, loss=1.4034927623087996\n"
          ]
        },
        {
          "output_type": "stream",
          "name": "stderr",
          "text": [
            "Epoch 11: 100%|██████████| 490/490 [00:03<00:00, 156.54batch/s, accuracy=94.4, loss=0.158]\n"
          ]
        },
        {
          "output_type": "stream",
          "name": "stdout",
          "text": [
            "accuracy=61.357142857142854, loss=1.5367489152481772\n"
          ]
        },
        {
          "output_type": "stream",
          "name": "stderr",
          "text": [
            "Epoch 12: 100%|██████████| 490/490 [00:03<00:00, 155.69batch/s, accuracy=95.1, loss=0.139]\n"
          ]
        },
        {
          "output_type": "stream",
          "name": "stdout",
          "text": [
            "accuracy=64.35714285714286, loss=1.3665448253524066\n"
          ]
        },
        {
          "output_type": "stream",
          "name": "stderr",
          "text": [
            "Epoch 13: 100%|██████████| 490/490 [00:03<00:00, 155.45batch/s, accuracy=95.2, loss=0.135]\n"
          ]
        },
        {
          "output_type": "stream",
          "name": "stdout",
          "text": [
            "accuracy=62.142857142857146, loss=1.4700578128182626\n"
          ]
        },
        {
          "output_type": "stream",
          "name": "stderr",
          "text": [
            "Epoch 14: 100%|██████████| 490/490 [00:03<00:00, 161.36batch/s, accuracy=95.5, loss=0.127]\n"
          ]
        },
        {
          "output_type": "stream",
          "name": "stdout",
          "text": [
            "accuracy=63.642857142857146, loss=1.4499935285509478\n"
          ]
        },
        {
          "output_type": "stream",
          "name": "stderr",
          "text": [
            "Epoch 15: 100%|██████████| 490/490 [00:02<00:00, 168.44batch/s, accuracy=95.9, loss=0.112]\n"
          ]
        },
        {
          "output_type": "stream",
          "name": "stdout",
          "text": [
            "accuracy=61.92857142857143, loss=1.6161287619563038\n"
          ]
        },
        {
          "output_type": "stream",
          "name": "stderr",
          "text": [
            "Epoch 16: 100%|██████████| 490/490 [00:03<00:00, 155.04batch/s, accuracy=96.1, loss=0.108]\n"
          ]
        },
        {
          "output_type": "stream",
          "name": "stdout",
          "text": [
            "accuracy=61.92857142857143, loss=1.654325401467843\n"
          ]
        },
        {
          "output_type": "stream",
          "name": "stderr",
          "text": [
            "Epoch 17: 100%|██████████| 490/490 [00:03<00:00, 158.78batch/s, accuracy=96.4, loss=0.0997]\n"
          ]
        },
        {
          "output_type": "stream",
          "name": "stdout",
          "text": [
            "accuracy=62.357142857142854, loss=1.6491581954916534\n"
          ]
        },
        {
          "output_type": "stream",
          "name": "stderr",
          "text": [
            "Epoch 18: 100%|██████████| 490/490 [00:03<00:00, 154.47batch/s, accuracy=96.5, loss=0.1]\n"
          ]
        },
        {
          "output_type": "stream",
          "name": "stdout",
          "text": [
            "accuracy=63.357142857142854, loss=1.6110217100114823\n"
          ]
        },
        {
          "output_type": "stream",
          "name": "stderr",
          "text": [
            "Epoch 19: 100%|██████████| 490/490 [00:02<00:00, 165.38batch/s, accuracy=96.9, loss=0.0858]\n"
          ]
        },
        {
          "output_type": "stream",
          "name": "stdout",
          "text": [
            "accuracy=63.07142857142857, loss=1.702519686595237\n"
          ]
        },
        {
          "output_type": "stream",
          "name": "stderr",
          "text": [
            "Epoch 20: 100%|██████████| 490/490 [00:03<00:00, 159.72batch/s, accuracy=96.9, loss=0.0899]\n"
          ]
        },
        {
          "output_type": "stream",
          "name": "stdout",
          "text": [
            "accuracy=63.5, loss=1.6551435209317964\n"
          ]
        },
        {
          "output_type": "stream",
          "name": "stderr",
          "text": [
            "Epoch 21: 100%|██████████| 490/490 [00:03<00:00, 157.58batch/s, accuracy=97, loss=0.0844]\n"
          ]
        },
        {
          "output_type": "stream",
          "name": "stdout",
          "text": [
            "accuracy=59.785714285714285, loss=1.8376396375129855\n"
          ]
        },
        {
          "output_type": "stream",
          "name": "stderr",
          "text": [
            "Epoch 22: 100%|██████████| 490/490 [00:03<00:00, 154.76batch/s, accuracy=97.3, loss=0.076]\n"
          ]
        },
        {
          "output_type": "stream",
          "name": "stdout",
          "text": [
            "accuracy=64.42857142857143, loss=1.6196326377776602\n"
          ]
        },
        {
          "output_type": "stream",
          "name": "stderr",
          "text": [
            "Epoch 23: 100%|██████████| 490/490 [00:03<00:00, 155.95batch/s, accuracy=97.3, loss=0.0743]\n"
          ]
        },
        {
          "output_type": "stream",
          "name": "stdout",
          "text": [
            "accuracy=64.57142857142857, loss=1.639418256481283\n"
          ]
        },
        {
          "output_type": "stream",
          "name": "stderr",
          "text": [
            "Epoch 24: 100%|██████████| 490/490 [00:03<00:00, 154.69batch/s, accuracy=97.7, loss=0.0666]\n"
          ]
        },
        {
          "output_type": "stream",
          "name": "stdout",
          "text": [
            "accuracy=63.357142857142854, loss=1.7821721063029001\n"
          ]
        },
        {
          "output_type": "stream",
          "name": "stderr",
          "text": [
            "Epoch 25: 100%|██████████| 490/490 [00:03<00:00, 157.99batch/s, accuracy=97.8, loss=0.0624]\n"
          ]
        },
        {
          "output_type": "stream",
          "name": "stdout",
          "text": [
            "accuracy=63.285714285714285, loss=1.7383141509257172\n"
          ]
        },
        {
          "output_type": "stream",
          "name": "stderr",
          "text": [
            "Epoch 26: 100%|██████████| 490/490 [00:02<00:00, 163.99batch/s, accuracy=98, loss=0.0602]\n"
          ]
        },
        {
          "output_type": "stream",
          "name": "stdout",
          "text": [
            "accuracy=64.78571428571429, loss=1.649137936282437\n"
          ]
        },
        {
          "output_type": "stream",
          "name": "stderr",
          "text": [
            "Epoch 27: 100%|██████████| 490/490 [00:03<00:00, 161.53batch/s, accuracy=98, loss=0.0571]\n"
          ]
        },
        {
          "output_type": "stream",
          "name": "stdout",
          "text": [
            "accuracy=64.0, loss=1.747076395626905\n"
          ]
        },
        {
          "output_type": "stream",
          "name": "stderr",
          "text": [
            "Epoch 28: 100%|██████████| 490/490 [00:03<00:00, 153.62batch/s, accuracy=98.2, loss=0.0549]\n"
          ]
        },
        {
          "output_type": "stream",
          "name": "stdout",
          "text": [
            "accuracy=63.92857142857143, loss=1.7703949499451737\n"
          ]
        },
        {
          "output_type": "stream",
          "name": "stderr",
          "text": [
            "Epoch 29: 100%|██████████| 490/490 [00:03<00:00, 156.79batch/s, accuracy=98.1, loss=0.0526]\n"
          ]
        },
        {
          "output_type": "stream",
          "name": "stdout",
          "text": [
            "accuracy=66.14285714285714, loss=1.546914996409401\n"
          ]
        },
        {
          "output_type": "stream",
          "name": "stderr",
          "text": [
            "Epoch 30: 100%|██████████| 490/490 [00:03<00:00, 153.88batch/s, accuracy=98.3, loss=0.0475]\n"
          ]
        },
        {
          "output_type": "stream",
          "name": "stdout",
          "text": [
            "accuracy=65.28571428571429, loss=1.6958281372638275\n"
          ]
        },
        {
          "output_type": "stream",
          "name": "stderr",
          "text": [
            "Epoch 31: 100%|██████████| 490/490 [00:03<00:00, 150.49batch/s, accuracy=98.3, loss=0.0447]\n"
          ]
        },
        {
          "output_type": "stream",
          "name": "stdout",
          "text": [
            "accuracy=64.07142857142857, loss=1.828415123425754\n"
          ]
        },
        {
          "output_type": "stream",
          "name": "stderr",
          "text": [
            "Epoch 32: 100%|██████████| 490/490 [00:03<00:00, 161.66batch/s, accuracy=98.6, loss=0.0426]\n"
          ]
        },
        {
          "output_type": "stream",
          "name": "stdout",
          "text": [
            "accuracy=62.92857142857143, loss=1.893414924357678\n"
          ]
        },
        {
          "output_type": "stream",
          "name": "stderr",
          "text": [
            "Epoch 33: 100%|██████████| 490/490 [00:03<00:00, 152.50batch/s, accuracy=98.5, loss=0.0413]\n"
          ]
        },
        {
          "output_type": "stream",
          "name": "stdout",
          "text": [
            "accuracy=61.92857142857143, loss=2.0830637026954997\n"
          ]
        },
        {
          "output_type": "stream",
          "name": "stderr",
          "text": [
            "Epoch 34: 100%|██████████| 490/490 [00:03<00:00, 153.81batch/s, accuracy=98.6, loss=0.0405]\n"
          ]
        },
        {
          "output_type": "stream",
          "name": "stdout",
          "text": [
            "accuracy=65.07142857142857, loss=1.8325751699597213\n"
          ]
        },
        {
          "output_type": "stream",
          "name": "stderr",
          "text": [
            "Epoch 35: 100%|██████████| 490/490 [00:03<00:00, 153.06batch/s, accuracy=98.8, loss=0.0366]\n"
          ]
        },
        {
          "output_type": "stream",
          "name": "stdout",
          "text": [
            "accuracy=67.35714285714286, loss=1.656027111507253\n"
          ]
        },
        {
          "output_type": "stream",
          "name": "stderr",
          "text": [
            "Epoch 36: 100%|██████████| 490/490 [00:03<00:00, 156.71batch/s, accuracy=98.9, loss=0.033]\n"
          ]
        },
        {
          "output_type": "stream",
          "name": "stdout",
          "text": [
            "accuracy=64.64285714285714, loss=1.9053245654768427\n"
          ]
        },
        {
          "output_type": "stream",
          "name": "stderr",
          "text": [
            "Epoch 37: 100%|██████████| 490/490 [00:03<00:00, 156.32batch/s, accuracy=98.8, loss=0.033]\n"
          ]
        },
        {
          "output_type": "stream",
          "name": "stdout",
          "text": [
            "accuracy=63.857142857142854, loss=1.953858024283078\n"
          ]
        },
        {
          "output_type": "stream",
          "name": "stderr",
          "text": [
            "Epoch 38: 100%|██████████| 490/490 [00:03<00:00, 149.40batch/s, accuracy=98.8, loss=0.0354]\n"
          ]
        },
        {
          "output_type": "stream",
          "name": "stdout",
          "text": [
            "accuracy=63.57142857142857, loss=1.9565556357458334\n"
          ]
        },
        {
          "output_type": "stream",
          "name": "stderr",
          "text": [
            "Epoch 39: 100%|██████████| 490/490 [00:03<00:00, 154.29batch/s, accuracy=99, loss=0.0293]\n"
          ]
        },
        {
          "output_type": "stream",
          "name": "stdout",
          "text": [
            "accuracy=64.78571428571429, loss=1.8722288984996187\n"
          ]
        },
        {
          "output_type": "stream",
          "name": "stderr",
          "text": [
            "Epoch 40: 100%|██████████| 490/490 [00:03<00:00, 151.62batch/s, accuracy=99, loss=0.0281]\n"
          ]
        },
        {
          "output_type": "stream",
          "name": "stdout",
          "text": [
            "accuracy=65.28571428571429, loss=1.800681852523078\n",
            "\n",
            "Test performance\n",
            "lang accuracy loss\n",
            "------------------\n",
            "  en     61.3  1.8\n",
            "  ch     60.4  1.9\n",
            "\n",
            "\n",
            "\n",
            "Trained on en TitaNet voiceprints\n",
            "Average test performance over 2 iteration(s)\n",
            "lang accuracy loss\n",
            "------------------\n",
            "  en     61.1  1.8\n",
            "  ch     58.8  2.1\n",
            "\n",
            "Running the script took 00:04:38\n"
          ]
        }
      ]
    },
    {
      "cell_type": "code",
      "source": [
        "if __name__ == \"__main__\":\n",
        "  start = time.time()\n",
        "\n",
        "  langs = [\"ch\"]\n",
        "\n",
        "  pipeline = ModelDataPipeline(epochs=epochs,\n",
        "                               learning_rate=learning_rate,\n",
        "                               langs=langs,\n",
        "                               proportion=proportion)\n",
        "  \n",
        "  pipeline.run_per_split()\n",
        "\n",
        "  end = time.time()\n",
        "\n",
        "  print(f\"\\nRunning the script took {running_time(start, end)}\")"
      ],
      "metadata": {
        "id": "lprQMTUc1Dln",
        "colab": {
          "base_uri": "https://localhost:8080/"
        },
        "outputId": "783e80e5-c741-44ed-982a-b14d38c0d91c"
      },
      "execution_count": null,
      "outputs": [
        {
          "output_type": "stream",
          "name": "stdout",
          "text": [
            "Setting up epochs: 40\n",
            "\tlearning rate: 5e-05\n",
            "\tlangs: ch\n",
            "Getting 100% of samples\n",
            "Processing 100% of samples took 00:00:03\n",
            "Getting 100% of samples\n",
            "Processing 100% of samples took 00:00:02\n",
            "Getting 100% of samples\n",
            "Processing 100% of samples took 00:00:02\n",
            "Getting 100% of samples\n",
            "Processing 100% of samples took 00:00:02\n",
            "Begin training\n"
          ]
        },
        {
          "output_type": "stream",
          "name": "stderr",
          "text": [
            "Epoch 1: 100%|██████████| 490/490 [00:03<00:00, 152.12batch/s, accuracy=40.8, loss=1.31]\n"
          ]
        },
        {
          "output_type": "stream",
          "name": "stdout",
          "text": [
            "accuracy=38.07142857142857, loss=1.0702404619540486\n"
          ]
        },
        {
          "output_type": "stream",
          "name": "stderr",
          "text": [
            "Epoch 2: 100%|██████████| 490/490 [00:03<00:00, 155.15batch/s, accuracy=82.8, loss=0.509]\n"
          ]
        },
        {
          "output_type": "stream",
          "name": "stdout",
          "text": [
            "accuracy=47.857142857142854, loss=1.2050208873172024\n"
          ]
        },
        {
          "output_type": "stream",
          "name": "stderr",
          "text": [
            "Epoch 3: 100%|██████████| 490/490 [00:03<00:00, 160.58batch/s, accuracy=94.2, loss=0.19]\n"
          ]
        },
        {
          "output_type": "stream",
          "name": "stdout",
          "text": [
            "accuracy=60.785714285714285, loss=0.8560948010948985\n"
          ]
        },
        {
          "output_type": "stream",
          "name": "stderr",
          "text": [
            "Epoch 4: 100%|██████████| 490/490 [00:03<00:00, 159.14batch/s, accuracy=96.1, loss=0.119]\n"
          ]
        },
        {
          "output_type": "stream",
          "name": "stdout",
          "text": [
            "accuracy=66.21428571428571, loss=0.7933801064414521\n"
          ]
        },
        {
          "output_type": "stream",
          "name": "stderr",
          "text": [
            "Epoch 5: 100%|██████████| 490/490 [00:03<00:00, 154.76batch/s, accuracy=97.2, loss=0.0905]\n"
          ]
        },
        {
          "output_type": "stream",
          "name": "stdout",
          "text": [
            "accuracy=71.07142857142857, loss=0.6994213569544497\n"
          ]
        },
        {
          "output_type": "stream",
          "name": "stderr",
          "text": [
            "Epoch 6: 100%|██████████| 490/490 [00:03<00:00, 156.59batch/s, accuracy=97.6, loss=0.0712]\n"
          ]
        },
        {
          "output_type": "stream",
          "name": "stdout",
          "text": [
            "accuracy=72.07142857142857, loss=0.6883374256233739\n"
          ]
        },
        {
          "output_type": "stream",
          "name": "stderr",
          "text": [
            "Epoch 7: 100%|██████████| 490/490 [00:03<00:00, 159.10batch/s, accuracy=98.1, loss=0.0582]\n"
          ]
        },
        {
          "output_type": "stream",
          "name": "stdout",
          "text": [
            "accuracy=75.35714285714286, loss=0.6119699371242417\n"
          ]
        },
        {
          "output_type": "stream",
          "name": "stderr",
          "text": [
            "Epoch 8: 100%|██████████| 490/490 [00:03<00:00, 159.50batch/s, accuracy=98.2, loss=0.0515]\n"
          ]
        },
        {
          "output_type": "stream",
          "name": "stdout",
          "text": [
            "accuracy=72.21428571428571, loss=0.7329278475748106\n"
          ]
        },
        {
          "output_type": "stream",
          "name": "stderr",
          "text": [
            "Epoch 9: 100%|██████████| 490/490 [00:03<00:00, 159.96batch/s, accuracy=98.5, loss=0.0466]\n"
          ]
        },
        {
          "output_type": "stream",
          "name": "stdout",
          "text": [
            "accuracy=75.57142857142857, loss=0.6402808461328718\n"
          ]
        },
        {
          "output_type": "stream",
          "name": "stderr",
          "text": [
            "Epoch 10: 100%|██████████| 490/490 [00:03<00:00, 154.75batch/s, accuracy=98.4, loss=0.0441]\n"
          ]
        },
        {
          "output_type": "stream",
          "name": "stdout",
          "text": [
            "accuracy=76.64285714285714, loss=0.6164536582569053\n"
          ]
        },
        {
          "output_type": "stream",
          "name": "stderr",
          "text": [
            "Epoch 11: 100%|██████████| 490/490 [00:03<00:00, 150.34batch/s, accuracy=98.8, loss=0.0378]\n"
          ]
        },
        {
          "output_type": "stream",
          "name": "stdout",
          "text": [
            "accuracy=78.71428571428571, loss=0.5590259986939158\n"
          ]
        },
        {
          "output_type": "stream",
          "name": "stderr",
          "text": [
            "Epoch 12: 100%|██████████| 490/490 [00:03<00:00, 155.98batch/s, accuracy=98.9, loss=0.0337]\n"
          ]
        },
        {
          "output_type": "stream",
          "name": "stdout",
          "text": [
            "accuracy=78.5, loss=0.57211459776532\n"
          ]
        },
        {
          "output_type": "stream",
          "name": "stderr",
          "text": [
            "Epoch 13: 100%|██████████| 490/490 [00:03<00:00, 159.14batch/s, accuracy=99, loss=0.0304]\n"
          ]
        },
        {
          "output_type": "stream",
          "name": "stdout",
          "text": [
            "accuracy=82.21428571428571, loss=0.47994277479470904\n"
          ]
        },
        {
          "output_type": "stream",
          "name": "stderr",
          "text": [
            "Epoch 14: 100%|██████████| 490/490 [00:03<00:00, 159.31batch/s, accuracy=99, loss=0.0286]\n"
          ]
        },
        {
          "output_type": "stream",
          "name": "stdout",
          "text": [
            "accuracy=79.78571428571429, loss=0.5721358864818753\n"
          ]
        },
        {
          "output_type": "stream",
          "name": "stderr",
          "text": [
            "Epoch 15: 100%|██████████| 490/490 [00:03<00:00, 150.17batch/s, accuracy=98.9, loss=0.0299]\n"
          ]
        },
        {
          "output_type": "stream",
          "name": "stdout",
          "text": [
            "accuracy=78.42857142857143, loss=0.6086847534144545\n"
          ]
        },
        {
          "output_type": "stream",
          "name": "stderr",
          "text": [
            "Epoch 16: 100%|██████████| 490/490 [00:03<00:00, 152.97batch/s, accuracy=99.1, loss=0.0243]\n"
          ]
        },
        {
          "output_type": "stream",
          "name": "stdout",
          "text": [
            "accuracy=80.78571428571429, loss=0.5468102474960376\n"
          ]
        },
        {
          "output_type": "stream",
          "name": "stderr",
          "text": [
            "Epoch 17: 100%|██████████| 490/490 [00:03<00:00, 157.96batch/s, accuracy=99.2, loss=0.0232]\n"
          ]
        },
        {
          "output_type": "stream",
          "name": "stdout",
          "text": [
            "accuracy=80.42857142857143, loss=0.5797261377486471\n"
          ]
        },
        {
          "output_type": "stream",
          "name": "stderr",
          "text": [
            "Epoch 18: 100%|██████████| 490/490 [00:03<00:00, 158.99batch/s, accuracy=99.3, loss=0.0204]\n"
          ]
        },
        {
          "output_type": "stream",
          "name": "stdout",
          "text": [
            "accuracy=80.21428571428571, loss=0.598996494804558\n"
          ]
        },
        {
          "output_type": "stream",
          "name": "stderr",
          "text": [
            "Epoch 19: 100%|██████████| 490/490 [00:03<00:00, 155.81batch/s, accuracy=99.3, loss=0.0204]\n"
          ]
        },
        {
          "output_type": "stream",
          "name": "stdout",
          "text": [
            "accuracy=77.28571428571429, loss=0.6979873172423426\n"
          ]
        },
        {
          "output_type": "stream",
          "name": "stderr",
          "text": [
            "Epoch 20: 100%|██████████| 490/490 [00:03<00:00, 156.47batch/s, accuracy=99.5, loss=0.0168]\n"
          ]
        },
        {
          "output_type": "stream",
          "name": "stdout",
          "text": [
            "accuracy=81.85714285714286, loss=0.5366891261825338\n"
          ]
        },
        {
          "output_type": "stream",
          "name": "stderr",
          "text": [
            "Epoch 21: 100%|██████████| 490/490 [00:02<00:00, 167.01batch/s, accuracy=99.5, loss=0.016]\n"
          ]
        },
        {
          "output_type": "stream",
          "name": "stdout",
          "text": [
            "accuracy=84.78571428571429, loss=0.4518443382184299\n"
          ]
        },
        {
          "output_type": "stream",
          "name": "stderr",
          "text": [
            "Epoch 22: 100%|██████████| 490/490 [00:03<00:00, 159.08batch/s, accuracy=99.5, loss=0.0145]\n"
          ]
        },
        {
          "output_type": "stream",
          "name": "stdout",
          "text": [
            "accuracy=80.35714285714286, loss=0.6317722632723594\n"
          ]
        },
        {
          "output_type": "stream",
          "name": "stderr",
          "text": [
            "Epoch 23: 100%|██████████| 490/490 [00:03<00:00, 159.15batch/s, accuracy=99.6, loss=0.0141]\n"
          ]
        },
        {
          "output_type": "stream",
          "name": "stdout",
          "text": [
            "accuracy=82.64285714285714, loss=0.5273515889896211\n"
          ]
        },
        {
          "output_type": "stream",
          "name": "stderr",
          "text": [
            "Epoch 24: 100%|██████████| 490/490 [00:03<00:00, 157.97batch/s, accuracy=99.6, loss=0.0132]\n"
          ]
        },
        {
          "output_type": "stream",
          "name": "stdout",
          "text": [
            "accuracy=82.57142857142857, loss=0.53536037437904\n"
          ]
        },
        {
          "output_type": "stream",
          "name": "stderr",
          "text": [
            "Epoch 25: 100%|██████████| 490/490 [00:03<00:00, 158.02batch/s, accuracy=99.7, loss=0.00975]\n"
          ]
        },
        {
          "output_type": "stream",
          "name": "stdout",
          "text": [
            "accuracy=80.14285714285714, loss=0.660653958144822\n"
          ]
        },
        {
          "output_type": "stream",
          "name": "stderr",
          "text": [
            "Epoch 26: 100%|██████████| 490/490 [00:02<00:00, 164.09batch/s, accuracy=99.6, loss=0.0102]\n"
          ]
        },
        {
          "output_type": "stream",
          "name": "stdout",
          "text": [
            "accuracy=80.28571428571429, loss=0.6496767604067548\n"
          ]
        },
        {
          "output_type": "stream",
          "name": "stderr",
          "text": [
            "Epoch 27: 100%|██████████| 490/490 [00:03<00:00, 154.50batch/s, accuracy=99.6, loss=0.0113]\n"
          ]
        },
        {
          "output_type": "stream",
          "name": "stdout",
          "text": [
            "accuracy=81.5, loss=0.6071200836568202\n"
          ]
        },
        {
          "output_type": "stream",
          "name": "stderr",
          "text": [
            "Epoch 28: 100%|██████████| 490/490 [00:03<00:00, 149.43batch/s, accuracy=99.7, loss=0.00772]\n"
          ]
        },
        {
          "output_type": "stream",
          "name": "stdout",
          "text": [
            "accuracy=83.71428571428571, loss=0.49992613107226996\n"
          ]
        },
        {
          "output_type": "stream",
          "name": "stderr",
          "text": [
            "Epoch 29: 100%|██████████| 490/490 [00:03<00:00, 152.19batch/s, accuracy=99.8, loss=0.00647]\n"
          ]
        },
        {
          "output_type": "stream",
          "name": "stdout",
          "text": [
            "accuracy=82.85714285714286, loss=0.5697542701158591\n"
          ]
        },
        {
          "output_type": "stream",
          "name": "stderr",
          "text": [
            "Epoch 30: 100%|██████████| 490/490 [00:03<00:00, 151.83batch/s, accuracy=99.7, loss=0.00787]\n"
          ]
        },
        {
          "output_type": "stream",
          "name": "stdout",
          "text": [
            "accuracy=83.71428571428571, loss=0.5482218329638121\n"
          ]
        },
        {
          "output_type": "stream",
          "name": "stderr",
          "text": [
            "Epoch 31: 100%|██████████| 490/490 [00:03<00:00, 158.57batch/s, accuracy=99.7, loss=0.00776]\n"
          ]
        },
        {
          "output_type": "stream",
          "name": "stdout",
          "text": [
            "accuracy=83.21428571428571, loss=0.6076492098286094\n"
          ]
        },
        {
          "output_type": "stream",
          "name": "stderr",
          "text": [
            "Epoch 32: 100%|██████████| 490/490 [00:03<00:00, 155.15batch/s, accuracy=99.8, loss=0.00633]\n"
          ]
        },
        {
          "output_type": "stream",
          "name": "stdout",
          "text": [
            "accuracy=82.5, loss=0.6029893258112319\n"
          ]
        },
        {
          "output_type": "stream",
          "name": "stderr",
          "text": [
            "Epoch 33: 100%|██████████| 490/490 [00:03<00:00, 151.71batch/s, accuracy=99.8, loss=0.00631]\n"
          ]
        },
        {
          "output_type": "stream",
          "name": "stdout",
          "text": [
            "accuracy=81.42857142857143, loss=0.65331779423743\n"
          ]
        },
        {
          "output_type": "stream",
          "name": "stderr",
          "text": [
            "Epoch 34: 100%|██████████| 490/490 [00:03<00:00, 156.36batch/s, accuracy=99.8, loss=0.00524]\n"
          ]
        },
        {
          "output_type": "stream",
          "name": "stdout",
          "text": [
            "accuracy=84.78571428571429, loss=0.5130112953085838\n"
          ]
        },
        {
          "output_type": "stream",
          "name": "stderr",
          "text": [
            "Epoch 35: 100%|██████████| 490/490 [00:03<00:00, 151.60batch/s, accuracy=99.9, loss=0.00491]\n"
          ]
        },
        {
          "output_type": "stream",
          "name": "stdout",
          "text": [
            "accuracy=83.92857142857143, loss=0.5663873594772947\n"
          ]
        },
        {
          "output_type": "stream",
          "name": "stderr",
          "text": [
            "Epoch 36: 100%|██████████| 490/490 [00:03<00:00, 156.83batch/s, accuracy=99.9, loss=0.00367]\n"
          ]
        },
        {
          "output_type": "stream",
          "name": "stdout",
          "text": [
            "accuracy=82.42857142857143, loss=0.6420133695806596\n"
          ]
        },
        {
          "output_type": "stream",
          "name": "stderr",
          "text": [
            "Epoch 37: 100%|██████████| 490/490 [00:03<00:00, 158.41batch/s, accuracy=99.9, loss=0.00411]\n"
          ]
        },
        {
          "output_type": "stream",
          "name": "stdout",
          "text": [
            "accuracy=84.35714285714286, loss=0.5485168532576333\n"
          ]
        },
        {
          "output_type": "stream",
          "name": "stderr",
          "text": [
            "Epoch 38: 100%|██████████| 490/490 [00:03<00:00, 151.50batch/s, accuracy=99.9, loss=0.00383]\n"
          ]
        },
        {
          "output_type": "stream",
          "name": "stdout",
          "text": [
            "accuracy=83.78571428571429, loss=0.578791711343955\n"
          ]
        },
        {
          "output_type": "stream",
          "name": "stderr",
          "text": [
            "Epoch 39: 100%|██████████| 490/490 [00:03<00:00, 154.62batch/s, accuracy=99.9, loss=0.00349]\n"
          ]
        },
        {
          "output_type": "stream",
          "name": "stdout",
          "text": [
            "accuracy=83.14285714285714, loss=0.6204139948293759\n"
          ]
        },
        {
          "output_type": "stream",
          "name": "stderr",
          "text": [
            "Epoch 40: 100%|██████████| 490/490 [00:03<00:00, 153.25batch/s, accuracy=99.9, loss=0.00357]\n"
          ]
        },
        {
          "output_type": "stream",
          "name": "stdout",
          "text": [
            "accuracy=84.5, loss=0.5501164380004825\n",
            "\n",
            "Test performance\n",
            "lang accuracy loss\n",
            "------------------\n",
            "  en     48.1  4.6\n",
            "  ch     82.2  0.8\n",
            "\n",
            "Begin training\n"
          ]
        },
        {
          "output_type": "stream",
          "name": "stderr",
          "text": [
            "Epoch 1: 100%|██████████| 490/490 [00:03<00:00, 154.60batch/s, accuracy=40.3, loss=1.32]\n"
          ]
        },
        {
          "output_type": "stream",
          "name": "stdout",
          "text": [
            "accuracy=58.642857142857146, loss=1.0172869370877742\n"
          ]
        },
        {
          "output_type": "stream",
          "name": "stderr",
          "text": [
            "Epoch 2: 100%|██████████| 490/490 [00:03<00:00, 162.50batch/s, accuracy=83.5, loss=0.515]\n"
          ]
        },
        {
          "output_type": "stream",
          "name": "stdout",
          "text": [
            "accuracy=64.14285714285714, loss=0.7588883630642003\n"
          ]
        },
        {
          "output_type": "stream",
          "name": "stderr",
          "text": [
            "Epoch 3: 100%|██████████| 490/490 [00:03<00:00, 150.54batch/s, accuracy=94.9, loss=0.177]\n"
          ]
        },
        {
          "output_type": "stream",
          "name": "stdout",
          "text": [
            "accuracy=62.285714285714285, loss=0.8334883581094411\n"
          ]
        },
        {
          "output_type": "stream",
          "name": "stderr",
          "text": [
            "Epoch 4: 100%|██████████| 490/490 [00:03<00:00, 149.43batch/s, accuracy=97.1, loss=0.101]\n"
          ]
        },
        {
          "output_type": "stream",
          "name": "stdout",
          "text": [
            "accuracy=58.642857142857146, loss=1.0539881333426664\n"
          ]
        },
        {
          "output_type": "stream",
          "name": "stderr",
          "text": [
            "Epoch 5: 100%|██████████| 490/490 [00:03<00:00, 154.50batch/s, accuracy=97.6, loss=0.075]\n"
          ]
        },
        {
          "output_type": "stream",
          "name": "stdout",
          "text": [
            "accuracy=51.5, loss=1.3948822619450427\n"
          ]
        },
        {
          "output_type": "stream",
          "name": "stderr",
          "text": [
            "Epoch 6: 100%|██████████| 490/490 [00:03<00:00, 150.45batch/s, accuracy=98, loss=0.062]\n"
          ]
        },
        {
          "output_type": "stream",
          "name": "stdout",
          "text": [
            "accuracy=54.214285714285715, loss=1.3376247011199718\n"
          ]
        },
        {
          "output_type": "stream",
          "name": "stderr",
          "text": [
            "Epoch 7: 100%|██████████| 490/490 [00:03<00:00, 159.86batch/s, accuracy=98.2, loss=0.0566]\n"
          ]
        },
        {
          "output_type": "stream",
          "name": "stdout",
          "text": [
            "accuracy=55.285714285714285, loss=1.3608985281037478\n"
          ]
        },
        {
          "output_type": "stream",
          "name": "stderr",
          "text": [
            "Epoch 8: 100%|██████████| 490/490 [00:03<00:00, 149.24batch/s, accuracy=98.5, loss=0.0452]\n"
          ]
        },
        {
          "output_type": "stream",
          "name": "stdout",
          "text": [
            "accuracy=51.5, loss=1.58712841596164\n"
          ]
        },
        {
          "output_type": "stream",
          "name": "stderr",
          "text": [
            "Epoch 9: 100%|██████████| 490/490 [00:03<00:00, 153.41batch/s, accuracy=98.4, loss=0.0435]\n"
          ]
        },
        {
          "output_type": "stream",
          "name": "stdout",
          "text": [
            "accuracy=47.0, loss=1.843978313343384\n"
          ]
        },
        {
          "output_type": "stream",
          "name": "stderr",
          "text": [
            "Epoch 10: 100%|██████████| 490/490 [00:03<00:00, 153.00batch/s, accuracy=98.7, loss=0.037]\n"
          ]
        },
        {
          "output_type": "stream",
          "name": "stdout",
          "text": [
            "accuracy=51.357142857142854, loss=1.6798705679329449\n"
          ]
        },
        {
          "output_type": "stream",
          "name": "stderr",
          "text": [
            "Epoch 11: 100%|██████████| 490/490 [00:03<00:00, 154.79batch/s, accuracy=99, loss=0.0333]\n"
          ]
        },
        {
          "output_type": "stream",
          "name": "stdout",
          "text": [
            "accuracy=56.857142857142854, loss=1.4163568517222067\n"
          ]
        },
        {
          "output_type": "stream",
          "name": "stderr",
          "text": [
            "Epoch 12: 100%|██████████| 490/490 [00:03<00:00, 158.64batch/s, accuracy=98.9, loss=0.0299]\n"
          ]
        },
        {
          "output_type": "stream",
          "name": "stdout",
          "text": [
            "accuracy=46.785714285714285, loss=2.0778927359873043\n"
          ]
        },
        {
          "output_type": "stream",
          "name": "stderr",
          "text": [
            "Epoch 13: 100%|██████████| 490/490 [00:02<00:00, 164.87batch/s, accuracy=99.1, loss=0.0273]\n"
          ]
        },
        {
          "output_type": "stream",
          "name": "stdout",
          "text": [
            "accuracy=51.07142857142857, loss=1.8101439667126547\n"
          ]
        },
        {
          "output_type": "stream",
          "name": "stderr",
          "text": [
            "Epoch 14: 100%|██████████| 490/490 [00:03<00:00, 147.13batch/s, accuracy=99.1, loss=0.0272]\n"
          ]
        },
        {
          "output_type": "stream",
          "name": "stdout",
          "text": [
            "accuracy=49.142857142857146, loss=1.9648102218323915\n"
          ]
        },
        {
          "output_type": "stream",
          "name": "stderr",
          "text": [
            "Epoch 15: 100%|██████████| 490/490 [00:03<00:00, 151.70batch/s, accuracy=99.2, loss=0.025]\n"
          ]
        },
        {
          "output_type": "stream",
          "name": "stdout",
          "text": [
            "accuracy=47.0, loss=2.1810871641824305\n"
          ]
        },
        {
          "output_type": "stream",
          "name": "stderr",
          "text": [
            "Epoch 16: 100%|██████████| 490/490 [00:03<00:00, 146.97batch/s, accuracy=99.3, loss=0.0207]\n"
          ]
        },
        {
          "output_type": "stream",
          "name": "stdout",
          "text": [
            "accuracy=46.642857142857146, loss=2.2776735714750123\n"
          ]
        },
        {
          "output_type": "stream",
          "name": "stderr",
          "text": [
            "Epoch 17: 100%|██████████| 490/490 [00:02<00:00, 164.58batch/s, accuracy=99.3, loss=0.0186]\n"
          ]
        },
        {
          "output_type": "stream",
          "name": "stdout",
          "text": [
            "accuracy=48.214285714285715, loss=2.200213016708685\n"
          ]
        },
        {
          "output_type": "stream",
          "name": "stderr",
          "text": [
            "Epoch 18: 100%|██████████| 490/490 [00:03<00:00, 156.03batch/s, accuracy=99.4, loss=0.0177]\n"
          ]
        },
        {
          "output_type": "stream",
          "name": "stdout",
          "text": [
            "accuracy=50.785714285714285, loss=2.047213591375834\n"
          ]
        },
        {
          "output_type": "stream",
          "name": "stderr",
          "text": [
            "Epoch 19: 100%|██████████| 490/490 [00:03<00:00, 147.38batch/s, accuracy=99.4, loss=0.0175]\n"
          ]
        },
        {
          "output_type": "stream",
          "name": "stdout",
          "text": [
            "accuracy=45.857142857142854, loss=2.4884023294985664\n"
          ]
        },
        {
          "output_type": "stream",
          "name": "stderr",
          "text": [
            "Epoch 20: 100%|██████████| 490/490 [00:03<00:00, 151.72batch/s, accuracy=99.4, loss=0.0161]\n"
          ]
        },
        {
          "output_type": "stream",
          "name": "stdout",
          "text": [
            "accuracy=46.785714285714285, loss=2.4669920980339763\n"
          ]
        },
        {
          "output_type": "stream",
          "name": "stderr",
          "text": [
            "Epoch 21: 100%|██████████| 490/490 [00:03<00:00, 150.49batch/s, accuracy=99.5, loss=0.0143]\n"
          ]
        },
        {
          "output_type": "stream",
          "name": "stdout",
          "text": [
            "accuracy=51.42857142857143, loss=2.108359708019127\n"
          ]
        },
        {
          "output_type": "stream",
          "name": "stderr",
          "text": [
            "Epoch 22: 100%|██████████| 490/490 [00:03<00:00, 153.90batch/s, accuracy=99.6, loss=0.014]\n"
          ]
        },
        {
          "output_type": "stream",
          "name": "stdout",
          "text": [
            "accuracy=46.5, loss=2.62595962634903\n"
          ]
        },
        {
          "output_type": "stream",
          "name": "stderr",
          "text": [
            "Epoch 23: 100%|██████████| 490/490 [00:02<00:00, 168.89batch/s, accuracy=99.7, loss=0.0126]\n"
          ]
        },
        {
          "output_type": "stream",
          "name": "stdout",
          "text": [
            "accuracy=50.285714285714285, loss=2.326351323520065\n"
          ]
        },
        {
          "output_type": "stream",
          "name": "stderr",
          "text": [
            "Epoch 24: 100%|██████████| 490/490 [00:03<00:00, 154.28batch/s, accuracy=99.7, loss=0.00986]\n"
          ]
        },
        {
          "output_type": "stream",
          "name": "stdout",
          "text": [
            "accuracy=43.92857142857143, loss=2.9988030630695635\n"
          ]
        },
        {
          "output_type": "stream",
          "name": "stderr",
          "text": [
            "Epoch 25: 100%|██████████| 490/490 [00:03<00:00, 147.21batch/s, accuracy=99.7, loss=0.00897]\n"
          ]
        },
        {
          "output_type": "stream",
          "name": "stdout",
          "text": [
            "accuracy=45.5, loss=2.823249008070173\n"
          ]
        },
        {
          "output_type": "stream",
          "name": "stderr",
          "text": [
            "Epoch 26: 100%|██████████| 490/490 [00:03<00:00, 150.57batch/s, accuracy=99.6, loss=0.00981]\n"
          ]
        },
        {
          "output_type": "stream",
          "name": "stdout",
          "text": [
            "accuracy=45.42857142857143, loss=2.902881896769112\n"
          ]
        },
        {
          "output_type": "stream",
          "name": "stderr",
          "text": [
            "Epoch 27: 100%|██████████| 490/490 [00:03<00:00, 153.65batch/s, accuracy=99.6, loss=0.0102]\n"
          ]
        },
        {
          "output_type": "stream",
          "name": "stdout",
          "text": [
            "accuracy=44.785714285714285, loss=2.9820886524444417\n"
          ]
        },
        {
          "output_type": "stream",
          "name": "stderr",
          "text": [
            "Epoch 28: 100%|██████████| 490/490 [00:03<00:00, 156.80batch/s, accuracy=99.7, loss=0.0084]\n"
          ]
        },
        {
          "output_type": "stream",
          "name": "stdout",
          "text": [
            "accuracy=44.214285714285715, loss=3.0356902725713977\n"
          ]
        },
        {
          "output_type": "stream",
          "name": "stderr",
          "text": [
            "Epoch 29: 100%|██████████| 490/490 [00:03<00:00, 161.72batch/s, accuracy=99.8, loss=0.00637]\n"
          ]
        },
        {
          "output_type": "stream",
          "name": "stdout",
          "text": [
            "accuracy=45.07142857142857, loss=3.146798802766095\n"
          ]
        },
        {
          "output_type": "stream",
          "name": "stderr",
          "text": [
            "Epoch 30: 100%|██████████| 490/490 [00:03<00:00, 153.19batch/s, accuracy=99.8, loss=0.00649]\n"
          ]
        },
        {
          "output_type": "stream",
          "name": "stdout",
          "text": [
            "accuracy=48.285714285714285, loss=2.794197009871161\n"
          ]
        },
        {
          "output_type": "stream",
          "name": "stderr",
          "text": [
            "Epoch 31: 100%|██████████| 490/490 [00:03<00:00, 160.78batch/s, accuracy=99.8, loss=0.00635]\n"
          ]
        },
        {
          "output_type": "stream",
          "name": "stdout",
          "text": [
            "accuracy=50.285714285714285, loss=2.6824291720617555\n"
          ]
        },
        {
          "output_type": "stream",
          "name": "stderr",
          "text": [
            "Epoch 32: 100%|██████████| 490/490 [00:03<00:00, 150.88batch/s, accuracy=99.8, loss=0.0074]\n"
          ]
        },
        {
          "output_type": "stream",
          "name": "stdout",
          "text": [
            "accuracy=46.642857142857146, loss=3.1502746534875072\n"
          ]
        },
        {
          "output_type": "stream",
          "name": "stderr",
          "text": [
            "Epoch 33: 100%|██████████| 490/490 [00:03<00:00, 151.05batch/s, accuracy=99.9, loss=0.00477]\n"
          ]
        },
        {
          "output_type": "stream",
          "name": "stdout",
          "text": [
            "accuracy=50.5, loss=2.742678874975801\n"
          ]
        },
        {
          "output_type": "stream",
          "name": "stderr",
          "text": [
            "Epoch 34: 100%|██████████| 490/490 [00:03<00:00, 154.90batch/s, accuracy=99.8, loss=0.00468]\n"
          ]
        },
        {
          "output_type": "stream",
          "name": "stdout",
          "text": [
            "accuracy=45.214285714285715, loss=3.3829341343083237\n"
          ]
        },
        {
          "output_type": "stream",
          "name": "stderr",
          "text": [
            "Epoch 35: 100%|██████████| 490/490 [00:03<00:00, 157.96batch/s, accuracy=99.9, loss=0.00428]\n"
          ]
        },
        {
          "output_type": "stream",
          "name": "stdout",
          "text": [
            "accuracy=46.642857142857146, loss=3.2700256281117\n"
          ]
        },
        {
          "output_type": "stream",
          "name": "stderr",
          "text": [
            "Epoch 36: 100%|██████████| 490/490 [00:03<00:00, 150.89batch/s, accuracy=99.9, loss=0.00282]\n"
          ]
        },
        {
          "output_type": "stream",
          "name": "stdout",
          "text": [
            "accuracy=44.5, loss=3.6916275391370434\n"
          ]
        },
        {
          "output_type": "stream",
          "name": "stderr",
          "text": [
            "Epoch 37: 100%|██████████| 490/490 [00:03<00:00, 152.43batch/s, accuracy=99.9, loss=0.0042]\n"
          ]
        },
        {
          "output_type": "stream",
          "name": "stdout",
          "text": [
            "accuracy=53.785714285714285, loss=2.6544394130031246\n"
          ]
        },
        {
          "output_type": "stream",
          "name": "stderr",
          "text": [
            "Epoch 38: 100%|██████████| 490/490 [00:03<00:00, 150.15batch/s, accuracy=99.9, loss=0.00454]\n"
          ]
        },
        {
          "output_type": "stream",
          "name": "stdout",
          "text": [
            "accuracy=40.642857142857146, loss=4.191871324363705\n"
          ]
        },
        {
          "output_type": "stream",
          "name": "stderr",
          "text": [
            "Epoch 39: 100%|██████████| 490/490 [00:03<00:00, 152.30batch/s, accuracy=99.9, loss=0.00425]\n"
          ]
        },
        {
          "output_type": "stream",
          "name": "stdout",
          "text": [
            "accuracy=52.07142857142857, loss=2.851654743151373\n"
          ]
        },
        {
          "output_type": "stream",
          "name": "stderr",
          "text": [
            "Epoch 40: 100%|██████████| 490/490 [00:03<00:00, 158.07batch/s, accuracy=99.9, loss=0.00371]\n"
          ]
        },
        {
          "output_type": "stream",
          "name": "stdout",
          "text": [
            "accuracy=45.214285714285715, loss=3.616266813122932\n",
            "\n",
            "Test performance\n",
            "lang accuracy loss\n",
            "------------------\n",
            "  en     46.6  3.8\n",
            "  ch     76.5  1.3\n",
            "\n",
            "\n",
            "\n",
            "Trained on ch TitaNet voiceprints\n",
            "Average test performance over 2 iteration(s)\n",
            "lang accuracy loss\n",
            "------------------\n",
            "  en     47.4  4.2\n",
            "  ch     79.4  1.1\n",
            "\n",
            "Running the script took 00:04:39\n"
          ]
        }
      ]
    },
    {
      "cell_type": "markdown",
      "source": [
        "### Train and test with original split"
      ],
      "metadata": {
        "id": "vzLXRdUaplwv"
      }
    },
    {
      "cell_type": "code",
      "source": [
        "if __name__ == \"__main__\":\n",
        "  start = time.time()\n",
        "\n",
        "  langs = [\"en\", \"ch\"]\n",
        "\n",
        "  pipeline = ModelDataPipeline(epochs=epochs,\n",
        "                               learning_rate=learning_rate,\n",
        "                               langs=langs,\n",
        "                               proportion=proportion)\n",
        "  \n",
        "  pipeline.run_per_split(remixed_data=False)\n",
        "\n",
        "  end = time.time()\n",
        "\n",
        "  print(f\"\\nRunning the script took {running_time(start, end)}\")"
      ],
      "metadata": {
        "id": "PhceFqccpll8",
        "colab": {
          "base_uri": "https://localhost:8080/"
        },
        "outputId": "0b557e4a-737e-4907-bdb8-93913ff76912"
      },
      "execution_count": null,
      "outputs": [
        {
          "output_type": "stream",
          "name": "stdout",
          "text": [
            "Setting up epochs: 40\n",
            "\tlearning rate: 5e-05\n",
            "\tlangs: en, ch\n",
            "Getting 100% of samples\n",
            "Processing 100% of samples took 00:00:02\n",
            "Getting 100% of samples\n",
            "Processing 100% of samples took 00:00:02\n",
            "Getting 100% of samples\n",
            "Processing 100% of samples took 00:00:02\n",
            "Getting 100% of samples\n",
            "Processing 100% of samples took 00:00:02\n",
            "Begin training\n"
          ]
        },
        {
          "output_type": "stream",
          "name": "stderr",
          "text": [
            "Epoch 1: 100%|██████████| 600/600 [00:03<00:00, 155.58batch/s, accuracy=33.8, loss=1.37]\n"
          ]
        },
        {
          "output_type": "stream",
          "name": "stdout",
          "text": [
            "accuracy=57.625, loss=1.1994858995079993\n"
          ]
        },
        {
          "output_type": "stream",
          "name": "stderr",
          "text": [
            "Epoch 2: 100%|██████████| 600/600 [00:03<00:00, 154.93batch/s, accuracy=63.6, loss=0.858]\n"
          ]
        },
        {
          "output_type": "stream",
          "name": "stdout",
          "text": [
            "accuracy=71.375, loss=0.6762197655299679\n"
          ]
        },
        {
          "output_type": "stream",
          "name": "stderr",
          "text": [
            "Epoch 3: 100%|██████████| 600/600 [00:03<00:00, 161.05batch/s, accuracy=77.3, loss=0.576]\n"
          ]
        },
        {
          "output_type": "stream",
          "name": "stdout",
          "text": [
            "accuracy=83.25, loss=0.4872379242521129\n"
          ]
        },
        {
          "output_type": "stream",
          "name": "stderr",
          "text": [
            "Epoch 4: 100%|██████████| 600/600 [00:03<00:00, 160.72batch/s, accuracy=84.7, loss=0.411]\n"
          ]
        },
        {
          "output_type": "stream",
          "name": "stdout",
          "text": [
            "accuracy=86.25, loss=0.36073588132014267\n"
          ]
        },
        {
          "output_type": "stream",
          "name": "stderr",
          "text": [
            "Epoch 5: 100%|██████████| 600/600 [00:03<00:00, 156.70batch/s, accuracy=87.8, loss=0.331]\n"
          ]
        },
        {
          "output_type": "stream",
          "name": "stdout",
          "text": [
            "accuracy=87.25, loss=0.32998896377299386\n"
          ]
        },
        {
          "output_type": "stream",
          "name": "stderr",
          "text": [
            "Epoch 6: 100%|██████████| 600/600 [00:03<00:00, 152.61batch/s, accuracy=89.7, loss=0.28]\n"
          ]
        },
        {
          "output_type": "stream",
          "name": "stdout",
          "text": [
            "accuracy=87.5, loss=0.30659052478215015\n"
          ]
        },
        {
          "output_type": "stream",
          "name": "stderr",
          "text": [
            "Epoch 7: 100%|██████████| 600/600 [00:03<00:00, 158.39batch/s, accuracy=90.4, loss=0.256]\n"
          ]
        },
        {
          "output_type": "stream",
          "name": "stdout",
          "text": [
            "accuracy=88.75, loss=0.2670744070146793\n"
          ]
        },
        {
          "output_type": "stream",
          "name": "stderr",
          "text": [
            "Epoch 8: 100%|██████████| 600/600 [00:03<00:00, 157.46batch/s, accuracy=91.5, loss=0.236]\n"
          ]
        },
        {
          "output_type": "stream",
          "name": "stdout",
          "text": [
            "accuracy=88.375, loss=0.28725200248362853\n"
          ]
        },
        {
          "output_type": "stream",
          "name": "stderr",
          "text": [
            "Epoch 9: 100%|██████████| 600/600 [00:03<00:00, 157.46batch/s, accuracy=92, loss=0.221]\n"
          ]
        },
        {
          "output_type": "stream",
          "name": "stdout",
          "text": [
            "accuracy=91.875, loss=0.23448792647886876\n"
          ]
        },
        {
          "output_type": "stream",
          "name": "stderr",
          "text": [
            "Epoch 10: 100%|██████████| 600/600 [00:03<00:00, 155.68batch/s, accuracy=92.7, loss=0.198]\n"
          ]
        },
        {
          "output_type": "stream",
          "name": "stdout",
          "text": [
            "accuracy=90.5, loss=0.2472833208736438\n"
          ]
        },
        {
          "output_type": "stream",
          "name": "stderr",
          "text": [
            "Epoch 11: 100%|██████████| 600/600 [00:03<00:00, 159.85batch/s, accuracy=93.3, loss=0.184]\n"
          ]
        },
        {
          "output_type": "stream",
          "name": "stdout",
          "text": [
            "accuracy=90.0, loss=0.24357200485359498\n"
          ]
        },
        {
          "output_type": "stream",
          "name": "stderr",
          "text": [
            "Epoch 12: 100%|██████████| 600/600 [00:03<00:00, 156.27batch/s, accuracy=93.9, loss=0.167]\n"
          ]
        },
        {
          "output_type": "stream",
          "name": "stdout",
          "text": [
            "accuracy=92.25, loss=0.2177939092073666\n"
          ]
        },
        {
          "output_type": "stream",
          "name": "stderr",
          "text": [
            "Epoch 13: 100%|██████████| 600/600 [00:03<00:00, 162.57batch/s, accuracy=94.3, loss=0.159]\n"
          ]
        },
        {
          "output_type": "stream",
          "name": "stdout",
          "text": [
            "accuracy=91.875, loss=0.2306023436455507\n"
          ]
        },
        {
          "output_type": "stream",
          "name": "stderr",
          "text": [
            "Epoch 14: 100%|██████████| 600/600 [00:03<00:00, 157.37batch/s, accuracy=94.4, loss=0.155]\n"
          ]
        },
        {
          "output_type": "stream",
          "name": "stdout",
          "text": [
            "accuracy=91.375, loss=0.21478847003869306\n"
          ]
        },
        {
          "output_type": "stream",
          "name": "stderr",
          "text": [
            "Epoch 15: 100%|██████████| 600/600 [00:03<00:00, 158.06batch/s, accuracy=95.2, loss=0.138]\n"
          ]
        },
        {
          "output_type": "stream",
          "name": "stdout",
          "text": [
            "accuracy=92.625, loss=0.19255298316129996\n"
          ]
        },
        {
          "output_type": "stream",
          "name": "stderr",
          "text": [
            "Epoch 16: 100%|██████████| 600/600 [00:03<00:00, 160.42batch/s, accuracy=95.1, loss=0.132]\n"
          ]
        },
        {
          "output_type": "stream",
          "name": "stdout",
          "text": [
            "accuracy=94.125, loss=0.17183170811583837\n"
          ]
        },
        {
          "output_type": "stream",
          "name": "stderr",
          "text": [
            "Epoch 17: 100%|██████████| 600/600 [00:03<00:00, 156.30batch/s, accuracy=95.9, loss=0.121]\n"
          ]
        },
        {
          "output_type": "stream",
          "name": "stdout",
          "text": [
            "accuracy=91.25, loss=0.21067397314234143\n"
          ]
        },
        {
          "output_type": "stream",
          "name": "stderr",
          "text": [
            "Epoch 18: 100%|██████████| 600/600 [00:03<00:00, 158.75batch/s, accuracy=96, loss=0.115]\n"
          ]
        },
        {
          "output_type": "stream",
          "name": "stdout",
          "text": [
            "accuracy=93.625, loss=0.1588546381667443\n"
          ]
        },
        {
          "output_type": "stream",
          "name": "stderr",
          "text": [
            "Epoch 19: 100%|██████████| 600/600 [00:03<00:00, 158.28batch/s, accuracy=96.4, loss=0.104]\n"
          ]
        },
        {
          "output_type": "stream",
          "name": "stdout",
          "text": [
            "accuracy=93.125, loss=0.17033039871454064\n"
          ]
        },
        {
          "output_type": "stream",
          "name": "stderr",
          "text": [
            "Epoch 20: 100%|██████████| 600/600 [00:03<00:00, 158.67batch/s, accuracy=96.1, loss=0.107]\n"
          ]
        },
        {
          "output_type": "stream",
          "name": "stdout",
          "text": [
            "accuracy=93.375, loss=0.16623245791173702\n"
          ]
        },
        {
          "output_type": "stream",
          "name": "stderr",
          "text": [
            "Epoch 21: 100%|██████████| 600/600 [00:03<00:00, 159.10batch/s, accuracy=96.7, loss=0.0981]\n"
          ]
        },
        {
          "output_type": "stream",
          "name": "stdout",
          "text": [
            "accuracy=93.125, loss=0.1772737595676118\n"
          ]
        },
        {
          "output_type": "stream",
          "name": "stderr",
          "text": [
            "Epoch 22: 100%|██████████| 600/600 [00:03<00:00, 156.23batch/s, accuracy=96.8, loss=0.0922]\n"
          ]
        },
        {
          "output_type": "stream",
          "name": "stdout",
          "text": [
            "accuracy=93.875, loss=0.16968368079849042\n"
          ]
        },
        {
          "output_type": "stream",
          "name": "stderr",
          "text": [
            "Epoch 23: 100%|██████████| 600/600 [00:03<00:00, 159.10batch/s, accuracy=97.1, loss=0.0863]\n"
          ]
        },
        {
          "output_type": "stream",
          "name": "stdout",
          "text": [
            "accuracy=93.375, loss=0.18436397063537996\n"
          ]
        },
        {
          "output_type": "stream",
          "name": "stderr",
          "text": [
            "Epoch 24: 100%|██████████| 600/600 [00:03<00:00, 159.44batch/s, accuracy=97.1, loss=0.0809]\n"
          ]
        },
        {
          "output_type": "stream",
          "name": "stdout",
          "text": [
            "accuracy=94.0, loss=0.17011527965613196\n"
          ]
        },
        {
          "output_type": "stream",
          "name": "stderr",
          "text": [
            "Epoch 25: 100%|██████████| 600/600 [00:03<00:00, 162.42batch/s, accuracy=97.3, loss=0.0805]\n"
          ]
        },
        {
          "output_type": "stream",
          "name": "stdout",
          "text": [
            "accuracy=94.75, loss=0.14015674130789754\n"
          ]
        },
        {
          "output_type": "stream",
          "name": "stderr",
          "text": [
            "Epoch 26: 100%|██████████| 600/600 [00:03<00:00, 157.09batch/s, accuracy=97.6, loss=0.0689]\n"
          ]
        },
        {
          "output_type": "stream",
          "name": "stdout",
          "text": [
            "accuracy=95.125, loss=0.13143799773363107\n"
          ]
        },
        {
          "output_type": "stream",
          "name": "stderr",
          "text": [
            "Epoch 27: 100%|██████████| 600/600 [00:03<00:00, 168.52batch/s, accuracy=97.7, loss=0.0694]\n"
          ]
        },
        {
          "output_type": "stream",
          "name": "stdout",
          "text": [
            "accuracy=93.25, loss=0.18108686544748004\n"
          ]
        },
        {
          "output_type": "stream",
          "name": "stderr",
          "text": [
            "Epoch 28: 100%|██████████| 600/600 [00:03<00:00, 166.46batch/s, accuracy=97.7, loss=0.0686]\n"
          ]
        },
        {
          "output_type": "stream",
          "name": "stdout",
          "text": [
            "accuracy=94.875, loss=0.14241566021709112\n"
          ]
        },
        {
          "output_type": "stream",
          "name": "stderr",
          "text": [
            "Epoch 29: 100%|██████████| 600/600 [00:03<00:00, 159.16batch/s, accuracy=97.7, loss=0.062]\n"
          ]
        },
        {
          "output_type": "stream",
          "name": "stdout",
          "text": [
            "accuracy=95.125, loss=0.1309939587145564\n"
          ]
        },
        {
          "output_type": "stream",
          "name": "stderr",
          "text": [
            "Epoch 30: 100%|██████████| 600/600 [00:03<00:00, 159.02batch/s, accuracy=98, loss=0.0606]\n"
          ]
        },
        {
          "output_type": "stream",
          "name": "stdout",
          "text": [
            "accuracy=95.25, loss=0.13468851582974822\n"
          ]
        },
        {
          "output_type": "stream",
          "name": "stderr",
          "text": [
            "Epoch 31: 100%|██████████| 600/600 [00:03<00:00, 161.77batch/s, accuracy=98.1, loss=0.0549]\n"
          ]
        },
        {
          "output_type": "stream",
          "name": "stdout",
          "text": [
            "accuracy=94.5, loss=0.15499646766853642\n"
          ]
        },
        {
          "output_type": "stream",
          "name": "stderr",
          "text": [
            "Epoch 32: 100%|██████████| 600/600 [00:03<00:00, 168.31batch/s, accuracy=98.2, loss=0.0539]\n"
          ]
        },
        {
          "output_type": "stream",
          "name": "stdout",
          "text": [
            "accuracy=93.125, loss=0.1675383070162561\n"
          ]
        },
        {
          "output_type": "stream",
          "name": "stderr",
          "text": [
            "Epoch 33: 100%|██████████| 600/600 [00:03<00:00, 151.74batch/s, accuracy=98.1, loss=0.0575]\n"
          ]
        },
        {
          "output_type": "stream",
          "name": "stdout",
          "text": [
            "accuracy=94.5, loss=0.12801906562966858\n"
          ]
        },
        {
          "output_type": "stream",
          "name": "stderr",
          "text": [
            "Epoch 34: 100%|██████████| 600/600 [00:03<00:00, 153.58batch/s, accuracy=98.2, loss=0.0508]\n"
          ]
        },
        {
          "output_type": "stream",
          "name": "stdout",
          "text": [
            "accuracy=94.25, loss=0.1632290051174561\n"
          ]
        },
        {
          "output_type": "stream",
          "name": "stderr",
          "text": [
            "Epoch 35: 100%|██████████| 600/600 [00:03<00:00, 154.04batch/s, accuracy=98.4, loss=0.0474]\n"
          ]
        },
        {
          "output_type": "stream",
          "name": "stdout",
          "text": [
            "accuracy=95.125, loss=0.13774195768260505\n"
          ]
        },
        {
          "output_type": "stream",
          "name": "stderr",
          "text": [
            "Epoch 36: 100%|██████████| 600/600 [00:03<00:00, 160.97batch/s, accuracy=98.1, loss=0.0524]\n"
          ]
        },
        {
          "output_type": "stream",
          "name": "stdout",
          "text": [
            "accuracy=95.75, loss=0.1407519882324635\n"
          ]
        },
        {
          "output_type": "stream",
          "name": "stderr",
          "text": [
            "Epoch 37: 100%|██████████| 600/600 [00:03<00:00, 152.98batch/s, accuracy=98.6, loss=0.0427]\n"
          ]
        },
        {
          "output_type": "stream",
          "name": "stdout",
          "text": [
            "accuracy=93.5, loss=0.16869115212662547\n"
          ]
        },
        {
          "output_type": "stream",
          "name": "stderr",
          "text": [
            "Epoch 38: 100%|██████████| 600/600 [00:03<00:00, 158.82batch/s, accuracy=98.4, loss=0.0455]\n"
          ]
        },
        {
          "output_type": "stream",
          "name": "stdout",
          "text": [
            "accuracy=96.875, loss=0.09554895258810917\n"
          ]
        },
        {
          "output_type": "stream",
          "name": "stderr",
          "text": [
            "Epoch 39: 100%|██████████| 600/600 [00:03<00:00, 155.35batch/s, accuracy=98.8, loss=0.0385]\n"
          ]
        },
        {
          "output_type": "stream",
          "name": "stdout",
          "text": [
            "accuracy=94.375, loss=0.1530258996370292\n"
          ]
        },
        {
          "output_type": "stream",
          "name": "stderr",
          "text": [
            "Epoch 40: 100%|██████████| 600/600 [00:03<00:00, 162.80batch/s, accuracy=98.7, loss=0.0371]\n"
          ]
        },
        {
          "output_type": "stream",
          "name": "stdout",
          "text": [
            "accuracy=94.0, loss=0.15236379884202148\n",
            "\n",
            "Test performance\n",
            "lang accuracy loss\n",
            "------------------\n",
            "  en     96.6  0.1\n",
            "  ch     98.7  0.1\n",
            "\n",
            "Begin training\n"
          ]
        },
        {
          "output_type": "stream",
          "name": "stderr",
          "text": [
            "Epoch 1: 100%|██████████| 600/600 [00:03<00:00, 162.85batch/s, accuracy=33.5, loss=1.36]\n"
          ]
        },
        {
          "output_type": "stream",
          "name": "stdout",
          "text": [
            "accuracy=54.5, loss=1.1434558504074812\n"
          ]
        },
        {
          "output_type": "stream",
          "name": "stderr",
          "text": [
            "Epoch 2: 100%|██████████| 600/600 [00:03<00:00, 155.02batch/s, accuracy=64.7, loss=0.825]\n"
          ]
        },
        {
          "output_type": "stream",
          "name": "stdout",
          "text": [
            "accuracy=73.75, loss=0.6847293602558784\n"
          ]
        },
        {
          "output_type": "stream",
          "name": "stderr",
          "text": [
            "Epoch 3: 100%|██████████| 600/600 [00:03<00:00, 155.51batch/s, accuracy=78.2, loss=0.568]\n"
          ]
        },
        {
          "output_type": "stream",
          "name": "stdout",
          "text": [
            "accuracy=84.5, loss=0.45520252583490217\n"
          ]
        },
        {
          "output_type": "stream",
          "name": "stderr",
          "text": [
            "Epoch 4: 100%|██████████| 600/600 [00:03<00:00, 159.44batch/s, accuracy=84.2, loss=0.414]\n"
          ]
        },
        {
          "output_type": "stream",
          "name": "stdout",
          "text": [
            "accuracy=88.125, loss=0.3562884988996666\n"
          ]
        },
        {
          "output_type": "stream",
          "name": "stderr",
          "text": [
            "Epoch 5: 100%|██████████| 600/600 [00:03<00:00, 169.73batch/s, accuracy=87.3, loss=0.34]\n"
          ]
        },
        {
          "output_type": "stream",
          "name": "stdout",
          "text": [
            "accuracy=88.25, loss=0.31882643165881747\n"
          ]
        },
        {
          "output_type": "stream",
          "name": "stderr",
          "text": [
            "Epoch 6: 100%|██████████| 600/600 [00:03<00:00, 157.19batch/s, accuracy=89.2, loss=0.293]\n"
          ]
        },
        {
          "output_type": "stream",
          "name": "stdout",
          "text": [
            "accuracy=89.5, loss=0.2868080731093869\n"
          ]
        },
        {
          "output_type": "stream",
          "name": "stderr",
          "text": [
            "Epoch 7: 100%|██████████| 600/600 [00:03<00:00, 156.69batch/s, accuracy=90.7, loss=0.257]\n"
          ]
        },
        {
          "output_type": "stream",
          "name": "stdout",
          "text": [
            "accuracy=87.25, loss=0.3169333701283176\n"
          ]
        },
        {
          "output_type": "stream",
          "name": "stderr",
          "text": [
            "Epoch 8: 100%|██████████| 600/600 [00:03<00:00, 153.38batch/s, accuracy=90.8, loss=0.244]\n"
          ]
        },
        {
          "output_type": "stream",
          "name": "stdout",
          "text": [
            "accuracy=90.0, loss=0.2582950602870915\n"
          ]
        },
        {
          "output_type": "stream",
          "name": "stderr",
          "text": [
            "Epoch 9: 100%|██████████| 600/600 [00:03<00:00, 154.12batch/s, accuracy=92, loss=0.214]\n"
          ]
        },
        {
          "output_type": "stream",
          "name": "stdout",
          "text": [
            "accuracy=90.375, loss=0.2508608692960388\n"
          ]
        },
        {
          "output_type": "stream",
          "name": "stderr",
          "text": [
            "Epoch 10: 100%|██████████| 600/600 [00:03<00:00, 166.09batch/s, accuracy=92.4, loss=0.205]\n"
          ]
        },
        {
          "output_type": "stream",
          "name": "stdout",
          "text": [
            "accuracy=90.75, loss=0.2121690708152073\n"
          ]
        },
        {
          "output_type": "stream",
          "name": "stderr",
          "text": [
            "Epoch 11: 100%|██████████| 600/600 [00:03<00:00, 154.30batch/s, accuracy=93.2, loss=0.191]\n"
          ]
        },
        {
          "output_type": "stream",
          "name": "stdout",
          "text": [
            "accuracy=90.875, loss=0.23473692307211422\n"
          ]
        },
        {
          "output_type": "stream",
          "name": "stderr",
          "text": [
            "Epoch 12: 100%|██████████| 600/600 [00:03<00:00, 155.46batch/s, accuracy=94, loss=0.173]\n"
          ]
        },
        {
          "output_type": "stream",
          "name": "stdout",
          "text": [
            "accuracy=91.375, loss=0.22154745601530068\n"
          ]
        },
        {
          "output_type": "stream",
          "name": "stderr",
          "text": [
            "Epoch 13: 100%|██████████| 600/600 [00:03<00:00, 155.11batch/s, accuracy=94.1, loss=0.165]\n"
          ]
        },
        {
          "output_type": "stream",
          "name": "stdout",
          "text": [
            "accuracy=91.5, loss=0.2060143488020003\n"
          ]
        },
        {
          "output_type": "stream",
          "name": "stderr",
          "text": [
            "Epoch 14: 100%|██████████| 600/600 [00:03<00:00, 161.53batch/s, accuracy=94.8, loss=0.15]\n"
          ]
        },
        {
          "output_type": "stream",
          "name": "stdout",
          "text": [
            "accuracy=92.375, loss=0.19774480786099957\n"
          ]
        },
        {
          "output_type": "stream",
          "name": "stderr",
          "text": [
            "Epoch 15: 100%|██████████| 600/600 [00:03<00:00, 163.34batch/s, accuracy=94.8, loss=0.141]\n"
          ]
        },
        {
          "output_type": "stream",
          "name": "stdout",
          "text": [
            "accuracy=92.75, loss=0.20624906244265048\n"
          ]
        },
        {
          "output_type": "stream",
          "name": "stderr",
          "text": [
            "Epoch 16: 100%|██████████| 600/600 [00:03<00:00, 153.92batch/s, accuracy=95.2, loss=0.133]\n"
          ]
        },
        {
          "output_type": "stream",
          "name": "stdout",
          "text": [
            "accuracy=93.375, loss=0.19426403504881876\n"
          ]
        },
        {
          "output_type": "stream",
          "name": "stderr",
          "text": [
            "Epoch 17: 100%|██████████| 600/600 [00:03<00:00, 154.28batch/s, accuracy=95.5, loss=0.127]\n"
          ]
        },
        {
          "output_type": "stream",
          "name": "stdout",
          "text": [
            "accuracy=93.875, loss=0.1699775419054214\n"
          ]
        },
        {
          "output_type": "stream",
          "name": "stderr",
          "text": [
            "Epoch 18: 100%|██████████| 600/600 [00:03<00:00, 157.95batch/s, accuracy=96.1, loss=0.113]\n"
          ]
        },
        {
          "output_type": "stream",
          "name": "stdout",
          "text": [
            "accuracy=91.375, loss=0.23905311191088002\n"
          ]
        },
        {
          "output_type": "stream",
          "name": "stderr",
          "text": [
            "Epoch 19: 100%|██████████| 600/600 [00:03<00:00, 167.95batch/s, accuracy=96.2, loss=0.111]\n"
          ]
        },
        {
          "output_type": "stream",
          "name": "stdout",
          "text": [
            "accuracy=92.375, loss=0.18894579980917625\n"
          ]
        },
        {
          "output_type": "stream",
          "name": "stderr",
          "text": [
            "Epoch 20: 100%|██████████| 600/600 [00:03<00:00, 167.14batch/s, accuracy=96.3, loss=0.105]\n"
          ]
        },
        {
          "output_type": "stream",
          "name": "stdout",
          "text": [
            "accuracy=92.875, loss=0.20765076489154297\n"
          ]
        },
        {
          "output_type": "stream",
          "name": "stderr",
          "text": [
            "Epoch 21: 100%|██████████| 600/600 [00:03<00:00, 156.81batch/s, accuracy=96.5, loss=0.102]\n"
          ]
        },
        {
          "output_type": "stream",
          "name": "stdout",
          "text": [
            "accuracy=93.75, loss=0.1717220874563273\n"
          ]
        },
        {
          "output_type": "stream",
          "name": "stderr",
          "text": [
            "Epoch 22: 100%|██████████| 600/600 [00:03<00:00, 153.88batch/s, accuracy=96.6, loss=0.0954]\n"
          ]
        },
        {
          "output_type": "stream",
          "name": "stdout",
          "text": [
            "accuracy=94.75, loss=0.1522776883904288\n"
          ]
        },
        {
          "output_type": "stream",
          "name": "stderr",
          "text": [
            "Epoch 23: 100%|██████████| 600/600 [00:03<00:00, 154.15batch/s, accuracy=96.6, loss=0.0969]\n"
          ]
        },
        {
          "output_type": "stream",
          "name": "stdout",
          "text": [
            "accuracy=91.875, loss=0.21592522724589883\n"
          ]
        },
        {
          "output_type": "stream",
          "name": "stderr",
          "text": [
            "Epoch 24: 100%|██████████| 600/600 [00:03<00:00, 158.64batch/s, accuracy=96.9, loss=0.0901]\n"
          ]
        },
        {
          "output_type": "stream",
          "name": "stdout",
          "text": [
            "accuracy=94.25, loss=0.15691540678327753\n"
          ]
        },
        {
          "output_type": "stream",
          "name": "stderr",
          "text": [
            "Epoch 25: 100%|██████████| 600/600 [00:03<00:00, 155.95batch/s, accuracy=96.9, loss=0.0861]\n"
          ]
        },
        {
          "output_type": "stream",
          "name": "stdout",
          "text": [
            "accuracy=93.5, loss=0.18192710163755976\n"
          ]
        },
        {
          "output_type": "stream",
          "name": "stderr",
          "text": [
            "Epoch 26: 100%|██████████| 600/600 [00:03<00:00, 154.56batch/s, accuracy=97.2, loss=0.0785]\n"
          ]
        },
        {
          "output_type": "stream",
          "name": "stdout",
          "text": [
            "accuracy=95.375, loss=0.12657532267725594\n"
          ]
        },
        {
          "output_type": "stream",
          "name": "stderr",
          "text": [
            "Epoch 27: 100%|██████████| 600/600 [00:03<00:00, 150.34batch/s, accuracy=97.7, loss=0.0677]\n"
          ]
        },
        {
          "output_type": "stream",
          "name": "stdout",
          "text": [
            "accuracy=95.125, loss=0.12680627047491647\n"
          ]
        },
        {
          "output_type": "stream",
          "name": "stderr",
          "text": [
            "Epoch 28: 100%|██████████| 600/600 [00:03<00:00, 168.84batch/s, accuracy=97.3, loss=0.0737]\n"
          ]
        },
        {
          "output_type": "stream",
          "name": "stdout",
          "text": [
            "accuracy=93.0, loss=0.19129376950257154\n"
          ]
        },
        {
          "output_type": "stream",
          "name": "stderr",
          "text": [
            "Epoch 29: 100%|██████████| 600/600 [00:03<00:00, 170.92batch/s, accuracy=97.7, loss=0.0643]\n"
          ]
        },
        {
          "output_type": "stream",
          "name": "stdout",
          "text": [
            "accuracy=94.375, loss=0.14559226278621726\n"
          ]
        },
        {
          "output_type": "stream",
          "name": "stderr",
          "text": [
            "Epoch 30: 100%|██████████| 600/600 [00:03<00:00, 160.25batch/s, accuracy=97.8, loss=0.0632]\n"
          ]
        },
        {
          "output_type": "stream",
          "name": "stdout",
          "text": [
            "accuracy=93.875, loss=0.16782870902774716\n"
          ]
        },
        {
          "output_type": "stream",
          "name": "stderr",
          "text": [
            "Epoch 31: 100%|██████████| 600/600 [00:03<00:00, 157.50batch/s, accuracy=98, loss=0.0567]\n"
          ]
        },
        {
          "output_type": "stream",
          "name": "stdout",
          "text": [
            "accuracy=95.25, loss=0.1329268762028172\n"
          ]
        },
        {
          "output_type": "stream",
          "name": "stderr",
          "text": [
            "Epoch 32: 100%|██████████| 600/600 [00:03<00:00, 151.43batch/s, accuracy=98, loss=0.0576]\n"
          ]
        },
        {
          "output_type": "stream",
          "name": "stdout",
          "text": [
            "accuracy=95.375, loss=0.12748328100891612\n"
          ]
        },
        {
          "output_type": "stream",
          "name": "stderr",
          "text": [
            "Epoch 33: 100%|██████████| 600/600 [00:03<00:00, 157.50batch/s, accuracy=97.9, loss=0.0562]\n"
          ]
        },
        {
          "output_type": "stream",
          "name": "stdout",
          "text": [
            "accuracy=95.0, loss=0.1313244937075263\n"
          ]
        },
        {
          "output_type": "stream",
          "name": "stderr",
          "text": [
            "Epoch 34: 100%|██████████| 600/600 [00:03<00:00, 155.49batch/s, accuracy=98.2, loss=0.0519]\n"
          ]
        },
        {
          "output_type": "stream",
          "name": "stdout",
          "text": [
            "accuracy=94.75, loss=0.16463973592796127\n"
          ]
        },
        {
          "output_type": "stream",
          "name": "stderr",
          "text": [
            "Epoch 35: 100%|██████████| 600/600 [00:03<00:00, 153.57batch/s, accuracy=98.2, loss=0.0521]\n"
          ]
        },
        {
          "output_type": "stream",
          "name": "stdout",
          "text": [
            "accuracy=95.375, loss=0.12999951800455317\n"
          ]
        },
        {
          "output_type": "stream",
          "name": "stderr",
          "text": [
            "Epoch 36: 100%|██████████| 600/600 [00:03<00:00, 153.95batch/s, accuracy=98.2, loss=0.049]\n"
          ]
        },
        {
          "output_type": "stream",
          "name": "stdout",
          "text": [
            "accuracy=95.375, loss=0.11689610035403238\n"
          ]
        },
        {
          "output_type": "stream",
          "name": "stderr",
          "text": [
            "Epoch 37: 100%|██████████| 600/600 [00:03<00:00, 151.16batch/s, accuracy=98.4, loss=0.0466]\n"
          ]
        },
        {
          "output_type": "stream",
          "name": "stdout",
          "text": [
            "accuracy=95.625, loss=0.13697143304341602\n"
          ]
        },
        {
          "output_type": "stream",
          "name": "stderr",
          "text": [
            "Epoch 38: 100%|██████████| 600/600 [00:03<00:00, 158.55batch/s, accuracy=98.4, loss=0.0454]\n"
          ]
        },
        {
          "output_type": "stream",
          "name": "stdout",
          "text": [
            "accuracy=94.25, loss=0.14302351891213186\n"
          ]
        },
        {
          "output_type": "stream",
          "name": "stderr",
          "text": [
            "Epoch 39: 100%|██████████| 600/600 [00:03<00:00, 160.48batch/s, accuracy=98.6, loss=0.0428]\n"
          ]
        },
        {
          "output_type": "stream",
          "name": "stdout",
          "text": [
            "accuracy=94.5, loss=0.15360565507567137\n"
          ]
        },
        {
          "output_type": "stream",
          "name": "stderr",
          "text": [
            "Epoch 40: 100%|██████████| 600/600 [00:03<00:00, 155.64batch/s, accuracy=98.5, loss=0.0433]\n"
          ]
        },
        {
          "output_type": "stream",
          "name": "stdout",
          "text": [
            "accuracy=95.25, loss=0.13818171795706538\n",
            "\n",
            "Test performance\n",
            "lang accuracy loss\n",
            "------------------\n",
            "  en     96.0  0.1\n",
            "  ch     98.4  0.1\n",
            "\n",
            "Begin training\n"
          ]
        },
        {
          "output_type": "stream",
          "name": "stderr",
          "text": [
            "Epoch 1: 100%|██████████| 600/600 [00:03<00:00, 155.04batch/s, accuracy=34.4, loss=1.36]\n"
          ]
        },
        {
          "output_type": "stream",
          "name": "stdout",
          "text": [
            "accuracy=55.0, loss=1.1781107765063643\n"
          ]
        },
        {
          "output_type": "stream",
          "name": "stderr",
          "text": [
            "Epoch 2: 100%|██████████| 600/600 [00:03<00:00, 160.25batch/s, accuracy=64.7, loss=0.828]\n"
          ]
        },
        {
          "output_type": "stream",
          "name": "stdout",
          "text": [
            "accuracy=75.75, loss=0.6591339332493953\n"
          ]
        },
        {
          "output_type": "stream",
          "name": "stderr",
          "text": [
            "Epoch 3: 100%|██████████| 600/600 [00:03<00:00, 155.20batch/s, accuracy=79.7, loss=0.538]\n"
          ]
        },
        {
          "output_type": "stream",
          "name": "stdout",
          "text": [
            "accuracy=84.5, loss=0.4443277061416302\n"
          ]
        },
        {
          "output_type": "stream",
          "name": "stderr",
          "text": [
            "Epoch 4: 100%|██████████| 600/600 [00:03<00:00, 154.47batch/s, accuracy=86.2, loss=0.377]\n"
          ]
        },
        {
          "output_type": "stream",
          "name": "stdout",
          "text": [
            "accuracy=87.75, loss=0.33529565251868915\n"
          ]
        },
        {
          "output_type": "stream",
          "name": "stderr",
          "text": [
            "Epoch 5: 100%|██████████| 600/600 [00:03<00:00, 152.73batch/s, accuracy=88.4, loss=0.309]\n"
          ]
        },
        {
          "output_type": "stream",
          "name": "stdout",
          "text": [
            "accuracy=88.125, loss=0.32552929357858373\n"
          ]
        },
        {
          "output_type": "stream",
          "name": "stderr",
          "text": [
            "Epoch 6: 100%|██████████| 600/600 [00:03<00:00, 159.18batch/s, accuracy=89.7, loss=0.281]\n"
          ]
        },
        {
          "output_type": "stream",
          "name": "stdout",
          "text": [
            "accuracy=90.25, loss=0.2522506692242314\n"
          ]
        },
        {
          "output_type": "stream",
          "name": "stderr",
          "text": [
            "Epoch 7: 100%|██████████| 600/600 [00:03<00:00, 160.16batch/s, accuracy=90.5, loss=0.254]\n"
          ]
        },
        {
          "output_type": "stream",
          "name": "stdout",
          "text": [
            "accuracy=90.125, loss=0.2525722202943962\n"
          ]
        },
        {
          "output_type": "stream",
          "name": "stderr",
          "text": [
            "Epoch 8: 100%|██████████| 600/600 [00:03<00:00, 153.55batch/s, accuracy=91.9, loss=0.225]\n"
          ]
        },
        {
          "output_type": "stream",
          "name": "stdout",
          "text": [
            "accuracy=89.5, loss=0.27520319996245235\n"
          ]
        },
        {
          "output_type": "stream",
          "name": "stderr",
          "text": [
            "Epoch 9: 100%|██████████| 600/600 [00:03<00:00, 155.05batch/s, accuracy=92, loss=0.214]\n"
          ]
        },
        {
          "output_type": "stream",
          "name": "stdout",
          "text": [
            "accuracy=91.0, loss=0.2312878906404785\n"
          ]
        },
        {
          "output_type": "stream",
          "name": "stderr",
          "text": [
            "Epoch 10: 100%|██████████| 600/600 [00:03<00:00, 153.55batch/s, accuracy=92.6, loss=0.202]\n"
          ]
        },
        {
          "output_type": "stream",
          "name": "stdout",
          "text": [
            "accuracy=91.25, loss=0.24061466083669075\n"
          ]
        },
        {
          "output_type": "stream",
          "name": "stderr",
          "text": [
            "Epoch 11: 100%|██████████| 600/600 [00:03<00:00, 157.01batch/s, accuracy=93.3, loss=0.182]\n"
          ]
        },
        {
          "output_type": "stream",
          "name": "stdout",
          "text": [
            "accuracy=91.25, loss=0.23382357002830303\n"
          ]
        },
        {
          "output_type": "stream",
          "name": "stderr",
          "text": [
            "Epoch 12: 100%|██████████| 600/600 [00:03<00:00, 165.35batch/s, accuracy=93.6, loss=0.174]\n"
          ]
        },
        {
          "output_type": "stream",
          "name": "stdout",
          "text": [
            "accuracy=92.0, loss=0.20925179549143422\n"
          ]
        },
        {
          "output_type": "stream",
          "name": "stderr",
          "text": [
            "Epoch 13: 100%|██████████| 600/600 [00:03<00:00, 151.23batch/s, accuracy=94.4, loss=0.162]\n"
          ]
        },
        {
          "output_type": "stream",
          "name": "stdout",
          "text": [
            "accuracy=92.5, loss=0.19391862459481446\n"
          ]
        },
        {
          "output_type": "stream",
          "name": "stderr",
          "text": [
            "Epoch 14: 100%|██████████| 600/600 [00:03<00:00, 154.64batch/s, accuracy=94.5, loss=0.151]\n"
          ]
        },
        {
          "output_type": "stream",
          "name": "stdout",
          "text": [
            "accuracy=91.625, loss=0.21171080837778278\n"
          ]
        },
        {
          "output_type": "stream",
          "name": "stderr",
          "text": [
            "Epoch 15: 100%|██████████| 600/600 [00:03<00:00, 161.20batch/s, accuracy=95, loss=0.138]\n"
          ]
        },
        {
          "output_type": "stream",
          "name": "stdout",
          "text": [
            "accuracy=91.625, loss=0.209568887710069\n"
          ]
        },
        {
          "output_type": "stream",
          "name": "stderr",
          "text": [
            "Epoch 16: 100%|██████████| 600/600 [00:03<00:00, 163.91batch/s, accuracy=95.5, loss=0.131]\n"
          ]
        },
        {
          "output_type": "stream",
          "name": "stdout",
          "text": [
            "accuracy=92.75, loss=0.18546691209204483\n"
          ]
        },
        {
          "output_type": "stream",
          "name": "stderr",
          "text": [
            "Epoch 17: 100%|██████████| 600/600 [00:03<00:00, 162.79batch/s, accuracy=95.7, loss=0.122]\n"
          ]
        },
        {
          "output_type": "stream",
          "name": "stdout",
          "text": [
            "accuracy=92.75, loss=0.19849814762537676\n"
          ]
        },
        {
          "output_type": "stream",
          "name": "stderr",
          "text": [
            "Epoch 18: 100%|██████████| 600/600 [00:03<00:00, 156.54batch/s, accuracy=95.9, loss=0.116]\n"
          ]
        },
        {
          "output_type": "stream",
          "name": "stdout",
          "text": [
            "accuracy=93.625, loss=0.19143935323151254\n"
          ]
        },
        {
          "output_type": "stream",
          "name": "stderr",
          "text": [
            "Epoch 19: 100%|██████████| 600/600 [00:03<00:00, 156.56batch/s, accuracy=96.1, loss=0.107]\n"
          ]
        },
        {
          "output_type": "stream",
          "name": "stdout",
          "text": [
            "accuracy=93.75, loss=0.16995364624321269\n"
          ]
        },
        {
          "output_type": "stream",
          "name": "stderr",
          "text": [
            "Epoch 20: 100%|██████████| 600/600 [00:03<00:00, 158.86batch/s, accuracy=96.2, loss=0.107]\n"
          ]
        },
        {
          "output_type": "stream",
          "name": "stdout",
          "text": [
            "accuracy=93.25, loss=0.18816801721566123\n"
          ]
        },
        {
          "output_type": "stream",
          "name": "stderr",
          "text": [
            "Epoch 21: 100%|██████████| 600/600 [00:03<00:00, 151.66batch/s, accuracy=96.7, loss=0.0982]\n"
          ]
        },
        {
          "output_type": "stream",
          "name": "stdout",
          "text": [
            "accuracy=95.0, loss=0.1486241672227129\n"
          ]
        },
        {
          "output_type": "stream",
          "name": "stderr",
          "text": [
            "Epoch 22: 100%|██████████| 600/600 [00:03<00:00, 150.36batch/s, accuracy=96.9, loss=0.0927]\n"
          ]
        },
        {
          "output_type": "stream",
          "name": "stdout",
          "text": [
            "accuracy=93.25, loss=0.17501549043992284\n"
          ]
        },
        {
          "output_type": "stream",
          "name": "stderr",
          "text": [
            "Epoch 23: 100%|██████████| 600/600 [00:03<00:00, 154.19batch/s, accuracy=96.8, loss=0.0892]\n"
          ]
        },
        {
          "output_type": "stream",
          "name": "stdout",
          "text": [
            "accuracy=92.875, loss=0.18456977744083972\n"
          ]
        },
        {
          "output_type": "stream",
          "name": "stderr",
          "text": [
            "Epoch 24: 100%|██████████| 600/600 [00:03<00:00, 152.58batch/s, accuracy=97.1, loss=0.0825]\n"
          ]
        },
        {
          "output_type": "stream",
          "name": "stdout",
          "text": [
            "accuracy=93.375, loss=0.18032486511298884\n"
          ]
        },
        {
          "output_type": "stream",
          "name": "stderr",
          "text": [
            "Epoch 25: 100%|██████████| 600/600 [00:03<00:00, 160.89batch/s, accuracy=97, loss=0.0831]\n"
          ]
        },
        {
          "output_type": "stream",
          "name": "stdout",
          "text": [
            "accuracy=93.0, loss=0.20832817296561235\n"
          ]
        },
        {
          "output_type": "stream",
          "name": "stderr",
          "text": [
            "Epoch 26: 100%|██████████| 600/600 [00:03<00:00, 161.72batch/s, accuracy=97.5, loss=0.0732]\n"
          ]
        },
        {
          "output_type": "stream",
          "name": "stdout",
          "text": [
            "accuracy=94.75, loss=0.14873470360584734\n"
          ]
        },
        {
          "output_type": "stream",
          "name": "stderr",
          "text": [
            "Epoch 27: 100%|██████████| 600/600 [00:03<00:00, 161.27batch/s, accuracy=97.7, loss=0.064]\n"
          ]
        },
        {
          "output_type": "stream",
          "name": "stdout",
          "text": [
            "accuracy=93.375, loss=0.1930973942556927\n"
          ]
        },
        {
          "output_type": "stream",
          "name": "stderr",
          "text": [
            "Epoch 28: 100%|██████████| 600/600 [00:03<00:00, 162.26batch/s, accuracy=97.6, loss=0.0693]\n"
          ]
        },
        {
          "output_type": "stream",
          "name": "stdout",
          "text": [
            "accuracy=94.375, loss=0.15837018385992976\n"
          ]
        },
        {
          "output_type": "stream",
          "name": "stderr",
          "text": [
            "Epoch 29: 100%|██████████| 600/600 [00:03<00:00, 157.56batch/s, accuracy=97.7, loss=0.0639]\n"
          ]
        },
        {
          "output_type": "stream",
          "name": "stdout",
          "text": [
            "accuracy=94.5, loss=0.13430775727402292\n"
          ]
        },
        {
          "output_type": "stream",
          "name": "stderr",
          "text": [
            "Epoch 30: 100%|██████████| 600/600 [00:03<00:00, 153.95batch/s, accuracy=97.6, loss=0.0644]\n"
          ]
        },
        {
          "output_type": "stream",
          "name": "stdout",
          "text": [
            "accuracy=94.75, loss=0.15902654774932842\n"
          ]
        },
        {
          "output_type": "stream",
          "name": "stderr",
          "text": [
            "Epoch 31: 100%|██████████| 600/600 [00:03<00:00, 151.71batch/s, accuracy=98, loss=0.0555]\n"
          ]
        },
        {
          "output_type": "stream",
          "name": "stdout",
          "text": [
            "accuracy=94.875, loss=0.15221427269129328\n"
          ]
        },
        {
          "output_type": "stream",
          "name": "stderr",
          "text": [
            "Epoch 32: 100%|██████████| 600/600 [00:03<00:00, 162.65batch/s, accuracy=98.1, loss=0.0537]\n"
          ]
        },
        {
          "output_type": "stream",
          "name": "stdout",
          "text": [
            "accuracy=94.0, loss=0.16251950006112337\n"
          ]
        },
        {
          "output_type": "stream",
          "name": "stderr",
          "text": [
            "Epoch 33: 100%|██████████| 600/600 [00:04<00:00, 149.12batch/s, accuracy=98.2, loss=0.0504]\n"
          ]
        },
        {
          "output_type": "stream",
          "name": "stdout",
          "text": [
            "accuracy=94.875, loss=0.17301300570965572\n"
          ]
        },
        {
          "output_type": "stream",
          "name": "stderr",
          "text": [
            "Epoch 34: 100%|██████████| 600/600 [00:03<00:00, 160.25batch/s, accuracy=98.3, loss=0.049]\n"
          ]
        },
        {
          "output_type": "stream",
          "name": "stdout",
          "text": [
            "accuracy=95.0, loss=0.13251504754094648\n"
          ]
        },
        {
          "output_type": "stream",
          "name": "stderr",
          "text": [
            "Epoch 35: 100%|██████████| 600/600 [00:03<00:00, 156.87batch/s, accuracy=98.3, loss=0.0494]\n"
          ]
        },
        {
          "output_type": "stream",
          "name": "stdout",
          "text": [
            "accuracy=94.875, loss=0.15883076753331365\n"
          ]
        },
        {
          "output_type": "stream",
          "name": "stderr",
          "text": [
            "Epoch 36: 100%|██████████| 600/600 [00:04<00:00, 147.74batch/s, accuracy=98.4, loss=0.0447]\n"
          ]
        },
        {
          "output_type": "stream",
          "name": "stdout",
          "text": [
            "accuracy=95.25, loss=0.13162771406664922\n"
          ]
        },
        {
          "output_type": "stream",
          "name": "stderr",
          "text": [
            "Epoch 37: 100%|██████████| 600/600 [00:03<00:00, 153.44batch/s, accuracy=98.6, loss=0.0415]\n"
          ]
        },
        {
          "output_type": "stream",
          "name": "stdout",
          "text": [
            "accuracy=95.25, loss=0.13291393819102623\n"
          ]
        },
        {
          "output_type": "stream",
          "name": "stderr",
          "text": [
            "Epoch 38: 100%|██████████| 600/600 [00:03<00:00, 154.45batch/s, accuracy=98.7, loss=0.0383]\n"
          ]
        },
        {
          "output_type": "stream",
          "name": "stdout",
          "text": [
            "accuracy=95.0, loss=0.15822878401896806\n"
          ]
        },
        {
          "output_type": "stream",
          "name": "stderr",
          "text": [
            "Epoch 39: 100%|██████████| 600/600 [00:03<00:00, 168.32batch/s, accuracy=98.5, loss=0.0427]\n"
          ]
        },
        {
          "output_type": "stream",
          "name": "stdout",
          "text": [
            "accuracy=95.25, loss=0.1260065691510418\n"
          ]
        },
        {
          "output_type": "stream",
          "name": "stderr",
          "text": [
            "Epoch 40: 100%|██████████| 600/600 [00:03<00:00, 158.78batch/s, accuracy=98.6, loss=0.0397]\n"
          ]
        },
        {
          "output_type": "stream",
          "name": "stdout",
          "text": [
            "accuracy=94.375, loss=0.16814243995641426\n",
            "\n",
            "Test performance\n",
            "lang accuracy loss\n",
            "------------------\n",
            "  en     96.4  0.1\n",
            "  ch     98.8  0.1\n",
            "\n",
            "Begin training\n"
          ]
        },
        {
          "output_type": "stream",
          "name": "stderr",
          "text": [
            "Epoch 1: 100%|██████████| 600/600 [00:03<00:00, 158.81batch/s, accuracy=33.2, loss=1.36]\n"
          ]
        },
        {
          "output_type": "stream",
          "name": "stdout",
          "text": [
            "accuracy=51.375, loss=1.1429467779397964\n"
          ]
        },
        {
          "output_type": "stream",
          "name": "stderr",
          "text": [
            "Epoch 2: 100%|██████████| 600/600 [00:03<00:00, 150.60batch/s, accuracy=64.9, loss=0.829]\n"
          ]
        },
        {
          "output_type": "stream",
          "name": "stdout",
          "text": [
            "accuracy=72.625, loss=0.7082742582820356\n"
          ]
        },
        {
          "output_type": "stream",
          "name": "stderr",
          "text": [
            "Epoch 3: 100%|██████████| 600/600 [00:03<00:00, 162.18batch/s, accuracy=77.6, loss=0.571]\n"
          ]
        },
        {
          "output_type": "stream",
          "name": "stdout",
          "text": [
            "accuracy=83.0, loss=0.4759374019014649\n"
          ]
        },
        {
          "output_type": "stream",
          "name": "stderr",
          "text": [
            "Epoch 4: 100%|██████████| 600/600 [00:03<00:00, 167.88batch/s, accuracy=83.7, loss=0.428]\n"
          ]
        },
        {
          "output_type": "stream",
          "name": "stdout",
          "text": [
            "accuracy=85.625, loss=0.3758529890270438\n"
          ]
        },
        {
          "output_type": "stream",
          "name": "stderr",
          "text": [
            "Epoch 5: 100%|██████████| 600/600 [00:03<00:00, 151.57batch/s, accuracy=87.2, loss=0.343]\n"
          ]
        },
        {
          "output_type": "stream",
          "name": "stdout",
          "text": [
            "accuracy=89.0, loss=0.3087332824659825\n"
          ]
        },
        {
          "output_type": "stream",
          "name": "stderr",
          "text": [
            "Epoch 6: 100%|██████████| 600/600 [00:03<00:00, 157.16batch/s, accuracy=88.8, loss=0.299]\n"
          ]
        },
        {
          "output_type": "stream",
          "name": "stdout",
          "text": [
            "accuracy=88.5, loss=0.2887435876719246\n"
          ]
        },
        {
          "output_type": "stream",
          "name": "stderr",
          "text": [
            "Epoch 7: 100%|██████████| 600/600 [00:03<00:00, 157.74batch/s, accuracy=90.3, loss=0.266]\n"
          ]
        },
        {
          "output_type": "stream",
          "name": "stdout",
          "text": [
            "accuracy=89.875, loss=0.26701686357395377\n"
          ]
        },
        {
          "output_type": "stream",
          "name": "stderr",
          "text": [
            "Epoch 8: 100%|██████████| 600/600 [00:03<00:00, 157.19batch/s, accuracy=91.2, loss=0.241]\n"
          ]
        },
        {
          "output_type": "stream",
          "name": "stdout",
          "text": [
            "accuracy=91.125, loss=0.2564942530254666\n"
          ]
        },
        {
          "output_type": "stream",
          "name": "stderr",
          "text": [
            "Epoch 9: 100%|██████████| 600/600 [00:03<00:00, 163.89batch/s, accuracy=92.1, loss=0.22]\n"
          ]
        },
        {
          "output_type": "stream",
          "name": "stdout",
          "text": [
            "accuracy=89.5, loss=0.2537572824520066\n"
          ]
        },
        {
          "output_type": "stream",
          "name": "stderr",
          "text": [
            "Epoch 10: 100%|██████████| 600/600 [00:03<00:00, 157.66batch/s, accuracy=92.7, loss=0.208]\n"
          ]
        },
        {
          "output_type": "stream",
          "name": "stdout",
          "text": [
            "accuracy=91.375, loss=0.22221139792962277\n"
          ]
        },
        {
          "output_type": "stream",
          "name": "stderr",
          "text": [
            "Epoch 11: 100%|██████████| 600/600 [00:03<00:00, 157.28batch/s, accuracy=93.3, loss=0.186]\n"
          ]
        },
        {
          "output_type": "stream",
          "name": "stdout",
          "text": [
            "accuracy=90.0, loss=0.26031049128301675\n"
          ]
        },
        {
          "output_type": "stream",
          "name": "stderr",
          "text": [
            "Epoch 12: 100%|██████████| 600/600 [00:03<00:00, 157.35batch/s, accuracy=93.3, loss=0.182]\n"
          ]
        },
        {
          "output_type": "stream",
          "name": "stdout",
          "text": [
            "accuracy=90.875, loss=0.22812609395530672\n"
          ]
        },
        {
          "output_type": "stream",
          "name": "stderr",
          "text": [
            "Epoch 13: 100%|██████████| 600/600 [00:03<00:00, 167.52batch/s, accuracy=94, loss=0.165]\n"
          ]
        },
        {
          "output_type": "stream",
          "name": "stdout",
          "text": [
            "accuracy=92.625, loss=0.19743908970217944\n"
          ]
        },
        {
          "output_type": "stream",
          "name": "stderr",
          "text": [
            "Epoch 14: 100%|██████████| 600/600 [00:03<00:00, 167.11batch/s, accuracy=94.6, loss=0.152]\n"
          ]
        },
        {
          "output_type": "stream",
          "name": "stdout",
          "text": [
            "accuracy=93.5, loss=0.1876532295346533\n"
          ]
        },
        {
          "output_type": "stream",
          "name": "stderr",
          "text": [
            "Epoch 15: 100%|██████████| 600/600 [00:03<00:00, 166.79batch/s, accuracy=94.9, loss=0.144]\n"
          ]
        },
        {
          "output_type": "stream",
          "name": "stdout",
          "text": [
            "accuracy=92.375, loss=0.2011676801450858\n"
          ]
        },
        {
          "output_type": "stream",
          "name": "stderr",
          "text": [
            "Epoch 16: 100%|██████████| 600/600 [00:03<00:00, 168.90batch/s, accuracy=95, loss=0.134]\n"
          ]
        },
        {
          "output_type": "stream",
          "name": "stdout",
          "text": [
            "accuracy=92.5, loss=0.1926338150005995\n"
          ]
        },
        {
          "output_type": "stream",
          "name": "stderr",
          "text": [
            "Epoch 17: 100%|██████████| 600/600 [00:03<00:00, 164.77batch/s, accuracy=95.2, loss=0.132]\n"
          ]
        },
        {
          "output_type": "stream",
          "name": "stdout",
          "text": [
            "accuracy=91.125, loss=0.21834131479010466\n"
          ]
        },
        {
          "output_type": "stream",
          "name": "stderr",
          "text": [
            "Epoch 18: 100%|██████████| 600/600 [00:03<00:00, 161.28batch/s, accuracy=95.9, loss=0.116]\n"
          ]
        },
        {
          "output_type": "stream",
          "name": "stdout",
          "text": [
            "accuracy=93.5, loss=0.17347151085931897\n"
          ]
        },
        {
          "output_type": "stream",
          "name": "stderr",
          "text": [
            "Epoch 19: 100%|██████████| 600/600 [00:03<00:00, 157.08batch/s, accuracy=95.8, loss=0.116]\n"
          ]
        },
        {
          "output_type": "stream",
          "name": "stdout",
          "text": [
            "accuracy=92.875, loss=0.20869930768111203\n"
          ]
        },
        {
          "output_type": "stream",
          "name": "stderr",
          "text": [
            "Epoch 20: 100%|██████████| 600/600 [00:03<00:00, 157.09batch/s, accuracy=96.6, loss=0.102]\n"
          ]
        },
        {
          "output_type": "stream",
          "name": "stdout",
          "text": [
            "accuracy=92.25, loss=0.20347981312519267\n"
          ]
        },
        {
          "output_type": "stream",
          "name": "stderr",
          "text": [
            "Epoch 21: 100%|██████████| 600/600 [00:03<00:00, 169.07batch/s, accuracy=96.3, loss=0.0995]\n"
          ]
        },
        {
          "output_type": "stream",
          "name": "stdout",
          "text": [
            "accuracy=92.5, loss=0.1931520978320134\n"
          ]
        },
        {
          "output_type": "stream",
          "name": "stderr",
          "text": [
            "Epoch 22: 100%|██████████| 600/600 [00:03<00:00, 166.09batch/s, accuracy=96.8, loss=0.093]\n"
          ]
        },
        {
          "output_type": "stream",
          "name": "stdout",
          "text": [
            "accuracy=94.125, loss=0.18122541230662306\n"
          ]
        },
        {
          "output_type": "stream",
          "name": "stderr",
          "text": [
            "Epoch 23: 100%|██████████| 600/600 [00:03<00:00, 158.98batch/s, accuracy=97, loss=0.0863]\n"
          ]
        },
        {
          "output_type": "stream",
          "name": "stdout",
          "text": [
            "accuracy=93.0, loss=0.19522644763993754\n"
          ]
        },
        {
          "output_type": "stream",
          "name": "stderr",
          "text": [
            "Epoch 24: 100%|██████████| 600/600 [00:03<00:00, 154.48batch/s, accuracy=97, loss=0.0899]\n"
          ]
        },
        {
          "output_type": "stream",
          "name": "stdout",
          "text": [
            "accuracy=95.0, loss=0.14570147738572983\n"
          ]
        },
        {
          "output_type": "stream",
          "name": "stderr",
          "text": [
            "Epoch 25: 100%|██████████| 600/600 [00:03<00:00, 158.65batch/s, accuracy=97.3, loss=0.0811]\n"
          ]
        },
        {
          "output_type": "stream",
          "name": "stdout",
          "text": [
            "accuracy=95.5, loss=0.13101017487633684\n"
          ]
        },
        {
          "output_type": "stream",
          "name": "stderr",
          "text": [
            "Epoch 26: 100%|██████████| 600/600 [00:03<00:00, 159.70batch/s, accuracy=97.2, loss=0.0802]\n"
          ]
        },
        {
          "output_type": "stream",
          "name": "stdout",
          "text": [
            "accuracy=94.75, loss=0.14796582017765586\n"
          ]
        },
        {
          "output_type": "stream",
          "name": "stderr",
          "text": [
            "Epoch 27: 100%|██████████| 600/600 [00:03<00:00, 169.67batch/s, accuracy=97.3, loss=0.0762]\n"
          ]
        },
        {
          "output_type": "stream",
          "name": "stdout",
          "text": [
            "accuracy=93.75, loss=0.16292371080043097\n"
          ]
        },
        {
          "output_type": "stream",
          "name": "stderr",
          "text": [
            "Epoch 28: 100%|██████████| 600/600 [00:03<00:00, 167.84batch/s, accuracy=97.5, loss=0.0729]\n"
          ]
        },
        {
          "output_type": "stream",
          "name": "stdout",
          "text": [
            "accuracy=93.875, loss=0.15497089025215416\n"
          ]
        },
        {
          "output_type": "stream",
          "name": "stderr",
          "text": [
            "Epoch 29: 100%|██████████| 600/600 [00:04<00:00, 148.58batch/s, accuracy=97.6, loss=0.0666]\n"
          ]
        },
        {
          "output_type": "stream",
          "name": "stdout",
          "text": [
            "accuracy=94.875, loss=0.12984136537780672\n"
          ]
        },
        {
          "output_type": "stream",
          "name": "stderr",
          "text": [
            "Epoch 30: 100%|██████████| 600/600 [00:03<00:00, 150.97batch/s, accuracy=97.7, loss=0.0661]\n"
          ]
        },
        {
          "output_type": "stream",
          "name": "stdout",
          "text": [
            "accuracy=94.375, loss=0.1534421583877912\n"
          ]
        },
        {
          "output_type": "stream",
          "name": "stderr",
          "text": [
            "Epoch 31: 100%|██████████| 600/600 [00:03<00:00, 165.36batch/s, accuracy=97.8, loss=0.0629]\n"
          ]
        },
        {
          "output_type": "stream",
          "name": "stdout",
          "text": [
            "accuracy=92.875, loss=0.19753058224848707\n"
          ]
        },
        {
          "output_type": "stream",
          "name": "stderr",
          "text": [
            "Epoch 32: 100%|██████████| 600/600 [00:03<00:00, 160.14batch/s, accuracy=98.1, loss=0.0557]\n"
          ]
        },
        {
          "output_type": "stream",
          "name": "stdout",
          "text": [
            "accuracy=95.125, loss=0.13043063323402343\n"
          ]
        },
        {
          "output_type": "stream",
          "name": "stderr",
          "text": [
            "Epoch 33: 100%|██████████| 600/600 [00:03<00:00, 161.94batch/s, accuracy=98.2, loss=0.0523]\n"
          ]
        },
        {
          "output_type": "stream",
          "name": "stdout",
          "text": [
            "accuracy=95.25, loss=0.1416196341022102\n"
          ]
        },
        {
          "output_type": "stream",
          "name": "stderr",
          "text": [
            "Epoch 34: 100%|██████████| 600/600 [00:03<00:00, 158.12batch/s, accuracy=98.4, loss=0.0486]\n"
          ]
        },
        {
          "output_type": "stream",
          "name": "stdout",
          "text": [
            "accuracy=93.625, loss=0.17117759855597264\n"
          ]
        },
        {
          "output_type": "stream",
          "name": "stderr",
          "text": [
            "Epoch 35: 100%|██████████| 600/600 [00:03<00:00, 158.59batch/s, accuracy=98.2, loss=0.0488]\n"
          ]
        },
        {
          "output_type": "stream",
          "name": "stdout",
          "text": [
            "accuracy=95.375, loss=0.12506292481337083\n"
          ]
        },
        {
          "output_type": "stream",
          "name": "stderr",
          "text": [
            "Epoch 36: 100%|██████████| 600/600 [00:03<00:00, 159.86batch/s, accuracy=98.2, loss=0.0485]\n"
          ]
        },
        {
          "output_type": "stream",
          "name": "stdout",
          "text": [
            "accuracy=94.875, loss=0.14091370408464543\n"
          ]
        },
        {
          "output_type": "stream",
          "name": "stderr",
          "text": [
            "Epoch 37: 100%|██████████| 600/600 [00:03<00:00, 157.55batch/s, accuracy=98.4, loss=0.0462]\n"
          ]
        },
        {
          "output_type": "stream",
          "name": "stdout",
          "text": [
            "accuracy=95.0, loss=0.14286710193288463\n"
          ]
        },
        {
          "output_type": "stream",
          "name": "stderr",
          "text": [
            "Epoch 38: 100%|██████████| 600/600 [00:04<00:00, 146.28batch/s, accuracy=98.5, loss=0.0425]\n"
          ]
        },
        {
          "output_type": "stream",
          "name": "stdout",
          "text": [
            "accuracy=95.25, loss=0.13404950059037113\n"
          ]
        },
        {
          "output_type": "stream",
          "name": "stderr",
          "text": [
            "Epoch 39: 100%|██████████| 600/600 [00:04<00:00, 149.23batch/s, accuracy=98.7, loss=0.0407]\n"
          ]
        },
        {
          "output_type": "stream",
          "name": "stdout",
          "text": [
            "accuracy=94.625, loss=0.1416468990430959\n"
          ]
        },
        {
          "output_type": "stream",
          "name": "stderr",
          "text": [
            "Epoch 40: 100%|██████████| 600/600 [00:03<00:00, 161.70batch/s, accuracy=98.6, loss=0.038]\n"
          ]
        },
        {
          "output_type": "stream",
          "name": "stdout",
          "text": [
            "accuracy=94.75, loss=0.1417471871375083\n",
            "\n",
            "Test performance\n",
            "lang accuracy loss\n",
            "------------------\n",
            "  en     95.2  0.1\n",
            "  ch     98.5  0.1\n",
            "\n",
            "\n",
            "\n",
            "Trained on en ch TitaNet voiceprints\n",
            "Average test performance over 4 iteration(s)\n",
            "lang accuracy loss\n",
            "------------------\n",
            "  en     96.0  0.1\n",
            "  ch     98.6  0.1\n",
            "\n",
            "Running the script took 00:10:33\n"
          ]
        }
      ]
    },
    {
      "cell_type": "code",
      "source": [
        "if __name__ == \"__main__\":\n",
        "  start = time.time()\n",
        "\n",
        "  langs = [\"en\"]\n",
        "\n",
        "  pipeline = ModelDataPipeline(epochs=epochs,\n",
        "                               learning_rate=learning_rate,\n",
        "                               langs=langs,\n",
        "                               proportion=proportion)\n",
        "  \n",
        "  pipeline.run_per_split(remixed_data=False)\n",
        "\n",
        "  end = time.time()\n",
        "\n",
        "  print(f\"\\nRunning the script took {running_time(start, end)}\")"
      ],
      "metadata": {
        "id": "cGm58CrAp6u_",
        "colab": {
          "base_uri": "https://localhost:8080/"
        },
        "outputId": "06668b22-ca0d-42c6-a258-82458bdc90c0"
      },
      "execution_count": null,
      "outputs": [
        {
          "output_type": "stream",
          "name": "stdout",
          "text": [
            "Setting up epochs: 40\n",
            "\tlearning rate: 5e-05\n",
            "\tlangs: en\n",
            "Getting 100% of samples\n",
            "Processing 100% of samples took 00:00:03\n",
            "Getting 100% of samples\n",
            "Processing 100% of samples took 00:00:04\n",
            "Getting 100% of samples\n",
            "Processing 100% of samples took 00:00:03\n",
            "Getting 100% of samples\n",
            "Processing 100% of samples took 00:00:02\n",
            "Begin training\n"
          ]
        },
        {
          "output_type": "stream",
          "name": "stderr",
          "text": [
            "Epoch 1: 100%|██████████| 600/600 [00:04<00:00, 148.14batch/s, accuracy=34.5, loss=1.36]\n"
          ]
        },
        {
          "output_type": "stream",
          "name": "stdout",
          "text": [
            "accuracy=54.875, loss=1.1414355506747962\n"
          ]
        },
        {
          "output_type": "stream",
          "name": "stderr",
          "text": [
            "Epoch 2: 100%|██████████| 600/600 [00:03<00:00, 152.88batch/s, accuracy=64.8, loss=0.824]\n"
          ]
        },
        {
          "output_type": "stream",
          "name": "stdout",
          "text": [
            "accuracy=68.25, loss=0.7274786843464244\n"
          ]
        },
        {
          "output_type": "stream",
          "name": "stderr",
          "text": [
            "Epoch 3: 100%|██████████| 600/600 [00:03<00:00, 164.27batch/s, accuracy=76.5, loss=0.589]\n"
          ]
        },
        {
          "output_type": "stream",
          "name": "stdout",
          "text": [
            "accuracy=79.125, loss=0.5325605555615038\n"
          ]
        },
        {
          "output_type": "stream",
          "name": "stderr",
          "text": [
            "Epoch 4: 100%|██████████| 600/600 [00:03<00:00, 163.61batch/s, accuracy=84.5, loss=0.418]\n"
          ]
        },
        {
          "output_type": "stream",
          "name": "stdout",
          "text": [
            "accuracy=84.75, loss=0.41244956388756693\n"
          ]
        },
        {
          "output_type": "stream",
          "name": "stderr",
          "text": [
            "Epoch 5: 100%|██████████| 600/600 [00:03<00:00, 152.64batch/s, accuracy=88.2, loss=0.316]\n"
          ]
        },
        {
          "output_type": "stream",
          "name": "stdout",
          "text": [
            "accuracy=87.125, loss=0.3534223883212326\n"
          ]
        },
        {
          "output_type": "stream",
          "name": "stderr",
          "text": [
            "Epoch 6: 100%|██████████| 600/600 [00:03<00:00, 156.06batch/s, accuracy=90.2, loss=0.269]\n"
          ]
        },
        {
          "output_type": "stream",
          "name": "stdout",
          "text": [
            "accuracy=88.25, loss=0.332707508489857\n"
          ]
        },
        {
          "output_type": "stream",
          "name": "stderr",
          "text": [
            "Epoch 7: 100%|██████████| 600/600 [00:03<00:00, 166.21batch/s, accuracy=91.4, loss=0.236]\n"
          ]
        },
        {
          "output_type": "stream",
          "name": "stdout",
          "text": [
            "accuracy=89.25, loss=0.3156493652800964\n"
          ]
        },
        {
          "output_type": "stream",
          "name": "stderr",
          "text": [
            "Epoch 8: 100%|██████████| 600/600 [00:03<00:00, 159.70batch/s, accuracy=92.5, loss=0.208]\n"
          ]
        },
        {
          "output_type": "stream",
          "name": "stdout",
          "text": [
            "accuracy=89.375, loss=0.29977778655927523\n"
          ]
        },
        {
          "output_type": "stream",
          "name": "stderr",
          "text": [
            "Epoch 9: 100%|██████████| 600/600 [00:03<00:00, 156.08batch/s, accuracy=93.3, loss=0.185]\n"
          ]
        },
        {
          "output_type": "stream",
          "name": "stdout",
          "text": [
            "accuracy=90.625, loss=0.28779059472646623\n"
          ]
        },
        {
          "output_type": "stream",
          "name": "stderr",
          "text": [
            "Epoch 10: 100%|██████████| 600/600 [00:03<00:00, 158.23batch/s, accuracy=94, loss=0.168]\n"
          ]
        },
        {
          "output_type": "stream",
          "name": "stdout",
          "text": [
            "accuracy=90.875, loss=0.27712657338404595\n"
          ]
        },
        {
          "output_type": "stream",
          "name": "stderr",
          "text": [
            "Epoch 11: 100%|██████████| 600/600 [00:03<00:00, 163.88batch/s, accuracy=94.5, loss=0.153]\n"
          ]
        },
        {
          "output_type": "stream",
          "name": "stdout",
          "text": [
            "accuracy=91.5, loss=0.2570492547363119\n"
          ]
        },
        {
          "output_type": "stream",
          "name": "stderr",
          "text": [
            "Epoch 12: 100%|██████████| 600/600 [00:03<00:00, 162.71batch/s, accuracy=94.8, loss=0.148]\n"
          ]
        },
        {
          "output_type": "stream",
          "name": "stdout",
          "text": [
            "accuracy=91.25, loss=0.2594848616323793\n"
          ]
        },
        {
          "output_type": "stream",
          "name": "stderr",
          "text": [
            "Epoch 13: 100%|██████████| 600/600 [00:03<00:00, 156.92batch/s, accuracy=95.2, loss=0.134]\n"
          ]
        },
        {
          "output_type": "stream",
          "name": "stdout",
          "text": [
            "accuracy=91.375, loss=0.25609066341052883\n"
          ]
        },
        {
          "output_type": "stream",
          "name": "stderr",
          "text": [
            "Epoch 14: 100%|██████████| 600/600 [00:03<00:00, 153.64batch/s, accuracy=95.7, loss=0.126]\n"
          ]
        },
        {
          "output_type": "stream",
          "name": "stdout",
          "text": [
            "accuracy=91.25, loss=0.26687428001057584\n"
          ]
        },
        {
          "output_type": "stream",
          "name": "stderr",
          "text": [
            "Epoch 15: 100%|██████████| 600/600 [00:03<00:00, 159.68batch/s, accuracy=95.7, loss=0.119]\n"
          ]
        },
        {
          "output_type": "stream",
          "name": "stdout",
          "text": [
            "accuracy=91.875, loss=0.2418378740453039\n"
          ]
        },
        {
          "output_type": "stream",
          "name": "stderr",
          "text": [
            "Epoch 16: 100%|██████████| 600/600 [00:03<00:00, 162.07batch/s, accuracy=96.2, loss=0.109]\n"
          ]
        },
        {
          "output_type": "stream",
          "name": "stdout",
          "text": [
            "accuracy=91.125, loss=0.24343345952381357\n"
          ]
        },
        {
          "output_type": "stream",
          "name": "stderr",
          "text": [
            "Epoch 17: 100%|██████████| 600/600 [00:03<00:00, 161.01batch/s, accuracy=96.3, loss=0.105]\n"
          ]
        },
        {
          "output_type": "stream",
          "name": "stdout",
          "text": [
            "accuracy=92.375, loss=0.2283011054303455\n"
          ]
        },
        {
          "output_type": "stream",
          "name": "stderr",
          "text": [
            "Epoch 18: 100%|██████████| 600/600 [00:03<00:00, 163.92batch/s, accuracy=96.7, loss=0.0926]\n"
          ]
        },
        {
          "output_type": "stream",
          "name": "stdout",
          "text": [
            "accuracy=92.125, loss=0.23729415147459804\n"
          ]
        },
        {
          "output_type": "stream",
          "name": "stderr",
          "text": [
            "Epoch 19: 100%|██████████| 600/600 [00:03<00:00, 163.18batch/s, accuracy=96.8, loss=0.0909]\n"
          ]
        },
        {
          "output_type": "stream",
          "name": "stdout",
          "text": [
            "accuracy=92.125, loss=0.2343704989836479\n"
          ]
        },
        {
          "output_type": "stream",
          "name": "stderr",
          "text": [
            "Epoch 20: 100%|██████████| 600/600 [00:03<00:00, 159.62batch/s, accuracy=97.2, loss=0.0805]\n"
          ]
        },
        {
          "output_type": "stream",
          "name": "stdout",
          "text": [
            "accuracy=92.5, loss=0.22823702444180227\n"
          ]
        },
        {
          "output_type": "stream",
          "name": "stderr",
          "text": [
            "Epoch 21: 100%|██████████| 600/600 [00:03<00:00, 160.37batch/s, accuracy=97.2, loss=0.0785]\n"
          ]
        },
        {
          "output_type": "stream",
          "name": "stdout",
          "text": [
            "accuracy=92.625, loss=0.2229626264410127\n"
          ]
        },
        {
          "output_type": "stream",
          "name": "stderr",
          "text": [
            "Epoch 22: 100%|██████████| 600/600 [00:03<00:00, 161.70batch/s, accuracy=97.4, loss=0.0705]\n"
          ]
        },
        {
          "output_type": "stream",
          "name": "stdout",
          "text": [
            "accuracy=92.75, loss=0.2270527713348588\n"
          ]
        },
        {
          "output_type": "stream",
          "name": "stderr",
          "text": [
            "Epoch 23: 100%|██████████| 600/600 [00:03<00:00, 152.63batch/s, accuracy=97.7, loss=0.0654]\n"
          ]
        },
        {
          "output_type": "stream",
          "name": "stdout",
          "text": [
            "accuracy=92.625, loss=0.2422798375434716\n"
          ]
        },
        {
          "output_type": "stream",
          "name": "stderr",
          "text": [
            "Epoch 24: 100%|██████████| 600/600 [00:03<00:00, 158.49batch/s, accuracy=97.7, loss=0.0655]\n"
          ]
        },
        {
          "output_type": "stream",
          "name": "stdout",
          "text": [
            "accuracy=92.0, loss=0.23349802149392704\n"
          ]
        },
        {
          "output_type": "stream",
          "name": "stderr",
          "text": [
            "Epoch 25: 100%|██████████| 600/600 [00:03<00:00, 158.20batch/s, accuracy=98, loss=0.0597]\n"
          ]
        },
        {
          "output_type": "stream",
          "name": "stdout",
          "text": [
            "accuracy=93.5, loss=0.20802741451805665\n"
          ]
        },
        {
          "output_type": "stream",
          "name": "stderr",
          "text": [
            "Epoch 26: 100%|██████████| 600/600 [00:03<00:00, 158.17batch/s, accuracy=98, loss=0.0568]\n"
          ]
        },
        {
          "output_type": "stream",
          "name": "stdout",
          "text": [
            "accuracy=92.625, loss=0.21832680282427155\n"
          ]
        },
        {
          "output_type": "stream",
          "name": "stderr",
          "text": [
            "Epoch 27: 100%|██████████| 600/600 [00:03<00:00, 160.49batch/s, accuracy=98.2, loss=0.0555]\n"
          ]
        },
        {
          "output_type": "stream",
          "name": "stdout",
          "text": [
            "accuracy=93.0, loss=0.2254501891851238\n"
          ]
        },
        {
          "output_type": "stream",
          "name": "stderr",
          "text": [
            "Epoch 28: 100%|██████████| 600/600 [00:03<00:00, 154.49batch/s, accuracy=98.1, loss=0.0523]\n"
          ]
        },
        {
          "output_type": "stream",
          "name": "stdout",
          "text": [
            "accuracy=92.875, loss=0.20997512423120931\n"
          ]
        },
        {
          "output_type": "stream",
          "name": "stderr",
          "text": [
            "Epoch 29: 100%|██████████| 600/600 [00:03<00:00, 154.29batch/s, accuracy=98.2, loss=0.0485]\n"
          ]
        },
        {
          "output_type": "stream",
          "name": "stdout",
          "text": [
            "accuracy=93.0, loss=0.21010754485796737\n"
          ]
        },
        {
          "output_type": "stream",
          "name": "stderr",
          "text": [
            "Epoch 30: 100%|██████████| 600/600 [00:03<00:00, 154.56batch/s, accuracy=98.7, loss=0.0417]\n"
          ]
        },
        {
          "output_type": "stream",
          "name": "stdout",
          "text": [
            "accuracy=93.0, loss=0.22508161995383777\n"
          ]
        },
        {
          "output_type": "stream",
          "name": "stderr",
          "text": [
            "Epoch 31: 100%|██████████| 600/600 [00:03<00:00, 157.08batch/s, accuracy=98.5, loss=0.0424]\n"
          ]
        },
        {
          "output_type": "stream",
          "name": "stdout",
          "text": [
            "accuracy=93.125, loss=0.24586429909732022\n"
          ]
        },
        {
          "output_type": "stream",
          "name": "stderr",
          "text": [
            "Epoch 32: 100%|██████████| 600/600 [00:03<00:00, 156.65batch/s, accuracy=98.8, loss=0.0377]\n"
          ]
        },
        {
          "output_type": "stream",
          "name": "stdout",
          "text": [
            "accuracy=93.0, loss=0.2302953532462192\n"
          ]
        },
        {
          "output_type": "stream",
          "name": "stderr",
          "text": [
            "Epoch 33: 100%|██████████| 600/600 [00:03<00:00, 160.63batch/s, accuracy=98.7, loss=0.0356]\n"
          ]
        },
        {
          "output_type": "stream",
          "name": "stdout",
          "text": [
            "accuracy=93.0, loss=0.21579046782719863\n"
          ]
        },
        {
          "output_type": "stream",
          "name": "stderr",
          "text": [
            "Epoch 34: 100%|██████████| 600/600 [00:03<00:00, 159.54batch/s, accuracy=98.6, loss=0.0369]\n"
          ]
        },
        {
          "output_type": "stream",
          "name": "stdout",
          "text": [
            "accuracy=92.875, loss=0.2373372346159407\n"
          ]
        },
        {
          "output_type": "stream",
          "name": "stderr",
          "text": [
            "Epoch 35: 100%|██████████| 600/600 [00:03<00:00, 164.64batch/s, accuracy=98.9, loss=0.0311]\n"
          ]
        },
        {
          "output_type": "stream",
          "name": "stdout",
          "text": [
            "accuracy=92.75, loss=0.24120859276073112\n"
          ]
        },
        {
          "output_type": "stream",
          "name": "stderr",
          "text": [
            "Epoch 36: 100%|██████████| 600/600 [00:03<00:00, 169.39batch/s, accuracy=99, loss=0.0296]\n"
          ]
        },
        {
          "output_type": "stream",
          "name": "stdout",
          "text": [
            "accuracy=94.0, loss=0.22152263548382714\n"
          ]
        },
        {
          "output_type": "stream",
          "name": "stderr",
          "text": [
            "Epoch 37: 100%|██████████| 600/600 [00:03<00:00, 159.60batch/s, accuracy=98.9, loss=0.0288]\n"
          ]
        },
        {
          "output_type": "stream",
          "name": "stdout",
          "text": [
            "accuracy=92.75, loss=0.25895985111827263\n"
          ]
        },
        {
          "output_type": "stream",
          "name": "stderr",
          "text": [
            "Epoch 38: 100%|██████████| 600/600 [00:03<00:00, 156.76batch/s, accuracy=99, loss=0.0304]\n"
          ]
        },
        {
          "output_type": "stream",
          "name": "stdout",
          "text": [
            "accuracy=93.0, loss=0.2471940223828154\n"
          ]
        },
        {
          "output_type": "stream",
          "name": "stderr",
          "text": [
            "Epoch 39: 100%|██████████| 600/600 [00:03<00:00, 154.63batch/s, accuracy=99.3, loss=0.0234]\n"
          ]
        },
        {
          "output_type": "stream",
          "name": "stdout",
          "text": [
            "accuracy=93.75, loss=0.23449229269873542\n"
          ]
        },
        {
          "output_type": "stream",
          "name": "stderr",
          "text": [
            "Epoch 40: 100%|██████████| 600/600 [00:03<00:00, 163.88batch/s, accuracy=99.2, loss=0.024]\n"
          ]
        },
        {
          "output_type": "stream",
          "name": "stdout",
          "text": [
            "accuracy=93.125, loss=0.23463284255013916\n",
            "\n",
            "Test performance\n",
            "lang accuracy loss\n",
            "------------------\n",
            "  en     96.3  0.1\n",
            "  ch     56.8  3.0\n",
            "\n",
            "Begin training\n"
          ]
        },
        {
          "output_type": "stream",
          "name": "stderr",
          "text": [
            "Epoch 1: 100%|██████████| 600/600 [00:03<00:00, 163.70batch/s, accuracy=35.6, loss=1.35]\n"
          ]
        },
        {
          "output_type": "stream",
          "name": "stdout",
          "text": [
            "accuracy=48.25, loss=1.1055928342603147\n"
          ]
        },
        {
          "output_type": "stream",
          "name": "stderr",
          "text": [
            "Epoch 2: 100%|██████████| 600/600 [00:03<00:00, 154.86batch/s, accuracy=65.7, loss=0.805]\n"
          ]
        },
        {
          "output_type": "stream",
          "name": "stdout",
          "text": [
            "accuracy=69.375, loss=0.7202564906931366\n"
          ]
        },
        {
          "output_type": "stream",
          "name": "stderr",
          "text": [
            "Epoch 3: 100%|██████████| 600/600 [00:03<00:00, 157.49batch/s, accuracy=78.7, loss=0.556]\n"
          ]
        },
        {
          "output_type": "stream",
          "name": "stdout",
          "text": [
            "accuracy=81.125, loss=0.5058409972455411\n"
          ]
        },
        {
          "output_type": "stream",
          "name": "stderr",
          "text": [
            "Epoch 4: 100%|██████████| 600/600 [00:03<00:00, 161.57batch/s, accuracy=85.2, loss=0.399]\n"
          ]
        },
        {
          "output_type": "stream",
          "name": "stdout",
          "text": [
            "accuracy=85.625, loss=0.40132056286653095\n"
          ]
        },
        {
          "output_type": "stream",
          "name": "stderr",
          "text": [
            "Epoch 5: 100%|██████████| 600/600 [00:03<00:00, 160.96batch/s, accuracy=88.1, loss=0.319]\n"
          ]
        },
        {
          "output_type": "stream",
          "name": "stdout",
          "text": [
            "accuracy=86.375, loss=0.3659185657079797\n"
          ]
        },
        {
          "output_type": "stream",
          "name": "stderr",
          "text": [
            "Epoch 6: 100%|██████████| 600/600 [00:03<00:00, 153.18batch/s, accuracy=90.3, loss=0.266]\n"
          ]
        },
        {
          "output_type": "stream",
          "name": "stdout",
          "text": [
            "accuracy=87.625, loss=0.34374913038660454\n"
          ]
        },
        {
          "output_type": "stream",
          "name": "stderr",
          "text": [
            "Epoch 7: 100%|██████████| 600/600 [00:03<00:00, 154.49batch/s, accuracy=91.7, loss=0.23]\n"
          ]
        },
        {
          "output_type": "stream",
          "name": "stdout",
          "text": [
            "accuracy=89.0, loss=0.3182309485502174\n"
          ]
        },
        {
          "output_type": "stream",
          "name": "stderr",
          "text": [
            "Epoch 8: 100%|██████████| 600/600 [00:03<00:00, 154.36batch/s, accuracy=92.5, loss=0.207]\n"
          ]
        },
        {
          "output_type": "stream",
          "name": "stdout",
          "text": [
            "accuracy=90.375, loss=0.2946002752143454\n"
          ]
        },
        {
          "output_type": "stream",
          "name": "stderr",
          "text": [
            "Epoch 9: 100%|██████████| 600/600 [00:03<00:00, 165.38batch/s, accuracy=93.4, loss=0.185]\n"
          ]
        },
        {
          "output_type": "stream",
          "name": "stdout",
          "text": [
            "accuracy=90.75, loss=0.2777140307228842\n"
          ]
        },
        {
          "output_type": "stream",
          "name": "stderr",
          "text": [
            "Epoch 10: 100%|██████████| 600/600 [00:03<00:00, 164.92batch/s, accuracy=94, loss=0.165]\n"
          ]
        },
        {
          "output_type": "stream",
          "name": "stdout",
          "text": [
            "accuracy=91.0, loss=0.27754674815896124\n"
          ]
        },
        {
          "output_type": "stream",
          "name": "stderr",
          "text": [
            "Epoch 11: 100%|██████████| 600/600 [00:03<00:00, 157.49batch/s, accuracy=94.7, loss=0.152]\n"
          ]
        },
        {
          "output_type": "stream",
          "name": "stdout",
          "text": [
            "accuracy=91.75, loss=0.253456069524226\n"
          ]
        },
        {
          "output_type": "stream",
          "name": "stderr",
          "text": [
            "Epoch 12: 100%|██████████| 600/600 [00:03<00:00, 155.34batch/s, accuracy=94.8, loss=0.142]\n"
          ]
        },
        {
          "output_type": "stream",
          "name": "stdout",
          "text": [
            "accuracy=92.125, loss=0.2530925315681321\n"
          ]
        },
        {
          "output_type": "stream",
          "name": "stderr",
          "text": [
            "Epoch 13: 100%|██████████| 600/600 [00:03<00:00, 162.24batch/s, accuracy=95.5, loss=0.128]\n"
          ]
        },
        {
          "output_type": "stream",
          "name": "stdout",
          "text": [
            "accuracy=92.5, loss=0.24507228867666528\n"
          ]
        },
        {
          "output_type": "stream",
          "name": "stderr",
          "text": [
            "Epoch 14: 100%|██████████| 600/600 [00:03<00:00, 163.18batch/s, accuracy=96.1, loss=0.116]\n"
          ]
        },
        {
          "output_type": "stream",
          "name": "stdout",
          "text": [
            "accuracy=92.375, loss=0.23728691527002838\n"
          ]
        },
        {
          "output_type": "stream",
          "name": "stderr",
          "text": [
            "Epoch 15: 100%|██████████| 600/600 [00:03<00:00, 162.01batch/s, accuracy=96.1, loss=0.112]\n"
          ]
        },
        {
          "output_type": "stream",
          "name": "stdout",
          "text": [
            "accuracy=92.125, loss=0.2464270238473938\n"
          ]
        },
        {
          "output_type": "stream",
          "name": "stderr",
          "text": [
            "Epoch 16: 100%|██████████| 600/600 [00:03<00:00, 155.96batch/s, accuracy=96.4, loss=0.104]\n"
          ]
        },
        {
          "output_type": "stream",
          "name": "stdout",
          "text": [
            "accuracy=92.75, loss=0.23648042331308944\n"
          ]
        },
        {
          "output_type": "stream",
          "name": "stderr",
          "text": [
            "Epoch 17: 100%|██████████| 600/600 [00:03<00:00, 155.37batch/s, accuracy=96.4, loss=0.0994]\n"
          ]
        },
        {
          "output_type": "stream",
          "name": "stdout",
          "text": [
            "accuracy=92.625, loss=0.2268563299614135\n"
          ]
        },
        {
          "output_type": "stream",
          "name": "stderr",
          "text": [
            "Epoch 18: 100%|██████████| 600/600 [00:03<00:00, 156.25batch/s, accuracy=96.8, loss=0.0897]\n"
          ]
        },
        {
          "output_type": "stream",
          "name": "stdout",
          "text": [
            "accuracy=93.625, loss=0.2213540917016121\n"
          ]
        },
        {
          "output_type": "stream",
          "name": "stderr",
          "text": [
            "Epoch 19: 100%|██████████| 600/600 [00:03<00:00, 165.07batch/s, accuracy=97.1, loss=0.0835]\n"
          ]
        },
        {
          "output_type": "stream",
          "name": "stdout",
          "text": [
            "accuracy=93.125, loss=0.2248681454894492\n"
          ]
        },
        {
          "output_type": "stream",
          "name": "stderr",
          "text": [
            "Epoch 20: 100%|██████████| 600/600 [00:03<00:00, 153.74batch/s, accuracy=97.4, loss=0.0757]\n"
          ]
        },
        {
          "output_type": "stream",
          "name": "stdout",
          "text": [
            "accuracy=93.5, loss=0.214716363859727\n"
          ]
        },
        {
          "output_type": "stream",
          "name": "stderr",
          "text": [
            "Epoch 21: 100%|██████████| 600/600 [00:03<00:00, 158.09batch/s, accuracy=97.5, loss=0.0739]\n"
          ]
        },
        {
          "output_type": "stream",
          "name": "stdout",
          "text": [
            "accuracy=92.875, loss=0.2195141129631298\n"
          ]
        },
        {
          "output_type": "stream",
          "name": "stderr",
          "text": [
            "Epoch 22: 100%|██████████| 600/600 [00:03<00:00, 155.02batch/s, accuracy=97.6, loss=0.0691]\n"
          ]
        },
        {
          "output_type": "stream",
          "name": "stdout",
          "text": [
            "accuracy=94.0, loss=0.20857798659864643\n"
          ]
        },
        {
          "output_type": "stream",
          "name": "stderr",
          "text": [
            "Epoch 23: 100%|██████████| 600/600 [00:03<00:00, 169.43batch/s, accuracy=97.7, loss=0.0651]\n"
          ]
        },
        {
          "output_type": "stream",
          "name": "stdout",
          "text": [
            "accuracy=92.625, loss=0.23161472966134572\n"
          ]
        },
        {
          "output_type": "stream",
          "name": "stderr",
          "text": [
            "Epoch 24: 100%|██████████| 600/600 [00:03<00:00, 167.47batch/s, accuracy=97.7, loss=0.0605]\n"
          ]
        },
        {
          "output_type": "stream",
          "name": "stdout",
          "text": [
            "accuracy=92.5, loss=0.22279256044002987\n"
          ]
        },
        {
          "output_type": "stream",
          "name": "stderr",
          "text": [
            "Epoch 25: 100%|██████████| 600/600 [00:03<00:00, 152.74batch/s, accuracy=98, loss=0.0562]\n"
          ]
        },
        {
          "output_type": "stream",
          "name": "stdout",
          "text": [
            "accuracy=93.25, loss=0.20926658065325054\n"
          ]
        },
        {
          "output_type": "stream",
          "name": "stderr",
          "text": [
            "Epoch 26: 100%|██████████| 600/600 [00:03<00:00, 157.96batch/s, accuracy=98.2, loss=0.0534]\n"
          ]
        },
        {
          "output_type": "stream",
          "name": "stdout",
          "text": [
            "accuracy=93.25, loss=0.21718667733721234\n"
          ]
        },
        {
          "output_type": "stream",
          "name": "stderr",
          "text": [
            "Epoch 27: 100%|██████████| 600/600 [00:03<00:00, 154.79batch/s, accuracy=98.3, loss=0.0495]\n"
          ]
        },
        {
          "output_type": "stream",
          "name": "stdout",
          "text": [
            "accuracy=92.375, loss=0.22938682216499529\n"
          ]
        },
        {
          "output_type": "stream",
          "name": "stderr",
          "text": [
            "Epoch 28: 100%|██████████| 600/600 [00:03<00:00, 162.08batch/s, accuracy=98.2, loss=0.0486]\n"
          ]
        },
        {
          "output_type": "stream",
          "name": "stdout",
          "text": [
            "accuracy=91.125, loss=0.2574679341984807\n"
          ]
        },
        {
          "output_type": "stream",
          "name": "stderr",
          "text": [
            "Epoch 29: 100%|██████████| 600/600 [00:03<00:00, 168.31batch/s, accuracy=98.5, loss=0.0449]\n"
          ]
        },
        {
          "output_type": "stream",
          "name": "stdout",
          "text": [
            "accuracy=92.5, loss=0.24456320402694579\n"
          ]
        },
        {
          "output_type": "stream",
          "name": "stderr",
          "text": [
            "Epoch 30: 100%|██████████| 600/600 [00:03<00:00, 160.26batch/s, accuracy=98.6, loss=0.0387]\n"
          ]
        },
        {
          "output_type": "stream",
          "name": "stdout",
          "text": [
            "accuracy=93.875, loss=0.21113530299617736\n"
          ]
        },
        {
          "output_type": "stream",
          "name": "stderr",
          "text": [
            "Epoch 31: 100%|██████████| 600/600 [00:03<00:00, 156.46batch/s, accuracy=98.6, loss=0.0383]\n"
          ]
        },
        {
          "output_type": "stream",
          "name": "stdout",
          "text": [
            "accuracy=93.0, loss=0.23078163232536575\n"
          ]
        },
        {
          "output_type": "stream",
          "name": "stderr",
          "text": [
            "Epoch 32: 100%|██████████| 600/600 [00:03<00:00, 161.81batch/s, accuracy=98.8, loss=0.0372]\n"
          ]
        },
        {
          "output_type": "stream",
          "name": "stdout",
          "text": [
            "accuracy=92.625, loss=0.2474655666667542\n"
          ]
        },
        {
          "output_type": "stream",
          "name": "stderr",
          "text": [
            "Epoch 33: 100%|██████████| 600/600 [00:03<00:00, 160.11batch/s, accuracy=98.8, loss=0.0359]\n"
          ]
        },
        {
          "output_type": "stream",
          "name": "stdout",
          "text": [
            "accuracy=93.25, loss=0.21619882112166233\n"
          ]
        },
        {
          "output_type": "stream",
          "name": "stderr",
          "text": [
            "Epoch 34: 100%|██████████| 600/600 [00:03<00:00, 153.55batch/s, accuracy=98.8, loss=0.0355]\n"
          ]
        },
        {
          "output_type": "stream",
          "name": "stdout",
          "text": [
            "accuracy=93.5, loss=0.2367699836282292\n"
          ]
        },
        {
          "output_type": "stream",
          "name": "stderr",
          "text": [
            "Epoch 35: 100%|██████████| 600/600 [00:03<00:00, 156.58batch/s, accuracy=99, loss=0.0278]\n"
          ]
        },
        {
          "output_type": "stream",
          "name": "stdout",
          "text": [
            "accuracy=92.875, loss=0.23015680504675345\n"
          ]
        },
        {
          "output_type": "stream",
          "name": "stderr",
          "text": [
            "Epoch 36: 100%|██████████| 600/600 [00:03<00:00, 153.32batch/s, accuracy=99, loss=0.0287]\n"
          ]
        },
        {
          "output_type": "stream",
          "name": "stdout",
          "text": [
            "accuracy=93.25, loss=0.2325708359053052\n"
          ]
        },
        {
          "output_type": "stream",
          "name": "stderr",
          "text": [
            "Epoch 37: 100%|██████████| 600/600 [00:03<00:00, 166.23batch/s, accuracy=99, loss=0.0268]\n"
          ]
        },
        {
          "output_type": "stream",
          "name": "stdout",
          "text": [
            "accuracy=92.5, loss=0.25034552605282645\n"
          ]
        },
        {
          "output_type": "stream",
          "name": "stderr",
          "text": [
            "Epoch 38: 100%|██████████| 600/600 [00:03<00:00, 163.28batch/s, accuracy=99.2, loss=0.0224]\n"
          ]
        },
        {
          "output_type": "stream",
          "name": "stdout",
          "text": [
            "accuracy=93.5, loss=0.23124920807972274\n"
          ]
        },
        {
          "output_type": "stream",
          "name": "stderr",
          "text": [
            "Epoch 39: 100%|██████████| 600/600 [00:03<00:00, 150.60batch/s, accuracy=99.2, loss=0.0236]\n"
          ]
        },
        {
          "output_type": "stream",
          "name": "stdout",
          "text": [
            "accuracy=93.5, loss=0.24214516397805025\n"
          ]
        },
        {
          "output_type": "stream",
          "name": "stderr",
          "text": [
            "Epoch 40: 100%|██████████| 600/600 [00:03<00:00, 154.56batch/s, accuracy=99.2, loss=0.0234]\n"
          ]
        },
        {
          "output_type": "stream",
          "name": "stdout",
          "text": [
            "accuracy=93.5, loss=0.24199773317618628\n",
            "\n",
            "Test performance\n",
            "lang accuracy loss\n",
            "------------------\n",
            "  en     96.2  0.1\n",
            "  ch     59.1  2.7\n",
            "\n",
            "\n",
            "\n",
            "Trained on en TitaNet voiceprints\n",
            "Average test performance over 2 iteration(s)\n",
            "lang accuracy loss\n",
            "------------------\n",
            "  en     96.2  0.1\n",
            "  ch     57.9  2.9\n",
            "\n",
            "Running the script took 00:05:22\n"
          ]
        }
      ]
    },
    {
      "cell_type": "code",
      "source": [
        "if __name__ == \"__main__\":\n",
        "  start = time.time()\n",
        "\n",
        "  langs = [\"ch\"]\n",
        "\n",
        "  pipeline = ModelDataPipeline(epochs=epochs,\n",
        "                               learning_rate=learning_rate,\n",
        "                               langs=langs,\n",
        "                               proportion=proportion)\n",
        "  \n",
        "  pipeline.run_per_split(remixed_data=False)\n",
        "\n",
        "  end = time.time()\n",
        "\n",
        "  print(f\"\\nRunning the script took {running_time(start, end)}\")"
      ],
      "metadata": {
        "id": "xaAKY-p7p7Mf",
        "colab": {
          "base_uri": "https://localhost:8080/"
        },
        "outputId": "52b5b57f-5178-4ee9-b646-fd2915ed194c"
      },
      "execution_count": null,
      "outputs": [
        {
          "output_type": "stream",
          "name": "stdout",
          "text": [
            "Setting up epochs: 40\n",
            "\tlearning rate: 5e-05\n",
            "\tlangs: ch\n",
            "Getting 100% of samples\n",
            "Processing 100% of samples took 00:00:02\n",
            "Getting 100% of samples\n",
            "Processing 100% of samples took 00:00:03\n",
            "Getting 100% of samples\n",
            "Processing 100% of samples took 00:00:02\n",
            "Getting 100% of samples\n",
            "Processing 100% of samples took 00:00:02\n",
            "Begin training\n"
          ]
        },
        {
          "output_type": "stream",
          "name": "stderr",
          "text": [
            "Epoch 1: 100%|██████████| 600/600 [00:03<00:00, 160.74batch/s, accuracy=45.8, loss=1.22]\n"
          ]
        },
        {
          "output_type": "stream",
          "name": "stdout",
          "text": [
            "accuracy=69.75, loss=0.7453856534895021\n"
          ]
        },
        {
          "output_type": "stream",
          "name": "stderr",
          "text": [
            "Epoch 2: 100%|██████████| 600/600 [00:03<00:00, 159.15batch/s, accuracy=84.3, loss=0.449]\n"
          ]
        },
        {
          "output_type": "stream",
          "name": "stdout",
          "text": [
            "accuracy=88.625, loss=0.3271681316419563\n"
          ]
        },
        {
          "output_type": "stream",
          "name": "stderr",
          "text": [
            "Epoch 3: 100%|██████████| 600/600 [00:03<00:00, 162.30batch/s, accuracy=93.7, loss=0.2]\n"
          ]
        },
        {
          "output_type": "stream",
          "name": "stdout",
          "text": [
            "accuracy=90.875, loss=0.221831472478425\n"
          ]
        },
        {
          "output_type": "stream",
          "name": "stderr",
          "text": [
            "Epoch 4: 100%|██████████| 600/600 [00:03<00:00, 161.75batch/s, accuracy=95.5, loss=0.133]\n"
          ]
        },
        {
          "output_type": "stream",
          "name": "stdout",
          "text": [
            "accuracy=93.375, loss=0.17532857409340977\n"
          ]
        },
        {
          "output_type": "stream",
          "name": "stderr",
          "text": [
            "Epoch 5: 100%|██████████| 600/600 [00:03<00:00, 164.38batch/s, accuracy=96.5, loss=0.101]\n"
          ]
        },
        {
          "output_type": "stream",
          "name": "stdout",
          "text": [
            "accuracy=93.875, loss=0.16138195413745507\n"
          ]
        },
        {
          "output_type": "stream",
          "name": "stderr",
          "text": [
            "Epoch 6: 100%|██████████| 600/600 [00:03<00:00, 160.10batch/s, accuracy=97.2, loss=0.0849]\n"
          ]
        },
        {
          "output_type": "stream",
          "name": "stdout",
          "text": [
            "accuracy=94.5, loss=0.1503188670394593\n"
          ]
        },
        {
          "output_type": "stream",
          "name": "stderr",
          "text": [
            "Epoch 7: 100%|██████████| 600/600 [00:03<00:00, 154.75batch/s, accuracy=97.5, loss=0.0719]\n"
          ]
        },
        {
          "output_type": "stream",
          "name": "stdout",
          "text": [
            "accuracy=95.25, loss=0.13706385800499446\n"
          ]
        },
        {
          "output_type": "stream",
          "name": "stderr",
          "text": [
            "Epoch 8: 100%|██████████| 600/600 [00:03<00:00, 161.84batch/s, accuracy=97.9, loss=0.0623]\n"
          ]
        },
        {
          "output_type": "stream",
          "name": "stdout",
          "text": [
            "accuracy=95.25, loss=0.12381936609570118\n"
          ]
        },
        {
          "output_type": "stream",
          "name": "stderr",
          "text": [
            "Epoch 9: 100%|██████████| 600/600 [00:03<00:00, 160.85batch/s, accuracy=98, loss=0.058]\n"
          ]
        },
        {
          "output_type": "stream",
          "name": "stdout",
          "text": [
            "accuracy=94.5, loss=0.14245126966703311\n"
          ]
        },
        {
          "output_type": "stream",
          "name": "stderr",
          "text": [
            "Epoch 10: 100%|██████████| 600/600 [00:03<00:00, 160.79batch/s, accuracy=98.4, loss=0.0461]\n"
          ]
        },
        {
          "output_type": "stream",
          "name": "stdout",
          "text": [
            "accuracy=95.375, loss=0.12369509536547582\n"
          ]
        },
        {
          "output_type": "stream",
          "name": "stderr",
          "text": [
            "Epoch 11: 100%|██████████| 600/600 [00:04<00:00, 148.81batch/s, accuracy=98.5, loss=0.0427]\n"
          ]
        },
        {
          "output_type": "stream",
          "name": "stdout",
          "text": [
            "accuracy=95.375, loss=0.12793743915965308\n"
          ]
        },
        {
          "output_type": "stream",
          "name": "stderr",
          "text": [
            "Epoch 12: 100%|██████████| 600/600 [00:03<00:00, 160.85batch/s, accuracy=98.5, loss=0.0406]\n"
          ]
        },
        {
          "output_type": "stream",
          "name": "stdout",
          "text": [
            "accuracy=96.0, loss=0.11588281699130164\n"
          ]
        },
        {
          "output_type": "stream",
          "name": "stderr",
          "text": [
            "Epoch 13: 100%|██████████| 600/600 [00:03<00:00, 161.67batch/s, accuracy=98.9, loss=0.0372]\n"
          ]
        },
        {
          "output_type": "stream",
          "name": "stdout",
          "text": [
            "accuracy=95.625, loss=0.10987849614893762\n"
          ]
        },
        {
          "output_type": "stream",
          "name": "stderr",
          "text": [
            "Epoch 14: 100%|██████████| 600/600 [00:03<00:00, 156.29batch/s, accuracy=98.9, loss=0.0316]\n"
          ]
        },
        {
          "output_type": "stream",
          "name": "stdout",
          "text": [
            "accuracy=96.125, loss=0.11319058330599169\n"
          ]
        },
        {
          "output_type": "stream",
          "name": "stderr",
          "text": [
            "Epoch 15: 100%|██████████| 600/600 [00:03<00:00, 160.23batch/s, accuracy=98.9, loss=0.0297]\n"
          ]
        },
        {
          "output_type": "stream",
          "name": "stdout",
          "text": [
            "accuracy=95.875, loss=0.11326195203308281\n"
          ]
        },
        {
          "output_type": "stream",
          "name": "stderr",
          "text": [
            "Epoch 16: 100%|██████████| 600/600 [00:03<00:00, 159.31batch/s, accuracy=99.1, loss=0.0267]\n"
          ]
        },
        {
          "output_type": "stream",
          "name": "stdout",
          "text": [
            "accuracy=96.375, loss=0.11123395977367707\n"
          ]
        },
        {
          "output_type": "stream",
          "name": "stderr",
          "text": [
            "Epoch 17: 100%|██████████| 600/600 [00:03<00:00, 161.36batch/s, accuracy=99.1, loss=0.0262]\n"
          ]
        },
        {
          "output_type": "stream",
          "name": "stdout",
          "text": [
            "accuracy=96.0, loss=0.1107296982616786\n"
          ]
        },
        {
          "output_type": "stream",
          "name": "stderr",
          "text": [
            "Epoch 18: 100%|██████████| 600/600 [00:03<00:00, 158.70batch/s, accuracy=99.3, loss=0.0219]\n"
          ]
        },
        {
          "output_type": "stream",
          "name": "stdout",
          "text": [
            "accuracy=95.375, loss=0.13715579723387855\n"
          ]
        },
        {
          "output_type": "stream",
          "name": "stderr",
          "text": [
            "Epoch 19: 100%|██████████| 600/600 [00:03<00:00, 164.80batch/s, accuracy=99.3, loss=0.0218]\n"
          ]
        },
        {
          "output_type": "stream",
          "name": "stdout",
          "text": [
            "accuracy=96.0, loss=0.11764781158764198\n"
          ]
        },
        {
          "output_type": "stream",
          "name": "stderr",
          "text": [
            "Epoch 20: 100%|██████████| 600/600 [00:03<00:00, 155.84batch/s, accuracy=99.3, loss=0.0197]\n"
          ]
        },
        {
          "output_type": "stream",
          "name": "stdout",
          "text": [
            "accuracy=96.125, loss=0.1088278894941708\n"
          ]
        },
        {
          "output_type": "stream",
          "name": "stderr",
          "text": [
            "Epoch 21: 100%|██████████| 600/600 [00:03<00:00, 161.09batch/s, accuracy=99.4, loss=0.0175]\n"
          ]
        },
        {
          "output_type": "stream",
          "name": "stdout",
          "text": [
            "accuracy=96.875, loss=0.10744257440054525\n"
          ]
        },
        {
          "output_type": "stream",
          "name": "stderr",
          "text": [
            "Epoch 22: 100%|██████████| 600/600 [00:03<00:00, 157.33batch/s, accuracy=99.4, loss=0.0167]\n"
          ]
        },
        {
          "output_type": "stream",
          "name": "stdout",
          "text": [
            "accuracy=96.375, loss=0.10626048929295137\n"
          ]
        },
        {
          "output_type": "stream",
          "name": "stderr",
          "text": [
            "Epoch 23: 100%|██████████| 600/600 [00:03<00:00, 152.35batch/s, accuracy=99.5, loss=0.0138]\n"
          ]
        },
        {
          "output_type": "stream",
          "name": "stdout",
          "text": [
            "accuracy=96.25, loss=0.11869416486341407\n"
          ]
        },
        {
          "output_type": "stream",
          "name": "stderr",
          "text": [
            "Epoch 24: 100%|██████████| 600/600 [00:03<00:00, 159.75batch/s, accuracy=99.5, loss=0.0133]\n"
          ]
        },
        {
          "output_type": "stream",
          "name": "stdout",
          "text": [
            "accuracy=96.625, loss=0.10671137873814299\n"
          ]
        },
        {
          "output_type": "stream",
          "name": "stderr",
          "text": [
            "Epoch 25: 100%|██████████| 600/600 [00:03<00:00, 155.72batch/s, accuracy=99.6, loss=0.012]\n"
          ]
        },
        {
          "output_type": "stream",
          "name": "stdout",
          "text": [
            "accuracy=96.125, loss=0.11598167486850743\n"
          ]
        },
        {
          "output_type": "stream",
          "name": "stderr",
          "text": [
            "Epoch 26: 100%|██████████| 600/600 [00:03<00:00, 155.01batch/s, accuracy=99.6, loss=0.0114]\n"
          ]
        },
        {
          "output_type": "stream",
          "name": "stdout",
          "text": [
            "accuracy=96.5, loss=0.1256927645879578\n"
          ]
        },
        {
          "output_type": "stream",
          "name": "stderr",
          "text": [
            "Epoch 27: 100%|██████████| 600/600 [00:03<00:00, 154.14batch/s, accuracy=99.6, loss=0.0107]\n"
          ]
        },
        {
          "output_type": "stream",
          "name": "stdout",
          "text": [
            "accuracy=96.25, loss=0.13602612118205942\n"
          ]
        },
        {
          "output_type": "stream",
          "name": "stderr",
          "text": [
            "Epoch 28: 100%|██████████| 600/600 [00:03<00:00, 165.43batch/s, accuracy=99.7, loss=0.00904]\n"
          ]
        },
        {
          "output_type": "stream",
          "name": "stdout",
          "text": [
            "accuracy=96.625, loss=0.10621805534826212\n"
          ]
        },
        {
          "output_type": "stream",
          "name": "stderr",
          "text": [
            "Epoch 29: 100%|██████████| 600/600 [00:03<00:00, 157.26batch/s, accuracy=99.6, loss=0.0102]\n"
          ]
        },
        {
          "output_type": "stream",
          "name": "stdout",
          "text": [
            "accuracy=96.625, loss=0.09104187005034263\n"
          ]
        },
        {
          "output_type": "stream",
          "name": "stderr",
          "text": [
            "Epoch 30: 100%|██████████| 600/600 [00:03<00:00, 156.19batch/s, accuracy=99.7, loss=0.00849]\n"
          ]
        },
        {
          "output_type": "stream",
          "name": "stdout",
          "text": [
            "accuracy=97.25, loss=0.08765007925273227\n"
          ]
        },
        {
          "output_type": "stream",
          "name": "stderr",
          "text": [
            "Epoch 31: 100%|██████████| 600/600 [00:03<00:00, 156.49batch/s, accuracy=99.8, loss=0.00696]\n"
          ]
        },
        {
          "output_type": "stream",
          "name": "stdout",
          "text": [
            "accuracy=96.625, loss=0.11200494448153336\n"
          ]
        },
        {
          "output_type": "stream",
          "name": "stderr",
          "text": [
            "Epoch 32: 100%|██████████| 600/600 [00:03<00:00, 165.71batch/s, accuracy=99.8, loss=0.00691]\n"
          ]
        },
        {
          "output_type": "stream",
          "name": "stdout",
          "text": [
            "accuracy=96.75, loss=0.114628002677041\n"
          ]
        },
        {
          "output_type": "stream",
          "name": "stderr",
          "text": [
            "Epoch 33: 100%|██████████| 600/600 [00:03<00:00, 165.94batch/s, accuracy=99.8, loss=0.00644]\n"
          ]
        },
        {
          "output_type": "stream",
          "name": "stdout",
          "text": [
            "accuracy=97.25, loss=0.09196709554539353\n"
          ]
        },
        {
          "output_type": "stream",
          "name": "stderr",
          "text": [
            "Epoch 34: 100%|██████████| 600/600 [00:03<00:00, 159.31batch/s, accuracy=99.8, loss=0.00587]\n"
          ]
        },
        {
          "output_type": "stream",
          "name": "stdout",
          "text": [
            "accuracy=97.0, loss=0.09561651904346391\n"
          ]
        },
        {
          "output_type": "stream",
          "name": "stderr",
          "text": [
            "Epoch 35: 100%|██████████| 600/600 [00:03<00:00, 158.28batch/s, accuracy=99.8, loss=0.00544]\n"
          ]
        },
        {
          "output_type": "stream",
          "name": "stdout",
          "text": [
            "accuracy=96.5, loss=0.13594965602500492\n"
          ]
        },
        {
          "output_type": "stream",
          "name": "stderr",
          "text": [
            "Epoch 36: 100%|██████████| 600/600 [00:03<00:00, 157.04batch/s, accuracy=99.8, loss=0.00577]\n"
          ]
        },
        {
          "output_type": "stream",
          "name": "stdout",
          "text": [
            "accuracy=97.375, loss=0.07822718584956105\n"
          ]
        },
        {
          "output_type": "stream",
          "name": "stderr",
          "text": [
            "Epoch 37: 100%|██████████| 600/600 [00:03<00:00, 163.09batch/s, accuracy=99.8, loss=0.00557]\n"
          ]
        },
        {
          "output_type": "stream",
          "name": "stdout",
          "text": [
            "accuracy=97.0, loss=0.10755724117553932\n"
          ]
        },
        {
          "output_type": "stream",
          "name": "stderr",
          "text": [
            "Epoch 38: 100%|██████████| 600/600 [00:03<00:00, 153.92batch/s, accuracy=99.9, loss=0.00485]\n"
          ]
        },
        {
          "output_type": "stream",
          "name": "stdout",
          "text": [
            "accuracy=96.75, loss=0.12619868637609316\n"
          ]
        },
        {
          "output_type": "stream",
          "name": "stderr",
          "text": [
            "Epoch 39: 100%|██████████| 600/600 [00:03<00:00, 158.42batch/s, accuracy=99.9, loss=0.00376]\n"
          ]
        },
        {
          "output_type": "stream",
          "name": "stdout",
          "text": [
            "accuracy=97.375, loss=0.10793572438560037\n"
          ]
        },
        {
          "output_type": "stream",
          "name": "stderr",
          "text": [
            "Epoch 40: 100%|██████████| 600/600 [00:03<00:00, 157.46batch/s, accuracy=99.9, loss=0.00371]\n"
          ]
        },
        {
          "output_type": "stream",
          "name": "stdout",
          "text": [
            "accuracy=96.625, loss=0.11553849190080807\n",
            "\n",
            "Test performance\n",
            "lang accuracy loss\n",
            "------------------\n",
            "  en     49.9  4.3\n",
            "  ch     98.2  0.1\n",
            "\n",
            "Begin training\n"
          ]
        },
        {
          "output_type": "stream",
          "name": "stderr",
          "text": [
            "Epoch 1: 100%|██████████| 600/600 [00:03<00:00, 162.98batch/s, accuracy=43.6, loss=1.25]\n"
          ]
        },
        {
          "output_type": "stream",
          "name": "stdout",
          "text": [
            "accuracy=68.125, loss=0.7874117353744805\n"
          ]
        },
        {
          "output_type": "stream",
          "name": "stderr",
          "text": [
            "Epoch 2: 100%|██████████| 600/600 [00:03<00:00, 164.98batch/s, accuracy=83.4, loss=0.468]\n"
          ]
        },
        {
          "output_type": "stream",
          "name": "stdout",
          "text": [
            "accuracy=89.0, loss=0.33473063249846746\n"
          ]
        },
        {
          "output_type": "stream",
          "name": "stderr",
          "text": [
            "Epoch 3: 100%|██████████| 600/600 [00:03<00:00, 156.24batch/s, accuracy=93.3, loss=0.206]\n"
          ]
        },
        {
          "output_type": "stream",
          "name": "stdout",
          "text": [
            "accuracy=92.25, loss=0.22093743688439646\n"
          ]
        },
        {
          "output_type": "stream",
          "name": "stderr",
          "text": [
            "Epoch 4: 100%|██████████| 600/600 [00:03<00:00, 157.45batch/s, accuracy=95.4, loss=0.135]\n"
          ]
        },
        {
          "output_type": "stream",
          "name": "stdout",
          "text": [
            "accuracy=93.0, loss=0.1756938858033277\n"
          ]
        },
        {
          "output_type": "stream",
          "name": "stderr",
          "text": [
            "Epoch 5: 100%|██████████| 600/600 [00:03<00:00, 154.25batch/s, accuracy=96.3, loss=0.108]\n"
          ]
        },
        {
          "output_type": "stream",
          "name": "stdout",
          "text": [
            "accuracy=94.125, loss=0.15567743834582415\n"
          ]
        },
        {
          "output_type": "stream",
          "name": "stderr",
          "text": [
            "Epoch 6: 100%|██████████| 600/600 [00:03<00:00, 157.28batch/s, accuracy=97.1, loss=0.085]\n"
          ]
        },
        {
          "output_type": "stream",
          "name": "stdout",
          "text": [
            "accuracy=94.5, loss=0.14133494937509397\n"
          ]
        },
        {
          "output_type": "stream",
          "name": "stderr",
          "text": [
            "Epoch 7: 100%|██████████| 600/600 [00:03<00:00, 153.50batch/s, accuracy=97.5, loss=0.072]\n"
          ]
        },
        {
          "output_type": "stream",
          "name": "stdout",
          "text": [
            "accuracy=93.875, loss=0.1492025500041558\n"
          ]
        },
        {
          "output_type": "stream",
          "name": "stderr",
          "text": [
            "Epoch 8: 100%|██████████| 600/600 [00:03<00:00, 157.06batch/s, accuracy=97.9, loss=0.0643]\n"
          ]
        },
        {
          "output_type": "stream",
          "name": "stdout",
          "text": [
            "accuracy=95.0, loss=0.12459511266379579\n"
          ]
        },
        {
          "output_type": "stream",
          "name": "stderr",
          "text": [
            "Epoch 9: 100%|██████████| 600/600 [00:03<00:00, 155.66batch/s, accuracy=98, loss=0.0578]\n"
          ]
        },
        {
          "output_type": "stream",
          "name": "stdout",
          "text": [
            "accuracy=94.875, loss=0.135723271543298\n"
          ]
        },
        {
          "output_type": "stream",
          "name": "stderr",
          "text": [
            "Epoch 10: 100%|██████████| 600/600 [00:03<00:00, 161.85batch/s, accuracy=98.2, loss=0.0506]\n"
          ]
        },
        {
          "output_type": "stream",
          "name": "stdout",
          "text": [
            "accuracy=95.5, loss=0.12279450319068641\n"
          ]
        },
        {
          "output_type": "stream",
          "name": "stderr",
          "text": [
            "Epoch 11: 100%|██████████| 600/600 [00:03<00:00, 156.27batch/s, accuracy=98.5, loss=0.0445]\n"
          ]
        },
        {
          "output_type": "stream",
          "name": "stdout",
          "text": [
            "accuracy=96.0, loss=0.1061794479078004\n"
          ]
        },
        {
          "output_type": "stream",
          "name": "stderr",
          "text": [
            "Epoch 12: 100%|██████████| 600/600 [00:03<00:00, 158.98batch/s, accuracy=98.6, loss=0.0402]\n"
          ]
        },
        {
          "output_type": "stream",
          "name": "stdout",
          "text": [
            "accuracy=96.0, loss=0.10401081358993763\n"
          ]
        },
        {
          "output_type": "stream",
          "name": "stderr",
          "text": [
            "Epoch 13: 100%|██████████| 600/600 [00:03<00:00, 151.56batch/s, accuracy=98.6, loss=0.0396]\n"
          ]
        },
        {
          "output_type": "stream",
          "name": "stdout",
          "text": [
            "accuracy=96.0, loss=0.12957686814676875\n"
          ]
        },
        {
          "output_type": "stream",
          "name": "stderr",
          "text": [
            "Epoch 14: 100%|██████████| 600/600 [00:03<00:00, 157.65batch/s, accuracy=98.8, loss=0.0339]\n"
          ]
        },
        {
          "output_type": "stream",
          "name": "stdout",
          "text": [
            "accuracy=96.25, loss=0.12339383199452797\n"
          ]
        },
        {
          "output_type": "stream",
          "name": "stderr",
          "text": [
            "Epoch 15: 100%|██████████| 600/600 [00:03<00:00, 155.23batch/s, accuracy=98.8, loss=0.0329]\n"
          ]
        },
        {
          "output_type": "stream",
          "name": "stdout",
          "text": [
            "accuracy=96.375, loss=0.11349626019642088\n"
          ]
        },
        {
          "output_type": "stream",
          "name": "stderr",
          "text": [
            "Epoch 16: 100%|██████████| 600/600 [00:03<00:00, 159.08batch/s, accuracy=98.9, loss=0.03]\n"
          ]
        },
        {
          "output_type": "stream",
          "name": "stdout",
          "text": [
            "accuracy=96.5, loss=0.11191405207498853\n"
          ]
        },
        {
          "output_type": "stream",
          "name": "stderr",
          "text": [
            "Epoch 17: 100%|██████████| 600/600 [00:03<00:00, 157.27batch/s, accuracy=99.1, loss=0.0248]\n"
          ]
        },
        {
          "output_type": "stream",
          "name": "stdout",
          "text": [
            "accuracy=96.375, loss=0.10031176995517561\n"
          ]
        },
        {
          "output_type": "stream",
          "name": "stderr",
          "text": [
            "Epoch 18: 100%|██████████| 600/600 [00:03<00:00, 153.42batch/s, accuracy=99.2, loss=0.0238]\n"
          ]
        },
        {
          "output_type": "stream",
          "name": "stdout",
          "text": [
            "accuracy=96.25, loss=0.1044733565814625\n"
          ]
        },
        {
          "output_type": "stream",
          "name": "stderr",
          "text": [
            "Epoch 19: 100%|██████████| 600/600 [00:03<00:00, 155.35batch/s, accuracy=99.3, loss=0.0223]\n"
          ]
        },
        {
          "output_type": "stream",
          "name": "stdout",
          "text": [
            "accuracy=96.5, loss=0.11134366850676415\n"
          ]
        },
        {
          "output_type": "stream",
          "name": "stderr",
          "text": [
            "Epoch 20: 100%|██████████| 600/600 [00:03<00:00, 158.27batch/s, accuracy=99.3, loss=0.0206]\n"
          ]
        },
        {
          "output_type": "stream",
          "name": "stdout",
          "text": [
            "accuracy=96.5, loss=0.10384624229778665\n"
          ]
        },
        {
          "output_type": "stream",
          "name": "stderr",
          "text": [
            "Epoch 21: 100%|██████████| 600/600 [00:03<00:00, 151.35batch/s, accuracy=99.3, loss=0.0195]\n"
          ]
        },
        {
          "output_type": "stream",
          "name": "stdout",
          "text": [
            "accuracy=95.875, loss=0.11484074386711007\n"
          ]
        },
        {
          "output_type": "stream",
          "name": "stderr",
          "text": [
            "Epoch 22: 100%|██████████| 600/600 [00:03<00:00, 152.48batch/s, accuracy=99.4, loss=0.0175]\n"
          ]
        },
        {
          "output_type": "stream",
          "name": "stdout",
          "text": [
            "accuracy=96.5, loss=0.0976784443217747\n"
          ]
        },
        {
          "output_type": "stream",
          "name": "stderr",
          "text": [
            "Epoch 23: 100%|██████████| 600/600 [00:03<00:00, 152.79batch/s, accuracy=99.5, loss=0.0151]\n"
          ]
        },
        {
          "output_type": "stream",
          "name": "stdout",
          "text": [
            "accuracy=96.875, loss=0.10108404068205765\n"
          ]
        },
        {
          "output_type": "stream",
          "name": "stderr",
          "text": [
            "Epoch 24: 100%|██████████| 600/600 [00:03<00:00, 156.86batch/s, accuracy=99.5, loss=0.0145]\n"
          ]
        },
        {
          "output_type": "stream",
          "name": "stdout",
          "text": [
            "accuracy=96.75, loss=0.10021941115118514\n"
          ]
        },
        {
          "output_type": "stream",
          "name": "stderr",
          "text": [
            "Epoch 25: 100%|██████████| 600/600 [00:03<00:00, 153.97batch/s, accuracy=99.6, loss=0.0132]\n"
          ]
        },
        {
          "output_type": "stream",
          "name": "stdout",
          "text": [
            "accuracy=96.5, loss=0.10292277683694881\n"
          ]
        },
        {
          "output_type": "stream",
          "name": "stderr",
          "text": [
            "Epoch 26: 100%|██████████| 600/600 [00:03<00:00, 151.10batch/s, accuracy=99.6, loss=0.0127]\n"
          ]
        },
        {
          "output_type": "stream",
          "name": "stdout",
          "text": [
            "accuracy=96.875, loss=0.10307646539692555\n"
          ]
        },
        {
          "output_type": "stream",
          "name": "stderr",
          "text": [
            "Epoch 27: 100%|██████████| 600/600 [00:03<00:00, 153.88batch/s, accuracy=99.5, loss=0.0136]\n"
          ]
        },
        {
          "output_type": "stream",
          "name": "stdout",
          "text": [
            "accuracy=96.75, loss=0.09450256725470069\n"
          ]
        },
        {
          "output_type": "stream",
          "name": "stderr",
          "text": [
            "Epoch 28: 100%|██████████| 600/600 [00:03<00:00, 155.22batch/s, accuracy=99.7, loss=0.0101]\n"
          ]
        },
        {
          "output_type": "stream",
          "name": "stdout",
          "text": [
            "accuracy=96.625, loss=0.0971943497217984\n"
          ]
        },
        {
          "output_type": "stream",
          "name": "stderr",
          "text": [
            "Epoch 29: 100%|██████████| 600/600 [00:03<00:00, 151.40batch/s, accuracy=99.6, loss=0.0107]\n"
          ]
        },
        {
          "output_type": "stream",
          "name": "stdout",
          "text": [
            "accuracy=96.75, loss=0.08893154587924222\n"
          ]
        },
        {
          "output_type": "stream",
          "name": "stderr",
          "text": [
            "Epoch 30: 100%|██████████| 600/600 [00:03<00:00, 155.53batch/s, accuracy=99.7, loss=0.0101]\n"
          ]
        },
        {
          "output_type": "stream",
          "name": "stdout",
          "text": [
            "accuracy=96.375, loss=0.11026897320839972\n"
          ]
        },
        {
          "output_type": "stream",
          "name": "stderr",
          "text": [
            "Epoch 31: 100%|██████████| 600/600 [00:03<00:00, 155.50batch/s, accuracy=99.8, loss=0.00831]\n"
          ]
        },
        {
          "output_type": "stream",
          "name": "stdout",
          "text": [
            "accuracy=96.75, loss=0.10485754187166059\n"
          ]
        },
        {
          "output_type": "stream",
          "name": "stderr",
          "text": [
            "Epoch 32: 100%|██████████| 600/600 [00:03<00:00, 156.31batch/s, accuracy=99.7, loss=0.00746]\n"
          ]
        },
        {
          "output_type": "stream",
          "name": "stdout",
          "text": [
            "accuracy=96.75, loss=0.10251266168945626\n"
          ]
        },
        {
          "output_type": "stream",
          "name": "stderr",
          "text": [
            "Epoch 33: 100%|██████████| 600/600 [00:03<00:00, 168.01batch/s, accuracy=99.8, loss=0.00778]\n"
          ]
        },
        {
          "output_type": "stream",
          "name": "stdout",
          "text": [
            "accuracy=97.125, loss=0.09653055863188854\n"
          ]
        },
        {
          "output_type": "stream",
          "name": "stderr",
          "text": [
            "Epoch 34: 100%|██████████| 600/600 [00:03<00:00, 171.52batch/s, accuracy=99.8, loss=0.00692]\n"
          ]
        },
        {
          "output_type": "stream",
          "name": "stdout",
          "text": [
            "accuracy=97.5, loss=0.08773531730570064\n"
          ]
        },
        {
          "output_type": "stream",
          "name": "stderr",
          "text": [
            "Epoch 35: 100%|██████████| 600/600 [00:03<00:00, 167.47batch/s, accuracy=99.8, loss=0.00572]\n"
          ]
        },
        {
          "output_type": "stream",
          "name": "stdout",
          "text": [
            "accuracy=96.25, loss=0.1327917076931333\n"
          ]
        },
        {
          "output_type": "stream",
          "name": "stderr",
          "text": [
            "Epoch 36: 100%|██████████| 600/600 [00:03<00:00, 165.36batch/s, accuracy=99.8, loss=0.00604]\n"
          ]
        },
        {
          "output_type": "stream",
          "name": "stdout",
          "text": [
            "accuracy=96.875, loss=0.10819296976015966\n"
          ]
        },
        {
          "output_type": "stream",
          "name": "stderr",
          "text": [
            "Epoch 37: 100%|██████████| 600/600 [00:03<00:00, 153.32batch/s, accuracy=99.8, loss=0.00577]\n"
          ]
        },
        {
          "output_type": "stream",
          "name": "stdout",
          "text": [
            "accuracy=96.875, loss=0.10545047005047525\n"
          ]
        },
        {
          "output_type": "stream",
          "name": "stderr",
          "text": [
            "Epoch 38: 100%|██████████| 600/600 [00:03<00:00, 152.21batch/s, accuracy=99.9, loss=0.00438]\n"
          ]
        },
        {
          "output_type": "stream",
          "name": "stdout",
          "text": [
            "accuracy=97.125, loss=0.10706411768097662\n"
          ]
        },
        {
          "output_type": "stream",
          "name": "stderr",
          "text": [
            "Epoch 39: 100%|██████████| 600/600 [00:03<00:00, 154.94batch/s, accuracy=99.8, loss=0.00482]\n"
          ]
        },
        {
          "output_type": "stream",
          "name": "stdout",
          "text": [
            "accuracy=97.0, loss=0.11542115234974147\n"
          ]
        },
        {
          "output_type": "stream",
          "name": "stderr",
          "text": [
            "Epoch 40: 100%|██████████| 600/600 [00:03<00:00, 152.13batch/s, accuracy=99.8, loss=0.00499]\n"
          ]
        },
        {
          "output_type": "stream",
          "name": "stdout",
          "text": [
            "accuracy=96.625, loss=0.11892583026399421\n",
            "\n",
            "Test performance\n",
            "lang accuracy loss\n",
            "------------------\n",
            "  en     47.7  4.6\n",
            "  ch     98.3  0.1\n",
            "\n",
            "\n",
            "\n",
            "Trained on ch TitaNet voiceprints\n",
            "Average test performance over 2 iteration(s)\n",
            "lang accuracy loss\n",
            "------------------\n",
            "  en     48.8  4.4\n",
            "  ch     98.2  0.1\n",
            "\n",
            "Running the script took 00:05:20\n"
          ]
        }
      ]
    },
    {
      "cell_type": "markdown",
      "source": [
        "#TitaNet Voiceprint T-SNE"
      ],
      "metadata": {
        "id": "BM6-SC1s-8h0"
      }
    },
    {
      "cell_type": "code",
      "execution_count": null,
      "metadata": {
        "id": "EiNThg3qnEnZ"
      },
      "outputs": [],
      "source": [
        "import pandas as pd\n",
        "import numpy as np\n",
        "from sklearn.manifold import TSNE\n",
        "import seaborn as sns\n",
        "import matplotlib.pyplot as plt\n",
        "import pickle as pkl\n",
        "import os\n",
        "\n",
        "class voiceprints:\n",
        "  def __init__(self):\n",
        "    self.data_dir = \"/content/drive/MyDrive/Colab Notebooks/MA LangTech/Thesis/masters_thesis/data/emotion_voiceprints\"\n",
        "    self.labels = {\"happy\": 0, \"angry\": 1, \"sad\": 2, \"neutral\": 3}\n",
        "    self.langs = [\"en\", \"ch\"]\n",
        "    self.samples = self.load_voiceprints()\n",
        "\n",
        "\n",
        "  def load_voiceprints(self):\n",
        "    with open(os.path.join(self.data_dir, \"emotion_voiceprints.pkl\"), \"rb\") as f:\n",
        "      voiceprints = pkl.load(f)\n",
        "    samples = []\n",
        "\n",
        "    for lang, lang_value in voiceprints.items():\n",
        "      if lang not in self.langs:\n",
        "        continue\n",
        "      for speaker, speaker_value in lang_value.items():\n",
        "        for emotion, emotion_value in speaker_value.items():\n",
        "          for split, split_value in emotion_value.items():\n",
        "            for emb in split_value:\n",
        "              samples.append((np.array(emb[0]), emotion.lower(), lang, speaker))\n",
        "    return samples\n",
        "\n",
        "\n",
        "class tsne_analysis:\n",
        "  def __init__(self, samples, langs=[\"en\", \"ch\"], perplexity=30):\n",
        "    self.df = pd.DataFrame(samples, columns=[\"emb\", \"emotion\", \"lang\", \"speaker\"])\n",
        "    self.df = self.df[self.df.lang.apply(lambda x: x in langs)]\n",
        "    self.langs = langs[:]\n",
        "    self.tsne = TSNE(n_components=2, verbose=1, random_state=123, perplexity=perplexity)\n",
        "    self.do_tsne()\n",
        "\n",
        "\n",
        "  def do_tsne(self):\n",
        "    z = self.tsne.fit_transform(np.array(self.df.emb.tolist()))\n",
        "    self.df[\"comp-1\"] = z[:,0]\n",
        "    self.df[\"comp-2\"] = z[:,1]\n",
        "\n",
        "  \n",
        "  def tsne_graph(self, parameters=[\"emotion\"]):\n",
        "    num_colors = 1\n",
        "    for param in parameters:\n",
        "      num_colors *= len(set(self.df[param].tolist()))\n",
        "    hue = self.df[parameters].apply(lambda x: tuple([x[i] for i in range(len(x))]), axis=1).tolist()\n",
        "    if len(hue[0]) == 1:\n",
        "      hue = [i[0] for i in hue]\n",
        "    ax = sns.scatterplot(x=\"comp-1\", y=\"comp-2\", \n",
        "                    hue=hue,\n",
        "                    palette=sns.color_palette(\"hls\", num_colors),\n",
        "                    data=self.df)\n",
        "    ax.set(title=f\"embedding separation for 4 emotions in {' and '.join(self.langs)}\")\n",
        "    sns.move_legend(ax, \"center left\", bbox_to_anchor=(1,0.5))\n",
        "    # plt.savefig(os.path.join(results_dir, f'T-SNE for all speeches at {d} speech length.png'), bbox_inches='tight')\n",
        "    plt.show()\n",
        "    plt.close()\n",
        "\n",
        "voiceprints = voiceprints()"
      ]
    },
    {
      "cell_type": "code",
      "execution_count": null,
      "metadata": {
        "id": "u6-IqqhkRPSJ"
      },
      "outputs": [],
      "source": [
        "en_ch_tsne = tsne_analysis(voiceprints.samples)\n",
        "en_tsne = tsne_analysis(voiceprints.samples, langs=[\"en\"])\n",
        "ch_tsne = tsne_analysis(voiceprints.samples, langs=[\"ch\"])"
      ]
    },
    {
      "cell_type": "code",
      "execution_count": null,
      "metadata": {
        "id": "q9mL3Zm4Tdd9"
      },
      "outputs": [],
      "source": [
        "en_ch_tsne.tsne_graph([\"lang\"])"
      ]
    },
    {
      "cell_type": "code",
      "execution_count": null,
      "metadata": {
        "id": "0P1fS29zT7_B"
      },
      "outputs": [],
      "source": [
        "en_tsne.tsne_graph()"
      ]
    },
    {
      "cell_type": "code",
      "execution_count": null,
      "metadata": {
        "id": "MtBKBkf9T_6C"
      },
      "outputs": [],
      "source": [
        "ch_tsne.tsne_graph()"
      ]
    },
    {
      "cell_type": "code",
      "execution_count": null,
      "metadata": {
        "id": "0hJousiiqVzn"
      },
      "outputs": [],
      "source": [
        "ax = sns.scatterplot(x=\"comp-1\", y=\"comp-2\", hue=df.speaker.tolist(),\n",
        "                palette=sns.color_palette(\"hls\", 20),\n",
        "                data=df)\n",
        "ax.set(title=f\"embedding separation for 4 emotions in English and Chinese\")\n",
        "sns.move_legend(ax, \"center left\", bbox_to_anchor=(1,0.5))\n",
        "# plt.savefig(os.path.join(results_dir, f'T-SNE for all speeches at {d} speech length.png'), bbox_inches='tight')\n",
        "plt.show()\n",
        "plt.close()"
      ]
    },
    {
      "cell_type": "code",
      "execution_count": null,
      "metadata": {
        "id": "W0Hfzyw5oU8P"
      },
      "outputs": [],
      "source": [
        "ax = sns.scatterplot(x=\"comp-1\", y=\"comp-2\", hue=df.lang.tolist(),\n",
        "                palette=sns.color_palette(\"hls\", 2),\n",
        "                data=df)\n",
        "ax.set(title=f\"embedding separation for 4 emotions in English and Chinese\")\n",
        "sns.move_legend(ax, \"center left\", bbox_to_anchor=(1,0.5))\n",
        "# plt.savefig(os.path.join(results_dir, f'T-SNE for all speeches at {d} speech length.png'), bbox_inches='tight')\n",
        "plt.show()\n",
        "plt.close()"
      ]
    },
    {
      "cell_type": "markdown",
      "metadata": {
        "id": "dedtfBB_D90D"
      },
      "source": [
        "# Wav2vec2 SER"
      ]
    },
    {
      "cell_type": "markdown",
      "source": [
        "## Set up model"
      ],
      "metadata": {
        "id": "AMt0dhOBtxyh"
      }
    },
    {
      "cell_type": "code",
      "execution_count": null,
      "metadata": {
        "id": "4fA5Q2ZJM33w"
      },
      "outputs": [],
      "source": [
        "%%capture\n",
        "!pip install transformers"
      ]
    },
    {
      "cell_type": "code",
      "execution_count": null,
      "metadata": {
        "id": "ChPRAs3wEAY7"
      },
      "outputs": [],
      "source": [
        "# !pip install transformers\n",
        "\n",
        "import soundfile as sf\n",
        "import torch\n",
        "from transformers import Wav2Vec2Processor, Wav2Vec2Model, Wav2Vec2Config\n",
        "import numpy as np\n",
        "import os\n",
        "import torch.nn as nn\n",
        "from torch.utils.data import Dataset, DataLoader\n",
        "from tqdm import tqdm\n",
        "import pickle\n",
        "import time\n",
        "import random\n",
        "import argparse\n",
        "from torch.optim.lr_scheduler import LambdaLR, ReduceLROnPlateau\n",
        "\n",
        "\n",
        "class RawDataset(Dataset):\n",
        "  \"\"\"class to load the data\n",
        "\n",
        "  X_train\n",
        "    contains training data\n",
        "  X_test\n",
        "    contains training data\n",
        "  y\n",
        "    sentiment scores\n",
        "    order is the same for training and test, so only one array created\n",
        "  \"\"\"\n",
        "  def __init__(self, data_dir, langs, split, proportion=1.0):\n",
        "    self.data_dir = data_dir\n",
        "    self.LANGS = langs\n",
        "    self.split = split\n",
        "    self.proportion = proportion\n",
        "    self.REQUIRED_SAMPLE_RATE = 16000\n",
        "    self.AUDIO_MAXLEN = 246000\n",
        "    self.labels = {\"happy\": 0, \"angry\": 1, \"sad\": 2, \"neutral\": 3}\n",
        "    self.idx_to_labels = [\"happy\", \"angry\", \"sad\", \"neutral\"]\n",
        "    self.processor = Wav2Vec2Processor.from_pretrained(\"facebook/wav2vec2-base-960h\")\n",
        "    # self.X, self.y = self.get_dataset(self.data_dir, langs, split, proportion)\n",
        "    self.samples = self.get_dataset(self.data_dir, langs, split, proportion)\n",
        "\n",
        "\n",
        "  def __len__(self):\n",
        "    # return len(self.X)\n",
        "    if (\"ch\" in self.LANGS and \"en\" in self.LANGS) and self.split != \"test\":\n",
        "      return len(self.samples) // 2\n",
        "    return len(self.samples)\n",
        "\n",
        "  \n",
        "  def preprocess_speech(self, audio):\n",
        "    audio = torch.tensor(audio, dtype=torch.float32)\n",
        "    processed = self.processor(audio, return_tensors=\"pt\", sampling_rate=self.REQUIRED_SAMPLE_RATE).input_values\n",
        "    return processed\n",
        "  \n",
        "\n",
        "  def preprocess_text(self, label):\n",
        "    return torch.tensor(self.labels[label], dtype=torch.long)\n",
        "\n",
        "\n",
        "  def shuffle(self):\n",
        "    quarter_len = len(self.samples)\n",
        "    english = self.samples[:quarter_len] + self.samples[2*quarter_len:3*quarter_len]\n",
        "    random.shuffle(english)\n",
        "    chinese = self.samples[quarter_len:2*quarter_len] + self.samples[3*quarter_len:]\n",
        "    random.shuffle(chinese)\n",
        "    self.samples = english[:quarter_len] + chinese[:quarter_len] \\\n",
        "                   + english[quarter_len:] + chinese[quarter_len:]\n",
        "\n",
        "\n",
        "\n",
        "  def __getitem__(self, idx):\n",
        "    if torch.is_tensor(idx):\n",
        "      idx = idx.tolist()\n",
        "\n",
        "    X = self.samples[idx][0]\n",
        "    # X = self.preprocess_speech(X)\n",
        "    y = self.samples[idx][1]\n",
        "    # y = self.preprocess_text(y)\n",
        "    return (X, y)\n",
        "\n",
        "\n",
        "  def read_wav_file(self, file_path):\n",
        "    audio, sample_rate = sf.read(file_path)\n",
        "    if sample_rate != self.REQUIRED_SAMPLE_RATE:\n",
        "        raise ValueError(\n",
        "            f\"sample rate (={sample_rate}) of your files must be {self.REQUIRED_SAMPLE_RATE}\"\n",
        "        )\n",
        "    file_id = os.path.split(file_path)[-1][:-len(\".wav\")]\n",
        "    return {file_id: audio}\n",
        "\n",
        "  def print_box(self, text):\n",
        "    line = len(text) * '-'\n",
        "    print(f\"+{line}+\\n\"+\\\n",
        "          f\"|{text}|\\n\"+\\\n",
        "          f\"+{line}+\")\n",
        "\n",
        "  def get_wav_file_paths(self, data_dir, langs, split, proportion):\n",
        "    wav_files = []\n",
        "    fr = 0 if \"ch\" in langs else 10\n",
        "    to = 20 if \"en\" in langs else 10\n",
        "    \n",
        "    self.print_box(split)\n",
        "    for speaker in sorted(next(os.walk(data_dir))[1])[fr:to]:\n",
        "      print(f\"Processing {speaker}\")\n",
        "      sp_path = os.path.join(data_dir, speaker)\n",
        "      for emo_dir in next(os.walk(sp_path))[1]:\n",
        "        print(f\"\\tProcessing {emo_dir}\")\n",
        "        emo_path = os.path.join(sp_path, emo_dir)\n",
        "        split_path = os.path.join(emo_path, split)\n",
        "        files = os.listdir(split_path)\n",
        "        num_files = int(len(files)*proportion)\n",
        "        for file in files[:num_files]:\n",
        "            file_path = os.path.join(split_path, file)\n",
        "            wav_files.append(file_path)\n",
        "    return wav_files\n",
        "\n",
        "\n",
        "  def get_labels(self, data_dir, langs, split, proportion):\n",
        "    labels = {}\n",
        "    fr = 0 if \"ch\" in langs else 10\n",
        "    to = 20 if \"en\" in langs else 10\n",
        "    \n",
        "    self.print_box(split)\n",
        "    for speaker in sorted(next(os.walk(data_dir))[1])[fr:to]:\n",
        "      print(f\"Processing {speaker}\")\n",
        "      sp_path = os.path.join(data_dir, speaker)\n",
        "      for emo_dir in next(os.walk(sp_path))[1]:\n",
        "        print(f\"\\tProcessing {emo_dir}\")\n",
        "        emo_path = os.path.join(sp_path, emo_dir)\n",
        "        emo_dir = emo_dir.lower()\n",
        "        split_path = os.path.join(emo_path, split)\n",
        "        files = os.listdir(split_path)\n",
        "        num_files = int(len(files)*proportion)\n",
        "        for file in files[:num_files]:\n",
        "            labels[file.strip(\".wav\")] = emo_dir\n",
        "    return labels\n",
        "\n",
        "\n",
        "\n",
        "  def fetch_sound_text_mapping(self, data_dir, langs=[\"en\"], split=\"train\", proportion=1.0):\n",
        "    \"\"\"\n",
        "    inputs:\n",
        "      - data_dir: string; directory from which to extract wav-file paths\n",
        "              |_ readme\n",
        "              |_ speakers\n",
        "                        |_ transcriptions\n",
        "                        |_ emotions\n",
        "                                  |_ splits\n",
        "\n",
        "      - langs: list of strings; which languages are extracted\n",
        "      - split: string; train, test, or evaluation\n",
        "      - proportion: float; what proportion of files to extract \n",
        "                    (intended for development, set to 1.0 at implementation)\n",
        "\n",
        "    outputs:\n",
        "      - list: [float speech array, str emotion label]\n",
        "    \"\"\"\n",
        "    all_files = os.listdir(data_dir)\n",
        "\n",
        "    print(\"Getting wav-file paths\")\n",
        "    wav_files = self.get_wav_file_paths(data_dir, langs, split, proportion)\n",
        "\n",
        "    print(\"\\nGetting labels\")\n",
        "    labels = self.get_labels(data_dir, langs, split, proportion)\n",
        "\n",
        "    print(\"\\nExtracting speech\")\n",
        "    speech_samples = {}\n",
        "    speaker = \"\"\n",
        "    emotion = \"\"\n",
        "    for f in wav_files:\n",
        "      # print(f)\n",
        "      if f.split(\"/\")[-4] != speaker:\n",
        "        speaker = f.split(\"/\")[-4]\n",
        "        print(f\"Processing {speaker}\")\n",
        "      if f.split(\"/\")[-3] != emotion:\n",
        "        emotion = f.split(\"/\")[-3]\n",
        "        print(f\"\\tProcessing {emotion}\")\n",
        "      speech_samples.update(self.read_wav_file(f))\n",
        "\n",
        "    assert len(labels) == len(speech_samples)\n",
        "\n",
        "    samples = [(speech_samples[file_id], labels[file_id]) for file_id in speech_samples.keys() if len(speech_samples[file_id]) <= self.AUDIO_MAXLEN]\n",
        "    return samples\n",
        "\n",
        "  \n",
        "  def get_dataset(self, data_dir, langs, split, proportion=1.0):\n",
        "    print(f\"Getting {int(100*proportion)}% of samples\")\n",
        "    start = time.time()\n",
        "    samples = self.fetch_sound_text_mapping(data_dir, langs, split, proportion)\n",
        "    end = time.time()\n",
        "    duration = end-start\n",
        "    secs = int(duration%60)\n",
        "    duration = duration//60\n",
        "    mins = int(duration%60)\n",
        "    hours = int(duration//60)\n",
        "\n",
        "    if \"en\" in langs and \"ch\" in langs:\n",
        "      quarter_len = len(samples)//4\n",
        "      samples = samples[:quarter_len] + samples[2*quarter_len:3*quarter_len] \\\n",
        "                + samples[quarter_len:2*quarter_len] + samples[3*quarter_len:]\n",
        "\n",
        "    print(f\"Processing {int(100*proportion)}% of samples took {str(hours).zfill(2)}:{str(mins).zfill(2)}:{str(secs).zfill(2)}\")\n",
        "    \n",
        "    # X = [i[0] for i in samples]\n",
        "    # y = [i[1] for i in samples]\n",
        "    # dataset = RawDataset(samples)\n",
        "\n",
        "    return samples\n",
        "    # return X, y\n",
        "\n",
        "\n",
        "class SERwav2vec2(nn.Module):\n",
        "  def __init__(self, pretrain_path, learning_rate, linear_size, hidden_size=1024):\n",
        "    super(SERwav2vec2, self).__init__()\n",
        "    self.drop = 0.5\n",
        "    self._ser = Wav2Vec2Model.from_pretrained(pretrain_path)\n",
        "    self._pooler = nn.Sequential(nn.AdaptiveAvgPool1d(1),\n",
        "                              nn.Flatten(start_dim=1))\n",
        "    self._clf = nn.Sequential(nn.Linear(linear_size, hidden_size),\n",
        "                              nn.ReLU(),\n",
        "                              nn.Dropout(self.drop),\n",
        "                              nn.Linear(hidden_size, hidden_size),\n",
        "                              nn.ReLU(),\n",
        "                              nn.Dropout(self.drop),\n",
        "                              nn.Linear(hidden_size, hidden_size),\n",
        "                              nn.ReLU(),\n",
        "                              nn.Dropout(self.drop),\n",
        "                              nn.Linear(hidden_size, 4),\n",
        "                              # nn.Linear(linear_size, 4),\n",
        "                              nn.LogSoftmax(dim=1))\n",
        "\n",
        "    self.training_loss_ = list()                                                # For plotting\n",
        "    self.training_accuracy_ = list()\n",
        "    self.validation_loss_ = list()                                                # For plotting\n",
        "    self.validation_accuracy_ = list()\n",
        "\n",
        "    self.loss_function = nn.NLLLoss()\n",
        "    self.val_loss_function = nn.NLLLoss(reduction=\"none\")\n",
        "    self.optimizer = torch.optim.Adam(self._clf.parameters(), lr=learning_rate)\n",
        "\n",
        "    lambda2 = lambda epoch: 0.95 ** (epoch // 30)\n",
        "    self.scheduler = LambdaLR(self.optimizer, lr_lambda=[lambda2])\n",
        "\n",
        "    self.test_perf = {\"en\": {\"labels correct\": {0: [], 1: [], 2: [], 3: []},\n",
        "                             \"test acc\": 0, \"test loss\": 0},\n",
        "                      \"ch\": {\"labels correct\": {0: [], 1: [], 2: [], 3: []},\n",
        "                             \"test acc\": 0, \"test loss\": 0}\n",
        "    }\n",
        "\n",
        "    # self.labels_correct = {0: 0, 1: 0, 2: 0, 3: 0} # for testing\n",
        "    # self.test_acc, self.test_loss = 0, 0\n",
        "\n",
        "    self.BATCH_SIZE = 20\n",
        "\n",
        "    if torch.cuda.is_available():                                               # Move the model to the GPU (if we have one)\n",
        "      self.cuda()\n",
        "\n",
        "\n",
        "  def coll_fn(self, X):\n",
        "    max_len = max(input.shape[1] for input, target in X)\n",
        "    num_tensors = len(X)\n",
        "    padded = torch.zeros(num_tensors, max_len, dtype=torch.float32)\n",
        "    for i, (input, output) in enumerate(X):\n",
        "      padded[i, :input.shape[1]] = input\n",
        "    labels = torch.tensor([label for input, label in X])\n",
        "    return padded, labels\n",
        "\n",
        "\n",
        "  def forward(self, X):\n",
        "    \"\"\"The forward pass through the network\"\"\"\n",
        "    # print(X)\n",
        "    # with torch.no_grad():\n",
        "    #   hidden = self._ser(X).last_hidden_state\n",
        "    # hidden = self._pooler(hidden.transpose(1,2))\n",
        "    # scores = self._clf(hidden)\n",
        "    scores = self._clf(X)\n",
        "    # scores = self._clf(hidden)\n",
        "    # del c\n",
        "    return scores\n",
        "\n",
        "  def fit(self, train_set, epochs, validation_set=None):\n",
        "    \"\"\"fitting the model to the training data\"\"\"\n",
        "\n",
        "    for epoch in range(epochs):                                                 # Times to loop over the full dataset\n",
        "      self.train()\n",
        "      if \"en\" in train_set.LANGS and \"ch\" in train_set.LANGS:\n",
        "        train_set.shuffle()\n",
        "\n",
        "      with tqdm(DataLoader(train_set, batch_size=self.BATCH_SIZE, shuffle=True,\n",
        "                          num_workers=0, collate_fn=self.coll_fn),\n",
        "                total=len(train_set)//self.BATCH_SIZE, unit=\"batch\", \n",
        "                desc=f\"Epoch {epoch+1}\") as batches:\n",
        "        losses = []\n",
        "        accuracies = []\n",
        "        for inputs, targets in batches:                                         # Loop once over the training data\n",
        "          self.optimizer.zero_grad()                                            # Reset gradients\n",
        "          if torch.cuda.is_available():\n",
        "            inputs = inputs.cuda()\n",
        "            targets = targets.cuda()\n",
        "          \n",
        "          scores = self(inputs)                                                 # Forward pass, flatten output\n",
        "          loss = self.loss_function(scores, targets)                            # Get loss \n",
        "          # print(scores, targets, loss)            \n",
        "          loss.backward()                                                       # Backpropagate the error\n",
        "          self.optimizer.step()                                                 # Run the optimizer to change the weights w.r.t the loss\n",
        "          \n",
        "          predictions = scores.argmax(dim=1)                                    # Calculate the batch training accuracy          \n",
        "          correct = (predictions == targets).sum().item()                       # sum where prediction == target\n",
        "          accuracy = correct / len(targets)*100\n",
        "          self.training_accuracy_.append(accuracy)                              # Save the accuracy for plotting\n",
        "          self.training_loss_.append(loss.item())                               # Save the loss for plotting\n",
        "          losses.append(loss.item())\n",
        "          accuracies.append(accuracy)\n",
        "          # batches.set_postfix(loss=loss.item(), accuracy=accuracy)              # Update the progress bar\n",
        "          batches.set_postfix(loss=sum(losses)/len(losses), accuracy=sum(accuracies)/len(accuracies))              # Update the progress bar\n",
        "          # del tokenized, scores, targets, loss, predictions, correct, accuracy  # delete variables to save the GPU RAM\n",
        "          # gc.collect()\n",
        "          # torch.cuda.empty_cache()\n",
        "      self.scheduler.step()\n",
        "\n",
        "      if validation_set:\n",
        "        self.eval()\n",
        "        with torch.no_grad():                                                       # Do not use the following forward passes to calculate a gradient\n",
        "          n_correct = 0\n",
        "          n_total = len(validation_set)\n",
        "          losses = list()\n",
        "\n",
        "          if \"en\" in train_set.LANGS and \"ch\" in train_set.LANGS:\n",
        "            validation_set.shuffle()\n",
        "          for inputs, targets in DataLoader(validation_set, batch_size=self.BATCH_SIZE, \n",
        "                                            shuffle=True, num_workers=0, collate_fn=self.coll_fn):           # Loop once over the test data\n",
        "            if torch.cuda.is_available():\n",
        "              inputs = inputs.cuda()\n",
        "              targets = targets.cuda()\n",
        "            scores = self(inputs)\n",
        "            predictions = scores.argmax(dim=1)                                      # Runs the test data through the model and finds the predictions\n",
        "            n_correct += (predictions == targets).sum().item()              # Sums the number of correct predictions\n",
        "            losses += self.val_loss_function(scores, targets).tolist()\n",
        "        loss = sum(losses)/n_total\n",
        "        accuracy = 100*n_correct/n_total\n",
        "        self.validation_loss_.append(loss)\n",
        "        self.validation_accuracy_.append(accuracy)\n",
        "        print(f\"accuracy={accuracy}, loss={loss}\")\n",
        "\n",
        "  def score(self, test_set):\n",
        "    \"\"\"returns a score given some data\"\"\"\n",
        "    labels_correct = {0: [], 1: [], 2: [], 3: []}\n",
        "    lang = test_set.LANGS[0]\n",
        "    with torch.no_grad():                                                       # Do not use the following forward passes to calculate a gradient\n",
        "      self.eval()\n",
        "      n_correct = 0\n",
        "      n_total = len(test_set)\n",
        "      losses = list()\n",
        "      for inputs, targets in DataLoader(test_set, batch_size=self.BATCH_SIZE, \n",
        "                                        shuffle=True, num_workers=0, collate_fn=self.coll_fn):             # Loop once over the test data\n",
        "        if torch.cuda.is_available():\n",
        "          inputs = inputs.cuda()\n",
        "          targets = targets.cuda()\n",
        "        scores = self(inputs)\n",
        "        predictions = scores.argmax(dim=1)                                    # Runs the test data through the model and finds the predictions\n",
        "        n_correct += (predictions == targets).sum().item()          # Sums the number of correct predictions\n",
        "        for i, target in enumerate(targets):\n",
        "          labels_correct[target.item()].append((target == predictions[i]).item())\n",
        "        losses += self.val_loss_function(scores, targets).tolist()\n",
        "    loss = sum(losses)/n_total\n",
        "    accuracy = 100*n_correct/n_total\n",
        "    # print(f\"{lang} Test accuracy: {accuracy:.1f}, test loss: {loss:.1f}\")\n",
        "    self.test_perf[lang][\"labels correct\"] = labels_correct\n",
        "    self.test_perf[lang][\"test acc\"] = accuracy\n",
        "    self.test_perf[lang][\"test loss\"] = loss\n",
        "    # self.test_acc, self.test_loss = accuracy, loss\n",
        "\n",
        "\n",
        "class ModelDataPipeline():\n",
        "  def __init__(self, epochs=10, learning_rate = 1e-4, langs=[\"en\"], model_type=\"mono\", proportion=1.0):\n",
        "    # change these\n",
        "    self.EPOCHS = epochs\n",
        "    self.LEARNING_RATE = learning_rate\n",
        "    self.LANGS = langs.copy()\n",
        "    self.MODEL_TYPE = model_type\n",
        "\n",
        "    print(f\"Setting up {model_type} model with\\n\\tepochs: {epochs}\\n\\tlearning rate: {learning_rate}\\n\\tlangs: {', '.join(langs)}\")\n",
        "    \n",
        "    # check the input is valid\n",
        "    for lang in self.LANGS:\n",
        "      assert lang in [\"en\", \"ch\"], f\"{lang} is not a valid language, should be one or both of 'en' or 'ch'\"\n",
        "    assert self.MODEL_TYPE in [\"mono\", \"xlsr\"], f\"{self.MODEL_TYPE} is not a valid model type, should be either 'mono' or xlsr'\"\n",
        "    if self.MODEL_TYPE == \"mono\":\n",
        "      self.PRETRAIN_PATH = \"facebook/wav2vec2-base\"#-960h\"\n",
        "      self.LINEAR_SIZE = 768\n",
        "    elif self.MODEL_TYPE == \"xlsr\":\n",
        "      self.PRETRAIN_PATH = \"facebook/wav2vec2-large-xlsr-53\"\n",
        "      self.LINEAR_SIZE = 1024\n",
        "\n",
        "    self.output_path = f\"{self.MODEL_TYPE}_{'_'.join(self.LANGS)}_{self.EPOCHS}ep\"\n",
        "\n",
        "    self.data_dir = \"/content/drive/MyDrive/Colab Notebooks/MA LangTech/Research and Development/Emotional Speech Dataset (ESD)\"\n",
        "    self.pickle_dir = \"/content/drive/MyDrive/Colab Notebooks/MA LangTech/Research and Development/pickle_datasets\"\n",
        "    # history_path = f\"/home/mnachesa/rd_project/scripts/results/torch_history_{output_path}.pkl\"\n",
        "    self.perf_path = f\"/content/drive/MyDrive/Colab Notebooks/MA LangTech/Research and Development/performance_{self.output_path}.pkl\"\n",
        "    self.saved_model_path = f\"/content/drive/MyDrive/Colab Notebooks/MA LangTech/Research and Development/{self.output_path}.pth\"\n",
        "\n",
        "    # configuration = Wav2Vec2Config()\n",
        "    # self.train_dataset = RawDataset(self.data_dir, langs=self.LANGS, split=\"train\", proportion=proportion)\n",
        "    # self.eval_dataset = RawDataset(self.data_dir, langs=self.LANGS, split=\"evaluation\", proportion=proportion)\n",
        "    # self.en_test_dataset = RawDataset(self.data_dir, langs=[\"en\"], split=\"test\", proportion=proportion)\n",
        "    # self.ch_test_dataset = RawDataset(self.data_dir, langs=[\"ch\"], split=\"test\", proportion=proportion)\n",
        "    self.sermod = SERwav2vec2(self.PRETRAIN_PATH, self.LEARNING_RATE, self.LINEAR_SIZE)\n",
        "    # print(type(self.train_dataset))\n",
        "\n",
        "    self.test_accs = {\"ch\": [], \"en\": []}\n",
        "    self.test_losses = {\"ch\": [], \"en\": []}\n",
        "\n",
        "  \n",
        "  def train_model(self):\n",
        "    print(\"Begin training\")\n",
        "    self.sermod.fit(self.train_dataset, epochs=self.EPOCHS, validation_set=self.eval_dataset)\n",
        "    # torch.save(self.sermod.state_dict(), self.saved_model_path)\n",
        "\n",
        "\n",
        "  def test_model(self):\n",
        "    self.sermod.score(self.en_test_dataset)\n",
        "    self.sermod.score(self.ch_test_dataset)\n",
        "    print(f\"\\nTest performance\")\n",
        "    print(\"lang accuracy loss\")\n",
        "    print(\"------------------\")\n",
        "    for lang in [\"en\", \"ch\"]:\n",
        "      acc = self.sermod.test_perf[lang][\"test acc\"]\n",
        "      loss = self.sermod.test_perf[lang][\"test loss\"]\n",
        "      print(f\"{lang:>4} {acc:>8.1f} {loss:>4.1f}\")\n",
        "    print()\n",
        "\n",
        "  \n",
        "  def save_model_performance(self):\n",
        "    metrics = {\"training accuracy\": self.sermod.training_accuracy_,\n",
        "               \"training loss\": self.sermod.training_loss_,\n",
        "               \"validation accuracy\": self.sermod.validation_accuracy_,\n",
        "               \"validation loss\": self.sermod.validation_loss_}\n",
        "    test_perf = self.sermod.test_perf\n",
        "\n",
        "    to_save = {\"metrics\": metrics, \"test perf\": test_perf}\n",
        "\n",
        "    with open(self.perf_path, \"wb\") as f:\n",
        "        pickle.dump(to_save, f)\n",
        "\n",
        "    \n",
        "  def set_data(self, eval_sp, langs, lang, remixed_data=True):\n",
        "    if remixed_data:\n",
        "      eval_sp -= 1\n",
        "      inp_eval_sp = eval_sp\n",
        "      samples_en = {\"train\": [], \"evaluation\": [], \"test\": []}\n",
        "      samples_ch = {\"train\": [], \"evaluation\": [], \"test\": []}\n",
        "      samples = {\"en\": samples_en, \"ch\": samples_ch}\n",
        "\n",
        "      input_samples = {\"en\": {}, \"ch\": {}}\n",
        "\n",
        "      with open(os.path.join(self.pickle_dir, f\"en_train_dataset.pkl\"), \"rb\") as infile:\n",
        "        self.train_dataset = pickle.load(infile)\n",
        "      with open(os.path.join(self.pickle_dir, f\"en_eval_dataset.pkl\"), \"rb\") as infile:\n",
        "        self.eval_dataset = pickle.load(infile)\n",
        "      with open(os.path.join(self.pickle_dir, f\"en_test_dataset.pkl\"), \"rb\") as infile:\n",
        "        self.en_test_dataset = pickle.load(infile)\n",
        "      with open(os.path.join(self.pickle_dir, f\"ch_test_dataset.pkl\"), \"rb\") as infile:\n",
        "        self.ch_test_dataset = pickle.load(infile)\n",
        "\n",
        "      en_train_samples = self.train_dataset.samples\n",
        "      input_samples[\"en\"][\"train\"] = en_train_samples\n",
        "      en_eval_samples = self.eval_dataset.samples\n",
        "      input_samples[\"en\"][\"evaluation\"] = en_eval_samples\n",
        "\n",
        "      with open(os.path.join(self.pickle_dir, f\"ch_train_dataset.pkl\"), \"rb\") as infile:\n",
        "        self.train_dataset = pickle.load(infile)\n",
        "      with open(os.path.join(self.pickle_dir, f\"ch_eval_dataset.pkl\"), \"rb\") as infile:\n",
        "        self.eval_dataset = pickle.load(infile)\n",
        "\n",
        "      ch_train_samples = self.train_dataset.samples\n",
        "      input_samples[\"ch\"][\"train\"] = ch_train_samples\n",
        "      ch_eval_samples = self.eval_dataset.samples\n",
        "      input_samples[\"ch\"][\"evaluation\"] = ch_eval_samples\n",
        "      en_test_samples = self.en_test_dataset.samples\n",
        "      input_samples[\"en\"][\"test\"] = en_test_samples\n",
        "      ch_test_samples = self.ch_test_dataset.samples\n",
        "      input_samples[\"ch\"][\"test\"] = ch_test_samples\n",
        "\n",
        "      for train_lang in [\"en\", \"ch\"]:\n",
        "        if train_lang != lang:\n",
        "          eval_sp = 6\n",
        "        for i in range(8):\n",
        "          if i == eval_sp:\n",
        "            continue\n",
        "          samples[train_lang][\"train\"].extend(input_samples[train_lang][\"train\"][1200*i:1200*(i+1)])\n",
        "          samples[train_lang][\"train\"].extend(input_samples[train_lang][\"evaluation\"][80*i:80*(i+1)])\n",
        "          samples[train_lang][\"train\"].extend(input_samples[train_lang][\"test\"][120*i:120*(i+1)])\n",
        "        samples[train_lang][\"evaluation\"].extend(input_samples[train_lang][\"train\"][1200*eval_sp:1200*(eval_sp+1)])\n",
        "        samples[train_lang][\"evaluation\"].extend(input_samples[train_lang][\"evaluation\"][80*eval_sp:80*(eval_sp+1)])\n",
        "        samples[train_lang][\"evaluation\"].extend(input_samples[train_lang][\"test\"][120*eval_sp:120*(eval_sp+1)])\n",
        "        for i in range(8, 10):\n",
        "          samples[train_lang][\"test\"].extend(input_samples[train_lang][\"train\"][1200*i:1200*(i+1)])\n",
        "          samples[train_lang][\"test\"].extend(input_samples[train_lang][\"evaluation\"][80*i:80*(i+1)])\n",
        "          samples[train_lang][\"test\"].extend(input_samples[train_lang][\"test\"][120*i:120*(i+1)])\n",
        "        eval_sp = inp_eval_sp\n",
        "      \n",
        "      with open(os.path.join(self.pickle_dir, f\"{'_'.join(self.LANGS)}_train_dataset.pkl\"), \"rb\") as infile:\n",
        "        self.train_dataset = pickle.load(infile)\n",
        "      with open(os.path.join(self.pickle_dir, f\"{'_'.join(self.LANGS)}_eval_dataset.pkl\"), \"rb\") as infile:\n",
        "        self.eval_dataset = pickle.load(infile)\n",
        "\n",
        "      self.train_dataset.samples = []\n",
        "      self.eval_dataset.samples = []\n",
        "      for lang in langs:\n",
        "        self.train_dataset.samples += samples[lang][\"train\"]\n",
        "        self.eval_dataset.samples += samples[lang][\"evaluation\"]\n",
        "      self.ch_test_dataset.samples = samples[\"ch\"][\"test\"]\n",
        "      self.en_test_dataset.samples = samples[\"en\"][\"test\"]\n",
        "      \n",
        "    else:\n",
        "      with open(os.path.join(self.pickle_dir, f\"{'_'.join(langs)}_train_dataset.pkl\"), \"rb\") as infile:\n",
        "        self.train_dataset = pickle.load(infile)\n",
        "      with open(os.path.join(self.pickle_dir, f\"{'_'.join(langs)}_eval_dataset.pkl\"), \"rb\") as infile:\n",
        "        self.eval_dataset = pickle.load(infile)\n",
        "      with open(os.path.join(self.pickle_dir, f\"en_test_dataset.pkl\"), \"rb\") as infile:\n",
        "        self.en_test_dataset = pickle.load(infile)\n",
        "      with open(os.path.join(self.pickle_dir, f\"ch_test_dataset.pkl\"), \"rb\") as infile:\n",
        "        self.ch_test_dataset = pickle.load(infile)\n",
        "\n",
        "    if len(langs) == 2:\n",
        "      quarter_len = len(self.train_dataset.samples)//4\n",
        "      self.train_dataset.samples = self.train_dataset.samples[:quarter_len] \\\n",
        "                                + self.train_dataset.samples[2*quarter_len:3*quarter_len] \\\n",
        "                                + self.train_dataset.samples[quarter_len:2*quarter_len] \\\n",
        "                                + self.train_dataset.samples[3*quarter_len:]\n",
        "\n",
        "\n",
        "  def run_per_split(self, remixed_data=True):\n",
        "    for lang in self.LANGS:\n",
        "      for eval_sp in [7, 8]:\n",
        "        self.sermod = SERwav2vec2(self.PRETRAIN_PATH, self.LEARNING_RATE, self.LINEAR_SIZE)\n",
        "        \n",
        "        self.set_data(eval_sp, self.LANGS, lang, remixed_data)\n",
        "        self.train_model()\n",
        "        self.test_model()\n",
        "        for test_lang in [\"en\", \"ch\"]:\n",
        "          self.test_accs[test_lang].append(self.sermod.test_perf[test_lang][\"test acc\"])\n",
        "          self.test_losses[test_lang].append(self.sermod.test_perf[test_lang][\"test loss\"])\n",
        "        self.output_path = f\"wav2vec2_{'_'.join(self.LANGS)}_{self.EPOCHS}ep_eval_sp_{eval_sp}_{lang}_original_data_{not remixed_data}\"\n",
        "        self.perf_path = f\"/content/drive/MyDrive/Colab Notebooks/MA LangTech/Thesis/results/performance_{self.output_path}.pkl\"\n",
        "        self.save_model_performance()\n",
        "\n",
        "    num_its = len(self.test_accs[lang])\n",
        "    print(f\"\\n\\nTrained on {' '.join(self.LANGS)} Wav2Vec2.0-base voiceprints\")\n",
        "    print(f\"Average test performance over {num_its} iteration(s)\")\n",
        "    print(\"lang accuracy loss\")\n",
        "    print(\"------------------\")\n",
        "    for lang in [\"en\", \"ch\"]:\n",
        "      avg_acc = sum(self.test_accs[lang])/num_its\n",
        "      avg_loss = sum(self.test_losses[lang])/num_its\n",
        "      print(f\"{lang:>4} {avg_acc:>8.1f} {avg_loss:>4.1f}\")"
      ]
    },
    {
      "cell_type": "code",
      "source": [
        "epochs = 40\n",
        "learning_rate = 5e-5\n",
        "model_type = \"mono\"\n",
        "proportion = 1.0"
      ],
      "metadata": {
        "id": "XBInv6n8dDxX"
      },
      "execution_count": null,
      "outputs": []
    },
    {
      "cell_type": "markdown",
      "source": [
        "## Train and test models"
      ],
      "metadata": {
        "id": "P1mo9Ni2t5At"
      }
    },
    {
      "cell_type": "markdown",
      "source": [
        "### Train and test with new split"
      ],
      "metadata": {
        "id": "hqMqEp7kt-2J"
      }
    },
    {
      "cell_type": "code",
      "source": [
        "if __name__ == \"__main__\":\n",
        "  start = time.time()\n",
        "  \n",
        "  langs = [\"en\", \"ch\"]\n",
        "\n",
        "  pipeline = ModelDataPipeline(epochs=epochs,\n",
        "                               learning_rate=learning_rate,\n",
        "                               langs=langs,\n",
        "                               model_type=model_type,\n",
        "                               proportion=proportion)\n",
        "\n",
        "  pipeline.run_per_split()\n",
        "\n",
        "  end = time.time()\n",
        "\n",
        "  print(f\"\\nRunning the script took {running_time(start, end)}\")"
      ],
      "metadata": {
        "colab": {
          "base_uri": "https://localhost:8080/",
          "referenced_widgets": [
            "f158031e2b4f4a36a5f8738f7ba7d98c",
            "22c7bc9910124199adc6a7ebeb9e10cf",
            "562a6ef79f504802a268614ced49aa30",
            "68ced129a32041c6a492eda5a8afb14f",
            "40efa11eb82740458def30c41bffa7f5",
            "d135890fc1014b839f1eb5d11a372c52",
            "b024c4acbae94f29b2aa1d743a885aad",
            "8430a9ad9e724b08a3f03f7d9b5189ca",
            "5966e5c4d55041eb8cc152254d72f68d",
            "5f924f44bd994acaa1b73e9b3e11e1c2",
            "1dd13a40631b498291a6babc11d33bda",
            "b21a4251bb264ccbb0df886b7ce5077b",
            "1ea817d8c235458f89563488a00993c1",
            "bd75cc8e2fff437b8bd220f9489e6e2b",
            "c31286061d67478bbe06d654acb98135",
            "fc1f9bd4dd694294ab21abbde6a5dd67",
            "7a32569a8b8347e6a609f0cc18587711",
            "86cd82f0d4c94bc781bec1757fea4d5d",
            "6af3dbd965534cdab6d348a936086680",
            "c1f1f4c2e0744c06a0c8a93f569b3df8",
            "142ec5b410fc47e584576d9c7fdf6963",
            "a89aea3fb686401f9b4087be15bfcc89"
          ]
        },
        "id": "wVaEgJgBdJT0",
        "outputId": "6cc0ab29-f552-4d15-b916-13bcfe9b8208"
      },
      "execution_count": null,
      "outputs": [
        {
          "output_type": "stream",
          "name": "stdout",
          "text": [
            "Setting up mono model with\n",
            "\tepochs: 40\n",
            "\tlearning rate: 5e-05\n",
            "\tlangs: en, ch\n"
          ]
        },
        {
          "output_type": "display_data",
          "data": {
            "text/plain": [
              "Downloading (…)lve/main/config.json:   0%|          | 0.00/1.84k [00:00<?, ?B/s]"
            ],
            "application/vnd.jupyter.widget-view+json": {
              "version_major": 2,
              "version_minor": 0,
              "model_id": "f158031e2b4f4a36a5f8738f7ba7d98c"
            }
          },
          "metadata": {}
        },
        {
          "output_type": "stream",
          "name": "stderr",
          "text": [
            "/usr/local/lib/python3.10/dist-packages/transformers/configuration_utils.py:380: UserWarning: Passing `gradient_checkpointing` to a config initialization is deprecated and will be removed in v5 Transformers. Using `model.gradient_checkpointing_enable()` instead, or if you are using the `Trainer` API, pass `gradient_checkpointing=True` in your `TrainingArguments`.\n",
            "  warnings.warn(\n"
          ]
        },
        {
          "output_type": "display_data",
          "data": {
            "text/plain": [
              "Downloading pytorch_model.bin:   0%|          | 0.00/380M [00:00<?, ?B/s]"
            ],
            "application/vnd.jupyter.widget-view+json": {
              "version_major": 2,
              "version_minor": 0,
              "model_id": "b21a4251bb264ccbb0df886b7ce5077b"
            }
          },
          "metadata": {}
        },
        {
          "output_type": "stream",
          "name": "stderr",
          "text": [
            "Some weights of the model checkpoint at facebook/wav2vec2-base were not used when initializing Wav2Vec2Model: ['quantizer.codevectors', 'project_q.bias', 'quantizer.weight_proj.weight', 'project_hid.bias', 'project_q.weight', 'quantizer.weight_proj.bias', 'project_hid.weight']\n",
            "- This IS expected if you are initializing Wav2Vec2Model from the checkpoint of a model trained on another task or with another architecture (e.g. initializing a BertForSequenceClassification model from a BertForPreTraining model).\n",
            "- This IS NOT expected if you are initializing Wav2Vec2Model from the checkpoint of a model that you expect to be exactly identical (initializing a BertForSequenceClassification model from a BertForSequenceClassification model).\n",
            "Some weights of the model checkpoint at facebook/wav2vec2-base were not used when initializing Wav2Vec2Model: ['quantizer.codevectors', 'project_q.bias', 'quantizer.weight_proj.weight', 'project_hid.bias', 'project_q.weight', 'quantizer.weight_proj.bias', 'project_hid.weight']\n",
            "- This IS expected if you are initializing Wav2Vec2Model from the checkpoint of a model trained on another task or with another architecture (e.g. initializing a BertForSequenceClassification model from a BertForPreTraining model).\n",
            "- This IS NOT expected if you are initializing Wav2Vec2Model from the checkpoint of a model that you expect to be exactly identical (initializing a BertForSequenceClassification model from a BertForSequenceClassification model).\n"
          ]
        },
        {
          "output_type": "stream",
          "name": "stdout",
          "text": [
            "Begin training\n"
          ]
        },
        {
          "output_type": "stream",
          "name": "stderr",
          "text": [
            "Epoch 1: 100%|██████████| 490/490 [00:03<00:00, 143.12batch/s, accuracy=41.2, loss=1.21]\n"
          ]
        },
        {
          "output_type": "stream",
          "name": "stdout",
          "text": [
            "accuracy=51.0, loss=1.1681202511915139\n"
          ]
        },
        {
          "output_type": "stream",
          "name": "stderr",
          "text": [
            "Epoch 2: 100%|██████████| 490/490 [00:03<00:00, 136.48batch/s, accuracy=58.9, loss=0.887]\n"
          ]
        },
        {
          "output_type": "stream",
          "name": "stdout",
          "text": [
            "accuracy=60.42857142857143, loss=1.0705008756209697\n"
          ]
        },
        {
          "output_type": "stream",
          "name": "stderr",
          "text": [
            "Epoch 3: 100%|██████████| 490/490 [00:03<00:00, 132.34batch/s, accuracy=68.3, loss=0.724]\n"
          ]
        },
        {
          "output_type": "stream",
          "name": "stdout",
          "text": [
            "accuracy=65.42857142857143, loss=0.9677276366922473\n"
          ]
        },
        {
          "output_type": "stream",
          "name": "stderr",
          "text": [
            "Epoch 4: 100%|██████████| 490/490 [00:03<00:00, 134.51batch/s, accuracy=73.6, loss=0.627]\n"
          ]
        },
        {
          "output_type": "stream",
          "name": "stdout",
          "text": [
            "accuracy=66.5, loss=0.8998340442151364\n"
          ]
        },
        {
          "output_type": "stream",
          "name": "stderr",
          "text": [
            "Epoch 5: 100%|██████████| 490/490 [00:03<00:00, 140.65batch/s, accuracy=76.7, loss=0.557]\n"
          ]
        },
        {
          "output_type": "stream",
          "name": "stdout",
          "text": [
            "accuracy=62.285714285714285, loss=0.9522481611896573\n"
          ]
        },
        {
          "output_type": "stream",
          "name": "stderr",
          "text": [
            "Epoch 6: 100%|██████████| 490/490 [00:03<00:00, 138.16batch/s, accuracy=78.9, loss=0.514]\n"
          ]
        },
        {
          "output_type": "stream",
          "name": "stdout",
          "text": [
            "accuracy=62.142857142857146, loss=1.0262031556492937\n"
          ]
        },
        {
          "output_type": "stream",
          "name": "stderr",
          "text": [
            "Epoch 7: 100%|██████████| 490/490 [00:03<00:00, 130.07batch/s, accuracy=80.4, loss=0.48]\n"
          ]
        },
        {
          "output_type": "stream",
          "name": "stdout",
          "text": [
            "accuracy=66.5, loss=0.9048268471267407\n"
          ]
        },
        {
          "output_type": "stream",
          "name": "stderr",
          "text": [
            "Epoch 8: 100%|██████████| 490/490 [00:03<00:00, 125.64batch/s, accuracy=82.8, loss=0.442]\n"
          ]
        },
        {
          "output_type": "stream",
          "name": "stdout",
          "text": [
            "accuracy=64.85714285714286, loss=1.016465468401688\n"
          ]
        },
        {
          "output_type": "stream",
          "name": "stderr",
          "text": [
            "Epoch 9: 100%|██████████| 490/490 [00:03<00:00, 136.56batch/s, accuracy=83.1, loss=0.421]\n"
          ]
        },
        {
          "output_type": "stream",
          "name": "stdout",
          "text": [
            "accuracy=69.35714285714286, loss=0.8773122741335204\n"
          ]
        },
        {
          "output_type": "stream",
          "name": "stderr",
          "text": [
            "Epoch 10: 100%|██████████| 490/490 [00:03<00:00, 136.31batch/s, accuracy=84.3, loss=0.393]\n"
          ]
        },
        {
          "output_type": "stream",
          "name": "stdout",
          "text": [
            "accuracy=67.57142857142857, loss=0.8960066876038244\n"
          ]
        },
        {
          "output_type": "stream",
          "name": "stderr",
          "text": [
            "Epoch 11: 100%|██████████| 490/490 [00:03<00:00, 133.05batch/s, accuracy=85.6, loss=0.379]\n"
          ]
        },
        {
          "output_type": "stream",
          "name": "stdout",
          "text": [
            "accuracy=68.71428571428571, loss=0.8990711415171141\n"
          ]
        },
        {
          "output_type": "stream",
          "name": "stderr",
          "text": [
            "Epoch 12: 100%|██████████| 490/490 [00:03<00:00, 129.50batch/s, accuracy=85.4, loss=0.365]\n"
          ]
        },
        {
          "output_type": "stream",
          "name": "stdout",
          "text": [
            "accuracy=68.35714285714286, loss=1.0094398586266782\n"
          ]
        },
        {
          "output_type": "stream",
          "name": "stderr",
          "text": [
            "Epoch 13: 100%|██████████| 490/490 [00:03<00:00, 131.27batch/s, accuracy=86.1, loss=0.351]\n"
          ]
        },
        {
          "output_type": "stream",
          "name": "stdout",
          "text": [
            "accuracy=65.28571428571429, loss=1.0629766206630407\n"
          ]
        },
        {
          "output_type": "stream",
          "name": "stderr",
          "text": [
            "Epoch 14: 100%|██████████| 490/490 [00:03<00:00, 137.60batch/s, accuracy=86.3, loss=0.346]\n"
          ]
        },
        {
          "output_type": "stream",
          "name": "stdout",
          "text": [
            "accuracy=68.21428571428571, loss=1.0293009261617097\n"
          ]
        },
        {
          "output_type": "stream",
          "name": "stderr",
          "text": [
            "Epoch 15: 100%|██████████| 490/490 [00:05<00:00, 93.95batch/s, accuracy=86.8, loss=0.338] \n"
          ]
        },
        {
          "output_type": "stream",
          "name": "stdout",
          "text": [
            "accuracy=70.0, loss=0.9018593993434478\n"
          ]
        },
        {
          "output_type": "stream",
          "name": "stderr",
          "text": [
            "Epoch 16: 100%|██████████| 490/490 [00:03<00:00, 136.34batch/s, accuracy=87.4, loss=0.322]\n"
          ]
        },
        {
          "output_type": "stream",
          "name": "stdout",
          "text": [
            "accuracy=66.35714285714286, loss=1.0294100120636929\n"
          ]
        },
        {
          "output_type": "stream",
          "name": "stderr",
          "text": [
            "Epoch 17: 100%|██████████| 490/490 [00:03<00:00, 126.62batch/s, accuracy=87.9, loss=0.305]\n"
          ]
        },
        {
          "output_type": "stream",
          "name": "stdout",
          "text": [
            "accuracy=67.35714285714286, loss=1.0576290331943528\n"
          ]
        },
        {
          "output_type": "stream",
          "name": "stderr",
          "text": [
            "Epoch 18: 100%|██████████| 490/490 [00:03<00:00, 137.88batch/s, accuracy=88.2, loss=0.31]\n"
          ]
        },
        {
          "output_type": "stream",
          "name": "stdout",
          "text": [
            "accuracy=68.92857142857143, loss=0.9480141478463027\n"
          ]
        },
        {
          "output_type": "stream",
          "name": "stderr",
          "text": [
            "Epoch 19: 100%|██████████| 490/490 [00:03<00:00, 140.26batch/s, accuracy=88.1, loss=0.301]\n"
          ]
        },
        {
          "output_type": "stream",
          "name": "stdout",
          "text": [
            "accuracy=69.21428571428571, loss=1.0166443605691113\n"
          ]
        },
        {
          "output_type": "stream",
          "name": "stderr",
          "text": [
            "Epoch 20: 100%|██████████| 490/490 [00:03<00:00, 137.63batch/s, accuracy=88.8, loss=0.285]\n"
          ]
        },
        {
          "output_type": "stream",
          "name": "stdout",
          "text": [
            "accuracy=73.14285714285714, loss=0.8622240500972891\n"
          ]
        },
        {
          "output_type": "stream",
          "name": "stderr",
          "text": [
            "Epoch 21: 100%|██████████| 490/490 [00:03<00:00, 133.09batch/s, accuracy=89.1, loss=0.278]\n"
          ]
        },
        {
          "output_type": "stream",
          "name": "stdout",
          "text": [
            "accuracy=67.85714285714286, loss=1.1545014528505713\n"
          ]
        },
        {
          "output_type": "stream",
          "name": "stderr",
          "text": [
            "Epoch 22: 100%|██████████| 490/490 [00:03<00:00, 129.50batch/s, accuracy=89.1, loss=0.276]\n"
          ]
        },
        {
          "output_type": "stream",
          "name": "stdout",
          "text": [
            "accuracy=70.5, loss=0.9635817236353225\n"
          ]
        },
        {
          "output_type": "stream",
          "name": "stderr",
          "text": [
            "Epoch 23: 100%|██████████| 490/490 [00:03<00:00, 138.23batch/s, accuracy=89.5, loss=0.269]\n"
          ]
        },
        {
          "output_type": "stream",
          "name": "stdout",
          "text": [
            "accuracy=69.28571428571429, loss=1.1879824206176999\n"
          ]
        },
        {
          "output_type": "stream",
          "name": "stderr",
          "text": [
            "Epoch 24: 100%|██████████| 490/490 [00:03<00:00, 137.34batch/s, accuracy=89.4, loss=0.273]\n"
          ]
        },
        {
          "output_type": "stream",
          "name": "stdout",
          "text": [
            "accuracy=66.07142857142857, loss=1.1530131910145072\n"
          ]
        },
        {
          "output_type": "stream",
          "name": "stderr",
          "text": [
            "Epoch 25: 100%|██████████| 490/490 [00:03<00:00, 135.18batch/s, accuracy=89.7, loss=0.264]\n"
          ]
        },
        {
          "output_type": "stream",
          "name": "stdout",
          "text": [
            "accuracy=72.14285714285714, loss=0.9406040753987664\n"
          ]
        },
        {
          "output_type": "stream",
          "name": "stderr",
          "text": [
            "Epoch 26: 100%|██████████| 490/490 [00:03<00:00, 130.11batch/s, accuracy=89.9, loss=0.254]\n"
          ]
        },
        {
          "output_type": "stream",
          "name": "stdout",
          "text": [
            "accuracy=71.92857142857143, loss=0.8766860222737458\n"
          ]
        },
        {
          "output_type": "stream",
          "name": "stderr",
          "text": [
            "Epoch 27: 100%|██████████| 490/490 [00:03<00:00, 134.85batch/s, accuracy=90, loss=0.256]\n"
          ]
        },
        {
          "output_type": "stream",
          "name": "stdout",
          "text": [
            "accuracy=75.42857142857143, loss=0.7564283660626097\n"
          ]
        },
        {
          "output_type": "stream",
          "name": "stderr",
          "text": [
            "Epoch 28: 100%|██████████| 490/490 [00:03<00:00, 139.63batch/s, accuracy=90.9, loss=0.234]\n"
          ]
        },
        {
          "output_type": "stream",
          "name": "stdout",
          "text": [
            "accuracy=74.92857142857143, loss=0.8604543796410339\n"
          ]
        },
        {
          "output_type": "stream",
          "name": "stderr",
          "text": [
            "Epoch 29: 100%|██████████| 490/490 [00:03<00:00, 135.28batch/s, accuracy=90.9, loss=0.239]\n"
          ]
        },
        {
          "output_type": "stream",
          "name": "stdout",
          "text": [
            "accuracy=76.21428571428571, loss=0.8803131900421587\n"
          ]
        },
        {
          "output_type": "stream",
          "name": "stderr",
          "text": [
            "Epoch 30: 100%|██████████| 490/490 [00:03<00:00, 134.41batch/s, accuracy=90.6, loss=0.248]\n"
          ]
        },
        {
          "output_type": "stream",
          "name": "stdout",
          "text": [
            "accuracy=74.85714285714286, loss=0.8469322345912301\n"
          ]
        },
        {
          "output_type": "stream",
          "name": "stderr",
          "text": [
            "Epoch 31: 100%|██████████| 490/490 [00:03<00:00, 124.81batch/s, accuracy=91.1, loss=0.232]\n"
          ]
        },
        {
          "output_type": "stream",
          "name": "stdout",
          "text": [
            "accuracy=75.28571428571429, loss=0.8308868943597096\n"
          ]
        },
        {
          "output_type": "stream",
          "name": "stderr",
          "text": [
            "Epoch 32: 100%|██████████| 490/490 [00:03<00:00, 136.74batch/s, accuracy=91.8, loss=0.217]\n"
          ]
        },
        {
          "output_type": "stream",
          "name": "stdout",
          "text": [
            "accuracy=74.42857142857143, loss=0.8753919114460295\n"
          ]
        },
        {
          "output_type": "stream",
          "name": "stderr",
          "text": [
            "Epoch 33: 100%|██████████| 490/490 [00:03<00:00, 135.00batch/s, accuracy=91.8, loss=0.214]\n"
          ]
        },
        {
          "output_type": "stream",
          "name": "stdout",
          "text": [
            "accuracy=75.42857142857143, loss=0.9030658475285047\n"
          ]
        },
        {
          "output_type": "stream",
          "name": "stderr",
          "text": [
            "Epoch 34: 100%|██████████| 490/490 [00:03<00:00, 130.73batch/s, accuracy=91.6, loss=0.222]\n"
          ]
        },
        {
          "output_type": "stream",
          "name": "stdout",
          "text": [
            "accuracy=72.35714285714286, loss=1.0914376003125559\n"
          ]
        },
        {
          "output_type": "stream",
          "name": "stderr",
          "text": [
            "Epoch 35: 100%|██████████| 490/490 [00:03<00:00, 128.77batch/s, accuracy=91.4, loss=0.225]\n"
          ]
        },
        {
          "output_type": "stream",
          "name": "stdout",
          "text": [
            "accuracy=71.78571428571429, loss=0.9778313128955071\n"
          ]
        },
        {
          "output_type": "stream",
          "name": "stderr",
          "text": [
            "Epoch 36: 100%|██████████| 490/490 [00:03<00:00, 130.97batch/s, accuracy=91.7, loss=0.213]\n"
          ]
        },
        {
          "output_type": "stream",
          "name": "stdout",
          "text": [
            "accuracy=70.92857142857143, loss=1.07791035975842\n"
          ]
        },
        {
          "output_type": "stream",
          "name": "stderr",
          "text": [
            "Epoch 37: 100%|██████████| 490/490 [00:03<00:00, 136.38batch/s, accuracy=91.5, loss=0.212]\n"
          ]
        },
        {
          "output_type": "stream",
          "name": "stdout",
          "text": [
            "accuracy=68.92857142857143, loss=1.1438461718832693\n"
          ]
        },
        {
          "output_type": "stream",
          "name": "stderr",
          "text": [
            "Epoch 38: 100%|██████████| 490/490 [00:03<00:00, 136.57batch/s, accuracy=92.2, loss=0.205]\n"
          ]
        },
        {
          "output_type": "stream",
          "name": "stdout",
          "text": [
            "accuracy=72.71428571428571, loss=1.0023934988551382\n"
          ]
        },
        {
          "output_type": "stream",
          "name": "stderr",
          "text": [
            "Epoch 39: 100%|██████████| 490/490 [00:03<00:00, 137.28batch/s, accuracy=91.7, loss=0.213]\n"
          ]
        },
        {
          "output_type": "stream",
          "name": "stdout",
          "text": [
            "accuracy=74.07142857142857, loss=0.9573662953159231\n"
          ]
        },
        {
          "output_type": "stream",
          "name": "stderr",
          "text": [
            "Epoch 40: 100%|██████████| 490/490 [00:03<00:00, 136.37batch/s, accuracy=92.4, loss=0.195]\n"
          ]
        },
        {
          "output_type": "stream",
          "name": "stdout",
          "text": [
            "accuracy=75.28571428571429, loss=0.8073905317822709\n",
            "\n",
            "Test performance\n",
            "lang accuracy loss\n",
            "------------------\n",
            "  en     71.9  1.7\n",
            "  ch     77.9  0.6\n",
            "\n"
          ]
        },
        {
          "output_type": "stream",
          "name": "stderr",
          "text": [
            "Some weights of the model checkpoint at facebook/wav2vec2-base were not used when initializing Wav2Vec2Model: ['quantizer.codevectors', 'project_q.bias', 'quantizer.weight_proj.weight', 'project_hid.bias', 'project_q.weight', 'quantizer.weight_proj.bias', 'project_hid.weight']\n",
            "- This IS expected if you are initializing Wav2Vec2Model from the checkpoint of a model trained on another task or with another architecture (e.g. initializing a BertForSequenceClassification model from a BertForPreTraining model).\n",
            "- This IS NOT expected if you are initializing Wav2Vec2Model from the checkpoint of a model that you expect to be exactly identical (initializing a BertForSequenceClassification model from a BertForSequenceClassification model).\n"
          ]
        },
        {
          "output_type": "stream",
          "name": "stdout",
          "text": [
            "Begin training\n"
          ]
        },
        {
          "output_type": "stream",
          "name": "stderr",
          "text": [
            "Epoch 1: 100%|██████████| 490/490 [00:03<00:00, 133.28batch/s, accuracy=42, loss=1.2]\n"
          ]
        },
        {
          "output_type": "stream",
          "name": "stdout",
          "text": [
            "accuracy=55.857142857142854, loss=1.1338468413480691\n"
          ]
        },
        {
          "output_type": "stream",
          "name": "stderr",
          "text": [
            "Epoch 2: 100%|██████████| 490/490 [00:03<00:00, 126.19batch/s, accuracy=58.6, loss=0.882]\n"
          ]
        },
        {
          "output_type": "stream",
          "name": "stdout",
          "text": [
            "accuracy=67.14285714285714, loss=1.0041496055626444\n"
          ]
        },
        {
          "output_type": "stream",
          "name": "stderr",
          "text": [
            "Epoch 3: 100%|██████████| 490/490 [00:03<00:00, 124.51batch/s, accuracy=69.1, loss=0.715]\n"
          ]
        },
        {
          "output_type": "stream",
          "name": "stdout",
          "text": [
            "accuracy=62.285714285714285, loss=0.8961553191486746\n"
          ]
        },
        {
          "output_type": "stream",
          "name": "stderr",
          "text": [
            "Epoch 4: 100%|██████████| 490/490 [00:03<00:00, 134.81batch/s, accuracy=75.3, loss=0.599]\n"
          ]
        },
        {
          "output_type": "stream",
          "name": "stdout",
          "text": [
            "accuracy=53.07142857142857, loss=1.2173602057773887\n"
          ]
        },
        {
          "output_type": "stream",
          "name": "stderr",
          "text": [
            "Epoch 5: 100%|██████████| 490/490 [00:03<00:00, 133.45batch/s, accuracy=77.6, loss=0.538]\n"
          ]
        },
        {
          "output_type": "stream",
          "name": "stdout",
          "text": [
            "accuracy=66.14285714285714, loss=0.8385048162740921\n"
          ]
        },
        {
          "output_type": "stream",
          "name": "stderr",
          "text": [
            "Epoch 6: 100%|██████████| 490/490 [00:03<00:00, 133.91batch/s, accuracy=80, loss=0.491]\n"
          ]
        },
        {
          "output_type": "stream",
          "name": "stdout",
          "text": [
            "accuracy=61.285714285714285, loss=0.9269094106275588\n"
          ]
        },
        {
          "output_type": "stream",
          "name": "stderr",
          "text": [
            "Epoch 7: 100%|██████████| 490/490 [00:03<00:00, 127.52batch/s, accuracy=81.2, loss=0.457]\n"
          ]
        },
        {
          "output_type": "stream",
          "name": "stdout",
          "text": [
            "accuracy=63.214285714285715, loss=0.9171756460469416\n"
          ]
        },
        {
          "output_type": "stream",
          "name": "stderr",
          "text": [
            "Epoch 8: 100%|██████████| 490/490 [00:03<00:00, 125.08batch/s, accuracy=82.8, loss=0.432]\n"
          ]
        },
        {
          "output_type": "stream",
          "name": "stdout",
          "text": [
            "accuracy=67.42857142857143, loss=0.8171699914878368\n"
          ]
        },
        {
          "output_type": "stream",
          "name": "stderr",
          "text": [
            "Epoch 9: 100%|██████████| 490/490 [00:03<00:00, 134.60batch/s, accuracy=83.5, loss=0.409]\n"
          ]
        },
        {
          "output_type": "stream",
          "name": "stdout",
          "text": [
            "accuracy=61.357142857142854, loss=1.0112362214354549\n"
          ]
        },
        {
          "output_type": "stream",
          "name": "stderr",
          "text": [
            "Epoch 10: 100%|██████████| 490/490 [00:03<00:00, 133.14batch/s, accuracy=85.5, loss=0.372]\n"
          ]
        },
        {
          "output_type": "stream",
          "name": "stdout",
          "text": [
            "accuracy=63.92857142857143, loss=0.9804409410740274\n"
          ]
        },
        {
          "output_type": "stream",
          "name": "stderr",
          "text": [
            "Epoch 11: 100%|██████████| 490/490 [00:03<00:00, 136.56batch/s, accuracy=85.2, loss=0.365]\n"
          ]
        },
        {
          "output_type": "stream",
          "name": "stdout",
          "text": [
            "accuracy=70.28571428571429, loss=0.8229193717296662\n"
          ]
        },
        {
          "output_type": "stream",
          "name": "stderr",
          "text": [
            "Epoch 12: 100%|██████████| 490/490 [00:03<00:00, 136.30batch/s, accuracy=85.7, loss=0.358]\n"
          ]
        },
        {
          "output_type": "stream",
          "name": "stdout",
          "text": [
            "accuracy=73.64285714285714, loss=0.7504525975821889\n"
          ]
        },
        {
          "output_type": "stream",
          "name": "stderr",
          "text": [
            "Epoch 13: 100%|██████████| 490/490 [00:03<00:00, 122.86batch/s, accuracy=86.6, loss=0.335]\n"
          ]
        },
        {
          "output_type": "stream",
          "name": "stdout",
          "text": [
            "accuracy=61.357142857142854, loss=1.0555427073500792\n"
          ]
        },
        {
          "output_type": "stream",
          "name": "stderr",
          "text": [
            "Epoch 14: 100%|██████████| 490/490 [00:03<00:00, 133.53batch/s, accuracy=87.1, loss=0.323]\n"
          ]
        },
        {
          "output_type": "stream",
          "name": "stdout",
          "text": [
            "accuracy=70.21428571428571, loss=0.8466530314017395\n"
          ]
        },
        {
          "output_type": "stream",
          "name": "stderr",
          "text": [
            "Epoch 15: 100%|██████████| 490/490 [00:03<00:00, 133.40batch/s, accuracy=87.3, loss=0.325]\n"
          ]
        },
        {
          "output_type": "stream",
          "name": "stdout",
          "text": [
            "accuracy=71.42857142857143, loss=0.8391715531398066\n"
          ]
        },
        {
          "output_type": "stream",
          "name": "stderr",
          "text": [
            "Epoch 16: 100%|██████████| 490/490 [00:03<00:00, 130.11batch/s, accuracy=88.9, loss=0.292]\n"
          ]
        },
        {
          "output_type": "stream",
          "name": "stdout",
          "text": [
            "accuracy=69.57142857142857, loss=0.8632204333021374\n"
          ]
        },
        {
          "output_type": "stream",
          "name": "stderr",
          "text": [
            "Epoch 17: 100%|██████████| 490/490 [00:03<00:00, 133.87batch/s, accuracy=88.9, loss=0.289]\n"
          ]
        },
        {
          "output_type": "stream",
          "name": "stdout",
          "text": [
            "accuracy=72.35714285714286, loss=0.8323952677977\n"
          ]
        },
        {
          "output_type": "stream",
          "name": "stderr",
          "text": [
            "Epoch 18: 100%|██████████| 490/490 [00:04<00:00, 122.18batch/s, accuracy=88.6, loss=0.29]\n"
          ]
        },
        {
          "output_type": "stream",
          "name": "stdout",
          "text": [
            "accuracy=74.42857142857143, loss=0.7333479986494884\n"
          ]
        },
        {
          "output_type": "stream",
          "name": "stderr",
          "text": [
            "Epoch 19: 100%|██████████| 490/490 [00:03<00:00, 133.14batch/s, accuracy=89, loss=0.277]\n"
          ]
        },
        {
          "output_type": "stream",
          "name": "stdout",
          "text": [
            "accuracy=73.42857142857143, loss=0.8004561778155351\n"
          ]
        },
        {
          "output_type": "stream",
          "name": "stderr",
          "text": [
            "Epoch 20: 100%|██████████| 490/490 [00:03<00:00, 134.16batch/s, accuracy=89.7, loss=0.265]\n"
          ]
        },
        {
          "output_type": "stream",
          "name": "stdout",
          "text": [
            "accuracy=74.42857142857143, loss=0.7262555674931166\n"
          ]
        },
        {
          "output_type": "stream",
          "name": "stderr",
          "text": [
            "Epoch 21: 100%|██████████| 490/490 [00:03<00:00, 132.68batch/s, accuracy=89.6, loss=0.267]\n"
          ]
        },
        {
          "output_type": "stream",
          "name": "stdout",
          "text": [
            "accuracy=78.07142857142857, loss=0.7502024716850035\n"
          ]
        },
        {
          "output_type": "stream",
          "name": "stderr",
          "text": [
            "Epoch 22: 100%|██████████| 490/490 [00:03<00:00, 135.14batch/s, accuracy=89.8, loss=0.258]\n"
          ]
        },
        {
          "output_type": "stream",
          "name": "stdout",
          "text": [
            "accuracy=71.0, loss=0.9395923972008798\n"
          ]
        },
        {
          "output_type": "stream",
          "name": "stderr",
          "text": [
            "Epoch 23: 100%|██████████| 490/490 [00:03<00:00, 122.63batch/s, accuracy=90.4, loss=0.248]\n"
          ]
        },
        {
          "output_type": "stream",
          "name": "stdout",
          "text": [
            "accuracy=76.42857142857143, loss=0.7568342419792978\n"
          ]
        },
        {
          "output_type": "stream",
          "name": "stderr",
          "text": [
            "Epoch 24: 100%|██████████| 490/490 [00:03<00:00, 134.61batch/s, accuracy=90, loss=0.256]\n"
          ]
        },
        {
          "output_type": "stream",
          "name": "stdout",
          "text": [
            "accuracy=75.42857142857143, loss=0.8604268901739007\n"
          ]
        },
        {
          "output_type": "stream",
          "name": "stderr",
          "text": [
            "Epoch 25: 100%|██████████| 490/490 [00:03<00:00, 132.88batch/s, accuracy=89.9, loss=0.259]\n"
          ]
        },
        {
          "output_type": "stream",
          "name": "stdout",
          "text": [
            "accuracy=76.57142857142857, loss=0.7554283626846745\n"
          ]
        },
        {
          "output_type": "stream",
          "name": "stderr",
          "text": [
            "Epoch 26: 100%|██████████| 490/490 [00:03<00:00, 129.93batch/s, accuracy=91, loss=0.238]\n"
          ]
        },
        {
          "output_type": "stream",
          "name": "stdout",
          "text": [
            "accuracy=76.35714285714286, loss=0.8119604869843838\n"
          ]
        },
        {
          "output_type": "stream",
          "name": "stderr",
          "text": [
            "Epoch 27: 100%|██████████| 490/490 [00:03<00:00, 136.02batch/s, accuracy=91.1, loss=0.229]\n"
          ]
        },
        {
          "output_type": "stream",
          "name": "stdout",
          "text": [
            "accuracy=71.42857142857143, loss=0.9930512199195098\n"
          ]
        },
        {
          "output_type": "stream",
          "name": "stderr",
          "text": [
            "Epoch 28: 100%|██████████| 490/490 [00:03<00:00, 125.98batch/s, accuracy=90.8, loss=0.235]\n"
          ]
        },
        {
          "output_type": "stream",
          "name": "stdout",
          "text": [
            "accuracy=77.21428571428571, loss=0.7674212448532906\n"
          ]
        },
        {
          "output_type": "stream",
          "name": "stderr",
          "text": [
            "Epoch 29: 100%|██████████| 490/490 [00:03<00:00, 137.28batch/s, accuracy=90.8, loss=0.233]\n"
          ]
        },
        {
          "output_type": "stream",
          "name": "stdout",
          "text": [
            "accuracy=74.28571428571429, loss=0.7902075842678905\n"
          ]
        },
        {
          "output_type": "stream",
          "name": "stderr",
          "text": [
            "Epoch 30: 100%|██████████| 490/490 [00:03<00:00, 135.47batch/s, accuracy=91.6, loss=0.22]\n"
          ]
        },
        {
          "output_type": "stream",
          "name": "stdout",
          "text": [
            "accuracy=74.42857142857143, loss=0.8587093183368435\n"
          ]
        },
        {
          "output_type": "stream",
          "name": "stderr",
          "text": [
            "Epoch 31: 100%|██████████| 490/490 [00:03<00:00, 135.02batch/s, accuracy=91.8, loss=0.214]\n"
          ]
        },
        {
          "output_type": "stream",
          "name": "stdout",
          "text": [
            "accuracy=72.14285714285714, loss=1.0243814397527253\n"
          ]
        },
        {
          "output_type": "stream",
          "name": "stderr",
          "text": [
            "Epoch 32: 100%|██████████| 490/490 [00:03<00:00, 142.09batch/s, accuracy=91.5, loss=0.217]\n"
          ]
        },
        {
          "output_type": "stream",
          "name": "stdout",
          "text": [
            "accuracy=69.71428571428571, loss=0.8845392137342761\n"
          ]
        },
        {
          "output_type": "stream",
          "name": "stderr",
          "text": [
            "Epoch 33: 100%|██████████| 490/490 [00:03<00:00, 128.72batch/s, accuracy=91.8, loss=0.214]\n"
          ]
        },
        {
          "output_type": "stream",
          "name": "stdout",
          "text": [
            "accuracy=75.28571428571429, loss=0.8819398216766458\n"
          ]
        },
        {
          "output_type": "stream",
          "name": "stderr",
          "text": [
            "Epoch 34: 100%|██████████| 490/490 [00:03<00:00, 130.08batch/s, accuracy=92.1, loss=0.21]\n"
          ]
        },
        {
          "output_type": "stream",
          "name": "stdout",
          "text": [
            "accuracy=77.5, loss=0.7322130750954656\n"
          ]
        },
        {
          "output_type": "stream",
          "name": "stderr",
          "text": [
            "Epoch 35: 100%|██████████| 490/490 [00:03<00:00, 132.50batch/s, accuracy=91.9, loss=0.208]\n"
          ]
        },
        {
          "output_type": "stream",
          "name": "stdout",
          "text": [
            "accuracy=68.85714285714286, loss=0.8907386426719905\n"
          ]
        },
        {
          "output_type": "stream",
          "name": "stderr",
          "text": [
            "Epoch 36: 100%|██████████| 490/490 [00:03<00:00, 133.62batch/s, accuracy=92.5, loss=0.191]\n"
          ]
        },
        {
          "output_type": "stream",
          "name": "stdout",
          "text": [
            "accuracy=75.92857142857143, loss=0.8771481803843595\n"
          ]
        },
        {
          "output_type": "stream",
          "name": "stderr",
          "text": [
            "Epoch 37: 100%|██████████| 490/490 [00:03<00:00, 130.58batch/s, accuracy=92.4, loss=0.203]\n"
          ]
        },
        {
          "output_type": "stream",
          "name": "stdout",
          "text": [
            "accuracy=75.42857142857143, loss=0.8891945662973324\n"
          ]
        },
        {
          "output_type": "stream",
          "name": "stderr",
          "text": [
            "Epoch 38: 100%|██████████| 490/490 [00:03<00:00, 128.46batch/s, accuracy=92.3, loss=0.198]\n"
          ]
        },
        {
          "output_type": "stream",
          "name": "stdout",
          "text": [
            "accuracy=78.42857142857143, loss=0.7384115107829143\n"
          ]
        },
        {
          "output_type": "stream",
          "name": "stderr",
          "text": [
            "Epoch 39: 100%|██████████| 490/490 [00:03<00:00, 129.39batch/s, accuracy=92.5, loss=0.194]\n"
          ]
        },
        {
          "output_type": "stream",
          "name": "stdout",
          "text": [
            "accuracy=76.42857142857143, loss=0.8408459504760916\n"
          ]
        },
        {
          "output_type": "stream",
          "name": "stderr",
          "text": [
            "Epoch 40: 100%|██████████| 490/490 [00:03<00:00, 135.13batch/s, accuracy=92.7, loss=0.191]\n"
          ]
        },
        {
          "output_type": "stream",
          "name": "stdout",
          "text": [
            "accuracy=75.85714285714286, loss=0.8347708370509651\n",
            "\n",
            "Test performance\n",
            "lang accuracy loss\n",
            "------------------\n",
            "  en     70.4  1.5\n",
            "  ch     77.6  0.6\n",
            "\n"
          ]
        },
        {
          "output_type": "stream",
          "name": "stderr",
          "text": [
            "Some weights of the model checkpoint at facebook/wav2vec2-base were not used when initializing Wav2Vec2Model: ['quantizer.codevectors', 'project_q.bias', 'quantizer.weight_proj.weight', 'project_hid.bias', 'project_q.weight', 'quantizer.weight_proj.bias', 'project_hid.weight']\n",
            "- This IS expected if you are initializing Wav2Vec2Model from the checkpoint of a model trained on another task or with another architecture (e.g. initializing a BertForSequenceClassification model from a BertForPreTraining model).\n",
            "- This IS NOT expected if you are initializing Wav2Vec2Model from the checkpoint of a model that you expect to be exactly identical (initializing a BertForSequenceClassification model from a BertForSequenceClassification model).\n"
          ]
        },
        {
          "output_type": "stream",
          "name": "stdout",
          "text": [
            "Begin training\n"
          ]
        },
        {
          "output_type": "stream",
          "name": "stderr",
          "text": [
            "Epoch 1: 100%|██████████| 490/490 [00:03<00:00, 137.91batch/s, accuracy=40.5, loss=1.22]\n"
          ]
        },
        {
          "output_type": "stream",
          "name": "stdout",
          "text": [
            "accuracy=53.07142857142857, loss=1.2535137690816607\n"
          ]
        },
        {
          "output_type": "stream",
          "name": "stderr",
          "text": [
            "Epoch 2: 100%|██████████| 490/490 [00:03<00:00, 133.43batch/s, accuracy=58.3, loss=0.898]\n"
          ]
        },
        {
          "output_type": "stream",
          "name": "stdout",
          "text": [
            "accuracy=63.42857142857143, loss=1.0434588694785323\n"
          ]
        },
        {
          "output_type": "stream",
          "name": "stderr",
          "text": [
            "Epoch 3: 100%|██████████| 490/490 [00:03<00:00, 134.48batch/s, accuracy=67.9, loss=0.737]\n"
          ]
        },
        {
          "output_type": "stream",
          "name": "stdout",
          "text": [
            "accuracy=66.5, loss=0.8581437732186168\n"
          ]
        },
        {
          "output_type": "stream",
          "name": "stderr",
          "text": [
            "Epoch 4: 100%|██████████| 490/490 [00:03<00:00, 138.37batch/s, accuracy=73.9, loss=0.623]\n"
          ]
        },
        {
          "output_type": "stream",
          "name": "stdout",
          "text": [
            "accuracy=63.642857142857146, loss=0.9061334130460662\n"
          ]
        },
        {
          "output_type": "stream",
          "name": "stderr",
          "text": [
            "Epoch 5: 100%|██████████| 490/490 [00:03<00:00, 128.12batch/s, accuracy=75.9, loss=0.572]\n"
          ]
        },
        {
          "output_type": "stream",
          "name": "stdout",
          "text": [
            "accuracy=64.35714285714286, loss=0.87749683438002\n"
          ]
        },
        {
          "output_type": "stream",
          "name": "stderr",
          "text": [
            "Epoch 6: 100%|██████████| 490/490 [00:03<00:00, 133.68batch/s, accuracy=78.8, loss=0.505]\n"
          ]
        },
        {
          "output_type": "stream",
          "name": "stdout",
          "text": [
            "accuracy=61.92857142857143, loss=1.0808839291480503\n"
          ]
        },
        {
          "output_type": "stream",
          "name": "stderr",
          "text": [
            "Epoch 7: 100%|██████████| 490/490 [00:03<00:00, 135.67batch/s, accuracy=81.1, loss=0.465]\n"
          ]
        },
        {
          "output_type": "stream",
          "name": "stdout",
          "text": [
            "accuracy=64.64285714285714, loss=1.0041692315911808\n"
          ]
        },
        {
          "output_type": "stream",
          "name": "stderr",
          "text": [
            "Epoch 8: 100%|██████████| 490/490 [00:03<00:00, 130.94batch/s, accuracy=82.3, loss=0.45]\n"
          ]
        },
        {
          "output_type": "stream",
          "name": "stdout",
          "text": [
            "accuracy=67.92857142857143, loss=0.8427926547590843\n"
          ]
        },
        {
          "output_type": "stream",
          "name": "stderr",
          "text": [
            "Epoch 9: 100%|██████████| 490/490 [00:03<00:00, 138.60batch/s, accuracy=83.1, loss=0.419]\n"
          ]
        },
        {
          "output_type": "stream",
          "name": "stdout",
          "text": [
            "accuracy=69.21428571428571, loss=0.8879727847108319\n"
          ]
        },
        {
          "output_type": "stream",
          "name": "stderr",
          "text": [
            "Epoch 10: 100%|██████████| 490/490 [00:03<00:00, 135.33batch/s, accuracy=84.5, loss=0.393]\n"
          ]
        },
        {
          "output_type": "stream",
          "name": "stdout",
          "text": [
            "accuracy=68.5, loss=0.8890344040497855\n"
          ]
        },
        {
          "output_type": "stream",
          "name": "stderr",
          "text": [
            "Epoch 11: 100%|██████████| 490/490 [00:04<00:00, 121.86batch/s, accuracy=84.8, loss=0.379]\n"
          ]
        },
        {
          "output_type": "stream",
          "name": "stdout",
          "text": [
            "accuracy=65.21428571428571, loss=1.0495361047856775\n"
          ]
        },
        {
          "output_type": "stream",
          "name": "stderr",
          "text": [
            "Epoch 12: 100%|██████████| 490/490 [00:03<00:00, 130.62batch/s, accuracy=85.5, loss=0.371]\n"
          ]
        },
        {
          "output_type": "stream",
          "name": "stdout",
          "text": [
            "accuracy=70.07142857142857, loss=0.8682817259955378\n"
          ]
        },
        {
          "output_type": "stream",
          "name": "stderr",
          "text": [
            "Epoch 13: 100%|██████████| 490/490 [00:03<00:00, 131.11batch/s, accuracy=86.2, loss=0.354]\n"
          ]
        },
        {
          "output_type": "stream",
          "name": "stdout",
          "text": [
            "accuracy=67.35714285714286, loss=1.0329178790265412\n"
          ]
        },
        {
          "output_type": "stream",
          "name": "stderr",
          "text": [
            "Epoch 14: 100%|██████████| 490/490 [00:03<00:00, 131.12batch/s, accuracy=86.3, loss=0.347]\n"
          ]
        },
        {
          "output_type": "stream",
          "name": "stdout",
          "text": [
            "accuracy=71.28571428571429, loss=0.9010200391818424\n"
          ]
        },
        {
          "output_type": "stream",
          "name": "stderr",
          "text": [
            "Epoch 15: 100%|██████████| 490/490 [00:03<00:00, 129.42batch/s, accuracy=87, loss=0.33]\n"
          ]
        },
        {
          "output_type": "stream",
          "name": "stdout",
          "text": [
            "accuracy=71.71428571428571, loss=0.8626380744937394\n"
          ]
        },
        {
          "output_type": "stream",
          "name": "stderr",
          "text": [
            "Epoch 16: 100%|██████████| 490/490 [00:03<00:00, 127.65batch/s, accuracy=87.4, loss=0.319]\n"
          ]
        },
        {
          "output_type": "stream",
          "name": "stdout",
          "text": [
            "accuracy=71.35714285714286, loss=0.871883633612493\n"
          ]
        },
        {
          "output_type": "stream",
          "name": "stderr",
          "text": [
            "Epoch 17: 100%|██████████| 490/490 [00:03<00:00, 130.96batch/s, accuracy=88, loss=0.311]\n"
          ]
        },
        {
          "output_type": "stream",
          "name": "stdout",
          "text": [
            "accuracy=72.92857142857143, loss=0.844842866554796\n"
          ]
        },
        {
          "output_type": "stream",
          "name": "stderr",
          "text": [
            "Epoch 18: 100%|██████████| 490/490 [00:03<00:00, 135.42batch/s, accuracy=88.1, loss=0.311]\n"
          ]
        },
        {
          "output_type": "stream",
          "name": "stdout",
          "text": [
            "accuracy=70.0, loss=0.9445794971832142\n"
          ]
        },
        {
          "output_type": "stream",
          "name": "stderr",
          "text": [
            "Epoch 19: 100%|██████████| 490/490 [00:03<00:00, 137.52batch/s, accuracy=88.6, loss=0.295]\n"
          ]
        },
        {
          "output_type": "stream",
          "name": "stdout",
          "text": [
            "accuracy=68.85714285714286, loss=1.061291242240025\n"
          ]
        },
        {
          "output_type": "stream",
          "name": "stderr",
          "text": [
            "Epoch 20: 100%|██████████| 490/490 [00:03<00:00, 145.93batch/s, accuracy=88.8, loss=0.284]\n"
          ]
        },
        {
          "output_type": "stream",
          "name": "stdout",
          "text": [
            "accuracy=69.92857142857143, loss=0.9227637387805927\n"
          ]
        },
        {
          "output_type": "stream",
          "name": "stderr",
          "text": [
            "Epoch 21: 100%|██████████| 490/490 [00:03<00:00, 134.22batch/s, accuracy=89.5, loss=0.274]\n"
          ]
        },
        {
          "output_type": "stream",
          "name": "stdout",
          "text": [
            "accuracy=73.5, loss=0.8068932353601668\n"
          ]
        },
        {
          "output_type": "stream",
          "name": "stderr",
          "text": [
            "Epoch 22: 100%|██████████| 490/490 [00:03<00:00, 124.64batch/s, accuracy=89.4, loss=0.272]\n"
          ]
        },
        {
          "output_type": "stream",
          "name": "stdout",
          "text": [
            "accuracy=71.07142857142857, loss=0.9112274250029272\n"
          ]
        },
        {
          "output_type": "stream",
          "name": "stderr",
          "text": [
            "Epoch 23: 100%|██████████| 490/490 [00:03<00:00, 133.05batch/s, accuracy=89.3, loss=0.272]\n"
          ]
        },
        {
          "output_type": "stream",
          "name": "stdout",
          "text": [
            "accuracy=70.78571428571429, loss=1.0404417403775732\n"
          ]
        },
        {
          "output_type": "stream",
          "name": "stderr",
          "text": [
            "Epoch 24: 100%|██████████| 490/490 [00:03<00:00, 132.41batch/s, accuracy=89.4, loss=0.262]\n"
          ]
        },
        {
          "output_type": "stream",
          "name": "stdout",
          "text": [
            "accuracy=68.57142857142857, loss=1.0936285046423355\n"
          ]
        },
        {
          "output_type": "stream",
          "name": "stderr",
          "text": [
            "Epoch 25: 100%|██████████| 490/490 [00:03<00:00, 129.54batch/s, accuracy=89.9, loss=0.258]\n"
          ]
        },
        {
          "output_type": "stream",
          "name": "stdout",
          "text": [
            "accuracy=71.5, loss=1.0578805899652857\n"
          ]
        },
        {
          "output_type": "stream",
          "name": "stderr",
          "text": [
            "Epoch 26: 100%|██████████| 490/490 [00:03<00:00, 129.17batch/s, accuracy=90.3, loss=0.252]\n"
          ]
        },
        {
          "output_type": "stream",
          "name": "stdout",
          "text": [
            "accuracy=70.14285714285714, loss=0.9672171466940095\n"
          ]
        },
        {
          "output_type": "stream",
          "name": "stderr",
          "text": [
            "Epoch 27: 100%|██████████| 490/490 [00:03<00:00, 127.55batch/s, accuracy=91.1, loss=0.245]\n"
          ]
        },
        {
          "output_type": "stream",
          "name": "stdout",
          "text": [
            "accuracy=72.5, loss=0.8838430000421224\n"
          ]
        },
        {
          "output_type": "stream",
          "name": "stderr",
          "text": [
            "Epoch 28: 100%|██████████| 490/490 [00:03<00:00, 131.51batch/s, accuracy=90.3, loss=0.249]\n"
          ]
        },
        {
          "output_type": "stream",
          "name": "stdout",
          "text": [
            "accuracy=70.35714285714286, loss=0.9897056548245473\n"
          ]
        },
        {
          "output_type": "stream",
          "name": "stderr",
          "text": [
            "Epoch 29: 100%|██████████| 490/490 [00:03<00:00, 131.67batch/s, accuracy=90.7, loss=0.244]\n"
          ]
        },
        {
          "output_type": "stream",
          "name": "stdout",
          "text": [
            "accuracy=72.78571428571429, loss=0.908722287162306\n"
          ]
        },
        {
          "output_type": "stream",
          "name": "stderr",
          "text": [
            "Epoch 30: 100%|██████████| 490/490 [00:03<00:00, 131.68batch/s, accuracy=90.5, loss=0.247]\n"
          ]
        },
        {
          "output_type": "stream",
          "name": "stdout",
          "text": [
            "accuracy=72.28571428571429, loss=0.8685338962774066\n"
          ]
        },
        {
          "output_type": "stream",
          "name": "stderr",
          "text": [
            "Epoch 31: 100%|██████████| 490/490 [00:03<00:00, 136.79batch/s, accuracy=91.3, loss=0.233]\n"
          ]
        },
        {
          "output_type": "stream",
          "name": "stdout",
          "text": [
            "accuracy=72.92857142857143, loss=0.8658981968678664\n"
          ]
        },
        {
          "output_type": "stream",
          "name": "stderr",
          "text": [
            "Epoch 32: 100%|██████████| 490/490 [00:03<00:00, 129.26batch/s, accuracy=91.2, loss=0.225]\n"
          ]
        },
        {
          "output_type": "stream",
          "name": "stdout",
          "text": [
            "accuracy=70.71428571428571, loss=1.0407928522479306\n"
          ]
        },
        {
          "output_type": "stream",
          "name": "stderr",
          "text": [
            "Epoch 33: 100%|██████████| 490/490 [00:03<00:00, 129.54batch/s, accuracy=91.4, loss=0.225]\n"
          ]
        },
        {
          "output_type": "stream",
          "name": "stdout",
          "text": [
            "accuracy=73.21428571428571, loss=0.856575959230602\n"
          ]
        },
        {
          "output_type": "stream",
          "name": "stderr",
          "text": [
            "Epoch 34: 100%|██████████| 490/490 [00:03<00:00, 131.29batch/s, accuracy=91.1, loss=0.227]\n"
          ]
        },
        {
          "output_type": "stream",
          "name": "stdout",
          "text": [
            "accuracy=73.5, loss=0.9580770760542686\n"
          ]
        },
        {
          "output_type": "stream",
          "name": "stderr",
          "text": [
            "Epoch 35: 100%|██████████| 490/490 [00:03<00:00, 128.71batch/s, accuracy=92.2, loss=0.21]\n"
          ]
        },
        {
          "output_type": "stream",
          "name": "stdout",
          "text": [
            "accuracy=72.92857142857143, loss=0.9920017034145352\n"
          ]
        },
        {
          "output_type": "stream",
          "name": "stderr",
          "text": [
            "Epoch 36: 100%|██████████| 490/490 [00:03<00:00, 142.76batch/s, accuracy=91.8, loss=0.217]\n"
          ]
        },
        {
          "output_type": "stream",
          "name": "stdout",
          "text": [
            "accuracy=70.64285714285714, loss=1.0601296536041185\n"
          ]
        },
        {
          "output_type": "stream",
          "name": "stderr",
          "text": [
            "Epoch 37: 100%|██████████| 490/490 [00:03<00:00, 140.72batch/s, accuracy=91.7, loss=0.209]\n"
          ]
        },
        {
          "output_type": "stream",
          "name": "stdout",
          "text": [
            "accuracy=70.07142857142857, loss=1.1646314996006284\n"
          ]
        },
        {
          "output_type": "stream",
          "name": "stderr",
          "text": [
            "Epoch 38: 100%|██████████| 490/490 [00:04<00:00, 122.36batch/s, accuracy=91.9, loss=0.213]\n"
          ]
        },
        {
          "output_type": "stream",
          "name": "stdout",
          "text": [
            "accuracy=73.21428571428571, loss=0.9058699247837854\n"
          ]
        },
        {
          "output_type": "stream",
          "name": "stderr",
          "text": [
            "Epoch 39: 100%|██████████| 490/490 [00:03<00:00, 135.77batch/s, accuracy=92.1, loss=0.205]\n"
          ]
        },
        {
          "output_type": "stream",
          "name": "stdout",
          "text": [
            "accuracy=70.71428571428571, loss=0.9770965013596703\n"
          ]
        },
        {
          "output_type": "stream",
          "name": "stderr",
          "text": [
            "Epoch 40: 100%|██████████| 490/490 [00:03<00:00, 130.67batch/s, accuracy=92.2, loss=0.2]\n"
          ]
        },
        {
          "output_type": "stream",
          "name": "stdout",
          "text": [
            "accuracy=71.42857142857143, loss=1.0242421326859346\n",
            "\n",
            "Test performance\n",
            "lang accuracy loss\n",
            "------------------\n",
            "  en     71.0  1.6\n",
            "  ch     78.1  0.6\n",
            "\n"
          ]
        },
        {
          "output_type": "stream",
          "name": "stderr",
          "text": [
            "Some weights of the model checkpoint at facebook/wav2vec2-base were not used when initializing Wav2Vec2Model: ['quantizer.codevectors', 'project_q.bias', 'quantizer.weight_proj.weight', 'project_hid.bias', 'project_q.weight', 'quantizer.weight_proj.bias', 'project_hid.weight']\n",
            "- This IS expected if you are initializing Wav2Vec2Model from the checkpoint of a model trained on another task or with another architecture (e.g. initializing a BertForSequenceClassification model from a BertForPreTraining model).\n",
            "- This IS NOT expected if you are initializing Wav2Vec2Model from the checkpoint of a model that you expect to be exactly identical (initializing a BertForSequenceClassification model from a BertForSequenceClassification model).\n"
          ]
        },
        {
          "output_type": "stream",
          "name": "stdout",
          "text": [
            "Begin training\n"
          ]
        },
        {
          "output_type": "stream",
          "name": "stderr",
          "text": [
            "Epoch 1: 100%|██████████| 490/490 [00:03<00:00, 131.94batch/s, accuracy=40.8, loss=1.23]\n"
          ]
        },
        {
          "output_type": "stream",
          "name": "stdout",
          "text": [
            "accuracy=39.642857142857146, loss=1.228185158861535\n"
          ]
        },
        {
          "output_type": "stream",
          "name": "stderr",
          "text": [
            "Epoch 2: 100%|██████████| 490/490 [00:03<00:00, 129.59batch/s, accuracy=58.7, loss=0.907]\n"
          ]
        },
        {
          "output_type": "stream",
          "name": "stdout",
          "text": [
            "accuracy=59.714285714285715, loss=1.1018514348460096\n"
          ]
        },
        {
          "output_type": "stream",
          "name": "stderr",
          "text": [
            "Epoch 3: 100%|██████████| 490/490 [00:03<00:00, 135.23batch/s, accuracy=67.8, loss=0.749]\n"
          ]
        },
        {
          "output_type": "stream",
          "name": "stdout",
          "text": [
            "accuracy=61.57142857142857, loss=0.9174376703625811\n"
          ]
        },
        {
          "output_type": "stream",
          "name": "stderr",
          "text": [
            "Epoch 4: 100%|██████████| 490/490 [00:03<00:00, 131.23batch/s, accuracy=72.5, loss=0.649]\n"
          ]
        },
        {
          "output_type": "stream",
          "name": "stdout",
          "text": [
            "accuracy=70.57142857142857, loss=0.8265297851731469\n"
          ]
        },
        {
          "output_type": "stream",
          "name": "stderr",
          "text": [
            "Epoch 5: 100%|██████████| 490/490 [00:03<00:00, 127.21batch/s, accuracy=75.8, loss=0.571]\n"
          ]
        },
        {
          "output_type": "stream",
          "name": "stdout",
          "text": [
            "accuracy=70.5, loss=0.7483248837006977\n"
          ]
        },
        {
          "output_type": "stream",
          "name": "stderr",
          "text": [
            "Epoch 6: 100%|██████████| 490/490 [00:03<00:00, 132.65batch/s, accuracy=78.5, loss=0.525]\n"
          ]
        },
        {
          "output_type": "stream",
          "name": "stdout",
          "text": [
            "accuracy=67.71428571428571, loss=0.7907058361133594\n"
          ]
        },
        {
          "output_type": "stream",
          "name": "stderr",
          "text": [
            "Epoch 7: 100%|██████████| 490/490 [00:03<00:00, 132.03batch/s, accuracy=79.8, loss=0.484]\n"
          ]
        },
        {
          "output_type": "stream",
          "name": "stdout",
          "text": [
            "accuracy=69.28571428571429, loss=0.8907546439415975\n"
          ]
        },
        {
          "output_type": "stream",
          "name": "stderr",
          "text": [
            "Epoch 8: 100%|██████████| 490/490 [00:03<00:00, 136.61batch/s, accuracy=81.9, loss=0.444]\n"
          ]
        },
        {
          "output_type": "stream",
          "name": "stdout",
          "text": [
            "accuracy=71.28571428571429, loss=0.8134408161418417\n"
          ]
        },
        {
          "output_type": "stream",
          "name": "stderr",
          "text": [
            "Epoch 9: 100%|██████████| 490/490 [00:03<00:00, 132.11batch/s, accuracy=82.3, loss=0.437]\n"
          ]
        },
        {
          "output_type": "stream",
          "name": "stdout",
          "text": [
            "accuracy=73.0, loss=0.800683998812123\n"
          ]
        },
        {
          "output_type": "stream",
          "name": "stderr",
          "text": [
            "Epoch 10: 100%|██████████| 490/490 [00:04<00:00, 119.17batch/s, accuracy=83.7, loss=0.404]\n"
          ]
        },
        {
          "output_type": "stream",
          "name": "stdout",
          "text": [
            "accuracy=70.92857142857143, loss=0.8626236053285539\n"
          ]
        },
        {
          "output_type": "stream",
          "name": "stderr",
          "text": [
            "Epoch 11: 100%|██████████| 490/490 [00:03<00:00, 131.55batch/s, accuracy=84.7, loss=0.385]\n"
          ]
        },
        {
          "output_type": "stream",
          "name": "stdout",
          "text": [
            "accuracy=70.21428571428571, loss=0.9201115858158404\n"
          ]
        },
        {
          "output_type": "stream",
          "name": "stderr",
          "text": [
            "Epoch 12: 100%|██████████| 490/490 [00:03<00:00, 131.19batch/s, accuracy=85.4, loss=0.372]\n"
          ]
        },
        {
          "output_type": "stream",
          "name": "stdout",
          "text": [
            "accuracy=70.64285714285714, loss=0.9170391867298168\n"
          ]
        },
        {
          "output_type": "stream",
          "name": "stderr",
          "text": [
            "Epoch 13: 100%|██████████| 490/490 [00:03<00:00, 134.00batch/s, accuracy=85.6, loss=0.362]\n"
          ]
        },
        {
          "output_type": "stream",
          "name": "stdout",
          "text": [
            "accuracy=72.57142857142857, loss=0.9168829475150414\n"
          ]
        },
        {
          "output_type": "stream",
          "name": "stderr",
          "text": [
            "Epoch 14: 100%|██████████| 490/490 [00:03<00:00, 140.80batch/s, accuracy=86.3, loss=0.349]\n"
          ]
        },
        {
          "output_type": "stream",
          "name": "stdout",
          "text": [
            "accuracy=72.21428571428571, loss=0.9339299408430192\n"
          ]
        },
        {
          "output_type": "stream",
          "name": "stderr",
          "text": [
            "Epoch 15: 100%|██████████| 490/490 [00:03<00:00, 129.92batch/s, accuracy=86.8, loss=0.331]\n"
          ]
        },
        {
          "output_type": "stream",
          "name": "stdout",
          "text": [
            "accuracy=74.92857142857143, loss=0.7840866566544615\n"
          ]
        },
        {
          "output_type": "stream",
          "name": "stderr",
          "text": [
            "Epoch 16: 100%|██████████| 490/490 [00:03<00:00, 130.02batch/s, accuracy=86.8, loss=0.329]\n"
          ]
        },
        {
          "output_type": "stream",
          "name": "stdout",
          "text": [
            "accuracy=70.42857142857143, loss=0.9828897201213737\n"
          ]
        },
        {
          "output_type": "stream",
          "name": "stderr",
          "text": [
            "Epoch 17: 100%|██████████| 490/490 [00:03<00:00, 132.03batch/s, accuracy=87.2, loss=0.327]\n"
          ]
        },
        {
          "output_type": "stream",
          "name": "stdout",
          "text": [
            "accuracy=71.85714285714286, loss=0.9023011958571754\n"
          ]
        },
        {
          "output_type": "stream",
          "name": "stderr",
          "text": [
            "Epoch 18: 100%|██████████| 490/490 [00:03<00:00, 132.01batch/s, accuracy=87.7, loss=0.308]\n"
          ]
        },
        {
          "output_type": "stream",
          "name": "stdout",
          "text": [
            "accuracy=71.64285714285714, loss=0.9408704346307682\n"
          ]
        },
        {
          "output_type": "stream",
          "name": "stderr",
          "text": [
            "Epoch 19: 100%|██████████| 490/490 [00:03<00:00, 140.48batch/s, accuracy=88.2, loss=0.304]\n"
          ]
        },
        {
          "output_type": "stream",
          "name": "stdout",
          "text": [
            "accuracy=70.0, loss=1.0699961464456957\n"
          ]
        },
        {
          "output_type": "stream",
          "name": "stderr",
          "text": [
            "Epoch 20: 100%|██████████| 490/490 [00:03<00:00, 134.98batch/s, accuracy=88.4, loss=0.295]\n"
          ]
        },
        {
          "output_type": "stream",
          "name": "stdout",
          "text": [
            "accuracy=74.42857142857143, loss=0.7866106062490351\n"
          ]
        },
        {
          "output_type": "stream",
          "name": "stderr",
          "text": [
            "Epoch 21: 100%|██████████| 490/490 [00:03<00:00, 126.77batch/s, accuracy=88.4, loss=0.289]\n"
          ]
        },
        {
          "output_type": "stream",
          "name": "stdout",
          "text": [
            "accuracy=73.5, loss=0.9170394628909734\n"
          ]
        },
        {
          "output_type": "stream",
          "name": "stderr",
          "text": [
            "Epoch 22: 100%|██████████| 490/490 [00:03<00:00, 136.04batch/s, accuracy=89.3, loss=0.276]\n"
          ]
        },
        {
          "output_type": "stream",
          "name": "stdout",
          "text": [
            "accuracy=75.0, loss=0.8532476970059049\n"
          ]
        },
        {
          "output_type": "stream",
          "name": "stderr",
          "text": [
            "Epoch 23: 100%|██████████| 490/490 [00:03<00:00, 132.03batch/s, accuracy=89.3, loss=0.277]\n"
          ]
        },
        {
          "output_type": "stream",
          "name": "stdout",
          "text": [
            "accuracy=71.0, loss=1.043796134157466\n"
          ]
        },
        {
          "output_type": "stream",
          "name": "stderr",
          "text": [
            "Epoch 24: 100%|██████████| 490/490 [00:03<00:00, 139.69batch/s, accuracy=89.4, loss=0.273]\n"
          ]
        },
        {
          "output_type": "stream",
          "name": "stdout",
          "text": [
            "accuracy=76.92857142857143, loss=0.7871179858274295\n"
          ]
        },
        {
          "output_type": "stream",
          "name": "stderr",
          "text": [
            "Epoch 25: 100%|██████████| 490/490 [00:03<00:00, 142.34batch/s, accuracy=89.6, loss=0.268]\n"
          ]
        },
        {
          "output_type": "stream",
          "name": "stdout",
          "text": [
            "accuracy=76.35714285714286, loss=0.7428042069443148\n"
          ]
        },
        {
          "output_type": "stream",
          "name": "stderr",
          "text": [
            "Epoch 26: 100%|██████████| 490/490 [00:03<00:00, 126.03batch/s, accuracy=90.4, loss=0.256]\n"
          ]
        },
        {
          "output_type": "stream",
          "name": "stdout",
          "text": [
            "accuracy=71.42857142857143, loss=1.0035339883521932\n"
          ]
        },
        {
          "output_type": "stream",
          "name": "stderr",
          "text": [
            "Epoch 27: 100%|██████████| 490/490 [00:03<00:00, 135.43batch/s, accuracy=90, loss=0.258]\n"
          ]
        },
        {
          "output_type": "stream",
          "name": "stdout",
          "text": [
            "accuracy=74.42857142857143, loss=0.9665806949325445\n"
          ]
        },
        {
          "output_type": "stream",
          "name": "stderr",
          "text": [
            "Epoch 28: 100%|██████████| 490/490 [00:03<00:00, 145.76batch/s, accuracy=90.6, loss=0.245]\n"
          ]
        },
        {
          "output_type": "stream",
          "name": "stdout",
          "text": [
            "accuracy=71.85714285714286, loss=0.8845217836487862\n"
          ]
        },
        {
          "output_type": "stream",
          "name": "stderr",
          "text": [
            "Epoch 29: 100%|██████████| 490/490 [00:03<00:00, 128.42batch/s, accuracy=90.6, loss=0.239]\n"
          ]
        },
        {
          "output_type": "stream",
          "name": "stdout",
          "text": [
            "accuracy=77.07142857142857, loss=0.8067531957599954\n"
          ]
        },
        {
          "output_type": "stream",
          "name": "stderr",
          "text": [
            "Epoch 30: 100%|██████████| 490/490 [00:03<00:00, 141.33batch/s, accuracy=90.4, loss=0.241]\n"
          ]
        },
        {
          "output_type": "stream",
          "name": "stdout",
          "text": [
            "accuracy=73.71428571428571, loss=0.9277453899066508\n"
          ]
        },
        {
          "output_type": "stream",
          "name": "stderr",
          "text": [
            "Epoch 31: 100%|██████████| 490/490 [00:03<00:00, 133.28batch/s, accuracy=91, loss=0.242]\n"
          ]
        },
        {
          "output_type": "stream",
          "name": "stdout",
          "text": [
            "accuracy=76.07142857142857, loss=0.8449933037739087\n"
          ]
        },
        {
          "output_type": "stream",
          "name": "stderr",
          "text": [
            "Epoch 32: 100%|██████████| 490/490 [00:03<00:00, 125.07batch/s, accuracy=91.1, loss=0.235]\n"
          ]
        },
        {
          "output_type": "stream",
          "name": "stdout",
          "text": [
            "accuracy=71.85714285714286, loss=0.9136404143466916\n"
          ]
        },
        {
          "output_type": "stream",
          "name": "stderr",
          "text": [
            "Epoch 33: 100%|██████████| 490/490 [00:03<00:00, 140.42batch/s, accuracy=91.6, loss=0.222]\n"
          ]
        },
        {
          "output_type": "stream",
          "name": "stdout",
          "text": [
            "accuracy=75.92857142857143, loss=0.8222672689915448\n"
          ]
        },
        {
          "output_type": "stream",
          "name": "stderr",
          "text": [
            "Epoch 34: 100%|██████████| 490/490 [00:03<00:00, 131.10batch/s, accuracy=91.4, loss=0.222]\n"
          ]
        },
        {
          "output_type": "stream",
          "name": "stdout",
          "text": [
            "accuracy=77.42857142857143, loss=0.7645279717106814\n"
          ]
        },
        {
          "output_type": "stream",
          "name": "stderr",
          "text": [
            "Epoch 35: 100%|██████████| 490/490 [00:03<00:00, 131.60batch/s, accuracy=91.7, loss=0.219]\n"
          ]
        },
        {
          "output_type": "stream",
          "name": "stdout",
          "text": [
            "accuracy=74.85714285714286, loss=0.8569291971709175\n"
          ]
        },
        {
          "output_type": "stream",
          "name": "stderr",
          "text": [
            "Epoch 36: 100%|██████████| 490/490 [00:03<00:00, 132.04batch/s, accuracy=91.9, loss=0.213]\n"
          ]
        },
        {
          "output_type": "stream",
          "name": "stdout",
          "text": [
            "accuracy=74.5, loss=0.8878062884826058\n"
          ]
        },
        {
          "output_type": "stream",
          "name": "stderr",
          "text": [
            "Epoch 37: 100%|██████████| 490/490 [00:03<00:00, 125.67batch/s, accuracy=91.7, loss=0.215]\n"
          ]
        },
        {
          "output_type": "stream",
          "name": "stdout",
          "text": [
            "accuracy=76.28571428571429, loss=0.7372440195373445\n"
          ]
        },
        {
          "output_type": "stream",
          "name": "stderr",
          "text": [
            "Epoch 38: 100%|██████████| 490/490 [00:03<00:00, 134.15batch/s, accuracy=91.8, loss=0.216]\n"
          ]
        },
        {
          "output_type": "stream",
          "name": "stdout",
          "text": [
            "accuracy=76.78571428571429, loss=0.8123715391620281\n"
          ]
        },
        {
          "output_type": "stream",
          "name": "stderr",
          "text": [
            "Epoch 39: 100%|██████████| 490/490 [00:03<00:00, 133.13batch/s, accuracy=91.6, loss=0.212]\n"
          ]
        },
        {
          "output_type": "stream",
          "name": "stdout",
          "text": [
            "accuracy=77.14285714285714, loss=0.7893713902368862\n"
          ]
        },
        {
          "output_type": "stream",
          "name": "stderr",
          "text": [
            "Epoch 40: 100%|██████████| 490/490 [00:03<00:00, 135.45batch/s, accuracy=92.4, loss=0.208]\n"
          ]
        },
        {
          "output_type": "stream",
          "name": "stdout",
          "text": [
            "accuracy=74.35714285714286, loss=0.7949442719371616\n",
            "\n",
            "Test performance\n",
            "lang accuracy loss\n",
            "------------------\n",
            "  en     73.5  1.5\n",
            "  ch     76.1  0.8\n",
            "\n",
            "\n",
            "\n",
            "Trained on en ch Wav2Vec2.0-base voiceprints\n",
            "Average test performance over 4 iteration(s)\n",
            "lang accuracy loss\n",
            "------------------\n",
            "  en     71.7  1.6\n",
            "  ch     77.4  0.7\n",
            "\n",
            "Running the script took 00:12:15\n"
          ]
        }
      ]
    },
    {
      "cell_type": "code",
      "source": [
        "if __name__ == \"__main__\":\n",
        "  start = time.time()\n",
        "  \n",
        "  langs = [\"en\"]\n",
        "\n",
        "  pipeline = ModelDataPipeline(epochs=epochs,\n",
        "                               learning_rate=learning_rate,\n",
        "                               langs=langs,\n",
        "                               model_type=model_type,\n",
        "                               proportion=proportion)\n",
        "\n",
        "  pipeline.run_per_split()\n",
        "\n",
        "  end = time.time()\n",
        "\n",
        "  print(f\"\\nRunning the script took {running_time(start, end)}\")"
      ],
      "metadata": {
        "colab": {
          "base_uri": "https://localhost:8080/"
        },
        "id": "Cuz8il7ixHHy",
        "outputId": "4294fecf-e95a-4a22-d3b1-9744457aa903"
      },
      "execution_count": null,
      "outputs": [
        {
          "output_type": "stream",
          "name": "stdout",
          "text": [
            "Setting up mono model with\n",
            "\tepochs: 40\n",
            "\tlearning rate: 5e-05\n",
            "\tlangs: en\n"
          ]
        },
        {
          "output_type": "stream",
          "name": "stderr",
          "text": [
            "Some weights of the model checkpoint at facebook/wav2vec2-base were not used when initializing Wav2Vec2Model: ['quantizer.codevectors', 'project_q.bias', 'quantizer.weight_proj.weight', 'project_hid.bias', 'project_q.weight', 'quantizer.weight_proj.bias', 'project_hid.weight']\n",
            "- This IS expected if you are initializing Wav2Vec2Model from the checkpoint of a model trained on another task or with another architecture (e.g. initializing a BertForSequenceClassification model from a BertForPreTraining model).\n",
            "- This IS NOT expected if you are initializing Wav2Vec2Model from the checkpoint of a model that you expect to be exactly identical (initializing a BertForSequenceClassification model from a BertForSequenceClassification model).\n",
            "Some weights of the model checkpoint at facebook/wav2vec2-base were not used when initializing Wav2Vec2Model: ['quantizer.codevectors', 'project_q.bias', 'quantizer.weight_proj.weight', 'project_hid.bias', 'project_q.weight', 'quantizer.weight_proj.bias', 'project_hid.weight']\n",
            "- This IS expected if you are initializing Wav2Vec2Model from the checkpoint of a model trained on another task or with another architecture (e.g. initializing a BertForSequenceClassification model from a BertForPreTraining model).\n",
            "- This IS NOT expected if you are initializing Wav2Vec2Model from the checkpoint of a model that you expect to be exactly identical (initializing a BertForSequenceClassification model from a BertForSequenceClassification model).\n"
          ]
        },
        {
          "output_type": "stream",
          "name": "stdout",
          "text": [
            "Begin training\n"
          ]
        },
        {
          "output_type": "stream",
          "name": "stderr",
          "text": [
            "Epoch 1: 100%|██████████| 490/490 [00:03<00:00, 143.43batch/s, accuracy=39.1, loss=1.27]\n"
          ]
        },
        {
          "output_type": "stream",
          "name": "stdout",
          "text": [
            "accuracy=41.0, loss=1.333104886731931\n"
          ]
        },
        {
          "output_type": "stream",
          "name": "stderr",
          "text": [
            "Epoch 2: 100%|██████████| 490/490 [00:03<00:00, 140.74batch/s, accuracy=58, loss=0.959]\n"
          ]
        },
        {
          "output_type": "stream",
          "name": "stdout",
          "text": [
            "accuracy=55.07142857142857, loss=1.1714990671617644\n"
          ]
        },
        {
          "output_type": "stream",
          "name": "stderr",
          "text": [
            "Epoch 3: 100%|██████████| 490/490 [00:03<00:00, 134.44batch/s, accuracy=68.2, loss=0.76]\n"
          ]
        },
        {
          "output_type": "stream",
          "name": "stdout",
          "text": [
            "accuracy=57.285714285714285, loss=1.0532299941339132\n"
          ]
        },
        {
          "output_type": "stream",
          "name": "stderr",
          "text": [
            "Epoch 4: 100%|██████████| 490/490 [00:03<00:00, 126.24batch/s, accuracy=74.2, loss=0.643]\n"
          ]
        },
        {
          "output_type": "stream",
          "name": "stdout",
          "text": [
            "accuracy=60.857142857142854, loss=1.0967841552284414\n"
          ]
        },
        {
          "output_type": "stream",
          "name": "stderr",
          "text": [
            "Epoch 5: 100%|██████████| 490/490 [00:03<00:00, 142.44batch/s, accuracy=77.9, loss=0.561]\n"
          ]
        },
        {
          "output_type": "stream",
          "name": "stdout",
          "text": [
            "accuracy=54.42857142857143, loss=1.330244706541832\n"
          ]
        },
        {
          "output_type": "stream",
          "name": "stderr",
          "text": [
            "Epoch 6: 100%|██████████| 490/490 [00:03<00:00, 142.50batch/s, accuracy=80.1, loss=0.508]\n"
          ]
        },
        {
          "output_type": "stream",
          "name": "stdout",
          "text": [
            "accuracy=57.07142857142857, loss=1.298914506891576\n"
          ]
        },
        {
          "output_type": "stream",
          "name": "stderr",
          "text": [
            "Epoch 7: 100%|██████████| 490/490 [00:03<00:00, 138.16batch/s, accuracy=82.3, loss=0.47]\n"
          ]
        },
        {
          "output_type": "stream",
          "name": "stdout",
          "text": [
            "accuracy=56.642857142857146, loss=1.3615432015628488\n"
          ]
        },
        {
          "output_type": "stream",
          "name": "stderr",
          "text": [
            "Epoch 8: 100%|██████████| 490/490 [00:03<00:00, 133.30batch/s, accuracy=82.7, loss=0.442]\n"
          ]
        },
        {
          "output_type": "stream",
          "name": "stdout",
          "text": [
            "accuracy=57.714285714285715, loss=1.3598415396072336\n"
          ]
        },
        {
          "output_type": "stream",
          "name": "stderr",
          "text": [
            "Epoch 9: 100%|██████████| 490/490 [00:03<00:00, 131.48batch/s, accuracy=83.9, loss=0.407]\n"
          ]
        },
        {
          "output_type": "stream",
          "name": "stdout",
          "text": [
            "accuracy=59.642857142857146, loss=1.419786272915101\n"
          ]
        },
        {
          "output_type": "stream",
          "name": "stderr",
          "text": [
            "Epoch 10: 100%|██████████| 490/490 [00:03<00:00, 140.65batch/s, accuracy=84.8, loss=0.39]\n"
          ]
        },
        {
          "output_type": "stream",
          "name": "stdout",
          "text": [
            "accuracy=65.28571428571429, loss=1.0332404908039774\n"
          ]
        },
        {
          "output_type": "stream",
          "name": "stderr",
          "text": [
            "Epoch 11: 100%|██████████| 490/490 [00:03<00:00, 141.17batch/s, accuracy=85.2, loss=0.373]\n"
          ]
        },
        {
          "output_type": "stream",
          "name": "stdout",
          "text": [
            "accuracy=59.42857142857143, loss=1.3689441223530698\n"
          ]
        },
        {
          "output_type": "stream",
          "name": "stderr",
          "text": [
            "Epoch 12: 100%|██████████| 490/490 [00:03<00:00, 138.79batch/s, accuracy=86.2, loss=0.352]\n"
          ]
        },
        {
          "output_type": "stream",
          "name": "stdout",
          "text": [
            "accuracy=63.07142857142857, loss=1.2379121562877637\n"
          ]
        },
        {
          "output_type": "stream",
          "name": "stderr",
          "text": [
            "Epoch 13: 100%|██████████| 490/490 [00:03<00:00, 138.29batch/s, accuracy=86.9, loss=0.341]\n"
          ]
        },
        {
          "output_type": "stream",
          "name": "stdout",
          "text": [
            "accuracy=60.07142857142857, loss=1.3815942583051426\n"
          ]
        },
        {
          "output_type": "stream",
          "name": "stderr",
          "text": [
            "Epoch 14: 100%|██████████| 490/490 [00:03<00:00, 132.58batch/s, accuracy=87.6, loss=0.325]\n"
          ]
        },
        {
          "output_type": "stream",
          "name": "stdout",
          "text": [
            "accuracy=61.92857142857143, loss=1.359943775481531\n"
          ]
        },
        {
          "output_type": "stream",
          "name": "stderr",
          "text": [
            "Epoch 15: 100%|██████████| 490/490 [00:03<00:00, 140.67batch/s, accuracy=88, loss=0.312]\n"
          ]
        },
        {
          "output_type": "stream",
          "name": "stdout",
          "text": [
            "accuracy=61.785714285714285, loss=1.4501393197827046\n"
          ]
        },
        {
          "output_type": "stream",
          "name": "stderr",
          "text": [
            "Epoch 16: 100%|██████████| 490/490 [00:03<00:00, 138.31batch/s, accuracy=88.3, loss=0.306]\n"
          ]
        },
        {
          "output_type": "stream",
          "name": "stdout",
          "text": [
            "accuracy=63.07142857142857, loss=1.3370459930967835\n"
          ]
        },
        {
          "output_type": "stream",
          "name": "stderr",
          "text": [
            "Epoch 17: 100%|██████████| 490/490 [00:03<00:00, 131.29batch/s, accuracy=89, loss=0.29]\n"
          ]
        },
        {
          "output_type": "stream",
          "name": "stdout",
          "text": [
            "accuracy=60.07142857142857, loss=1.5203079630898044\n"
          ]
        },
        {
          "output_type": "stream",
          "name": "stderr",
          "text": [
            "Epoch 18: 100%|██████████| 490/490 [00:03<00:00, 130.89batch/s, accuracy=88.8, loss=0.293]\n"
          ]
        },
        {
          "output_type": "stream",
          "name": "stdout",
          "text": [
            "accuracy=63.5, loss=1.3293229936452813\n"
          ]
        },
        {
          "output_type": "stream",
          "name": "stderr",
          "text": [
            "Epoch 19: 100%|██████████| 490/490 [00:03<00:00, 138.07batch/s, accuracy=89.3, loss=0.275]\n"
          ]
        },
        {
          "output_type": "stream",
          "name": "stdout",
          "text": [
            "accuracy=61.07142857142857, loss=1.558436525143873\n"
          ]
        },
        {
          "output_type": "stream",
          "name": "stderr",
          "text": [
            "Epoch 20: 100%|██████████| 490/490 [00:03<00:00, 139.24batch/s, accuracy=89.4, loss=0.273]\n"
          ]
        },
        {
          "output_type": "stream",
          "name": "stdout",
          "text": [
            "accuracy=61.57142857142857, loss=1.508124271171915\n"
          ]
        },
        {
          "output_type": "stream",
          "name": "stderr",
          "text": [
            "Epoch 21: 100%|██████████| 490/490 [00:03<00:00, 136.70batch/s, accuracy=90.2, loss=0.26]\n"
          ]
        },
        {
          "output_type": "stream",
          "name": "stdout",
          "text": [
            "accuracy=66.35714285714286, loss=1.284652263613651\n"
          ]
        },
        {
          "output_type": "stream",
          "name": "stderr",
          "text": [
            "Epoch 22: 100%|██████████| 490/490 [00:03<00:00, 140.76batch/s, accuracy=89.7, loss=0.259]\n"
          ]
        },
        {
          "output_type": "stream",
          "name": "stdout",
          "text": [
            "accuracy=64.14285714285714, loss=1.4222831482772653\n"
          ]
        },
        {
          "output_type": "stream",
          "name": "stderr",
          "text": [
            "Epoch 23: 100%|██████████| 490/490 [00:03<00:00, 126.31batch/s, accuracy=90.5, loss=0.249]\n"
          ]
        },
        {
          "output_type": "stream",
          "name": "stdout",
          "text": [
            "accuracy=62.0, loss=1.5645325914183272\n"
          ]
        },
        {
          "output_type": "stream",
          "name": "stderr",
          "text": [
            "Epoch 24: 100%|██████████| 490/490 [00:03<00:00, 136.99batch/s, accuracy=90.5, loss=0.244]\n"
          ]
        },
        {
          "output_type": "stream",
          "name": "stdout",
          "text": [
            "accuracy=61.714285714285715, loss=1.6892659029173427\n"
          ]
        },
        {
          "output_type": "stream",
          "name": "stderr",
          "text": [
            "Epoch 25: 100%|██████████| 490/490 [00:03<00:00, 137.57batch/s, accuracy=90.8, loss=0.237]\n"
          ]
        },
        {
          "output_type": "stream",
          "name": "stdout",
          "text": [
            "accuracy=68.28571428571429, loss=1.3465003284622539\n"
          ]
        },
        {
          "output_type": "stream",
          "name": "stderr",
          "text": [
            "Epoch 26: 100%|██████████| 490/490 [00:03<00:00, 128.24batch/s, accuracy=90.9, loss=0.235]\n"
          ]
        },
        {
          "output_type": "stream",
          "name": "stdout",
          "text": [
            "accuracy=63.785714285714285, loss=1.4397011427902595\n"
          ]
        },
        {
          "output_type": "stream",
          "name": "stderr",
          "text": [
            "Epoch 27: 100%|██████████| 490/490 [00:06<00:00, 79.96batch/s, accuracy=91.3, loss=0.226] \n"
          ]
        },
        {
          "output_type": "stream",
          "name": "stdout",
          "text": [
            "accuracy=63.285714285714285, loss=1.6632857140942034\n"
          ]
        },
        {
          "output_type": "stream",
          "name": "stderr",
          "text": [
            "Epoch 28: 100%|██████████| 490/490 [00:03<00:00, 140.42batch/s, accuracy=91.5, loss=0.225]\n"
          ]
        },
        {
          "output_type": "stream",
          "name": "stdout",
          "text": [
            "accuracy=61.714285714285715, loss=1.7940595203279353\n"
          ]
        },
        {
          "output_type": "stream",
          "name": "stderr",
          "text": [
            "Epoch 29: 100%|██████████| 490/490 [00:03<00:00, 137.70batch/s, accuracy=91.7, loss=0.219]\n"
          ]
        },
        {
          "output_type": "stream",
          "name": "stdout",
          "text": [
            "accuracy=68.92857142857143, loss=1.1762580434013654\n"
          ]
        },
        {
          "output_type": "stream",
          "name": "stderr",
          "text": [
            "Epoch 30: 100%|██████████| 490/490 [00:03<00:00, 133.06batch/s, accuracy=91.6, loss=0.219]\n"
          ]
        },
        {
          "output_type": "stream",
          "name": "stdout",
          "text": [
            "accuracy=67.5, loss=1.4090975473916834\n"
          ]
        },
        {
          "output_type": "stream",
          "name": "stderr",
          "text": [
            "Epoch 31: 100%|██████████| 490/490 [00:03<00:00, 124.36batch/s, accuracy=91.8, loss=0.205]\n"
          ]
        },
        {
          "output_type": "stream",
          "name": "stdout",
          "text": [
            "accuracy=61.07142857142857, loss=1.9000278659189669\n"
          ]
        },
        {
          "output_type": "stream",
          "name": "stderr",
          "text": [
            "Epoch 32: 100%|██████████| 490/490 [00:03<00:00, 137.48batch/s, accuracy=91.9, loss=0.2]\n"
          ]
        },
        {
          "output_type": "stream",
          "name": "stdout",
          "text": [
            "accuracy=62.214285714285715, loss=2.1024955894072486\n"
          ]
        },
        {
          "output_type": "stream",
          "name": "stderr",
          "text": [
            "Epoch 33: 100%|██████████| 490/490 [00:03<00:00, 139.46batch/s, accuracy=91.9, loss=0.206]\n"
          ]
        },
        {
          "output_type": "stream",
          "name": "stdout",
          "text": [
            "accuracy=69.85714285714286, loss=1.212864475448367\n"
          ]
        },
        {
          "output_type": "stream",
          "name": "stderr",
          "text": [
            "Epoch 34: 100%|██████████| 490/490 [00:03<00:00, 135.12batch/s, accuracy=92.8, loss=0.186]\n"
          ]
        },
        {
          "output_type": "stream",
          "name": "stdout",
          "text": [
            "accuracy=70.07142857142857, loss=1.2317898056630403\n"
          ]
        },
        {
          "output_type": "stream",
          "name": "stderr",
          "text": [
            "Epoch 35: 100%|██████████| 490/490 [00:03<00:00, 137.65batch/s, accuracy=92.8, loss=0.188]\n"
          ]
        },
        {
          "output_type": "stream",
          "name": "stdout",
          "text": [
            "accuracy=67.28571428571429, loss=1.5093220971528827\n"
          ]
        },
        {
          "output_type": "stream",
          "name": "stderr",
          "text": [
            "Epoch 36: 100%|██████████| 490/490 [00:03<00:00, 128.38batch/s, accuracy=92.8, loss=0.192]\n"
          ]
        },
        {
          "output_type": "stream",
          "name": "stdout",
          "text": [
            "accuracy=62.92857142857143, loss=1.9752686278797753\n"
          ]
        },
        {
          "output_type": "stream",
          "name": "stderr",
          "text": [
            "Epoch 37: 100%|██████████| 490/490 [00:03<00:00, 135.58batch/s, accuracy=93, loss=0.186]\n"
          ]
        },
        {
          "output_type": "stream",
          "name": "stdout",
          "text": [
            "accuracy=70.21428571428571, loss=1.1849350671183372\n"
          ]
        },
        {
          "output_type": "stream",
          "name": "stderr",
          "text": [
            "Epoch 38: 100%|██████████| 490/490 [00:03<00:00, 136.76batch/s, accuracy=93.4, loss=0.176]\n"
          ]
        },
        {
          "output_type": "stream",
          "name": "stdout",
          "text": [
            "accuracy=62.42857142857143, loss=2.282102990608516\n"
          ]
        },
        {
          "output_type": "stream",
          "name": "stderr",
          "text": [
            "Epoch 39: 100%|██████████| 490/490 [00:03<00:00, 135.04batch/s, accuracy=93.1, loss=0.176]\n"
          ]
        },
        {
          "output_type": "stream",
          "name": "stdout",
          "text": [
            "accuracy=63.5, loss=1.765460242258554\n"
          ]
        },
        {
          "output_type": "stream",
          "name": "stderr",
          "text": [
            "Epoch 40: 100%|██████████| 490/490 [00:03<00:00, 138.05batch/s, accuracy=93.3, loss=0.173]\n"
          ]
        },
        {
          "output_type": "stream",
          "name": "stdout",
          "text": [
            "accuracy=65.14285714285714, loss=1.774060061006925\n",
            "\n",
            "Test performance\n",
            "lang accuracy loss\n",
            "------------------\n",
            "  en     70.4  1.8\n",
            "  ch     62.4  1.4\n",
            "\n"
          ]
        },
        {
          "output_type": "stream",
          "name": "stderr",
          "text": [
            "Some weights of the model checkpoint at facebook/wav2vec2-base were not used when initializing Wav2Vec2Model: ['quantizer.codevectors', 'project_q.bias', 'quantizer.weight_proj.weight', 'project_hid.bias', 'project_q.weight', 'quantizer.weight_proj.bias', 'project_hid.weight']\n",
            "- This IS expected if you are initializing Wav2Vec2Model from the checkpoint of a model trained on another task or with another architecture (e.g. initializing a BertForSequenceClassification model from a BertForPreTraining model).\n",
            "- This IS NOT expected if you are initializing Wav2Vec2Model from the checkpoint of a model that you expect to be exactly identical (initializing a BertForSequenceClassification model from a BertForSequenceClassification model).\n"
          ]
        },
        {
          "output_type": "stream",
          "name": "stdout",
          "text": [
            "Begin training\n"
          ]
        },
        {
          "output_type": "stream",
          "name": "stderr",
          "text": [
            "Epoch 1: 100%|██████████| 490/490 [00:03<00:00, 137.56batch/s, accuracy=41.1, loss=1.24]\n"
          ]
        },
        {
          "output_type": "stream",
          "name": "stdout",
          "text": [
            "accuracy=42.42857142857143, loss=1.6065025511171136\n"
          ]
        },
        {
          "output_type": "stream",
          "name": "stderr",
          "text": [
            "Epoch 2: 100%|██████████| 490/490 [00:03<00:00, 136.00batch/s, accuracy=60.8, loss=0.901]\n"
          ]
        },
        {
          "output_type": "stream",
          "name": "stdout",
          "text": [
            "accuracy=53.42857142857143, loss=1.3675264595874719\n"
          ]
        },
        {
          "output_type": "stream",
          "name": "stderr",
          "text": [
            "Epoch 3: 100%|██████████| 490/490 [00:03<00:00, 133.31batch/s, accuracy=70.4, loss=0.716]\n"
          ]
        },
        {
          "output_type": "stream",
          "name": "stdout",
          "text": [
            "accuracy=52.285714285714285, loss=1.3224389148330582\n"
          ]
        },
        {
          "output_type": "stream",
          "name": "stderr",
          "text": [
            "Epoch 4: 100%|██████████| 490/490 [00:03<00:00, 127.50batch/s, accuracy=74.8, loss=0.608]\n"
          ]
        },
        {
          "output_type": "stream",
          "name": "stdout",
          "text": [
            "accuracy=57.857142857142854, loss=1.1690055068226397\n"
          ]
        },
        {
          "output_type": "stream",
          "name": "stderr",
          "text": [
            "Epoch 5: 100%|██████████| 490/490 [00:03<00:00, 129.75batch/s, accuracy=78.4, loss=0.537]\n"
          ]
        },
        {
          "output_type": "stream",
          "name": "stdout",
          "text": [
            "accuracy=57.357142857142854, loss=1.4131940681573802\n"
          ]
        },
        {
          "output_type": "stream",
          "name": "stderr",
          "text": [
            "Epoch 6: 100%|██████████| 490/490 [00:03<00:00, 134.80batch/s, accuracy=80.6, loss=0.482]\n"
          ]
        },
        {
          "output_type": "stream",
          "name": "stdout",
          "text": [
            "accuracy=60.5, loss=1.183864240232506\n"
          ]
        },
        {
          "output_type": "stream",
          "name": "stderr",
          "text": [
            "Epoch 7: 100%|██████████| 490/490 [00:03<00:00, 136.86batch/s, accuracy=82.8, loss=0.442]\n"
          ]
        },
        {
          "output_type": "stream",
          "name": "stdout",
          "text": [
            "accuracy=63.214285714285715, loss=1.061426011674339\n"
          ]
        },
        {
          "output_type": "stream",
          "name": "stderr",
          "text": [
            "Epoch 8: 100%|██████████| 490/490 [00:03<00:00, 131.80batch/s, accuracy=83.5, loss=0.416]\n"
          ]
        },
        {
          "output_type": "stream",
          "name": "stdout",
          "text": [
            "accuracy=59.92857142857143, loss=1.164310627405066\n"
          ]
        },
        {
          "output_type": "stream",
          "name": "stderr",
          "text": [
            "Epoch 9: 100%|██████████| 490/490 [00:03<00:00, 124.84batch/s, accuracy=85, loss=0.384]\n"
          ]
        },
        {
          "output_type": "stream",
          "name": "stdout",
          "text": [
            "accuracy=64.71428571428571, loss=1.165490292530906\n"
          ]
        },
        {
          "output_type": "stream",
          "name": "stderr",
          "text": [
            "Epoch 10: 100%|██████████| 490/490 [00:03<00:00, 134.31batch/s, accuracy=85.9, loss=0.359]\n"
          ]
        },
        {
          "output_type": "stream",
          "name": "stdout",
          "text": [
            "accuracy=67.35714285714286, loss=1.0637665914458505\n"
          ]
        },
        {
          "output_type": "stream",
          "name": "stderr",
          "text": [
            "Epoch 11: 100%|██████████| 490/490 [00:03<00:00, 137.06batch/s, accuracy=86.7, loss=0.343]\n"
          ]
        },
        {
          "output_type": "stream",
          "name": "stdout",
          "text": [
            "accuracy=64.07142857142857, loss=1.2671160469475893\n"
          ]
        },
        {
          "output_type": "stream",
          "name": "stderr",
          "text": [
            "Epoch 12: 100%|██████████| 490/490 [00:03<00:00, 135.28batch/s, accuracy=87.3, loss=0.33]\n"
          ]
        },
        {
          "output_type": "stream",
          "name": "stdout",
          "text": [
            "accuracy=57.285714285714285, loss=1.3589201207463961\n"
          ]
        },
        {
          "output_type": "stream",
          "name": "stderr",
          "text": [
            "Epoch 13: 100%|██████████| 490/490 [00:03<00:00, 140.16batch/s, accuracy=87.6, loss=0.313]\n"
          ]
        },
        {
          "output_type": "stream",
          "name": "stdout",
          "text": [
            "accuracy=65.64285714285714, loss=1.1097822403545954\n"
          ]
        },
        {
          "output_type": "stream",
          "name": "stderr",
          "text": [
            "Epoch 14: 100%|██████████| 490/490 [00:03<00:00, 134.94batch/s, accuracy=88.2, loss=0.305]\n"
          ]
        },
        {
          "output_type": "stream",
          "name": "stdout",
          "text": [
            "accuracy=66.5, loss=1.0536492833980757\n"
          ]
        },
        {
          "output_type": "stream",
          "name": "stderr",
          "text": [
            "Epoch 15: 100%|██████████| 490/490 [00:03<00:00, 130.15batch/s, accuracy=88.8, loss=0.293]\n"
          ]
        },
        {
          "output_type": "stream",
          "name": "stdout",
          "text": [
            "accuracy=67.5, loss=1.0654230626452148\n"
          ]
        },
        {
          "output_type": "stream",
          "name": "stderr",
          "text": [
            "Epoch 16: 100%|██████████| 490/490 [00:03<00:00, 132.81batch/s, accuracy=89.3, loss=0.274]\n"
          ]
        },
        {
          "output_type": "stream",
          "name": "stdout",
          "text": [
            "accuracy=65.0, loss=1.1762094016336881\n"
          ]
        },
        {
          "output_type": "stream",
          "name": "stderr",
          "text": [
            "Epoch 17: 100%|██████████| 490/490 [00:03<00:00, 133.36batch/s, accuracy=90, loss=0.265]\n"
          ]
        },
        {
          "output_type": "stream",
          "name": "stdout",
          "text": [
            "accuracy=62.785714285714285, loss=1.4684517300156794\n"
          ]
        },
        {
          "output_type": "stream",
          "name": "stderr",
          "text": [
            "Epoch 18: 100%|██████████| 490/490 [00:03<00:00, 135.26batch/s, accuracy=89.7, loss=0.264]\n"
          ]
        },
        {
          "output_type": "stream",
          "name": "stdout",
          "text": [
            "accuracy=63.42857142857143, loss=1.3768073793717537\n"
          ]
        },
        {
          "output_type": "stream",
          "name": "stderr",
          "text": [
            "Epoch 19: 100%|██████████| 490/490 [00:03<00:00, 129.99batch/s, accuracy=89.8, loss=0.261]\n"
          ]
        },
        {
          "output_type": "stream",
          "name": "stdout",
          "text": [
            "accuracy=63.5, loss=1.4231217703949992\n"
          ]
        },
        {
          "output_type": "stream",
          "name": "stderr",
          "text": [
            "Epoch 20: 100%|██████████| 490/490 [00:03<00:00, 126.77batch/s, accuracy=90.5, loss=0.243]\n"
          ]
        },
        {
          "output_type": "stream",
          "name": "stdout",
          "text": [
            "accuracy=66.21428571428571, loss=1.2305407344776593\n"
          ]
        },
        {
          "output_type": "stream",
          "name": "stderr",
          "text": [
            "Epoch 21: 100%|██████████| 490/490 [00:03<00:00, 132.28batch/s, accuracy=90.5, loss=0.242]\n"
          ]
        },
        {
          "output_type": "stream",
          "name": "stdout",
          "text": [
            "accuracy=65.92857142857143, loss=1.3716850316291986\n"
          ]
        },
        {
          "output_type": "stream",
          "name": "stderr",
          "text": [
            "Epoch 22: 100%|██████████| 490/490 [00:03<00:00, 134.40batch/s, accuracy=91.1, loss=0.234]\n"
          ]
        },
        {
          "output_type": "stream",
          "name": "stdout",
          "text": [
            "accuracy=69.14285714285714, loss=1.056094970047369\n"
          ]
        },
        {
          "output_type": "stream",
          "name": "stderr",
          "text": [
            "Epoch 23: 100%|██████████| 490/490 [00:03<00:00, 138.71batch/s, accuracy=91.5, loss=0.225]\n"
          ]
        },
        {
          "output_type": "stream",
          "name": "stdout",
          "text": [
            "accuracy=68.35714285714286, loss=1.1656185261687955\n"
          ]
        },
        {
          "output_type": "stream",
          "name": "stderr",
          "text": [
            "Epoch 24: 100%|██████████| 490/490 [00:03<00:00, 137.32batch/s, accuracy=91.5, loss=0.221]\n"
          ]
        },
        {
          "output_type": "stream",
          "name": "stdout",
          "text": [
            "accuracy=66.92857142857143, loss=1.2904090306302571\n"
          ]
        },
        {
          "output_type": "stream",
          "name": "stderr",
          "text": [
            "Epoch 25: 100%|██████████| 490/490 [00:03<00:00, 127.74batch/s, accuracy=91.4, loss=0.221]\n"
          ]
        },
        {
          "output_type": "stream",
          "name": "stdout",
          "text": [
            "accuracy=70.07142857142857, loss=1.0763701282144522\n"
          ]
        },
        {
          "output_type": "stream",
          "name": "stderr",
          "text": [
            "Epoch 26: 100%|██████████| 490/490 [00:03<00:00, 130.01batch/s, accuracy=91.9, loss=0.208]\n"
          ]
        },
        {
          "output_type": "stream",
          "name": "stdout",
          "text": [
            "accuracy=69.0, loss=1.184892510818641\n"
          ]
        },
        {
          "output_type": "stream",
          "name": "stderr",
          "text": [
            "Epoch 27: 100%|██████████| 490/490 [00:03<00:00, 131.42batch/s, accuracy=92, loss=0.208]\n"
          ]
        },
        {
          "output_type": "stream",
          "name": "stdout",
          "text": [
            "accuracy=64.14285714285714, loss=1.5331727745338133\n"
          ]
        },
        {
          "output_type": "stream",
          "name": "stderr",
          "text": [
            "Epoch 28: 100%|██████████| 490/490 [00:03<00:00, 138.21batch/s, accuracy=91.9, loss=0.208]\n"
          ]
        },
        {
          "output_type": "stream",
          "name": "stdout",
          "text": [
            "accuracy=67.78571428571429, loss=1.168239182503574\n"
          ]
        },
        {
          "output_type": "stream",
          "name": "stderr",
          "text": [
            "Epoch 29: 100%|██████████| 490/490 [00:03<00:00, 127.48batch/s, accuracy=92.3, loss=0.205]\n"
          ]
        },
        {
          "output_type": "stream",
          "name": "stdout",
          "text": [
            "accuracy=70.42857142857143, loss=1.0663638555624844\n"
          ]
        },
        {
          "output_type": "stream",
          "name": "stderr",
          "text": [
            "Epoch 30: 100%|██████████| 490/490 [00:03<00:00, 126.36batch/s, accuracy=92.6, loss=0.195]\n"
          ]
        },
        {
          "output_type": "stream",
          "name": "stdout",
          "text": [
            "accuracy=71.0, loss=1.0668220149566359\n"
          ]
        },
        {
          "output_type": "stream",
          "name": "stderr",
          "text": [
            "Epoch 31: 100%|██████████| 490/490 [00:03<00:00, 132.71batch/s, accuracy=92.4, loss=0.188]\n"
          ]
        },
        {
          "output_type": "stream",
          "name": "stdout",
          "text": [
            "accuracy=67.71428571428571, loss=1.1574449416649337\n"
          ]
        },
        {
          "output_type": "stream",
          "name": "stderr",
          "text": [
            "Epoch 32: 100%|██████████| 490/490 [00:03<00:00, 134.38batch/s, accuracy=93.2, loss=0.182]\n"
          ]
        },
        {
          "output_type": "stream",
          "name": "stdout",
          "text": [
            "accuracy=64.21428571428571, loss=1.4071727967050558\n"
          ]
        },
        {
          "output_type": "stream",
          "name": "stderr",
          "text": [
            "Epoch 33: 100%|██████████| 490/490 [00:03<00:00, 129.87batch/s, accuracy=93.1, loss=0.182]\n"
          ]
        },
        {
          "output_type": "stream",
          "name": "stdout",
          "text": [
            "accuracy=65.14285714285714, loss=1.4312807193357113\n"
          ]
        },
        {
          "output_type": "stream",
          "name": "stderr",
          "text": [
            "Epoch 34: 100%|██████████| 490/490 [00:03<00:00, 133.96batch/s, accuracy=92.9, loss=0.181]\n"
          ]
        },
        {
          "output_type": "stream",
          "name": "stdout",
          "text": [
            "accuracy=69.57142857142857, loss=1.4237072799738826\n"
          ]
        },
        {
          "output_type": "stream",
          "name": "stderr",
          "text": [
            "Epoch 35: 100%|██████████| 490/490 [00:03<00:00, 125.02batch/s, accuracy=93.1, loss=0.176]\n"
          ]
        },
        {
          "output_type": "stream",
          "name": "stdout",
          "text": [
            "accuracy=70.21428571428571, loss=1.3194750268104742\n"
          ]
        },
        {
          "output_type": "stream",
          "name": "stderr",
          "text": [
            "Epoch 36: 100%|██████████| 490/490 [00:03<00:00, 133.25batch/s, accuracy=93.5, loss=0.169]\n"
          ]
        },
        {
          "output_type": "stream",
          "name": "stdout",
          "text": [
            "accuracy=71.71428571428571, loss=1.044109057250691\n"
          ]
        },
        {
          "output_type": "stream",
          "name": "stderr",
          "text": [
            "Epoch 37: 100%|██████████| 490/490 [00:03<00:00, 133.90batch/s, accuracy=94.1, loss=0.159]\n"
          ]
        },
        {
          "output_type": "stream",
          "name": "stdout",
          "text": [
            "accuracy=68.78571428571429, loss=1.6617010461504622\n"
          ]
        },
        {
          "output_type": "stream",
          "name": "stderr",
          "text": [
            "Epoch 38: 100%|██████████| 490/490 [00:03<00:00, 128.62batch/s, accuracy=93.4, loss=0.169]\n"
          ]
        },
        {
          "output_type": "stream",
          "name": "stdout",
          "text": [
            "accuracy=69.35714285714286, loss=1.173469066688346\n"
          ]
        },
        {
          "output_type": "stream",
          "name": "stderr",
          "text": [
            "Epoch 39: 100%|██████████| 490/490 [00:03<00:00, 136.26batch/s, accuracy=93.7, loss=0.162]\n"
          ]
        },
        {
          "output_type": "stream",
          "name": "stdout",
          "text": [
            "accuracy=68.35714285714286, loss=1.208323144294138\n"
          ]
        },
        {
          "output_type": "stream",
          "name": "stderr",
          "text": [
            "Epoch 40: 100%|██████████| 490/490 [00:03<00:00, 126.99batch/s, accuracy=93.8, loss=0.153]\n"
          ]
        },
        {
          "output_type": "stream",
          "name": "stdout",
          "text": [
            "accuracy=71.5, loss=1.1322715636832676\n",
            "\n",
            "Test performance\n",
            "lang accuracy loss\n",
            "------------------\n",
            "  en     72.2  1.7\n",
            "  ch     54.9  1.6\n",
            "\n",
            "\n",
            "\n",
            "Trained on en Wav2Vec2.0-base voiceprints\n",
            "Average test performance over 2 iteration(s)\n",
            "lang accuracy loss\n",
            "------------------\n",
            "  en     71.3  1.7\n",
            "  ch     58.7  1.5\n",
            "\n",
            "Running the script took 00:06:02\n"
          ]
        }
      ]
    },
    {
      "cell_type": "code",
      "source": [
        "if __name__ == \"__main__\":\n",
        "  start = time.time()\n",
        "  \n",
        "  langs = [\"ch\"]\n",
        "\n",
        "  pipeline = ModelDataPipeline(epochs=epochs,\n",
        "                               learning_rate=learning_rate,\n",
        "                               langs=langs,\n",
        "                               model_type=model_type,\n",
        "                               proportion=proportion)\n",
        "\n",
        "  pipeline.run_per_split()\n",
        "\n",
        "  end = time.time()\n",
        "\n",
        "  print(f\"\\nRunning the script took {running_time(start, end)}\")"
      ],
      "metadata": {
        "colab": {
          "base_uri": "https://localhost:8080/"
        },
        "id": "Rj8X_T9MxIV2",
        "outputId": "e255de1c-b39d-4e1e-bd62-0ef5f7fab070"
      },
      "execution_count": null,
      "outputs": [
        {
          "output_type": "stream",
          "name": "stdout",
          "text": [
            "Setting up mono model with\n",
            "\tepochs: 40\n",
            "\tlearning rate: 5e-05\n",
            "\tlangs: ch\n"
          ]
        },
        {
          "output_type": "stream",
          "name": "stderr",
          "text": [
            "Some weights of the model checkpoint at facebook/wav2vec2-base were not used when initializing Wav2Vec2Model: ['quantizer.codevectors', 'project_q.bias', 'quantizer.weight_proj.weight', 'project_hid.bias', 'project_q.weight', 'quantizer.weight_proj.bias', 'project_hid.weight']\n",
            "- This IS expected if you are initializing Wav2Vec2Model from the checkpoint of a model trained on another task or with another architecture (e.g. initializing a BertForSequenceClassification model from a BertForPreTraining model).\n",
            "- This IS NOT expected if you are initializing Wav2Vec2Model from the checkpoint of a model that you expect to be exactly identical (initializing a BertForSequenceClassification model from a BertForSequenceClassification model).\n",
            "Some weights of the model checkpoint at facebook/wav2vec2-base were not used when initializing Wav2Vec2Model: ['quantizer.codevectors', 'project_q.bias', 'quantizer.weight_proj.weight', 'project_hid.bias', 'project_q.weight', 'quantizer.weight_proj.bias', 'project_hid.weight']\n",
            "- This IS expected if you are initializing Wav2Vec2Model from the checkpoint of a model trained on another task or with another architecture (e.g. initializing a BertForSequenceClassification model from a BertForPreTraining model).\n",
            "- This IS NOT expected if you are initializing Wav2Vec2Model from the checkpoint of a model that you expect to be exactly identical (initializing a BertForSequenceClassification model from a BertForSequenceClassification model).\n"
          ]
        },
        {
          "output_type": "stream",
          "name": "stdout",
          "text": [
            "Begin training\n"
          ]
        },
        {
          "output_type": "stream",
          "name": "stderr",
          "text": [
            "Epoch 1: 100%|██████████| 490/490 [00:03<00:00, 140.86batch/s, accuracy=49.6, loss=1.05]\n"
          ]
        },
        {
          "output_type": "stream",
          "name": "stdout",
          "text": [
            "accuracy=76.85714285714286, loss=0.7178596242410796\n"
          ]
        },
        {
          "output_type": "stream",
          "name": "stderr",
          "text": [
            "Epoch 2: 100%|██████████| 490/490 [00:03<00:00, 139.55batch/s, accuracy=73.2, loss=0.589]\n"
          ]
        },
        {
          "output_type": "stream",
          "name": "stdout",
          "text": [
            "accuracy=72.5, loss=0.579839599811738\n"
          ]
        },
        {
          "output_type": "stream",
          "name": "stderr",
          "text": [
            "Epoch 3: 100%|██████████| 490/490 [00:03<00:00, 134.44batch/s, accuracy=83, loss=0.411]\n"
          ]
        },
        {
          "output_type": "stream",
          "name": "stdout",
          "text": [
            "accuracy=78.07142857142857, loss=0.4881317961966852\n"
          ]
        },
        {
          "output_type": "stream",
          "name": "stderr",
          "text": [
            "Epoch 4: 100%|██████████| 490/490 [00:03<00:00, 130.15batch/s, accuracy=87.1, loss=0.32]\n"
          ]
        },
        {
          "output_type": "stream",
          "name": "stdout",
          "text": [
            "accuracy=76.14285714285714, loss=0.5419067988681906\n"
          ]
        },
        {
          "output_type": "stream",
          "name": "stderr",
          "text": [
            "Epoch 5: 100%|██████████| 490/490 [00:03<00:00, 141.22batch/s, accuracy=89.4, loss=0.266]\n"
          ]
        },
        {
          "output_type": "stream",
          "name": "stdout",
          "text": [
            "accuracy=80.64285714285714, loss=0.48638476575713346\n"
          ]
        },
        {
          "output_type": "stream",
          "name": "stderr",
          "text": [
            "Epoch 6: 100%|██████████| 490/490 [00:03<00:00, 141.54batch/s, accuracy=90.9, loss=0.238]\n"
          ]
        },
        {
          "output_type": "stream",
          "name": "stdout",
          "text": [
            "accuracy=80.78571428571429, loss=0.470256231637755\n"
          ]
        },
        {
          "output_type": "stream",
          "name": "stderr",
          "text": [
            "Epoch 7: 100%|██████████| 490/490 [00:03<00:00, 132.45batch/s, accuracy=92, loss=0.208]\n"
          ]
        },
        {
          "output_type": "stream",
          "name": "stdout",
          "text": [
            "accuracy=80.92857142857143, loss=0.4686006996301772\n"
          ]
        },
        {
          "output_type": "stream",
          "name": "stderr",
          "text": [
            "Epoch 8: 100%|██████████| 490/490 [00:03<00:00, 137.24batch/s, accuracy=93.1, loss=0.191]\n"
          ]
        },
        {
          "output_type": "stream",
          "name": "stdout",
          "text": [
            "accuracy=81.42857142857143, loss=0.47709112360330175\n"
          ]
        },
        {
          "output_type": "stream",
          "name": "stderr",
          "text": [
            "Epoch 9: 100%|██████████| 490/490 [00:03<00:00, 132.47batch/s, accuracy=93.2, loss=0.179]\n"
          ]
        },
        {
          "output_type": "stream",
          "name": "stdout",
          "text": [
            "accuracy=81.92857142857143, loss=0.4715132044604086\n"
          ]
        },
        {
          "output_type": "stream",
          "name": "stderr",
          "text": [
            "Epoch 10: 100%|██████████| 490/490 [00:03<00:00, 139.02batch/s, accuracy=93.6, loss=0.166]\n"
          ]
        },
        {
          "output_type": "stream",
          "name": "stdout",
          "text": [
            "accuracy=80.5, loss=0.5107395304350928\n"
          ]
        },
        {
          "output_type": "stream",
          "name": "stderr",
          "text": [
            "Epoch 11: 100%|██████████| 490/490 [00:03<00:00, 138.75batch/s, accuracy=94, loss=0.157]\n"
          ]
        },
        {
          "output_type": "stream",
          "name": "stdout",
          "text": [
            "accuracy=80.42857142857143, loss=0.5183556935889286\n"
          ]
        },
        {
          "output_type": "stream",
          "name": "stderr",
          "text": [
            "Epoch 12: 100%|██████████| 490/490 [00:03<00:00, 126.85batch/s, accuracy=94.7, loss=0.139]\n"
          ]
        },
        {
          "output_type": "stream",
          "name": "stdout",
          "text": [
            "accuracy=83.07142857142857, loss=0.4651898632359988\n"
          ]
        },
        {
          "output_type": "stream",
          "name": "stderr",
          "text": [
            "Epoch 13: 100%|██████████| 490/490 [00:03<00:00, 125.50batch/s, accuracy=94.9, loss=0.138]\n"
          ]
        },
        {
          "output_type": "stream",
          "name": "stdout",
          "text": [
            "accuracy=85.14285714285714, loss=0.40062739724234187\n"
          ]
        },
        {
          "output_type": "stream",
          "name": "stderr",
          "text": [
            "Epoch 14: 100%|██████████| 490/490 [00:03<00:00, 136.81batch/s, accuracy=95.2, loss=0.13]\n"
          ]
        },
        {
          "output_type": "stream",
          "name": "stdout",
          "text": [
            "accuracy=85.92857142857143, loss=0.38226204467623226\n"
          ]
        },
        {
          "output_type": "stream",
          "name": "stderr",
          "text": [
            "Epoch 15: 100%|██████████| 490/490 [00:03<00:00, 138.26batch/s, accuracy=95, loss=0.127]\n"
          ]
        },
        {
          "output_type": "stream",
          "name": "stdout",
          "text": [
            "accuracy=83.5, loss=0.4494425792185653\n"
          ]
        },
        {
          "output_type": "stream",
          "name": "stderr",
          "text": [
            "Epoch 16: 100%|██████████| 490/490 [00:03<00:00, 136.95batch/s, accuracy=95.6, loss=0.119]\n"
          ]
        },
        {
          "output_type": "stream",
          "name": "stdout",
          "text": [
            "accuracy=82.14285714285714, loss=0.5187455393232959\n"
          ]
        },
        {
          "output_type": "stream",
          "name": "stderr",
          "text": [
            "Epoch 17: 100%|██████████| 490/490 [00:03<00:00, 125.01batch/s, accuracy=95.6, loss=0.116]\n"
          ]
        },
        {
          "output_type": "stream",
          "name": "stdout",
          "text": [
            "accuracy=86.28571428571429, loss=0.374721321083993\n"
          ]
        },
        {
          "output_type": "stream",
          "name": "stderr",
          "text": [
            "Epoch 18: 100%|██████████| 490/490 [00:03<00:00, 131.81batch/s, accuracy=95.7, loss=0.112]\n"
          ]
        },
        {
          "output_type": "stream",
          "name": "stdout",
          "text": [
            "accuracy=85.71428571428571, loss=0.41042985357857936\n"
          ]
        },
        {
          "output_type": "stream",
          "name": "stderr",
          "text": [
            "Epoch 19: 100%|██████████| 490/490 [00:03<00:00, 135.11batch/s, accuracy=95.9, loss=0.109]\n"
          ]
        },
        {
          "output_type": "stream",
          "name": "stdout",
          "text": [
            "accuracy=76.14285714285714, loss=0.8237570381043527\n"
          ]
        },
        {
          "output_type": "stream",
          "name": "stderr",
          "text": [
            "Epoch 20: 100%|██████████| 490/490 [00:03<00:00, 138.62batch/s, accuracy=96, loss=0.107]\n"
          ]
        },
        {
          "output_type": "stream",
          "name": "stdout",
          "text": [
            "accuracy=81.85714285714286, loss=0.5219350256421625\n"
          ]
        },
        {
          "output_type": "stream",
          "name": "stderr",
          "text": [
            "Epoch 21: 100%|██████████| 490/490 [00:03<00:00, 137.49batch/s, accuracy=96.5, loss=0.0963]\n"
          ]
        },
        {
          "output_type": "stream",
          "name": "stdout",
          "text": [
            "accuracy=82.64285714285714, loss=0.5282914897653986\n"
          ]
        },
        {
          "output_type": "stream",
          "name": "stderr",
          "text": [
            "Epoch 22: 100%|██████████| 490/490 [00:03<00:00, 128.12batch/s, accuracy=96.2, loss=0.0992]\n"
          ]
        },
        {
          "output_type": "stream",
          "name": "stdout",
          "text": [
            "accuracy=82.57142857142857, loss=0.5108468154437035\n"
          ]
        },
        {
          "output_type": "stream",
          "name": "stderr",
          "text": [
            "Epoch 23: 100%|██████████| 490/490 [00:03<00:00, 135.11batch/s, accuracy=96.6, loss=0.0931]\n"
          ]
        },
        {
          "output_type": "stream",
          "name": "stdout",
          "text": [
            "accuracy=83.07142857142857, loss=0.5095119821695036\n"
          ]
        },
        {
          "output_type": "stream",
          "name": "stderr",
          "text": [
            "Epoch 24: 100%|██████████| 490/490 [00:03<00:00, 135.45batch/s, accuracy=96.6, loss=0.0913]\n"
          ]
        },
        {
          "output_type": "stream",
          "name": "stdout",
          "text": [
            "accuracy=84.5, loss=0.45496268345040464\n"
          ]
        },
        {
          "output_type": "stream",
          "name": "stderr",
          "text": [
            "Epoch 25: 100%|██████████| 490/490 [00:03<00:00, 136.83batch/s, accuracy=96.4, loss=0.0914]\n"
          ]
        },
        {
          "output_type": "stream",
          "name": "stdout",
          "text": [
            "accuracy=85.5, loss=0.44474785540840167\n"
          ]
        },
        {
          "output_type": "stream",
          "name": "stderr",
          "text": [
            "Epoch 26: 100%|██████████| 490/490 [00:05<00:00, 93.09batch/s, accuracy=96.7, loss=0.0888] \n"
          ]
        },
        {
          "output_type": "stream",
          "name": "stdout",
          "text": [
            "accuracy=81.64285714285714, loss=0.5685418051032588\n"
          ]
        },
        {
          "output_type": "stream",
          "name": "stderr",
          "text": [
            "Epoch 27: 100%|██████████| 490/490 [00:03<00:00, 126.51batch/s, accuracy=96.9, loss=0.0833]\n"
          ]
        },
        {
          "output_type": "stream",
          "name": "stdout",
          "text": [
            "accuracy=84.42857142857143, loss=0.4884094079135059\n"
          ]
        },
        {
          "output_type": "stream",
          "name": "stderr",
          "text": [
            "Epoch 28: 100%|██████████| 490/490 [00:03<00:00, 136.11batch/s, accuracy=96.7, loss=0.0864]\n"
          ]
        },
        {
          "output_type": "stream",
          "name": "stdout",
          "text": [
            "accuracy=87.92857142857143, loss=0.3729705680489236\n"
          ]
        },
        {
          "output_type": "stream",
          "name": "stderr",
          "text": [
            "Epoch 29: 100%|██████████| 490/490 [00:03<00:00, 134.12batch/s, accuracy=97.3, loss=0.0766]\n"
          ]
        },
        {
          "output_type": "stream",
          "name": "stdout",
          "text": [
            "accuracy=87.64285714285714, loss=0.3724059178555144\n"
          ]
        },
        {
          "output_type": "stream",
          "name": "stderr",
          "text": [
            "Epoch 30: 100%|██████████| 490/490 [00:03<00:00, 132.33batch/s, accuracy=97.1, loss=0.0772]\n"
          ]
        },
        {
          "output_type": "stream",
          "name": "stdout",
          "text": [
            "accuracy=83.07142857142857, loss=0.5205369706829535\n"
          ]
        },
        {
          "output_type": "stream",
          "name": "stderr",
          "text": [
            "Epoch 31: 100%|██████████| 490/490 [00:03<00:00, 123.74batch/s, accuracy=97.1, loss=0.0777]\n"
          ]
        },
        {
          "output_type": "stream",
          "name": "stdout",
          "text": [
            "accuracy=85.78571428571429, loss=0.43918722135546284\n"
          ]
        },
        {
          "output_type": "stream",
          "name": "stderr",
          "text": [
            "Epoch 32: 100%|██████████| 490/490 [00:03<00:00, 134.50batch/s, accuracy=97.4, loss=0.0685]\n"
          ]
        },
        {
          "output_type": "stream",
          "name": "stdout",
          "text": [
            "accuracy=78.57142857142857, loss=0.6716176795534774\n"
          ]
        },
        {
          "output_type": "stream",
          "name": "stderr",
          "text": [
            "Epoch 33: 100%|██████████| 490/490 [00:03<00:00, 134.11batch/s, accuracy=97.3, loss=0.0757]\n"
          ]
        },
        {
          "output_type": "stream",
          "name": "stdout",
          "text": [
            "accuracy=85.07142857142857, loss=0.4481378220418391\n"
          ]
        },
        {
          "output_type": "stream",
          "name": "stderr",
          "text": [
            "Epoch 34: 100%|██████████| 490/490 [00:03<00:00, 133.70batch/s, accuracy=97.5, loss=0.0679]\n"
          ]
        },
        {
          "output_type": "stream",
          "name": "stdout",
          "text": [
            "accuracy=90.92857142857143, loss=0.2999908013228574\n"
          ]
        },
        {
          "output_type": "stream",
          "name": "stderr",
          "text": [
            "Epoch 35: 100%|██████████| 490/490 [00:03<00:00, 126.15batch/s, accuracy=97.7, loss=0.0648]\n"
          ]
        },
        {
          "output_type": "stream",
          "name": "stdout",
          "text": [
            "accuracy=83.78571428571429, loss=0.56189348782604\n"
          ]
        },
        {
          "output_type": "stream",
          "name": "stderr",
          "text": [
            "Epoch 36: 100%|██████████| 490/490 [00:03<00:00, 124.62batch/s, accuracy=97.7, loss=0.0652]\n"
          ]
        },
        {
          "output_type": "stream",
          "name": "stdout",
          "text": [
            "accuracy=81.42857142857143, loss=0.5874419684034954\n"
          ]
        },
        {
          "output_type": "stream",
          "name": "stderr",
          "text": [
            "Epoch 37: 100%|██████████| 490/490 [00:03<00:00, 131.19batch/s, accuracy=97.4, loss=0.0679]\n"
          ]
        },
        {
          "output_type": "stream",
          "name": "stdout",
          "text": [
            "accuracy=88.21428571428571, loss=0.3593378149874504\n"
          ]
        },
        {
          "output_type": "stream",
          "name": "stderr",
          "text": [
            "Epoch 38: 100%|██████████| 490/490 [00:03<00:00, 135.59batch/s, accuracy=97.7, loss=0.0605]\n"
          ]
        },
        {
          "output_type": "stream",
          "name": "stdout",
          "text": [
            "accuracy=85.42857142857143, loss=0.4661433669724047\n"
          ]
        },
        {
          "output_type": "stream",
          "name": "stderr",
          "text": [
            "Epoch 39: 100%|██████████| 490/490 [00:03<00:00, 126.92batch/s, accuracy=97.9, loss=0.0577]\n"
          ]
        },
        {
          "output_type": "stream",
          "name": "stdout",
          "text": [
            "accuracy=88.28571428571429, loss=0.3608240220631661\n"
          ]
        },
        {
          "output_type": "stream",
          "name": "stderr",
          "text": [
            "Epoch 40: 100%|██████████| 490/490 [00:04<00:00, 120.80batch/s, accuracy=97.7, loss=0.0596]\n"
          ]
        },
        {
          "output_type": "stream",
          "name": "stdout",
          "text": [
            "accuracy=87.85714285714286, loss=0.4082263910217261\n",
            "\n",
            "Test performance\n",
            "lang accuracy loss\n",
            "------------------\n",
            "  en     58.5  2.6\n",
            "  ch     77.2  0.8\n",
            "\n"
          ]
        },
        {
          "output_type": "stream",
          "name": "stderr",
          "text": [
            "Some weights of the model checkpoint at facebook/wav2vec2-base were not used when initializing Wav2Vec2Model: ['quantizer.codevectors', 'project_q.bias', 'quantizer.weight_proj.weight', 'project_hid.bias', 'project_q.weight', 'quantizer.weight_proj.bias', 'project_hid.weight']\n",
            "- This IS expected if you are initializing Wav2Vec2Model from the checkpoint of a model trained on another task or with another architecture (e.g. initializing a BertForSequenceClassification model from a BertForPreTraining model).\n",
            "- This IS NOT expected if you are initializing Wav2Vec2Model from the checkpoint of a model that you expect to be exactly identical (initializing a BertForSequenceClassification model from a BertForSequenceClassification model).\n"
          ]
        },
        {
          "output_type": "stream",
          "name": "stdout",
          "text": [
            "Begin training\n"
          ]
        },
        {
          "output_type": "stream",
          "name": "stderr",
          "text": [
            "Epoch 1: 100%|██████████| 490/490 [00:03<00:00, 133.97batch/s, accuracy=49.9, loss=1.06]\n"
          ]
        },
        {
          "output_type": "stream",
          "name": "stdout",
          "text": [
            "accuracy=51.07142857142857, loss=0.9073442637601069\n"
          ]
        },
        {
          "output_type": "stream",
          "name": "stderr",
          "text": [
            "Epoch 2: 100%|██████████| 490/490 [00:03<00:00, 132.86batch/s, accuracy=73.2, loss=0.603]\n"
          ]
        },
        {
          "output_type": "stream",
          "name": "stdout",
          "text": [
            "accuracy=72.85714285714286, loss=0.5451156726639186\n"
          ]
        },
        {
          "output_type": "stream",
          "name": "stderr",
          "text": [
            "Epoch 3: 100%|██████████| 490/490 [00:03<00:00, 127.77batch/s, accuracy=81.3, loss=0.444]\n"
          ]
        },
        {
          "output_type": "stream",
          "name": "stdout",
          "text": [
            "accuracy=80.71428571428571, loss=0.39332649111132406\n"
          ]
        },
        {
          "output_type": "stream",
          "name": "stderr",
          "text": [
            "Epoch 4: 100%|██████████| 490/490 [00:03<00:00, 126.04batch/s, accuracy=85.6, loss=0.357]\n"
          ]
        },
        {
          "output_type": "stream",
          "name": "stdout",
          "text": [
            "accuracy=82.85714285714286, loss=0.3501366605404265\n"
          ]
        },
        {
          "output_type": "stream",
          "name": "stderr",
          "text": [
            "Epoch 5: 100%|██████████| 490/490 [00:03<00:00, 136.95batch/s, accuracy=87.7, loss=0.303]\n"
          ]
        },
        {
          "output_type": "stream",
          "name": "stdout",
          "text": [
            "accuracy=88.78571428571429, loss=0.25365186836360537\n"
          ]
        },
        {
          "output_type": "stream",
          "name": "stderr",
          "text": [
            "Epoch 6: 100%|██████████| 490/490 [00:03<00:00, 135.24batch/s, accuracy=89.7, loss=0.258]\n"
          ]
        },
        {
          "output_type": "stream",
          "name": "stdout",
          "text": [
            "accuracy=90.64285714285714, loss=0.22877127199982558\n"
          ]
        },
        {
          "output_type": "stream",
          "name": "stderr",
          "text": [
            "Epoch 7: 100%|██████████| 490/490 [00:03<00:00, 129.82batch/s, accuracy=90.7, loss=0.231]\n"
          ]
        },
        {
          "output_type": "stream",
          "name": "stdout",
          "text": [
            "accuracy=88.21428571428571, loss=0.2597258163897433\n"
          ]
        },
        {
          "output_type": "stream",
          "name": "stderr",
          "text": [
            "Epoch 8: 100%|██████████| 490/490 [00:03<00:00, 134.05batch/s, accuracy=91.9, loss=0.212]\n"
          ]
        },
        {
          "output_type": "stream",
          "name": "stdout",
          "text": [
            "accuracy=93.42857142857143, loss=0.18951312406735918\n"
          ]
        },
        {
          "output_type": "stream",
          "name": "stderr",
          "text": [
            "Epoch 9: 100%|██████████| 490/490 [00:03<00:00, 125.88batch/s, accuracy=92.7, loss=0.193]\n"
          ]
        },
        {
          "output_type": "stream",
          "name": "stdout",
          "text": [
            "accuracy=91.42857142857143, loss=0.21300913773428223\n"
          ]
        },
        {
          "output_type": "stream",
          "name": "stderr",
          "text": [
            "Epoch 10: 100%|██████████| 490/490 [00:03<00:00, 129.99batch/s, accuracy=93.2, loss=0.176]\n"
          ]
        },
        {
          "output_type": "stream",
          "name": "stdout",
          "text": [
            "accuracy=92.21428571428571, loss=0.1982581945709431\n"
          ]
        },
        {
          "output_type": "stream",
          "name": "stderr",
          "text": [
            "Epoch 11: 100%|██████████| 490/490 [00:03<00:00, 131.17batch/s, accuracy=93.6, loss=0.166]\n"
          ]
        },
        {
          "output_type": "stream",
          "name": "stdout",
          "text": [
            "accuracy=91.35714285714286, loss=0.20259491713599606\n"
          ]
        },
        {
          "output_type": "stream",
          "name": "stderr",
          "text": [
            "Epoch 12: 100%|██████████| 490/490 [00:03<00:00, 133.46batch/s, accuracy=94, loss=0.155]\n"
          ]
        },
        {
          "output_type": "stream",
          "name": "stdout",
          "text": [
            "accuracy=93.21428571428571, loss=0.19130224444790656\n"
          ]
        },
        {
          "output_type": "stream",
          "name": "stderr",
          "text": [
            "Epoch 13: 100%|██████████| 490/490 [00:03<00:00, 131.08batch/s, accuracy=94.6, loss=0.146]\n"
          ]
        },
        {
          "output_type": "stream",
          "name": "stdout",
          "text": [
            "accuracy=93.35714285714286, loss=0.1707296033372248\n"
          ]
        },
        {
          "output_type": "stream",
          "name": "stderr",
          "text": [
            "Epoch 14: 100%|██████████| 490/490 [00:03<00:00, 126.99batch/s, accuracy=94.6, loss=0.141]\n"
          ]
        },
        {
          "output_type": "stream",
          "name": "stdout",
          "text": [
            "accuracy=93.14285714285714, loss=0.1815055821304564\n"
          ]
        },
        {
          "output_type": "stream",
          "name": "stderr",
          "text": [
            "Epoch 15: 100%|██████████| 490/490 [00:03<00:00, 134.71batch/s, accuracy=94.8, loss=0.133]\n"
          ]
        },
        {
          "output_type": "stream",
          "name": "stdout",
          "text": [
            "accuracy=88.64285714285714, loss=0.30494352214531645\n"
          ]
        },
        {
          "output_type": "stream",
          "name": "stderr",
          "text": [
            "Epoch 16: 100%|██████████| 490/490 [00:03<00:00, 131.41batch/s, accuracy=95.4, loss=0.128]\n"
          ]
        },
        {
          "output_type": "stream",
          "name": "stdout",
          "text": [
            "accuracy=89.85714285714286, loss=0.26742105514758024\n"
          ]
        },
        {
          "output_type": "stream",
          "name": "stderr",
          "text": [
            "Epoch 17: 100%|██████████| 490/490 [00:03<00:00, 128.85batch/s, accuracy=95.4, loss=0.121]\n"
          ]
        },
        {
          "output_type": "stream",
          "name": "stdout",
          "text": [
            "accuracy=91.42857142857143, loss=0.2168115511695201\n"
          ]
        },
        {
          "output_type": "stream",
          "name": "stderr",
          "text": [
            "Epoch 18: 100%|██████████| 490/490 [00:03<00:00, 129.96batch/s, accuracy=95.6, loss=0.12]\n"
          ]
        },
        {
          "output_type": "stream",
          "name": "stdout",
          "text": [
            "accuracy=92.21428571428571, loss=0.18877473922057106\n"
          ]
        },
        {
          "output_type": "stream",
          "name": "stderr",
          "text": [
            "Epoch 19: 100%|██████████| 490/490 [00:03<00:00, 123.76batch/s, accuracy=95.7, loss=0.115]\n"
          ]
        },
        {
          "output_type": "stream",
          "name": "stdout",
          "text": [
            "accuracy=92.78571428571429, loss=0.1785318206156434\n"
          ]
        },
        {
          "output_type": "stream",
          "name": "stderr",
          "text": [
            "Epoch 20: 100%|██████████| 490/490 [00:03<00:00, 132.15batch/s, accuracy=95.8, loss=0.111]\n"
          ]
        },
        {
          "output_type": "stream",
          "name": "stdout",
          "text": [
            "accuracy=92.0, loss=0.1899318327261166\n"
          ]
        },
        {
          "output_type": "stream",
          "name": "stderr",
          "text": [
            "Epoch 21: 100%|██████████| 490/490 [00:03<00:00, 128.59batch/s, accuracy=96.1, loss=0.101]\n"
          ]
        },
        {
          "output_type": "stream",
          "name": "stdout",
          "text": [
            "accuracy=93.64285714285714, loss=0.16236951257503798\n"
          ]
        },
        {
          "output_type": "stream",
          "name": "stderr",
          "text": [
            "Epoch 22: 100%|██████████| 490/490 [00:03<00:00, 133.66batch/s, accuracy=96.1, loss=0.102]\n"
          ]
        },
        {
          "output_type": "stream",
          "name": "stdout",
          "text": [
            "accuracy=93.78571428571429, loss=0.16832207148749115\n"
          ]
        },
        {
          "output_type": "stream",
          "name": "stderr",
          "text": [
            "Epoch 23: 100%|██████████| 490/490 [00:03<00:00, 139.07batch/s, accuracy=96.4, loss=0.0937]\n"
          ]
        },
        {
          "output_type": "stream",
          "name": "stdout",
          "text": [
            "accuracy=92.5, loss=0.2174949582742389\n"
          ]
        },
        {
          "output_type": "stream",
          "name": "stderr",
          "text": [
            "Epoch 24: 100%|██████████| 490/490 [00:04<00:00, 122.35batch/s, accuracy=96.5, loss=0.0936]\n"
          ]
        },
        {
          "output_type": "stream",
          "name": "stdout",
          "text": [
            "accuracy=93.14285714285714, loss=0.18554601244269261\n"
          ]
        },
        {
          "output_type": "stream",
          "name": "stderr",
          "text": [
            "Epoch 25: 100%|██████████| 490/490 [00:03<00:00, 130.82batch/s, accuracy=96.4, loss=0.096]\n"
          ]
        },
        {
          "output_type": "stream",
          "name": "stdout",
          "text": [
            "accuracy=93.57142857142857, loss=0.17112683722095182\n"
          ]
        },
        {
          "output_type": "stream",
          "name": "stderr",
          "text": [
            "Epoch 26: 100%|██████████| 490/490 [00:03<00:00, 130.89batch/s, accuracy=96.7, loss=0.0912]\n"
          ]
        },
        {
          "output_type": "stream",
          "name": "stdout",
          "text": [
            "accuracy=93.35714285714286, loss=0.1717964004072451\n"
          ]
        },
        {
          "output_type": "stream",
          "name": "stderr",
          "text": [
            "Epoch 27: 100%|██████████| 490/490 [00:03<00:00, 126.14batch/s, accuracy=96.8, loss=0.0856]\n"
          ]
        },
        {
          "output_type": "stream",
          "name": "stdout",
          "text": [
            "accuracy=93.42857142857143, loss=0.17836935673764595\n"
          ]
        },
        {
          "output_type": "stream",
          "name": "stderr",
          "text": [
            "Epoch 28: 100%|██████████| 490/490 [00:03<00:00, 124.38batch/s, accuracy=96.7, loss=0.0898]\n"
          ]
        },
        {
          "output_type": "stream",
          "name": "stdout",
          "text": [
            "accuracy=95.35714285714286, loss=0.14742202332884216\n"
          ]
        },
        {
          "output_type": "stream",
          "name": "stderr",
          "text": [
            "Epoch 29: 100%|██████████| 490/490 [00:03<00:00, 126.19batch/s, accuracy=96.7, loss=0.0862]\n"
          ]
        },
        {
          "output_type": "stream",
          "name": "stdout",
          "text": [
            "accuracy=92.71428571428571, loss=0.1842804231278065\n"
          ]
        },
        {
          "output_type": "stream",
          "name": "stderr",
          "text": [
            "Epoch 30: 100%|██████████| 490/490 [00:03<00:00, 132.21batch/s, accuracy=97.1, loss=0.0807]\n"
          ]
        },
        {
          "output_type": "stream",
          "name": "stdout",
          "text": [
            "accuracy=94.78571428571429, loss=0.14325299125181012\n"
          ]
        },
        {
          "output_type": "stream",
          "name": "stderr",
          "text": [
            "Epoch 31: 100%|██████████| 490/490 [00:03<00:00, 129.76batch/s, accuracy=96.9, loss=0.0787]\n"
          ]
        },
        {
          "output_type": "stream",
          "name": "stdout",
          "text": [
            "accuracy=92.5, loss=0.18247617950358153\n"
          ]
        },
        {
          "output_type": "stream",
          "name": "stderr",
          "text": [
            "Epoch 32: 100%|██████████| 490/490 [00:03<00:00, 136.29batch/s, accuracy=97.4, loss=0.0721]\n"
          ]
        },
        {
          "output_type": "stream",
          "name": "stdout",
          "text": [
            "accuracy=94.0, loss=0.16065229926134522\n"
          ]
        },
        {
          "output_type": "stream",
          "name": "stderr",
          "text": [
            "Epoch 33: 100%|██████████| 490/490 [00:03<00:00, 137.81batch/s, accuracy=97.5, loss=0.0707]\n"
          ]
        },
        {
          "output_type": "stream",
          "name": "stdout",
          "text": [
            "accuracy=92.07142857142857, loss=0.21082712440156318\n"
          ]
        },
        {
          "output_type": "stream",
          "name": "stderr",
          "text": [
            "Epoch 34: 100%|██████████| 490/490 [00:04<00:00, 121.69batch/s, accuracy=97, loss=0.0747]\n"
          ]
        },
        {
          "output_type": "stream",
          "name": "stdout",
          "text": [
            "accuracy=94.57142857142857, loss=0.14908657133193054\n"
          ]
        },
        {
          "output_type": "stream",
          "name": "stderr",
          "text": [
            "Epoch 35: 100%|██████████| 490/490 [00:03<00:00, 130.28batch/s, accuracy=97.6, loss=0.0659]\n"
          ]
        },
        {
          "output_type": "stream",
          "name": "stdout",
          "text": [
            "accuracy=92.57142857142857, loss=0.20032146903023698\n"
          ]
        },
        {
          "output_type": "stream",
          "name": "stderr",
          "text": [
            "Epoch 36: 100%|██████████| 490/490 [00:03<00:00, 133.11batch/s, accuracy=97.6, loss=0.066]\n"
          ]
        },
        {
          "output_type": "stream",
          "name": "stdout",
          "text": [
            "accuracy=94.57142857142857, loss=0.14571357249516925\n"
          ]
        },
        {
          "output_type": "stream",
          "name": "stderr",
          "text": [
            "Epoch 37: 100%|██████████| 490/490 [00:03<00:00, 132.88batch/s, accuracy=97.5, loss=0.0672]\n"
          ]
        },
        {
          "output_type": "stream",
          "name": "stdout",
          "text": [
            "accuracy=93.5, loss=0.17338193091802634\n"
          ]
        },
        {
          "output_type": "stream",
          "name": "stderr",
          "text": [
            "Epoch 38: 100%|██████████| 490/490 [00:03<00:00, 141.02batch/s, accuracy=97.6, loss=0.0633]\n"
          ]
        },
        {
          "output_type": "stream",
          "name": "stdout",
          "text": [
            "accuracy=93.28571428571429, loss=0.17947706367468189\n"
          ]
        },
        {
          "output_type": "stream",
          "name": "stderr",
          "text": [
            "Epoch 39: 100%|██████████| 490/490 [00:03<00:00, 127.11batch/s, accuracy=97.7, loss=0.0634]\n"
          ]
        },
        {
          "output_type": "stream",
          "name": "stdout",
          "text": [
            "accuracy=94.21428571428571, loss=0.17357670766592057\n"
          ]
        },
        {
          "output_type": "stream",
          "name": "stderr",
          "text": [
            "Epoch 40: 100%|██████████| 490/490 [00:03<00:00, 126.98batch/s, accuracy=97.7, loss=0.0594]\n"
          ]
        },
        {
          "output_type": "stream",
          "name": "stdout",
          "text": [
            "accuracy=93.42857142857143, loss=0.1732903886797955\n",
            "\n",
            "Test performance\n",
            "lang accuracy loss\n",
            "------------------\n",
            "  en     58.8  2.5\n",
            "  ch     79.9  0.7\n",
            "\n",
            "\n",
            "\n",
            "Trained on ch Wav2Vec2.0-base voiceprints\n",
            "Average test performance over 2 iteration(s)\n",
            "lang accuracy loss\n",
            "------------------\n",
            "  en     58.7  2.5\n",
            "  ch     78.6  0.7\n",
            "\n",
            "Running the script took 00:05:47\n"
          ]
        }
      ]
    },
    {
      "cell_type": "markdown",
      "source": [
        "### Train and test with original split"
      ],
      "metadata": {
        "id": "rEC44d8quD43"
      }
    },
    {
      "cell_type": "code",
      "source": [
        "if __name__ == \"__main__\":\n",
        "  start = time.time()\n",
        "  \n",
        "  langs = [\"en\", \"ch\"]\n",
        "\n",
        "  pipeline = ModelDataPipeline(epochs=epochs,\n",
        "                               learning_rate=learning_rate,\n",
        "                               langs=langs,\n",
        "                               model_type=model_type,\n",
        "                               proportion=proportion)\n",
        "\n",
        "  pipeline.run_per_split(remixed_data=False)\n",
        "\n",
        "  end = time.time()\n",
        "\n",
        "  print(f\"\\nRunning the script took {running_time(start, end)}\")"
      ],
      "metadata": {
        "colab": {
          "base_uri": "https://localhost:8080/"
        },
        "id": "XeGU9TmFuLN-",
        "outputId": "953e9ff5-c6a8-44f3-a2ad-742c32cbefe2"
      },
      "execution_count": null,
      "outputs": [
        {
          "output_type": "stream",
          "name": "stdout",
          "text": [
            "Setting up mono model with\n",
            "\tepochs: 40\n",
            "\tlearning rate: 5e-05\n",
            "\tlangs: en, ch\n"
          ]
        },
        {
          "output_type": "stream",
          "name": "stderr",
          "text": [
            "Some weights of the model checkpoint at facebook/wav2vec2-base were not used when initializing Wav2Vec2Model: ['quantizer.codevectors', 'project_q.bias', 'quantizer.weight_proj.weight', 'project_hid.bias', 'project_q.weight', 'quantizer.weight_proj.bias', 'project_hid.weight']\n",
            "- This IS expected if you are initializing Wav2Vec2Model from the checkpoint of a model trained on another task or with another architecture (e.g. initializing a BertForSequenceClassification model from a BertForPreTraining model).\n",
            "- This IS NOT expected if you are initializing Wav2Vec2Model from the checkpoint of a model that you expect to be exactly identical (initializing a BertForSequenceClassification model from a BertForSequenceClassification model).\n",
            "Some weights of the model checkpoint at facebook/wav2vec2-base were not used when initializing Wav2Vec2Model: ['quantizer.codevectors', 'project_q.bias', 'quantizer.weight_proj.weight', 'project_hid.bias', 'project_q.weight', 'quantizer.weight_proj.bias', 'project_hid.weight']\n",
            "- This IS expected if you are initializing Wav2Vec2Model from the checkpoint of a model trained on another task or with another architecture (e.g. initializing a BertForSequenceClassification model from a BertForPreTraining model).\n",
            "- This IS NOT expected if you are initializing Wav2Vec2Model from the checkpoint of a model that you expect to be exactly identical (initializing a BertForSequenceClassification model from a BertForSequenceClassification model).\n"
          ]
        },
        {
          "output_type": "stream",
          "name": "stdout",
          "text": [
            "Begin training\n"
          ]
        },
        {
          "output_type": "stream",
          "name": "stderr",
          "text": [
            "Epoch 1: 100%|██████████| 600/600 [00:04<00:00, 142.90batch/s, accuracy=43.5, loss=1.18]\n"
          ]
        },
        {
          "output_type": "stream",
          "name": "stdout",
          "text": [
            "accuracy=51.875, loss=0.9901895191892982\n"
          ]
        },
        {
          "output_type": "stream",
          "name": "stderr",
          "text": [
            "Epoch 2: 100%|██████████| 600/600 [00:04<00:00, 138.70batch/s, accuracy=62.8, loss=0.85]\n"
          ]
        },
        {
          "output_type": "stream",
          "name": "stdout",
          "text": [
            "accuracy=65.125, loss=0.7891898534551729\n"
          ]
        },
        {
          "output_type": "stream",
          "name": "stderr",
          "text": [
            "Epoch 3: 100%|██████████| 600/600 [00:04<00:00, 132.38batch/s, accuracy=70.8, loss=0.698]\n"
          ]
        },
        {
          "output_type": "stream",
          "name": "stdout",
          "text": [
            "accuracy=69.25, loss=0.7046688360557891\n"
          ]
        },
        {
          "output_type": "stream",
          "name": "stderr",
          "text": [
            "Epoch 4: 100%|██████████| 600/600 [00:04<00:00, 135.04batch/s, accuracy=75.5, loss=0.611]\n"
          ]
        },
        {
          "output_type": "stream",
          "name": "stdout",
          "text": [
            "accuracy=69.25, loss=0.7017697607108857\n"
          ]
        },
        {
          "output_type": "stream",
          "name": "stderr",
          "text": [
            "Epoch 5: 100%|██████████| 600/600 [00:04<00:00, 140.29batch/s, accuracy=77.1, loss=0.555]\n"
          ]
        },
        {
          "output_type": "stream",
          "name": "stdout",
          "text": [
            "accuracy=75.5, loss=0.5908474966578069\n"
          ]
        },
        {
          "output_type": "stream",
          "name": "stderr",
          "text": [
            "Epoch 6: 100%|██████████| 600/600 [00:04<00:00, 138.79batch/s, accuracy=79.4, loss=0.51]\n"
          ]
        },
        {
          "output_type": "stream",
          "name": "stdout",
          "text": [
            "accuracy=75.75, loss=0.5294759033588343\n"
          ]
        },
        {
          "output_type": "stream",
          "name": "stderr",
          "text": [
            "Epoch 7: 100%|██████████| 600/600 [00:04<00:00, 129.87batch/s, accuracy=81, loss=0.475]\n"
          ]
        },
        {
          "output_type": "stream",
          "name": "stdout",
          "text": [
            "accuracy=76.625, loss=0.5459644964175823\n"
          ]
        },
        {
          "output_type": "stream",
          "name": "stderr",
          "text": [
            "Epoch 8: 100%|██████████| 600/600 [00:04<00:00, 139.52batch/s, accuracy=82.5, loss=0.443]\n"
          ]
        },
        {
          "output_type": "stream",
          "name": "stdout",
          "text": [
            "accuracy=78.75, loss=0.49045713771876764\n"
          ]
        },
        {
          "output_type": "stream",
          "name": "stderr",
          "text": [
            "Epoch 9: 100%|██████████| 600/600 [00:04<00:00, 139.41batch/s, accuracy=83.8, loss=0.413]\n"
          ]
        },
        {
          "output_type": "stream",
          "name": "stdout",
          "text": [
            "accuracy=78.75, loss=0.488990270901013\n"
          ]
        },
        {
          "output_type": "stream",
          "name": "stderr",
          "text": [
            "Epoch 10: 100%|██████████| 600/600 [00:04<00:00, 130.40batch/s, accuracy=84.3, loss=0.394]\n"
          ]
        },
        {
          "output_type": "stream",
          "name": "stdout",
          "text": [
            "accuracy=80.5, loss=0.4630661408553715\n"
          ]
        },
        {
          "output_type": "stream",
          "name": "stderr",
          "text": [
            "Epoch 11: 100%|██████████| 600/600 [00:04<00:00, 127.75batch/s, accuracy=85, loss=0.383]\n"
          ]
        },
        {
          "output_type": "stream",
          "name": "stdout",
          "text": [
            "accuracy=80.0, loss=0.4770611270029258\n"
          ]
        },
        {
          "output_type": "stream",
          "name": "stderr",
          "text": [
            "Epoch 12: 100%|██████████| 600/600 [00:04<00:00, 137.53batch/s, accuracy=85.4, loss=0.368]\n"
          ]
        },
        {
          "output_type": "stream",
          "name": "stdout",
          "text": [
            "accuracy=80.375, loss=0.4715227711481384\n"
          ]
        },
        {
          "output_type": "stream",
          "name": "stderr",
          "text": [
            "Epoch 13: 100%|██████████| 600/600 [00:04<00:00, 139.71batch/s, accuracy=86.5, loss=0.343]\n"
          ]
        },
        {
          "output_type": "stream",
          "name": "stdout",
          "text": [
            "accuracy=83.375, loss=0.4185162297358647\n"
          ]
        },
        {
          "output_type": "stream",
          "name": "stderr",
          "text": [
            "Epoch 14: 100%|██████████| 600/600 [00:04<00:00, 126.42batch/s, accuracy=86.6, loss=0.344]\n"
          ]
        },
        {
          "output_type": "stream",
          "name": "stdout",
          "text": [
            "accuracy=81.125, loss=0.4545280000384719\n"
          ]
        },
        {
          "output_type": "stream",
          "name": "stderr",
          "text": [
            "Epoch 15: 100%|██████████| 600/600 [00:04<00:00, 129.65batch/s, accuracy=87.3, loss=0.325]\n"
          ]
        },
        {
          "output_type": "stream",
          "name": "stdout",
          "text": [
            "accuracy=85.625, loss=0.3731896981944465\n"
          ]
        },
        {
          "output_type": "stream",
          "name": "stderr",
          "text": [
            "Epoch 16: 100%|██████████| 600/600 [00:04<00:00, 138.72batch/s, accuracy=87.2, loss=0.319]\n"
          ]
        },
        {
          "output_type": "stream",
          "name": "stdout",
          "text": [
            "accuracy=84.25, loss=0.4051659923139141\n"
          ]
        },
        {
          "output_type": "stream",
          "name": "stderr",
          "text": [
            "Epoch 17: 100%|██████████| 600/600 [00:04<00:00, 133.45batch/s, accuracy=88, loss=0.311]\n"
          ]
        },
        {
          "output_type": "stream",
          "name": "stdout",
          "text": [
            "accuracy=80.875, loss=0.47931409434108674\n"
          ]
        },
        {
          "output_type": "stream",
          "name": "stderr",
          "text": [
            "Epoch 18: 100%|██████████| 600/600 [00:04<00:00, 131.74batch/s, accuracy=88.5, loss=0.296]\n"
          ]
        },
        {
          "output_type": "stream",
          "name": "stdout",
          "text": [
            "accuracy=84.0, loss=0.4106620959835982\n"
          ]
        },
        {
          "output_type": "stream",
          "name": "stderr",
          "text": [
            "Epoch 19: 100%|██████████| 600/600 [00:04<00:00, 134.60batch/s, accuracy=89.2, loss=0.283]\n"
          ]
        },
        {
          "output_type": "stream",
          "name": "stdout",
          "text": [
            "accuracy=85.375, loss=0.37096484924086326\n"
          ]
        },
        {
          "output_type": "stream",
          "name": "stderr",
          "text": [
            "Epoch 20: 100%|██████████| 600/600 [00:04<00:00, 136.26batch/s, accuracy=88.8, loss=0.288]\n"
          ]
        },
        {
          "output_type": "stream",
          "name": "stdout",
          "text": [
            "accuracy=84.25, loss=0.39944137461818513\n"
          ]
        },
        {
          "output_type": "stream",
          "name": "stderr",
          "text": [
            "Epoch 21: 100%|██████████| 600/600 [00:04<00:00, 132.45batch/s, accuracy=89.4, loss=0.276]\n"
          ]
        },
        {
          "output_type": "stream",
          "name": "stdout",
          "text": [
            "accuracy=85.375, loss=0.3800956924220924\n"
          ]
        },
        {
          "output_type": "stream",
          "name": "stderr",
          "text": [
            "Epoch 22: 100%|██████████| 600/600 [00:04<00:00, 131.94batch/s, accuracy=89.5, loss=0.269]\n"
          ]
        },
        {
          "output_type": "stream",
          "name": "stdout",
          "text": [
            "accuracy=84.5, loss=0.37357313191632785\n"
          ]
        },
        {
          "output_type": "stream",
          "name": "stderr",
          "text": [
            "Epoch 23: 100%|██████████| 600/600 [00:04<00:00, 131.77batch/s, accuracy=89.9, loss=0.257]\n"
          ]
        },
        {
          "output_type": "stream",
          "name": "stdout",
          "text": [
            "accuracy=85.25, loss=0.37823639744681714\n"
          ]
        },
        {
          "output_type": "stream",
          "name": "stderr",
          "text": [
            "Epoch 24: 100%|██████████| 600/600 [00:04<00:00, 136.89batch/s, accuracy=90.5, loss=0.251]\n"
          ]
        },
        {
          "output_type": "stream",
          "name": "stdout",
          "text": [
            "accuracy=85.875, loss=0.37137174574487675\n"
          ]
        },
        {
          "output_type": "stream",
          "name": "stderr",
          "text": [
            "Epoch 25: 100%|██████████| 600/600 [00:04<00:00, 131.53batch/s, accuracy=90, loss=0.259]\n"
          ]
        },
        {
          "output_type": "stream",
          "name": "stdout",
          "text": [
            "accuracy=86.875, loss=0.3313556615205118\n"
          ]
        },
        {
          "output_type": "stream",
          "name": "stderr",
          "text": [
            "Epoch 26: 100%|██████████| 600/600 [00:04<00:00, 134.34batch/s, accuracy=90.3, loss=0.245]\n"
          ]
        },
        {
          "output_type": "stream",
          "name": "stdout",
          "text": [
            "accuracy=84.375, loss=0.42464908005068197\n"
          ]
        },
        {
          "output_type": "stream",
          "name": "stderr",
          "text": [
            "Epoch 27: 100%|██████████| 600/600 [00:04<00:00, 131.66batch/s, accuracy=90.4, loss=0.25]\n"
          ]
        },
        {
          "output_type": "stream",
          "name": "stdout",
          "text": [
            "accuracy=84.375, loss=0.3900036245608229\n"
          ]
        },
        {
          "output_type": "stream",
          "name": "stderr",
          "text": [
            "Epoch 28: 100%|██████████| 600/600 [00:04<00:00, 137.09batch/s, accuracy=91.2, loss=0.236]\n"
          ]
        },
        {
          "output_type": "stream",
          "name": "stdout",
          "text": [
            "accuracy=85.125, loss=0.36336584950971085\n"
          ]
        },
        {
          "output_type": "stream",
          "name": "stderr",
          "text": [
            "Epoch 29: 100%|██████████| 600/600 [00:04<00:00, 134.59batch/s, accuracy=91.2, loss=0.235]\n"
          ]
        },
        {
          "output_type": "stream",
          "name": "stdout",
          "text": [
            "accuracy=83.625, loss=0.4307931155853862\n"
          ]
        },
        {
          "output_type": "stream",
          "name": "stderr",
          "text": [
            "Epoch 30: 100%|██████████| 600/600 [00:04<00:00, 124.24batch/s, accuracy=90.9, loss=0.235]\n"
          ]
        },
        {
          "output_type": "stream",
          "name": "stdout",
          "text": [
            "accuracy=86.375, loss=0.3497101614641048\n"
          ]
        },
        {
          "output_type": "stream",
          "name": "stderr",
          "text": [
            "Epoch 31: 100%|██████████| 600/600 [00:04<00:00, 133.12batch/s, accuracy=91.7, loss=0.224]\n"
          ]
        },
        {
          "output_type": "stream",
          "name": "stdout",
          "text": [
            "accuracy=86.625, loss=0.35543283147888716\n"
          ]
        },
        {
          "output_type": "stream",
          "name": "stderr",
          "text": [
            "Epoch 32: 100%|██████████| 600/600 [00:04<00:00, 137.03batch/s, accuracy=91.5, loss=0.222]\n"
          ]
        },
        {
          "output_type": "stream",
          "name": "stdout",
          "text": [
            "accuracy=87.0, loss=0.37501993136843703\n"
          ]
        },
        {
          "output_type": "stream",
          "name": "stderr",
          "text": [
            "Epoch 33: 100%|██████████| 600/600 [00:04<00:00, 133.39batch/s, accuracy=91.9, loss=0.211]\n"
          ]
        },
        {
          "output_type": "stream",
          "name": "stdout",
          "text": [
            "accuracy=87.25, loss=0.3228435257786801\n"
          ]
        },
        {
          "output_type": "stream",
          "name": "stderr",
          "text": [
            "Epoch 34: 100%|██████████| 600/600 [00:04<00:00, 131.64batch/s, accuracy=92.1, loss=0.214]\n"
          ]
        },
        {
          "output_type": "stream",
          "name": "stdout",
          "text": [
            "accuracy=86.75, loss=0.36269127072771157\n"
          ]
        },
        {
          "output_type": "stream",
          "name": "stderr",
          "text": [
            "Epoch 35: 100%|██████████| 600/600 [00:04<00:00, 132.11batch/s, accuracy=92, loss=0.208]\n"
          ]
        },
        {
          "output_type": "stream",
          "name": "stdout",
          "text": [
            "accuracy=87.125, loss=0.31291591727844925\n"
          ]
        },
        {
          "output_type": "stream",
          "name": "stderr",
          "text": [
            "Epoch 36: 100%|██████████| 600/600 [00:04<00:00, 135.76batch/s, accuracy=92.7, loss=0.202]\n"
          ]
        },
        {
          "output_type": "stream",
          "name": "stdout",
          "text": [
            "accuracy=85.625, loss=0.3823173770723571\n"
          ]
        },
        {
          "output_type": "stream",
          "name": "stderr",
          "text": [
            "Epoch 37: 100%|██████████| 600/600 [00:04<00:00, 130.68batch/s, accuracy=92.2, loss=0.209]\n"
          ]
        },
        {
          "output_type": "stream",
          "name": "stdout",
          "text": [
            "accuracy=87.125, loss=0.3388501506031112\n"
          ]
        },
        {
          "output_type": "stream",
          "name": "stderr",
          "text": [
            "Epoch 38: 100%|██████████| 600/600 [00:04<00:00, 129.16batch/s, accuracy=92.3, loss=0.202]\n"
          ]
        },
        {
          "output_type": "stream",
          "name": "stdout",
          "text": [
            "accuracy=85.625, loss=0.37862706684907416\n"
          ]
        },
        {
          "output_type": "stream",
          "name": "stderr",
          "text": [
            "Epoch 39: 100%|██████████| 600/600 [00:04<00:00, 131.20batch/s, accuracy=92.2, loss=0.206]\n"
          ]
        },
        {
          "output_type": "stream",
          "name": "stdout",
          "text": [
            "accuracy=84.75, loss=0.41154850944312876\n"
          ]
        },
        {
          "output_type": "stream",
          "name": "stderr",
          "text": [
            "Epoch 40: 100%|██████████| 600/600 [00:04<00:00, 132.45batch/s, accuracy=92.7, loss=0.192]\n"
          ]
        },
        {
          "output_type": "stream",
          "name": "stdout",
          "text": [
            "accuracy=86.25, loss=0.34526714914987605\n",
            "\n",
            "Test performance\n",
            "lang accuracy loss\n",
            "------------------\n",
            "  en     87.8  0.3\n",
            "  ch     94.2  0.1\n",
            "\n"
          ]
        },
        {
          "output_type": "stream",
          "name": "stderr",
          "text": [
            "Some weights of the model checkpoint at facebook/wav2vec2-base were not used when initializing Wav2Vec2Model: ['quantizer.codevectors', 'project_q.bias', 'quantizer.weight_proj.weight', 'project_hid.bias', 'project_q.weight', 'quantizer.weight_proj.bias', 'project_hid.weight']\n",
            "- This IS expected if you are initializing Wav2Vec2Model from the checkpoint of a model trained on another task or with another architecture (e.g. initializing a BertForSequenceClassification model from a BertForPreTraining model).\n",
            "- This IS NOT expected if you are initializing Wav2Vec2Model from the checkpoint of a model that you expect to be exactly identical (initializing a BertForSequenceClassification model from a BertForSequenceClassification model).\n"
          ]
        },
        {
          "output_type": "stream",
          "name": "stdout",
          "text": [
            "Begin training\n"
          ]
        },
        {
          "output_type": "stream",
          "name": "stderr",
          "text": [
            "Epoch 1: 100%|██████████| 600/600 [00:04<00:00, 132.83batch/s, accuracy=43.4, loss=1.19]\n"
          ]
        },
        {
          "output_type": "stream",
          "name": "stdout",
          "text": [
            "accuracy=55.375, loss=0.9730586020089685\n"
          ]
        },
        {
          "output_type": "stream",
          "name": "stderr",
          "text": [
            "Epoch 2: 100%|██████████| 600/600 [00:04<00:00, 135.69batch/s, accuracy=62.6, loss=0.852]\n"
          ]
        },
        {
          "output_type": "stream",
          "name": "stdout",
          "text": [
            "accuracy=62.0, loss=0.813384772837162\n"
          ]
        },
        {
          "output_type": "stream",
          "name": "stderr",
          "text": [
            "Epoch 3: 100%|██████████| 600/600 [00:04<00:00, 126.17batch/s, accuracy=70.4, loss=0.706]\n"
          ]
        },
        {
          "output_type": "stream",
          "name": "stdout",
          "text": [
            "accuracy=69.0, loss=0.6976199660648126\n"
          ]
        },
        {
          "output_type": "stream",
          "name": "stderr",
          "text": [
            "Epoch 4: 100%|██████████| 600/600 [00:04<00:00, 133.29batch/s, accuracy=74.6, loss=0.619]\n"
          ]
        },
        {
          "output_type": "stream",
          "name": "stdout",
          "text": [
            "accuracy=73.75, loss=0.628536580967484\n"
          ]
        },
        {
          "output_type": "stream",
          "name": "stderr",
          "text": [
            "Epoch 5: 100%|██████████| 600/600 [00:04<00:00, 134.78batch/s, accuracy=77.7, loss=0.552]\n"
          ]
        },
        {
          "output_type": "stream",
          "name": "stdout",
          "text": [
            "accuracy=76.75, loss=0.5636488499148982\n"
          ]
        },
        {
          "output_type": "stream",
          "name": "stderr",
          "text": [
            "Epoch 6: 100%|██████████| 600/600 [00:04<00:00, 134.33batch/s, accuracy=79.8, loss=0.504]\n"
          ]
        },
        {
          "output_type": "stream",
          "name": "stdout",
          "text": [
            "accuracy=77.0, loss=0.5661903604870895\n"
          ]
        },
        {
          "output_type": "stream",
          "name": "stderr",
          "text": [
            "Epoch 7: 100%|██████████| 600/600 [00:04<00:00, 123.19batch/s, accuracy=81.1, loss=0.471]\n"
          ]
        },
        {
          "output_type": "stream",
          "name": "stdout",
          "text": [
            "accuracy=78.125, loss=0.5205098672934401\n"
          ]
        },
        {
          "output_type": "stream",
          "name": "stderr",
          "text": [
            "Epoch 8: 100%|██████████| 600/600 [00:04<00:00, 133.17batch/s, accuracy=82.3, loss=0.444]\n"
          ]
        },
        {
          "output_type": "stream",
          "name": "stdout",
          "text": [
            "accuracy=78.25, loss=0.5483686425532506\n"
          ]
        },
        {
          "output_type": "stream",
          "name": "stderr",
          "text": [
            "Epoch 9: 100%|██████████| 600/600 [00:04<00:00, 132.03batch/s, accuracy=83.2, loss=0.425]\n"
          ]
        },
        {
          "output_type": "stream",
          "name": "stdout",
          "text": [
            "accuracy=79.125, loss=0.5035024051236906\n"
          ]
        },
        {
          "output_type": "stream",
          "name": "stderr",
          "text": [
            "Epoch 10: 100%|██████████| 600/600 [00:04<00:00, 127.05batch/s, accuracy=84.3, loss=0.394]\n"
          ]
        },
        {
          "output_type": "stream",
          "name": "stdout",
          "text": [
            "accuracy=80.5, loss=0.4709846420136091\n"
          ]
        },
        {
          "output_type": "stream",
          "name": "stderr",
          "text": [
            "Epoch 11: 100%|██████████| 600/600 [00:04<00:00, 126.52batch/s, accuracy=85.3, loss=0.378]\n"
          ]
        },
        {
          "output_type": "stream",
          "name": "stdout",
          "text": [
            "accuracy=81.375, loss=0.48151601634341207\n"
          ]
        },
        {
          "output_type": "stream",
          "name": "stderr",
          "text": [
            "Epoch 12: 100%|██████████| 600/600 [00:04<00:00, 134.80batch/s, accuracy=85.8, loss=0.358]\n"
          ]
        },
        {
          "output_type": "stream",
          "name": "stdout",
          "text": [
            "accuracy=82.625, loss=0.43868038122769576\n"
          ]
        },
        {
          "output_type": "stream",
          "name": "stderr",
          "text": [
            "Epoch 13: 100%|██████████| 600/600 [00:04<00:00, 133.58batch/s, accuracy=86, loss=0.352]\n"
          ]
        },
        {
          "output_type": "stream",
          "name": "stdout",
          "text": [
            "accuracy=83.5, loss=0.4331463449468538\n"
          ]
        },
        {
          "output_type": "stream",
          "name": "stderr",
          "text": [
            "Epoch 14: 100%|██████████| 600/600 [00:04<00:00, 134.34batch/s, accuracy=87.1, loss=0.339]\n"
          ]
        },
        {
          "output_type": "stream",
          "name": "stdout",
          "text": [
            "accuracy=80.25, loss=0.49853352019890734\n"
          ]
        },
        {
          "output_type": "stream",
          "name": "stderr",
          "text": [
            "Epoch 15: 100%|██████████| 600/600 [00:04<00:00, 129.79batch/s, accuracy=87.4, loss=0.326]\n"
          ]
        },
        {
          "output_type": "stream",
          "name": "stdout",
          "text": [
            "accuracy=82.375, loss=0.4271333622218117\n"
          ]
        },
        {
          "output_type": "stream",
          "name": "stderr",
          "text": [
            "Epoch 16: 100%|██████████| 600/600 [00:04<00:00, 132.93batch/s, accuracy=87.3, loss=0.328]\n"
          ]
        },
        {
          "output_type": "stream",
          "name": "stdout",
          "text": [
            "accuracy=82.75, loss=0.4242225109843639\n"
          ]
        },
        {
          "output_type": "stream",
          "name": "stderr",
          "text": [
            "Epoch 17: 100%|██████████| 600/600 [00:04<00:00, 133.52batch/s, accuracy=87.5, loss=0.317]\n"
          ]
        },
        {
          "output_type": "stream",
          "name": "stdout",
          "text": [
            "accuracy=84.5, loss=0.4064939097966453\n"
          ]
        },
        {
          "output_type": "stream",
          "name": "stderr",
          "text": [
            "Epoch 18: 100%|██████████| 600/600 [00:04<00:00, 134.19batch/s, accuracy=88.4, loss=0.303]\n"
          ]
        },
        {
          "output_type": "stream",
          "name": "stdout",
          "text": [
            "accuracy=87.25, loss=0.3635487611442704\n"
          ]
        },
        {
          "output_type": "stream",
          "name": "stderr",
          "text": [
            "Epoch 19: 100%|██████████| 600/600 [00:04<00:00, 130.13batch/s, accuracy=88.8, loss=0.29]\n"
          ]
        },
        {
          "output_type": "stream",
          "name": "stdout",
          "text": [
            "accuracy=85.0, loss=0.4042633670897544\n"
          ]
        },
        {
          "output_type": "stream",
          "name": "stderr",
          "text": [
            "Epoch 20: 100%|██████████| 600/600 [00:04<00:00, 132.71batch/s, accuracy=88.8, loss=0.291]\n"
          ]
        },
        {
          "output_type": "stream",
          "name": "stdout",
          "text": [
            "accuracy=85.25, loss=0.3907372649582237\n"
          ]
        },
        {
          "output_type": "stream",
          "name": "stderr",
          "text": [
            "Epoch 21: 100%|██████████| 600/600 [00:04<00:00, 134.58batch/s, accuracy=89.2, loss=0.276]\n"
          ]
        },
        {
          "output_type": "stream",
          "name": "stdout",
          "text": [
            "accuracy=84.875, loss=0.39696366521349546\n"
          ]
        },
        {
          "output_type": "stream",
          "name": "stderr",
          "text": [
            "Epoch 22: 100%|██████████| 600/600 [00:04<00:00, 139.13batch/s, accuracy=89.5, loss=0.267]\n"
          ]
        },
        {
          "output_type": "stream",
          "name": "stdout",
          "text": [
            "accuracy=85.375, loss=0.3661993516417658\n"
          ]
        },
        {
          "output_type": "stream",
          "name": "stderr",
          "text": [
            "Epoch 23: 100%|██████████| 600/600 [00:04<00:00, 130.31batch/s, accuracy=89.7, loss=0.265]\n"
          ]
        },
        {
          "output_type": "stream",
          "name": "stdout",
          "text": [
            "accuracy=84.5, loss=0.4024925688788448\n"
          ]
        },
        {
          "output_type": "stream",
          "name": "stderr",
          "text": [
            "Epoch 24: 100%|██████████| 600/600 [00:04<00:00, 129.84batch/s, accuracy=90.4, loss=0.253]\n"
          ]
        },
        {
          "output_type": "stream",
          "name": "stdout",
          "text": [
            "accuracy=86.25, loss=0.38291667179754996\n"
          ]
        },
        {
          "output_type": "stream",
          "name": "stderr",
          "text": [
            "Epoch 25: 100%|██████████| 600/600 [00:04<00:00, 135.00batch/s, accuracy=90.5, loss=0.249]\n"
          ]
        },
        {
          "output_type": "stream",
          "name": "stdout",
          "text": [
            "accuracy=81.125, loss=0.4876267258688061\n"
          ]
        },
        {
          "output_type": "stream",
          "name": "stderr",
          "text": [
            "Epoch 26: 100%|██████████| 600/600 [00:04<00:00, 135.27batch/s, accuracy=90.8, loss=0.248]\n"
          ]
        },
        {
          "output_type": "stream",
          "name": "stdout",
          "text": [
            "accuracy=85.625, loss=0.38090629208246923\n"
          ]
        },
        {
          "output_type": "stream",
          "name": "stderr",
          "text": [
            "Epoch 27: 100%|██████████| 600/600 [00:04<00:00, 127.90batch/s, accuracy=90.8, loss=0.239]\n"
          ]
        },
        {
          "output_type": "stream",
          "name": "stdout",
          "text": [
            "accuracy=87.25, loss=0.37640641340403475\n"
          ]
        },
        {
          "output_type": "stream",
          "name": "stderr",
          "text": [
            "Epoch 28: 100%|██████████| 600/600 [00:04<00:00, 129.05batch/s, accuracy=91.4, loss=0.23]\n"
          ]
        },
        {
          "output_type": "stream",
          "name": "stdout",
          "text": [
            "accuracy=85.125, loss=0.36305341639295763\n"
          ]
        },
        {
          "output_type": "stream",
          "name": "stderr",
          "text": [
            "Epoch 29: 100%|██████████| 600/600 [00:04<00:00, 131.74batch/s, accuracy=91.1, loss=0.237]\n"
          ]
        },
        {
          "output_type": "stream",
          "name": "stdout",
          "text": [
            "accuracy=87.125, loss=0.3379558820564648\n"
          ]
        },
        {
          "output_type": "stream",
          "name": "stderr",
          "text": [
            "Epoch 30: 100%|██████████| 600/600 [00:04<00:00, 135.17batch/s, accuracy=91.2, loss=0.231]\n"
          ]
        },
        {
          "output_type": "stream",
          "name": "stdout",
          "text": [
            "accuracy=84.5, loss=0.38082737536015715\n"
          ]
        },
        {
          "output_type": "stream",
          "name": "stderr",
          "text": [
            "Epoch 31: 100%|██████████| 600/600 [00:04<00:00, 142.39batch/s, accuracy=91.4, loss=0.225]\n"
          ]
        },
        {
          "output_type": "stream",
          "name": "stdout",
          "text": [
            "accuracy=83.375, loss=0.46361716139124354\n"
          ]
        },
        {
          "output_type": "stream",
          "name": "stderr",
          "text": [
            "Epoch 32: 100%|██████████| 600/600 [00:04<00:00, 124.37batch/s, accuracy=92, loss=0.216]\n"
          ]
        },
        {
          "output_type": "stream",
          "name": "stdout",
          "text": [
            "accuracy=85.375, loss=0.40004920275450245\n"
          ]
        },
        {
          "output_type": "stream",
          "name": "stderr",
          "text": [
            "Epoch 33: 100%|██████████| 600/600 [00:04<00:00, 132.63batch/s, accuracy=92.2, loss=0.214]\n"
          ]
        },
        {
          "output_type": "stream",
          "name": "stdout",
          "text": [
            "accuracy=82.875, loss=0.4571535576113094\n"
          ]
        },
        {
          "output_type": "stream",
          "name": "stderr",
          "text": [
            "Epoch 34: 100%|██████████| 600/600 [00:04<00:00, 132.02batch/s, accuracy=91.5, loss=0.221]\n"
          ]
        },
        {
          "output_type": "stream",
          "name": "stdout",
          "text": [
            "accuracy=87.5, loss=0.34071410624871445\n"
          ]
        },
        {
          "output_type": "stream",
          "name": "stderr",
          "text": [
            "Epoch 35: 100%|██████████| 600/600 [00:04<00:00, 132.58batch/s, accuracy=92.3, loss=0.203]\n"
          ]
        },
        {
          "output_type": "stream",
          "name": "stdout",
          "text": [
            "accuracy=85.875, loss=0.3610334320696322\n"
          ]
        },
        {
          "output_type": "stream",
          "name": "stderr",
          "text": [
            "Epoch 36: 100%|██████████| 600/600 [00:04<00:00, 130.31batch/s, accuracy=92.6, loss=0.198]\n"
          ]
        },
        {
          "output_type": "stream",
          "name": "stdout",
          "text": [
            "accuracy=84.625, loss=0.4118945859232126\n"
          ]
        },
        {
          "output_type": "stream",
          "name": "stderr",
          "text": [
            "Epoch 37: 100%|██████████| 600/600 [00:04<00:00, 127.17batch/s, accuracy=92.2, loss=0.204]\n"
          ]
        },
        {
          "output_type": "stream",
          "name": "stdout",
          "text": [
            "accuracy=85.875, loss=0.3430305957618991\n"
          ]
        },
        {
          "output_type": "stream",
          "name": "stderr",
          "text": [
            "Epoch 38: 100%|██████████| 600/600 [00:04<00:00, 132.69batch/s, accuracy=92.2, loss=0.202]\n"
          ]
        },
        {
          "output_type": "stream",
          "name": "stdout",
          "text": [
            "accuracy=87.375, loss=0.3346138436025262\n"
          ]
        },
        {
          "output_type": "stream",
          "name": "stderr",
          "text": [
            "Epoch 39: 100%|██████████| 600/600 [00:04<00:00, 127.98batch/s, accuracy=92.7, loss=0.193]\n"
          ]
        },
        {
          "output_type": "stream",
          "name": "stdout",
          "text": [
            "accuracy=84.75, loss=0.4307835838044907\n"
          ]
        },
        {
          "output_type": "stream",
          "name": "stderr",
          "text": [
            "Epoch 40: 100%|██████████| 600/600 [00:04<00:00, 131.43batch/s, accuracy=92.9, loss=0.195]\n"
          ]
        },
        {
          "output_type": "stream",
          "name": "stdout",
          "text": [
            "accuracy=86.75, loss=0.35823333828295134\n",
            "\n",
            "Test performance\n",
            "lang accuracy loss\n",
            "------------------\n",
            "  en     89.1  0.3\n",
            "  ch     93.8  0.2\n",
            "\n"
          ]
        },
        {
          "output_type": "stream",
          "name": "stderr",
          "text": [
            "Some weights of the model checkpoint at facebook/wav2vec2-base were not used when initializing Wav2Vec2Model: ['quantizer.codevectors', 'project_q.bias', 'quantizer.weight_proj.weight', 'project_hid.bias', 'project_q.weight', 'quantizer.weight_proj.bias', 'project_hid.weight']\n",
            "- This IS expected if you are initializing Wav2Vec2Model from the checkpoint of a model trained on another task or with another architecture (e.g. initializing a BertForSequenceClassification model from a BertForPreTraining model).\n",
            "- This IS NOT expected if you are initializing Wav2Vec2Model from the checkpoint of a model that you expect to be exactly identical (initializing a BertForSequenceClassification model from a BertForSequenceClassification model).\n"
          ]
        },
        {
          "output_type": "stream",
          "name": "stdout",
          "text": [
            "Begin training\n"
          ]
        },
        {
          "output_type": "stream",
          "name": "stderr",
          "text": [
            "Epoch 1: 100%|██████████| 600/600 [00:04<00:00, 136.51batch/s, accuracy=43.2, loss=1.18]\n"
          ]
        },
        {
          "output_type": "stream",
          "name": "stdout",
          "text": [
            "accuracy=51.5, loss=0.9937269417382777\n"
          ]
        },
        {
          "output_type": "stream",
          "name": "stderr",
          "text": [
            "Epoch 2: 100%|██████████| 600/600 [00:04<00:00, 131.21batch/s, accuracy=61.9, loss=0.867]\n"
          ]
        },
        {
          "output_type": "stream",
          "name": "stdout",
          "text": [
            "accuracy=63.625, loss=0.8036803222890012\n"
          ]
        },
        {
          "output_type": "stream",
          "name": "stderr",
          "text": [
            "Epoch 3: 100%|██████████| 600/600 [00:04<00:00, 132.71batch/s, accuracy=70.6, loss=0.699]\n"
          ]
        },
        {
          "output_type": "stream",
          "name": "stdout",
          "text": [
            "accuracy=66.25, loss=0.7298411809955724\n"
          ]
        },
        {
          "output_type": "stream",
          "name": "stderr",
          "text": [
            "Epoch 4: 100%|██████████| 600/600 [00:04<00:00, 130.00batch/s, accuracy=75.3, loss=0.605]\n"
          ]
        },
        {
          "output_type": "stream",
          "name": "stdout",
          "text": [
            "accuracy=74.625, loss=0.6214659850206226\n"
          ]
        },
        {
          "output_type": "stream",
          "name": "stderr",
          "text": [
            "Epoch 5: 100%|██████████| 600/600 [00:04<00:00, 128.72batch/s, accuracy=78.1, loss=0.551]\n"
          ]
        },
        {
          "output_type": "stream",
          "name": "stdout",
          "text": [
            "accuracy=74.375, loss=0.5894204772205558\n"
          ]
        },
        {
          "output_type": "stream",
          "name": "stderr",
          "text": [
            "Epoch 6: 100%|██████████| 600/600 [00:04<00:00, 129.24batch/s, accuracy=79.8, loss=0.502]\n"
          ]
        },
        {
          "output_type": "stream",
          "name": "stdout",
          "text": [
            "accuracy=75.25, loss=0.5900146771362051\n"
          ]
        },
        {
          "output_type": "stream",
          "name": "stderr",
          "text": [
            "Epoch 7: 100%|██████████| 600/600 [00:04<00:00, 130.04batch/s, accuracy=80.9, loss=0.475]\n"
          ]
        },
        {
          "output_type": "stream",
          "name": "stdout",
          "text": [
            "accuracy=78.125, loss=0.5135073646524688\n"
          ]
        },
        {
          "output_type": "stream",
          "name": "stderr",
          "text": [
            "Epoch 8: 100%|██████████| 600/600 [00:04<00:00, 130.11batch/s, accuracy=82.3, loss=0.441]\n"
          ]
        },
        {
          "output_type": "stream",
          "name": "stdout",
          "text": [
            "accuracy=78.875, loss=0.5064492205796705\n"
          ]
        },
        {
          "output_type": "stream",
          "name": "stderr",
          "text": [
            "Epoch 9: 100%|██████████| 600/600 [00:04<00:00, 126.70batch/s, accuracy=83.1, loss=0.423]\n"
          ]
        },
        {
          "output_type": "stream",
          "name": "stdout",
          "text": [
            "accuracy=81.125, loss=0.4719757371835294\n"
          ]
        },
        {
          "output_type": "stream",
          "name": "stderr",
          "text": [
            "Epoch 10: 100%|██████████| 600/600 [00:04<00:00, 137.48batch/s, accuracy=84.2, loss=0.395]\n"
          ]
        },
        {
          "output_type": "stream",
          "name": "stdout",
          "text": [
            "accuracy=82.25, loss=0.47940333314483724\n"
          ]
        },
        {
          "output_type": "stream",
          "name": "stderr",
          "text": [
            "Epoch 11: 100%|██████████| 600/600 [00:04<00:00, 125.01batch/s, accuracy=85, loss=0.382]\n"
          ]
        },
        {
          "output_type": "stream",
          "name": "stdout",
          "text": [
            "accuracy=81.125, loss=0.4536735962522289\n"
          ]
        },
        {
          "output_type": "stream",
          "name": "stderr",
          "text": [
            "Epoch 12: 100%|██████████| 600/600 [00:04<00:00, 131.17batch/s, accuracy=86, loss=0.364]\n"
          ]
        },
        {
          "output_type": "stream",
          "name": "stdout",
          "text": [
            "accuracy=83.375, loss=0.4364594530994054\n"
          ]
        },
        {
          "output_type": "stream",
          "name": "stderr",
          "text": [
            "Epoch 13: 100%|██████████| 600/600 [00:04<00:00, 129.09batch/s, accuracy=86.5, loss=0.35]\n"
          ]
        },
        {
          "output_type": "stream",
          "name": "stdout",
          "text": [
            "accuracy=85.375, loss=0.37839883572693905\n"
          ]
        },
        {
          "output_type": "stream",
          "name": "stderr",
          "text": [
            "Epoch 14: 100%|██████████| 600/600 [00:04<00:00, 140.08batch/s, accuracy=87, loss=0.336]\n"
          ]
        },
        {
          "output_type": "stream",
          "name": "stdout",
          "text": [
            "accuracy=84.0, loss=0.42916559618340216\n"
          ]
        },
        {
          "output_type": "stream",
          "name": "stderr",
          "text": [
            "Epoch 15: 100%|██████████| 600/600 [00:04<00:00, 128.23batch/s, accuracy=87.3, loss=0.325]\n"
          ]
        },
        {
          "output_type": "stream",
          "name": "stdout",
          "text": [
            "accuracy=82.875, loss=0.43788683139502155\n"
          ]
        },
        {
          "output_type": "stream",
          "name": "stderr",
          "text": [
            "Epoch 16: 100%|██████████| 600/600 [00:04<00:00, 128.92batch/s, accuracy=88.3, loss=0.313]\n"
          ]
        },
        {
          "output_type": "stream",
          "name": "stdout",
          "text": [
            "accuracy=85.25, loss=0.38730235545156577\n"
          ]
        },
        {
          "output_type": "stream",
          "name": "stderr",
          "text": [
            "Epoch 17: 100%|██████████| 600/600 [00:04<00:00, 130.36batch/s, accuracy=88, loss=0.315]\n"
          ]
        },
        {
          "output_type": "stream",
          "name": "stdout",
          "text": [
            "accuracy=83.125, loss=0.44238887119347053\n"
          ]
        },
        {
          "output_type": "stream",
          "name": "stderr",
          "text": [
            "Epoch 18: 100%|██████████| 600/600 [00:04<00:00, 132.92batch/s, accuracy=88.5, loss=0.297]\n"
          ]
        },
        {
          "output_type": "stream",
          "name": "stdout",
          "text": [
            "accuracy=83.5, loss=0.4266171639894037\n"
          ]
        },
        {
          "output_type": "stream",
          "name": "stderr",
          "text": [
            "Epoch 19: 100%|██████████| 600/600 [00:04<00:00, 127.73batch/s, accuracy=89, loss=0.291]\n"
          ]
        },
        {
          "output_type": "stream",
          "name": "stdout",
          "text": [
            "accuracy=82.875, loss=0.4186359944025196\n"
          ]
        },
        {
          "output_type": "stream",
          "name": "stderr",
          "text": [
            "Epoch 20: 100%|██████████| 600/600 [00:04<00:00, 125.58batch/s, accuracy=89.2, loss=0.288]\n"
          ]
        },
        {
          "output_type": "stream",
          "name": "stdout",
          "text": [
            "accuracy=83.375, loss=0.3948265159127368\n"
          ]
        },
        {
          "output_type": "stream",
          "name": "stderr",
          "text": [
            "Epoch 21: 100%|██████████| 600/600 [00:04<00:00, 130.23batch/s, accuracy=89.4, loss=0.277]\n"
          ]
        },
        {
          "output_type": "stream",
          "name": "stdout",
          "text": [
            "accuracy=80.5, loss=0.43764126300572115\n"
          ]
        },
        {
          "output_type": "stream",
          "name": "stderr",
          "text": [
            "Epoch 22: 100%|██████████| 600/600 [00:04<00:00, 126.79batch/s, accuracy=89.5, loss=0.271]\n"
          ]
        },
        {
          "output_type": "stream",
          "name": "stdout",
          "text": [
            "accuracy=85.5, loss=0.36004597259359117\n"
          ]
        },
        {
          "output_type": "stream",
          "name": "stderr",
          "text": [
            "Epoch 23: 100%|██████████| 600/600 [00:04<00:00, 135.61batch/s, accuracy=90.1, loss=0.264]\n"
          ]
        },
        {
          "output_type": "stream",
          "name": "stdout",
          "text": [
            "accuracy=83.375, loss=0.44090008372659895\n"
          ]
        },
        {
          "output_type": "stream",
          "name": "stderr",
          "text": [
            "Epoch 24: 100%|██████████| 600/600 [00:04<00:00, 126.14batch/s, accuracy=90, loss=0.254]\n"
          ]
        },
        {
          "output_type": "stream",
          "name": "stdout",
          "text": [
            "accuracy=85.125, loss=0.38782615122097924\n"
          ]
        },
        {
          "output_type": "stream",
          "name": "stderr",
          "text": [
            "Epoch 25: 100%|██████████| 600/600 [00:04<00:00, 128.96batch/s, accuracy=90.2, loss=0.258]\n"
          ]
        },
        {
          "output_type": "stream",
          "name": "stdout",
          "text": [
            "accuracy=85.375, loss=0.3570367021065317\n"
          ]
        },
        {
          "output_type": "stream",
          "name": "stderr",
          "text": [
            "Epoch 26: 100%|██████████| 600/600 [00:04<00:00, 131.56batch/s, accuracy=90.5, loss=0.246]\n"
          ]
        },
        {
          "output_type": "stream",
          "name": "stdout",
          "text": [
            "accuracy=87.5, loss=0.3220962489215492\n"
          ]
        },
        {
          "output_type": "stream",
          "name": "stderr",
          "text": [
            "Epoch 27: 100%|██████████| 600/600 [00:04<00:00, 130.40batch/s, accuracy=90.5, loss=0.247]\n"
          ]
        },
        {
          "output_type": "stream",
          "name": "stdout",
          "text": [
            "accuracy=84.625, loss=0.41478862715691833\n"
          ]
        },
        {
          "output_type": "stream",
          "name": "stderr",
          "text": [
            "Epoch 28: 100%|██████████| 600/600 [00:04<00:00, 131.66batch/s, accuracy=91, loss=0.235]\n"
          ]
        },
        {
          "output_type": "stream",
          "name": "stdout",
          "text": [
            "accuracy=86.5, loss=0.33325169680037164\n"
          ]
        },
        {
          "output_type": "stream",
          "name": "stderr",
          "text": [
            "Epoch 29: 100%|██████████| 600/600 [00:04<00:00, 127.96batch/s, accuracy=91.1, loss=0.239]\n"
          ]
        },
        {
          "output_type": "stream",
          "name": "stdout",
          "text": [
            "accuracy=85.375, loss=0.38229879023972446\n"
          ]
        },
        {
          "output_type": "stream",
          "name": "stderr",
          "text": [
            "Epoch 30: 100%|██████████| 600/600 [00:04<00:00, 132.78batch/s, accuracy=91.4, loss=0.228]\n"
          ]
        },
        {
          "output_type": "stream",
          "name": "stdout",
          "text": [
            "accuracy=83.25, loss=0.44184805959106255\n"
          ]
        },
        {
          "output_type": "stream",
          "name": "stderr",
          "text": [
            "Epoch 31: 100%|██████████| 600/600 [00:04<00:00, 132.56batch/s, accuracy=91.5, loss=0.219]\n"
          ]
        },
        {
          "output_type": "stream",
          "name": "stdout",
          "text": [
            "accuracy=86.75, loss=0.36237027957747203\n"
          ]
        },
        {
          "output_type": "stream",
          "name": "stderr",
          "text": [
            "Epoch 32: 100%|██████████| 600/600 [00:04<00:00, 140.70batch/s, accuracy=91.6, loss=0.221]\n"
          ]
        },
        {
          "output_type": "stream",
          "name": "stdout",
          "text": [
            "accuracy=85.625, loss=0.37212238169407413\n"
          ]
        },
        {
          "output_type": "stream",
          "name": "stderr",
          "text": [
            "Epoch 33: 100%|██████████| 600/600 [00:04<00:00, 123.48batch/s, accuracy=92.2, loss=0.21]\n"
          ]
        },
        {
          "output_type": "stream",
          "name": "stdout",
          "text": [
            "accuracy=87.375, loss=0.34381288881479477\n"
          ]
        },
        {
          "output_type": "stream",
          "name": "stderr",
          "text": [
            "Epoch 34: 100%|██████████| 600/600 [00:04<00:00, 130.57batch/s, accuracy=91.7, loss=0.218]\n"
          ]
        },
        {
          "output_type": "stream",
          "name": "stdout",
          "text": [
            "accuracy=87.5, loss=0.3505651019927967\n"
          ]
        },
        {
          "output_type": "stream",
          "name": "stderr",
          "text": [
            "Epoch 35: 100%|██████████| 600/600 [00:04<00:00, 130.08batch/s, accuracy=91.9, loss=0.218]\n"
          ]
        },
        {
          "output_type": "stream",
          "name": "stdout",
          "text": [
            "accuracy=86.875, loss=0.37475322854092924\n"
          ]
        },
        {
          "output_type": "stream",
          "name": "stderr",
          "text": [
            "Epoch 36: 100%|██████████| 600/600 [00:04<00:00, 126.42batch/s, accuracy=92.2, loss=0.207]\n"
          ]
        },
        {
          "output_type": "stream",
          "name": "stdout",
          "text": [
            "accuracy=86.125, loss=0.3445104672904773\n"
          ]
        },
        {
          "output_type": "stream",
          "name": "stderr",
          "text": [
            "Epoch 37: 100%|██████████| 600/600 [00:04<00:00, 128.72batch/s, accuracy=92.4, loss=0.203]\n"
          ]
        },
        {
          "output_type": "stream",
          "name": "stdout",
          "text": [
            "accuracy=88.25, loss=0.3471082821880101\n"
          ]
        },
        {
          "output_type": "stream",
          "name": "stderr",
          "text": [
            "Epoch 38: 100%|██████████| 600/600 [00:04<00:00, 130.50batch/s, accuracy=91.9, loss=0.208]\n"
          ]
        },
        {
          "output_type": "stream",
          "name": "stdout",
          "text": [
            "accuracy=86.5, loss=0.3483680905373285\n"
          ]
        },
        {
          "output_type": "stream",
          "name": "stderr",
          "text": [
            "Epoch 39: 100%|██████████| 600/600 [00:04<00:00, 131.77batch/s, accuracy=92.4, loss=0.201]\n"
          ]
        },
        {
          "output_type": "stream",
          "name": "stdout",
          "text": [
            "accuracy=88.125, loss=0.33741723047582456\n"
          ]
        },
        {
          "output_type": "stream",
          "name": "stderr",
          "text": [
            "Epoch 40: 100%|██████████| 600/600 [00:04<00:00, 135.29batch/s, accuracy=92.6, loss=0.195]\n"
          ]
        },
        {
          "output_type": "stream",
          "name": "stdout",
          "text": [
            "accuracy=88.25, loss=0.32639548542142166\n",
            "\n",
            "Test performance\n",
            "lang accuracy loss\n",
            "------------------\n",
            "  en     88.2  0.3\n",
            "  ch     94.2  0.2\n",
            "\n"
          ]
        },
        {
          "output_type": "stream",
          "name": "stderr",
          "text": [
            "Some weights of the model checkpoint at facebook/wav2vec2-base were not used when initializing Wav2Vec2Model: ['quantizer.codevectors', 'project_q.bias', 'quantizer.weight_proj.weight', 'project_hid.bias', 'project_q.weight', 'quantizer.weight_proj.bias', 'project_hid.weight']\n",
            "- This IS expected if you are initializing Wav2Vec2Model from the checkpoint of a model trained on another task or with another architecture (e.g. initializing a BertForSequenceClassification model from a BertForPreTraining model).\n",
            "- This IS NOT expected if you are initializing Wav2Vec2Model from the checkpoint of a model that you expect to be exactly identical (initializing a BertForSequenceClassification model from a BertForSequenceClassification model).\n"
          ]
        },
        {
          "output_type": "stream",
          "name": "stdout",
          "text": [
            "Begin training\n"
          ]
        },
        {
          "output_type": "stream",
          "name": "stderr",
          "text": [
            "Epoch 1: 100%|██████████| 600/600 [00:04<00:00, 136.44batch/s, accuracy=42, loss=1.2]\n"
          ]
        },
        {
          "output_type": "stream",
          "name": "stdout",
          "text": [
            "accuracy=55.5, loss=0.9607753978297114\n"
          ]
        },
        {
          "output_type": "stream",
          "name": "stderr",
          "text": [
            "Epoch 2: 100%|██████████| 600/600 [00:04<00:00, 133.08batch/s, accuracy=62.2, loss=0.851]\n"
          ]
        },
        {
          "output_type": "stream",
          "name": "stdout",
          "text": [
            "accuracy=62.0, loss=0.7996198278618977\n"
          ]
        },
        {
          "output_type": "stream",
          "name": "stderr",
          "text": [
            "Epoch 3: 100%|██████████| 600/600 [00:04<00:00, 121.88batch/s, accuracy=71.4, loss=0.693]\n"
          ]
        },
        {
          "output_type": "stream",
          "name": "stdout",
          "text": [
            "accuracy=68.875, loss=0.7216038121096789\n"
          ]
        },
        {
          "output_type": "stream",
          "name": "stderr",
          "text": [
            "Epoch 4: 100%|██████████| 600/600 [00:04<00:00, 129.71batch/s, accuracy=74.8, loss=0.611]\n"
          ]
        },
        {
          "output_type": "stream",
          "name": "stdout",
          "text": [
            "accuracy=72.25, loss=0.6336007869610331\n"
          ]
        },
        {
          "output_type": "stream",
          "name": "stderr",
          "text": [
            "Epoch 5: 100%|██████████| 600/600 [00:04<00:00, 131.90batch/s, accuracy=77.5, loss=0.553]\n"
          ]
        },
        {
          "output_type": "stream",
          "name": "stdout",
          "text": [
            "accuracy=74.5, loss=0.6099304925673641\n"
          ]
        },
        {
          "output_type": "stream",
          "name": "stderr",
          "text": [
            "Epoch 6: 100%|██████████| 600/600 [00:04<00:00, 131.49batch/s, accuracy=79.3, loss=0.508]\n"
          ]
        },
        {
          "output_type": "stream",
          "name": "stdout",
          "text": [
            "accuracy=77.625, loss=0.5511003602866549\n"
          ]
        },
        {
          "output_type": "stream",
          "name": "stderr",
          "text": [
            "Epoch 7: 100%|██████████| 600/600 [00:04<00:00, 124.79batch/s, accuracy=80.9, loss=0.474]\n"
          ]
        },
        {
          "output_type": "stream",
          "name": "stdout",
          "text": [
            "accuracy=74.75, loss=0.5783594773869845\n"
          ]
        },
        {
          "output_type": "stream",
          "name": "stderr",
          "text": [
            "Epoch 8: 100%|██████████| 600/600 [00:04<00:00, 128.26batch/s, accuracy=82.3, loss=0.44]\n"
          ]
        },
        {
          "output_type": "stream",
          "name": "stdout",
          "text": [
            "accuracy=79.125, loss=0.515223957724229\n"
          ]
        },
        {
          "output_type": "stream",
          "name": "stderr",
          "text": [
            "Epoch 9: 100%|██████████| 600/600 [00:04<00:00, 131.99batch/s, accuracy=83.2, loss=0.42]\n"
          ]
        },
        {
          "output_type": "stream",
          "name": "stdout",
          "text": [
            "accuracy=79.25, loss=0.5292123555766739\n"
          ]
        },
        {
          "output_type": "stream",
          "name": "stderr",
          "text": [
            "Epoch 10: 100%|██████████| 600/600 [00:04<00:00, 132.39batch/s, accuracy=84.3, loss=0.398]\n"
          ]
        },
        {
          "output_type": "stream",
          "name": "stdout",
          "text": [
            "accuracy=81.75, loss=0.45861445343503876\n"
          ]
        },
        {
          "output_type": "stream",
          "name": "stderr",
          "text": [
            "Epoch 11: 100%|██████████| 600/600 [00:04<00:00, 130.71batch/s, accuracy=84.9, loss=0.384]\n"
          ]
        },
        {
          "output_type": "stream",
          "name": "stdout",
          "text": [
            "accuracy=80.75, loss=0.45691151335766333\n"
          ]
        },
        {
          "output_type": "stream",
          "name": "stderr",
          "text": [
            "Epoch 12: 100%|██████████| 600/600 [00:04<00:00, 126.09batch/s, accuracy=85.8, loss=0.364]\n"
          ]
        },
        {
          "output_type": "stream",
          "name": "stdout",
          "text": [
            "accuracy=80.5, loss=0.4517284136445687\n"
          ]
        },
        {
          "output_type": "stream",
          "name": "stderr",
          "text": [
            "Epoch 13: 100%|██████████| 600/600 [00:04<00:00, 129.22batch/s, accuracy=86.2, loss=0.352]\n"
          ]
        },
        {
          "output_type": "stream",
          "name": "stdout",
          "text": [
            "accuracy=80.875, loss=0.4407437080369345\n"
          ]
        },
        {
          "output_type": "stream",
          "name": "stderr",
          "text": [
            "Epoch 14: 100%|██████████| 600/600 [00:04<00:00, 127.83batch/s, accuracy=86.6, loss=0.338]\n"
          ]
        },
        {
          "output_type": "stream",
          "name": "stdout",
          "text": [
            "accuracy=80.5, loss=0.4623435795445857\n"
          ]
        },
        {
          "output_type": "stream",
          "name": "stderr",
          "text": [
            "Epoch 15: 100%|██████████| 600/600 [00:04<00:00, 137.82batch/s, accuracy=87.2, loss=0.329]\n"
          ]
        },
        {
          "output_type": "stream",
          "name": "stdout",
          "text": [
            "accuracy=84.375, loss=0.3979459304675561\n"
          ]
        },
        {
          "output_type": "stream",
          "name": "stderr",
          "text": [
            "Epoch 16: 100%|██████████| 600/600 [00:04<00:00, 124.69batch/s, accuracy=88.2, loss=0.308]\n"
          ]
        },
        {
          "output_type": "stream",
          "name": "stdout",
          "text": [
            "accuracy=85.625, loss=0.39523220739032694\n"
          ]
        },
        {
          "output_type": "stream",
          "name": "stderr",
          "text": [
            "Epoch 17: 100%|██████████| 600/600 [00:04<00:00, 138.10batch/s, accuracy=88.4, loss=0.304]\n"
          ]
        },
        {
          "output_type": "stream",
          "name": "stdout",
          "text": [
            "accuracy=82.5, loss=0.44206240649979006\n"
          ]
        },
        {
          "output_type": "stream",
          "name": "stderr",
          "text": [
            "Epoch 18: 100%|██████████| 600/600 [00:04<00:00, 128.42batch/s, accuracy=88.9, loss=0.295]\n"
          ]
        },
        {
          "output_type": "stream",
          "name": "stdout",
          "text": [
            "accuracy=81.75, loss=0.4561107354158753\n"
          ]
        },
        {
          "output_type": "stream",
          "name": "stderr",
          "text": [
            "Epoch 19: 100%|██████████| 600/600 [00:04<00:00, 142.78batch/s, accuracy=88.8, loss=0.289]\n"
          ]
        },
        {
          "output_type": "stream",
          "name": "stdout",
          "text": [
            "accuracy=84.125, loss=0.3766600483799147\n"
          ]
        },
        {
          "output_type": "stream",
          "name": "stderr",
          "text": [
            "Epoch 20: 100%|██████████| 600/600 [00:04<00:00, 129.67batch/s, accuracy=89.3, loss=0.277]\n"
          ]
        },
        {
          "output_type": "stream",
          "name": "stdout",
          "text": [
            "accuracy=83.625, loss=0.4148211746032905\n"
          ]
        },
        {
          "output_type": "stream",
          "name": "stderr",
          "text": [
            "Epoch 21: 100%|██████████| 600/600 [00:04<00:00, 135.39batch/s, accuracy=89.3, loss=0.277]\n"
          ]
        },
        {
          "output_type": "stream",
          "name": "stdout",
          "text": [
            "accuracy=84.5, loss=0.37901755089337286\n"
          ]
        },
        {
          "output_type": "stream",
          "name": "stderr",
          "text": [
            "Epoch 22: 100%|██████████| 600/600 [00:04<00:00, 129.29batch/s, accuracy=90.2, loss=0.262]\n"
          ]
        },
        {
          "output_type": "stream",
          "name": "stdout",
          "text": [
            "accuracy=83.375, loss=0.40260115787632345\n"
          ]
        },
        {
          "output_type": "stream",
          "name": "stderr",
          "text": [
            "Epoch 23: 100%|██████████| 600/600 [00:04<00:00, 131.01batch/s, accuracy=89.8, loss=0.266]\n"
          ]
        },
        {
          "output_type": "stream",
          "name": "stdout",
          "text": [
            "accuracy=84.0, loss=0.39805370025285525\n"
          ]
        },
        {
          "output_type": "stream",
          "name": "stderr",
          "text": [
            "Epoch 24: 100%|██████████| 600/600 [00:04<00:00, 136.50batch/s, accuracy=89.9, loss=0.259]\n"
          ]
        },
        {
          "output_type": "stream",
          "name": "stdout",
          "text": [
            "accuracy=85.25, loss=0.3534186128350541\n"
          ]
        },
        {
          "output_type": "stream",
          "name": "stderr",
          "text": [
            "Epoch 25: 100%|██████████| 600/600 [00:04<00:00, 122.77batch/s, accuracy=90.7, loss=0.247]\n"
          ]
        },
        {
          "output_type": "stream",
          "name": "stdout",
          "text": [
            "accuracy=83.75, loss=0.38708193133294005\n"
          ]
        },
        {
          "output_type": "stream",
          "name": "stderr",
          "text": [
            "Epoch 26: 100%|██████████| 600/600 [00:04<00:00, 135.26batch/s, accuracy=90.7, loss=0.245]\n"
          ]
        },
        {
          "output_type": "stream",
          "name": "stdout",
          "text": [
            "accuracy=85.875, loss=0.35981983681530494\n"
          ]
        },
        {
          "output_type": "stream",
          "name": "stderr",
          "text": [
            "Epoch 27: 100%|██████████| 600/600 [00:04<00:00, 125.67batch/s, accuracy=90.6, loss=0.247]\n"
          ]
        },
        {
          "output_type": "stream",
          "name": "stdout",
          "text": [
            "accuracy=81.5, loss=0.4544261698945513\n"
          ]
        },
        {
          "output_type": "stream",
          "name": "stderr",
          "text": [
            "Epoch 28: 100%|██████████| 600/600 [00:04<00:00, 133.28batch/s, accuracy=90.5, loss=0.244]\n"
          ]
        },
        {
          "output_type": "stream",
          "name": "stdout",
          "text": [
            "accuracy=85.0, loss=0.37175150950514646\n"
          ]
        },
        {
          "output_type": "stream",
          "name": "stderr",
          "text": [
            "Epoch 29: 100%|██████████| 600/600 [00:04<00:00, 128.65batch/s, accuracy=91.1, loss=0.229]\n"
          ]
        },
        {
          "output_type": "stream",
          "name": "stdout",
          "text": [
            "accuracy=85.0, loss=0.3709252054151915\n"
          ]
        },
        {
          "output_type": "stream",
          "name": "stderr",
          "text": [
            "Epoch 30: 100%|██████████| 600/600 [00:04<00:00, 133.03batch/s, accuracy=91.3, loss=0.226]\n"
          ]
        },
        {
          "output_type": "stream",
          "name": "stdout",
          "text": [
            "accuracy=86.375, loss=0.3769314796664963\n"
          ]
        },
        {
          "output_type": "stream",
          "name": "stderr",
          "text": [
            "Epoch 31: 100%|██████████| 600/600 [00:04<00:00, 136.07batch/s, accuracy=91.6, loss=0.226]\n"
          ]
        },
        {
          "output_type": "stream",
          "name": "stdout",
          "text": [
            "accuracy=87.0, loss=0.3366408185889489\n"
          ]
        },
        {
          "output_type": "stream",
          "name": "stderr",
          "text": [
            "Epoch 32: 100%|██████████| 600/600 [00:04<00:00, 131.90batch/s, accuracy=91.4, loss=0.222]\n"
          ]
        },
        {
          "output_type": "stream",
          "name": "stdout",
          "text": [
            "accuracy=88.0, loss=0.3419226349606066\n"
          ]
        },
        {
          "output_type": "stream",
          "name": "stderr",
          "text": [
            "Epoch 33: 100%|██████████| 600/600 [00:04<00:00, 130.81batch/s, accuracy=92.2, loss=0.21]\n"
          ]
        },
        {
          "output_type": "stream",
          "name": "stdout",
          "text": [
            "accuracy=84.875, loss=0.43661541686401006\n"
          ]
        },
        {
          "output_type": "stream",
          "name": "stderr",
          "text": [
            "Epoch 34: 100%|██████████| 600/600 [00:04<00:00, 126.78batch/s, accuracy=92.1, loss=0.208]\n"
          ]
        },
        {
          "output_type": "stream",
          "name": "stdout",
          "text": [
            "accuracy=85.25, loss=0.40016768937874675\n"
          ]
        },
        {
          "output_type": "stream",
          "name": "stderr",
          "text": [
            "Epoch 35: 100%|██████████| 600/600 [00:04<00:00, 133.38batch/s, accuracy=92.4, loss=0.202]\n"
          ]
        },
        {
          "output_type": "stream",
          "name": "stdout",
          "text": [
            "accuracy=87.75, loss=0.32511912579857866\n"
          ]
        },
        {
          "output_type": "stream",
          "name": "stderr",
          "text": [
            "Epoch 36: 100%|██████████| 600/600 [00:04<00:00, 128.76batch/s, accuracy=92.6, loss=0.198]\n"
          ]
        },
        {
          "output_type": "stream",
          "name": "stdout",
          "text": [
            "accuracy=87.0, loss=0.3616601587299314\n"
          ]
        },
        {
          "output_type": "stream",
          "name": "stderr",
          "text": [
            "Epoch 37: 100%|██████████| 600/600 [00:04<00:00, 134.13batch/s, accuracy=92.3, loss=0.199]\n"
          ]
        },
        {
          "output_type": "stream",
          "name": "stdout",
          "text": [
            "accuracy=84.875, loss=0.36836278018361485\n"
          ]
        },
        {
          "output_type": "stream",
          "name": "stderr",
          "text": [
            "Epoch 38: 100%|██████████| 600/600 [00:04<00:00, 131.60batch/s, accuracy=92.3, loss=0.201]\n"
          ]
        },
        {
          "output_type": "stream",
          "name": "stdout",
          "text": [
            "accuracy=85.5, loss=0.35868812171793657\n"
          ]
        },
        {
          "output_type": "stream",
          "name": "stderr",
          "text": [
            "Epoch 39: 100%|██████████| 600/600 [00:04<00:00, 131.88batch/s, accuracy=92.8, loss=0.191]\n"
          ]
        },
        {
          "output_type": "stream",
          "name": "stdout",
          "text": [
            "accuracy=88.0, loss=0.3444171540093634\n"
          ]
        },
        {
          "output_type": "stream",
          "name": "stderr",
          "text": [
            "Epoch 40: 100%|██████████| 600/600 [00:04<00:00, 129.55batch/s, accuracy=93.1, loss=0.186]\n"
          ]
        },
        {
          "output_type": "stream",
          "name": "stdout",
          "text": [
            "accuracy=86.875, loss=0.3432197355934614\n",
            "\n",
            "Test performance\n",
            "lang accuracy loss\n",
            "------------------\n",
            "  en     89.3  0.3\n",
            "  ch     94.2  0.2\n",
            "\n",
            "\n",
            "\n",
            "Trained on en ch Wav2Vec2.0-base voiceprints\n",
            "Average test performance over 4 iteration(s)\n",
            "lang accuracy loss\n",
            "------------------\n",
            "  en     88.6  0.3\n",
            "  ch     94.1  0.2\n",
            "\n",
            "Running the script took 00:13:19\n"
          ]
        }
      ]
    },
    {
      "cell_type": "code",
      "source": [
        "if __name__ == \"__main__\":\n",
        "  start = time.time()\n",
        "  \n",
        "  langs = [\"en\"]\n",
        "\n",
        "  pipeline = ModelDataPipeline(epochs=epochs,\n",
        "                               learning_rate=learning_rate,\n",
        "                               langs=langs,\n",
        "                               model_type=model_type,\n",
        "                               proportion=proportion)\n",
        "\n",
        "  pipeline.run_per_split(remixed_data=False)\n",
        "\n",
        "  end = time.time()\n",
        "\n",
        "  print(f\"\\nRunning the script took {running_time(start, end)}\")"
      ],
      "metadata": {
        "colab": {
          "base_uri": "https://localhost:8080/"
        },
        "id": "Hv53Vu6vuQkb",
        "outputId": "74c7db9d-9024-4cf8-d2fd-5030d32285fa"
      },
      "execution_count": null,
      "outputs": [
        {
          "output_type": "stream",
          "name": "stdout",
          "text": [
            "Setting up mono model with\n",
            "\tepochs: 40\n",
            "\tlearning rate: 5e-05\n",
            "\tlangs: en\n"
          ]
        },
        {
          "output_type": "stream",
          "name": "stderr",
          "text": [
            "Some weights of the model checkpoint at facebook/wav2vec2-base were not used when initializing Wav2Vec2Model: ['quantizer.codevectors', 'project_q.bias', 'quantizer.weight_proj.weight', 'project_hid.bias', 'project_q.weight', 'quantizer.weight_proj.bias', 'project_hid.weight']\n",
            "- This IS expected if you are initializing Wav2Vec2Model from the checkpoint of a model trained on another task or with another architecture (e.g. initializing a BertForSequenceClassification model from a BertForPreTraining model).\n",
            "- This IS NOT expected if you are initializing Wav2Vec2Model from the checkpoint of a model that you expect to be exactly identical (initializing a BertForSequenceClassification model from a BertForSequenceClassification model).\n",
            "Some weights of the model checkpoint at facebook/wav2vec2-base were not used when initializing Wav2Vec2Model: ['quantizer.codevectors', 'project_q.bias', 'quantizer.weight_proj.weight', 'project_hid.bias', 'project_q.weight', 'quantizer.weight_proj.bias', 'project_hid.weight']\n",
            "- This IS expected if you are initializing Wav2Vec2Model from the checkpoint of a model trained on another task or with another architecture (e.g. initializing a BertForSequenceClassification model from a BertForPreTraining model).\n",
            "- This IS NOT expected if you are initializing Wav2Vec2Model from the checkpoint of a model that you expect to be exactly identical (initializing a BertForSequenceClassification model from a BertForSequenceClassification model).\n"
          ]
        },
        {
          "output_type": "stream",
          "name": "stdout",
          "text": [
            "Begin training\n"
          ]
        },
        {
          "output_type": "stream",
          "name": "stderr",
          "text": [
            "Epoch 1: 100%|██████████| 600/600 [00:04<00:00, 138.64batch/s, accuracy=40.4, loss=1.24]\n"
          ]
        },
        {
          "output_type": "stream",
          "name": "stdout",
          "text": [
            "accuracy=56.625, loss=1.0145572164468468\n"
          ]
        },
        {
          "output_type": "stream",
          "name": "stderr",
          "text": [
            "Epoch 2: 100%|██████████| 600/600 [00:04<00:00, 132.20batch/s, accuracy=61.4, loss=0.905]\n"
          ]
        },
        {
          "output_type": "stream",
          "name": "stdout",
          "text": [
            "accuracy=65.375, loss=0.8188924434687942\n"
          ]
        },
        {
          "output_type": "stream",
          "name": "stderr",
          "text": [
            "Epoch 3: 100%|██████████| 600/600 [00:04<00:00, 127.48batch/s, accuracy=71.4, loss=0.714]\n"
          ]
        },
        {
          "output_type": "stream",
          "name": "stdout",
          "text": [
            "accuracy=69.625, loss=0.737591970663052\n"
          ]
        },
        {
          "output_type": "stream",
          "name": "stderr",
          "text": [
            "Epoch 4: 100%|██████████| 600/600 [00:04<00:00, 139.75batch/s, accuracy=75.8, loss=0.615]\n"
          ]
        },
        {
          "output_type": "stream",
          "name": "stdout",
          "text": [
            "accuracy=72.25, loss=0.6608770493295743\n"
          ]
        },
        {
          "output_type": "stream",
          "name": "stderr",
          "text": [
            "Epoch 5: 100%|██████████| 600/600 [00:04<00:00, 140.17batch/s, accuracy=78.6, loss=0.546]\n"
          ]
        },
        {
          "output_type": "stream",
          "name": "stdout",
          "text": [
            "accuracy=74.875, loss=0.6054356709789136\n"
          ]
        },
        {
          "output_type": "stream",
          "name": "stderr",
          "text": [
            "Epoch 6: 100%|██████████| 600/600 [00:04<00:00, 132.53batch/s, accuracy=80.6, loss=0.498]\n"
          ]
        },
        {
          "output_type": "stream",
          "name": "stdout",
          "text": [
            "accuracy=78.875, loss=0.5417900844196265\n"
          ]
        },
        {
          "output_type": "stream",
          "name": "stderr",
          "text": [
            "Epoch 7: 100%|██████████| 600/600 [00:04<00:00, 128.67batch/s, accuracy=82.8, loss=0.446]\n"
          ]
        },
        {
          "output_type": "stream",
          "name": "stdout",
          "text": [
            "accuracy=78.25, loss=0.5530196351318591\n"
          ]
        },
        {
          "output_type": "stream",
          "name": "stderr",
          "text": [
            "Epoch 8: 100%|██████████| 600/600 [00:04<00:00, 140.85batch/s, accuracy=84.3, loss=0.411]\n"
          ]
        },
        {
          "output_type": "stream",
          "name": "stdout",
          "text": [
            "accuracy=80.0, loss=0.49105827007402697\n"
          ]
        },
        {
          "output_type": "stream",
          "name": "stderr",
          "text": [
            "Epoch 9: 100%|██████████| 600/600 [00:04<00:00, 138.44batch/s, accuracy=84.8, loss=0.391]\n"
          ]
        },
        {
          "output_type": "stream",
          "name": "stdout",
          "text": [
            "accuracy=82.125, loss=0.4698948548419503\n"
          ]
        },
        {
          "output_type": "stream",
          "name": "stderr",
          "text": [
            "Epoch 10: 100%|██████████| 600/600 [00:04<00:00, 134.84batch/s, accuracy=85.8, loss=0.362]\n"
          ]
        },
        {
          "output_type": "stream",
          "name": "stdout",
          "text": [
            "accuracy=80.25, loss=0.4880980476028162\n"
          ]
        },
        {
          "output_type": "stream",
          "name": "stderr",
          "text": [
            "Epoch 11: 100%|██████████| 600/600 [00:04<00:00, 127.42batch/s, accuracy=86.9, loss=0.343]\n"
          ]
        },
        {
          "output_type": "stream",
          "name": "stdout",
          "text": [
            "accuracy=82.5, loss=0.4567354192548555\n"
          ]
        },
        {
          "output_type": "stream",
          "name": "stderr",
          "text": [
            "Epoch 12: 100%|██████████| 600/600 [00:04<00:00, 137.09batch/s, accuracy=87.7, loss=0.321]\n"
          ]
        },
        {
          "output_type": "stream",
          "name": "stdout",
          "text": [
            "accuracy=83.375, loss=0.436191552157934\n"
          ]
        },
        {
          "output_type": "stream",
          "name": "stderr",
          "text": [
            "Epoch 13: 100%|██████████| 600/600 [00:04<00:00, 137.33batch/s, accuracy=87.8, loss=0.317]\n"
          ]
        },
        {
          "output_type": "stream",
          "name": "stdout",
          "text": [
            "accuracy=80.75, loss=0.4704803026919853\n"
          ]
        },
        {
          "output_type": "stream",
          "name": "stderr",
          "text": [
            "Epoch 14: 100%|██████████| 600/600 [00:04<00:00, 130.53batch/s, accuracy=88.5, loss=0.301]\n"
          ]
        },
        {
          "output_type": "stream",
          "name": "stdout",
          "text": [
            "accuracy=81.75, loss=0.47548651131459335\n"
          ]
        },
        {
          "output_type": "stream",
          "name": "stderr",
          "text": [
            "Epoch 15: 100%|██████████| 600/600 [00:04<00:00, 130.31batch/s, accuracy=88.7, loss=0.29]\n"
          ]
        },
        {
          "output_type": "stream",
          "name": "stdout",
          "text": [
            "accuracy=81.75, loss=0.4805013862555779\n"
          ]
        },
        {
          "output_type": "stream",
          "name": "stderr",
          "text": [
            "Epoch 16: 100%|██████████| 600/600 [00:04<00:00, 139.78batch/s, accuracy=89.1, loss=0.286]\n"
          ]
        },
        {
          "output_type": "stream",
          "name": "stdout",
          "text": [
            "accuracy=84.5, loss=0.4040001188315091\n"
          ]
        },
        {
          "output_type": "stream",
          "name": "stderr",
          "text": [
            "Epoch 17: 100%|██████████| 600/600 [00:04<00:00, 134.05batch/s, accuracy=89.7, loss=0.27]\n"
          ]
        },
        {
          "output_type": "stream",
          "name": "stdout",
          "text": [
            "accuracy=83.5, loss=0.4190135427021232\n"
          ]
        },
        {
          "output_type": "stream",
          "name": "stderr",
          "text": [
            "Epoch 18: 100%|██████████| 600/600 [00:04<00:00, 127.85batch/s, accuracy=90.2, loss=0.258]\n"
          ]
        },
        {
          "output_type": "stream",
          "name": "stdout",
          "text": [
            "accuracy=85.75, loss=0.36638999484485113\n"
          ]
        },
        {
          "output_type": "stream",
          "name": "stderr",
          "text": [
            "Epoch 19: 100%|██████████| 600/600 [00:04<00:00, 136.08batch/s, accuracy=90, loss=0.259]\n"
          ]
        },
        {
          "output_type": "stream",
          "name": "stdout",
          "text": [
            "accuracy=85.75, loss=0.3916954975660565\n"
          ]
        },
        {
          "output_type": "stream",
          "name": "stderr",
          "text": [
            "Epoch 20: 100%|██████████| 600/600 [00:04<00:00, 137.39batch/s, accuracy=90.6, loss=0.249]\n"
          ]
        },
        {
          "output_type": "stream",
          "name": "stdout",
          "text": [
            "accuracy=85.875, loss=0.391217374614223\n"
          ]
        },
        {
          "output_type": "stream",
          "name": "stderr",
          "text": [
            "Epoch 21: 100%|██████████| 600/600 [00:04<00:00, 129.87batch/s, accuracy=90.9, loss=0.239]\n"
          ]
        },
        {
          "output_type": "stream",
          "name": "stdout",
          "text": [
            "accuracy=84.875, loss=0.4073768562586065\n"
          ]
        },
        {
          "output_type": "stream",
          "name": "stderr",
          "text": [
            "Epoch 22: 100%|██████████| 600/600 [00:04<00:00, 124.50batch/s, accuracy=91.2, loss=0.229]\n"
          ]
        },
        {
          "output_type": "stream",
          "name": "stdout",
          "text": [
            "accuracy=86.5, loss=0.3816304478577092\n"
          ]
        },
        {
          "output_type": "stream",
          "name": "stderr",
          "text": [
            "Epoch 23: 100%|██████████| 600/600 [00:04<00:00, 136.32batch/s, accuracy=91.2, loss=0.229]\n"
          ]
        },
        {
          "output_type": "stream",
          "name": "stdout",
          "text": [
            "accuracy=86.25, loss=0.38701046404925477\n"
          ]
        },
        {
          "output_type": "stream",
          "name": "stderr",
          "text": [
            "Epoch 24: 100%|██████████| 600/600 [00:04<00:00, 139.49batch/s, accuracy=91.5, loss=0.223]\n"
          ]
        },
        {
          "output_type": "stream",
          "name": "stdout",
          "text": [
            "accuracy=83.75, loss=0.48735998707278894\n"
          ]
        },
        {
          "output_type": "stream",
          "name": "stderr",
          "text": [
            "Epoch 25: 100%|██████████| 600/600 [00:04<00:00, 135.73batch/s, accuracy=91.8, loss=0.217]\n"
          ]
        },
        {
          "output_type": "stream",
          "name": "stdout",
          "text": [
            "accuracy=85.5, loss=0.40412794272664654\n"
          ]
        },
        {
          "output_type": "stream",
          "name": "stderr",
          "text": [
            "Epoch 26: 100%|██████████| 600/600 [00:04<00:00, 130.53batch/s, accuracy=92, loss=0.21]\n"
          ]
        },
        {
          "output_type": "stream",
          "name": "stdout",
          "text": [
            "accuracy=85.625, loss=0.3989003492678495\n"
          ]
        },
        {
          "output_type": "stream",
          "name": "stderr",
          "text": [
            "Epoch 27: 100%|██████████| 600/600 [00:04<00:00, 138.57batch/s, accuracy=92, loss=0.207]\n"
          ]
        },
        {
          "output_type": "stream",
          "name": "stdout",
          "text": [
            "accuracy=84.5, loss=0.45237003173286183\n"
          ]
        },
        {
          "output_type": "stream",
          "name": "stderr",
          "text": [
            "Epoch 28: 100%|██████████| 600/600 [00:04<00:00, 137.73batch/s, accuracy=92.5, loss=0.198]\n"
          ]
        },
        {
          "output_type": "stream",
          "name": "stdout",
          "text": [
            "accuracy=83.625, loss=0.47090247200091284\n"
          ]
        },
        {
          "output_type": "stream",
          "name": "stderr",
          "text": [
            "Epoch 29: 100%|██████████| 600/600 [00:04<00:00, 137.64batch/s, accuracy=92.7, loss=0.2]\n"
          ]
        },
        {
          "output_type": "stream",
          "name": "stdout",
          "text": [
            "accuracy=85.25, loss=0.41773867316904156\n"
          ]
        },
        {
          "output_type": "stream",
          "name": "stderr",
          "text": [
            "Epoch 30: 100%|██████████| 600/600 [00:04<00:00, 127.35batch/s, accuracy=92.8, loss=0.194]\n"
          ]
        },
        {
          "output_type": "stream",
          "name": "stdout",
          "text": [
            "accuracy=85.625, loss=0.4210236080826371\n"
          ]
        },
        {
          "output_type": "stream",
          "name": "stderr",
          "text": [
            "Epoch 31: 100%|██████████| 600/600 [00:04<00:00, 138.19batch/s, accuracy=93, loss=0.185]\n"
          ]
        },
        {
          "output_type": "stream",
          "name": "stdout",
          "text": [
            "accuracy=85.25, loss=0.4372357033666671\n"
          ]
        },
        {
          "output_type": "stream",
          "name": "stderr",
          "text": [
            "Epoch 32: 100%|██████████| 600/600 [00:04<00:00, 139.28batch/s, accuracy=93.1, loss=0.182]\n"
          ]
        },
        {
          "output_type": "stream",
          "name": "stdout",
          "text": [
            "accuracy=84.875, loss=0.43975159924911955\n"
          ]
        },
        {
          "output_type": "stream",
          "name": "stderr",
          "text": [
            "Epoch 33: 100%|██████████| 600/600 [00:04<00:00, 135.72batch/s, accuracy=93.4, loss=0.178]\n"
          ]
        },
        {
          "output_type": "stream",
          "name": "stdout",
          "text": [
            "accuracy=87.0, loss=0.3992099278687612\n"
          ]
        },
        {
          "output_type": "stream",
          "name": "stderr",
          "text": [
            "Epoch 34: 100%|██████████| 600/600 [00:04<00:00, 131.12batch/s, accuracy=93.6, loss=0.175]\n"
          ]
        },
        {
          "output_type": "stream",
          "name": "stdout",
          "text": [
            "accuracy=87.5, loss=0.36000125934614646\n"
          ]
        },
        {
          "output_type": "stream",
          "name": "stderr",
          "text": [
            "Epoch 35: 100%|██████████| 600/600 [00:04<00:00, 133.07batch/s, accuracy=93.5, loss=0.173]\n"
          ]
        },
        {
          "output_type": "stream",
          "name": "stdout",
          "text": [
            "accuracy=85.625, loss=0.42048063581692974\n"
          ]
        },
        {
          "output_type": "stream",
          "name": "stderr",
          "text": [
            "Epoch 36: 100%|██████████| 600/600 [00:04<00:00, 135.75batch/s, accuracy=93.6, loss=0.17]\n"
          ]
        },
        {
          "output_type": "stream",
          "name": "stdout",
          "text": [
            "accuracy=85.375, loss=0.4096829031718368\n"
          ]
        },
        {
          "output_type": "stream",
          "name": "stderr",
          "text": [
            "Epoch 37: 100%|██████████| 600/600 [00:04<00:00, 129.42batch/s, accuracy=93.5, loss=0.171]\n"
          ]
        },
        {
          "output_type": "stream",
          "name": "stdout",
          "text": [
            "accuracy=86.375, loss=0.3814949128843047\n"
          ]
        },
        {
          "output_type": "stream",
          "name": "stderr",
          "text": [
            "Epoch 38: 100%|██████████| 600/600 [00:04<00:00, 123.49batch/s, accuracy=94.2, loss=0.159]\n"
          ]
        },
        {
          "output_type": "stream",
          "name": "stdout",
          "text": [
            "accuracy=85.25, loss=0.45210380511392034\n"
          ]
        },
        {
          "output_type": "stream",
          "name": "stderr",
          "text": [
            "Epoch 39: 100%|██████████| 600/600 [00:04<00:00, 134.75batch/s, accuracy=93.9, loss=0.164]\n"
          ]
        },
        {
          "output_type": "stream",
          "name": "stdout",
          "text": [
            "accuracy=86.875, loss=0.4108261285186609\n"
          ]
        },
        {
          "output_type": "stream",
          "name": "stderr",
          "text": [
            "Epoch 40: 100%|██████████| 600/600 [00:04<00:00, 134.73batch/s, accuracy=94.1, loss=0.156]\n"
          ]
        },
        {
          "output_type": "stream",
          "name": "stdout",
          "text": [
            "accuracy=85.5, loss=0.4507966953371316\n",
            "\n",
            "Test performance\n",
            "lang accuracy loss\n",
            "------------------\n",
            "  en     89.8  0.3\n",
            "  ch     60.7  2.3\n",
            "\n"
          ]
        },
        {
          "output_type": "stream",
          "name": "stderr",
          "text": [
            "Some weights of the model checkpoint at facebook/wav2vec2-base were not used when initializing Wav2Vec2Model: ['quantizer.codevectors', 'project_q.bias', 'quantizer.weight_proj.weight', 'project_hid.bias', 'project_q.weight', 'quantizer.weight_proj.bias', 'project_hid.weight']\n",
            "- This IS expected if you are initializing Wav2Vec2Model from the checkpoint of a model trained on another task or with another architecture (e.g. initializing a BertForSequenceClassification model from a BertForPreTraining model).\n",
            "- This IS NOT expected if you are initializing Wav2Vec2Model from the checkpoint of a model that you expect to be exactly identical (initializing a BertForSequenceClassification model from a BertForSequenceClassification model).\n"
          ]
        },
        {
          "output_type": "stream",
          "name": "stdout",
          "text": [
            "Begin training\n"
          ]
        },
        {
          "output_type": "stream",
          "name": "stderr",
          "text": [
            "Epoch 1: 100%|██████████| 600/600 [00:04<00:00, 136.25batch/s, accuracy=40.5, loss=1.24]\n"
          ]
        },
        {
          "output_type": "stream",
          "name": "stdout",
          "text": [
            "accuracy=54.875, loss=1.0056219889596105\n"
          ]
        },
        {
          "output_type": "stream",
          "name": "stderr",
          "text": [
            "Epoch 2: 100%|██████████| 600/600 [00:04<00:00, 136.46batch/s, accuracy=61.6, loss=0.9]\n"
          ]
        },
        {
          "output_type": "stream",
          "name": "stdout",
          "text": [
            "accuracy=67.875, loss=0.7930616133240983\n"
          ]
        },
        {
          "output_type": "stream",
          "name": "stderr",
          "text": [
            "Epoch 3: 100%|██████████| 600/600 [00:04<00:00, 132.18batch/s, accuracy=70.7, loss=0.715]\n"
          ]
        },
        {
          "output_type": "stream",
          "name": "stdout",
          "text": [
            "accuracy=71.125, loss=0.7096100864349865\n"
          ]
        },
        {
          "output_type": "stream",
          "name": "stderr",
          "text": [
            "Epoch 4: 100%|██████████| 600/600 [00:04<00:00, 127.15batch/s, accuracy=75.5, loss=0.617]\n"
          ]
        },
        {
          "output_type": "stream",
          "name": "stdout",
          "text": [
            "accuracy=74.75, loss=0.6420286285120528\n"
          ]
        },
        {
          "output_type": "stream",
          "name": "stderr",
          "text": [
            "Epoch 5: 100%|██████████| 600/600 [00:04<00:00, 135.65batch/s, accuracy=78.6, loss=0.543]\n"
          ]
        },
        {
          "output_type": "stream",
          "name": "stdout",
          "text": [
            "accuracy=76.375, loss=0.5975824438189739\n"
          ]
        },
        {
          "output_type": "stream",
          "name": "stderr",
          "text": [
            "Epoch 6: 100%|██████████| 600/600 [00:04<00:00, 132.20batch/s, accuracy=80.8, loss=0.497]\n"
          ]
        },
        {
          "output_type": "stream",
          "name": "stdout",
          "text": [
            "accuracy=77.125, loss=0.5686972498898103\n"
          ]
        },
        {
          "output_type": "stream",
          "name": "stderr",
          "text": [
            "Epoch 7: 100%|██████████| 600/600 [00:04<00:00, 136.13batch/s, accuracy=82.4, loss=0.452]\n"
          ]
        },
        {
          "output_type": "stream",
          "name": "stdout",
          "text": [
            "accuracy=79.0, loss=0.5386145377955108\n"
          ]
        },
        {
          "output_type": "stream",
          "name": "stderr",
          "text": [
            "Epoch 8: 100%|██████████| 600/600 [00:04<00:00, 129.70batch/s, accuracy=84.3, loss=0.413]\n"
          ]
        },
        {
          "output_type": "stream",
          "name": "stdout",
          "text": [
            "accuracy=80.0, loss=0.504214882125998\n"
          ]
        },
        {
          "output_type": "stream",
          "name": "stderr",
          "text": [
            "Epoch 9: 100%|██████████| 600/600 [00:04<00:00, 134.38batch/s, accuracy=84.9, loss=0.388]\n"
          ]
        },
        {
          "output_type": "stream",
          "name": "stdout",
          "text": [
            "accuracy=82.375, loss=0.47234317812337395\n"
          ]
        },
        {
          "output_type": "stream",
          "name": "stderr",
          "text": [
            "Epoch 10: 100%|██████████| 600/600 [00:04<00:00, 136.55batch/s, accuracy=86.3, loss=0.365]\n"
          ]
        },
        {
          "output_type": "stream",
          "name": "stdout",
          "text": [
            "accuracy=82.625, loss=0.44552836320159256\n"
          ]
        },
        {
          "output_type": "stream",
          "name": "stderr",
          "text": [
            "Epoch 11: 100%|██████████| 600/600 [00:04<00:00, 137.52batch/s, accuracy=86.5, loss=0.348]\n"
          ]
        },
        {
          "output_type": "stream",
          "name": "stdout",
          "text": [
            "accuracy=81.5, loss=0.46979634112391067\n"
          ]
        },
        {
          "output_type": "stream",
          "name": "stderr",
          "text": [
            "Epoch 12: 100%|██████████| 600/600 [00:04<00:00, 130.05batch/s, accuracy=87.4, loss=0.331]\n"
          ]
        },
        {
          "output_type": "stream",
          "name": "stdout",
          "text": [
            "accuracy=81.75, loss=0.4735626853782014\n"
          ]
        },
        {
          "output_type": "stream",
          "name": "stderr",
          "text": [
            "Epoch 13: 100%|██████████| 600/600 [00:04<00:00, 136.57batch/s, accuracy=88.3, loss=0.309]\n"
          ]
        },
        {
          "output_type": "stream",
          "name": "stdout",
          "text": [
            "accuracy=83.25, loss=0.44197634229409233\n"
          ]
        },
        {
          "output_type": "stream",
          "name": "stderr",
          "text": [
            "Epoch 14: 100%|██████████| 600/600 [00:04<00:00, 135.89batch/s, accuracy=88.8, loss=0.3]\n"
          ]
        },
        {
          "output_type": "stream",
          "name": "stdout",
          "text": [
            "accuracy=84.0, loss=0.4110714328670565\n"
          ]
        },
        {
          "output_type": "stream",
          "name": "stderr",
          "text": [
            "Epoch 15: 100%|██████████| 600/600 [00:04<00:00, 132.02batch/s, accuracy=88.8, loss=0.295]\n"
          ]
        },
        {
          "output_type": "stream",
          "name": "stdout",
          "text": [
            "accuracy=85.125, loss=0.4106519699107048\n"
          ]
        },
        {
          "output_type": "stream",
          "name": "stderr",
          "text": [
            "Epoch 16: 100%|██████████| 600/600 [00:04<00:00, 135.17batch/s, accuracy=89.3, loss=0.281]\n"
          ]
        },
        {
          "output_type": "stream",
          "name": "stdout",
          "text": [
            "accuracy=82.875, loss=0.4488263779082854\n"
          ]
        },
        {
          "output_type": "stream",
          "name": "stderr",
          "text": [
            "Epoch 17: 100%|██████████| 600/600 [00:04<00:00, 130.27batch/s, accuracy=89.8, loss=0.267]\n"
          ]
        },
        {
          "output_type": "stream",
          "name": "stdout",
          "text": [
            "accuracy=85.25, loss=0.40877578683355753\n"
          ]
        },
        {
          "output_type": "stream",
          "name": "stderr",
          "text": [
            "Epoch 18: 100%|██████████| 600/600 [00:04<00:00, 132.34batch/s, accuracy=90.2, loss=0.257]\n"
          ]
        },
        {
          "output_type": "stream",
          "name": "stdout",
          "text": [
            "accuracy=84.0, loss=0.41001539172426876\n"
          ]
        },
        {
          "output_type": "stream",
          "name": "stderr",
          "text": [
            "Epoch 19: 100%|██████████| 600/600 [00:04<00:00, 134.07batch/s, accuracy=90.5, loss=0.253]\n"
          ]
        },
        {
          "output_type": "stream",
          "name": "stdout",
          "text": [
            "accuracy=83.125, loss=0.4397091985135512\n"
          ]
        },
        {
          "output_type": "stream",
          "name": "stderr",
          "text": [
            "Epoch 20: 100%|██████████| 600/600 [00:04<00:00, 135.23batch/s, accuracy=90.6, loss=0.247]\n"
          ]
        },
        {
          "output_type": "stream",
          "name": "stdout",
          "text": [
            "accuracy=85.5, loss=0.40102846234942263\n"
          ]
        },
        {
          "output_type": "stream",
          "name": "stderr",
          "text": [
            "Epoch 21: 100%|██████████| 600/600 [00:04<00:00, 126.49batch/s, accuracy=90.4, loss=0.247]\n"
          ]
        },
        {
          "output_type": "stream",
          "name": "stdout",
          "text": [
            "accuracy=86.125, loss=0.3890029134404676\n"
          ]
        },
        {
          "output_type": "stream",
          "name": "stderr",
          "text": [
            "Epoch 22: 100%|██████████| 600/600 [00:04<00:00, 133.50batch/s, accuracy=90.9, loss=0.233]\n"
          ]
        },
        {
          "output_type": "stream",
          "name": "stdout",
          "text": [
            "accuracy=84.625, loss=0.41309300653894865\n"
          ]
        },
        {
          "output_type": "stream",
          "name": "stderr",
          "text": [
            "Epoch 23: 100%|██████████| 600/600 [00:04<00:00, 134.01batch/s, accuracy=91.3, loss=0.223]\n"
          ]
        },
        {
          "output_type": "stream",
          "name": "stdout",
          "text": [
            "accuracy=84.75, loss=0.42117930963809497\n"
          ]
        },
        {
          "output_type": "stream",
          "name": "stderr",
          "text": [
            "Epoch 24: 100%|██████████| 600/600 [00:04<00:00, 131.33batch/s, accuracy=92, loss=0.216]\n"
          ]
        },
        {
          "output_type": "stream",
          "name": "stdout",
          "text": [
            "accuracy=83.875, loss=0.4390863419162554\n"
          ]
        },
        {
          "output_type": "stream",
          "name": "stderr",
          "text": [
            "Epoch 25: 100%|██████████| 600/600 [00:04<00:00, 125.70batch/s, accuracy=91.9, loss=0.219]\n"
          ]
        },
        {
          "output_type": "stream",
          "name": "stdout",
          "text": [
            "accuracy=85.625, loss=0.3864840676847945\n"
          ]
        },
        {
          "output_type": "stream",
          "name": "stderr",
          "text": [
            "Epoch 26: 100%|██████████| 600/600 [00:04<00:00, 131.84batch/s, accuracy=91.7, loss=0.212]\n"
          ]
        },
        {
          "output_type": "stream",
          "name": "stdout",
          "text": [
            "accuracy=86.25, loss=0.4064548112782464\n"
          ]
        },
        {
          "output_type": "stream",
          "name": "stderr",
          "text": [
            "Epoch 27: 100%|██████████| 600/600 [00:04<00:00, 131.08batch/s, accuracy=92.4, loss=0.205]\n"
          ]
        },
        {
          "output_type": "stream",
          "name": "stdout",
          "text": [
            "accuracy=84.125, loss=0.44557645293245474\n"
          ]
        },
        {
          "output_type": "stream",
          "name": "stderr",
          "text": [
            "Epoch 28: 100%|██████████| 600/600 [00:04<00:00, 128.42batch/s, accuracy=92.7, loss=0.196]\n"
          ]
        },
        {
          "output_type": "stream",
          "name": "stdout",
          "text": [
            "accuracy=86.375, loss=0.40055928625198817\n"
          ]
        },
        {
          "output_type": "stream",
          "name": "stderr",
          "text": [
            "Epoch 29: 100%|██████████| 600/600 [00:04<00:00, 126.75batch/s, accuracy=92.8, loss=0.194]\n"
          ]
        },
        {
          "output_type": "stream",
          "name": "stdout",
          "text": [
            "accuracy=85.125, loss=0.45577189129824064\n"
          ]
        },
        {
          "output_type": "stream",
          "name": "stderr",
          "text": [
            "Epoch 30: 100%|██████████| 600/600 [00:04<00:00, 134.93batch/s, accuracy=93, loss=0.188]\n"
          ]
        },
        {
          "output_type": "stream",
          "name": "stdout",
          "text": [
            "accuracy=86.75, loss=0.38814772590387064\n"
          ]
        },
        {
          "output_type": "stream",
          "name": "stderr",
          "text": [
            "Epoch 31: 100%|██████████| 600/600 [00:04<00:00, 133.28batch/s, accuracy=93.1, loss=0.182]\n"
          ]
        },
        {
          "output_type": "stream",
          "name": "stdout",
          "text": [
            "accuracy=86.875, loss=0.3976381633159808\n"
          ]
        },
        {
          "output_type": "stream",
          "name": "stderr",
          "text": [
            "Epoch 32: 100%|██████████| 600/600 [00:04<00:00, 131.44batch/s, accuracy=92.9, loss=0.186]\n"
          ]
        },
        {
          "output_type": "stream",
          "name": "stdout",
          "text": [
            "accuracy=86.25, loss=0.4268590760530144\n"
          ]
        },
        {
          "output_type": "stream",
          "name": "stderr",
          "text": [
            "Epoch 33: 100%|██████████| 600/600 [00:04<00:00, 124.92batch/s, accuracy=93.3, loss=0.18]\n"
          ]
        },
        {
          "output_type": "stream",
          "name": "stdout",
          "text": [
            "accuracy=86.125, loss=0.3950044534167313\n"
          ]
        },
        {
          "output_type": "stream",
          "name": "stderr",
          "text": [
            "Epoch 34: 100%|██████████| 600/600 [00:04<00:00, 133.31batch/s, accuracy=93.4, loss=0.175]\n"
          ]
        },
        {
          "output_type": "stream",
          "name": "stdout",
          "text": [
            "accuracy=83.875, loss=0.4912575055971985\n"
          ]
        },
        {
          "output_type": "stream",
          "name": "stderr",
          "text": [
            "Epoch 35: 100%|██████████| 600/600 [00:04<00:00, 131.44batch/s, accuracy=93.5, loss=0.172]\n"
          ]
        },
        {
          "output_type": "stream",
          "name": "stdout",
          "text": [
            "accuracy=85.75, loss=0.39528309084039476\n"
          ]
        },
        {
          "output_type": "stream",
          "name": "stderr",
          "text": [
            "Epoch 36: 100%|██████████| 600/600 [00:04<00:00, 138.66batch/s, accuracy=93.6, loss=0.169]\n"
          ]
        },
        {
          "output_type": "stream",
          "name": "stdout",
          "text": [
            "accuracy=86.25, loss=0.4199259279844304\n"
          ]
        },
        {
          "output_type": "stream",
          "name": "stderr",
          "text": [
            "Epoch 37: 100%|██████████| 600/600 [00:04<00:00, 127.21batch/s, accuracy=93.5, loss=0.17]\n"
          ]
        },
        {
          "output_type": "stream",
          "name": "stdout",
          "text": [
            "accuracy=87.625, loss=0.3815975786371577\n"
          ]
        },
        {
          "output_type": "stream",
          "name": "stderr",
          "text": [
            "Epoch 38: 100%|██████████| 600/600 [00:04<00:00, 131.60batch/s, accuracy=93.6, loss=0.164]\n"
          ]
        },
        {
          "output_type": "stream",
          "name": "stdout",
          "text": [
            "accuracy=85.125, loss=0.4216840097713355\n"
          ]
        },
        {
          "output_type": "stream",
          "name": "stderr",
          "text": [
            "Epoch 39: 100%|██████████| 600/600 [00:04<00:00, 134.50batch/s, accuracy=93.9, loss=0.161]\n"
          ]
        },
        {
          "output_type": "stream",
          "name": "stdout",
          "text": [
            "accuracy=86.125, loss=0.4142950958740482\n"
          ]
        },
        {
          "output_type": "stream",
          "name": "stderr",
          "text": [
            "Epoch 40: 100%|██████████| 600/600 [00:04<00:00, 135.15batch/s, accuracy=94, loss=0.157]\n"
          ]
        },
        {
          "output_type": "stream",
          "name": "stdout",
          "text": [
            "accuracy=85.375, loss=0.427025406967864\n",
            "\n",
            "Test performance\n",
            "lang accuracy loss\n",
            "------------------\n",
            "  en     90.8  0.2\n",
            "  ch     60.1  2.0\n",
            "\n",
            "\n",
            "\n",
            "Trained on en Wav2Vec2.0-base voiceprints\n",
            "Average test performance over 2 iteration(s)\n",
            "lang accuracy loss\n",
            "------------------\n",
            "  en     90.3  0.3\n",
            "  ch     60.4  2.1\n",
            "\n",
            "Running the script took 00:06:25\n"
          ]
        }
      ]
    },
    {
      "cell_type": "code",
      "source": [
        "if __name__ == \"__main__\":\n",
        "  start = time.time()\n",
        "  \n",
        "  langs = [\"ch\"]\n",
        "\n",
        "  pipeline = ModelDataPipeline(epochs=epochs,\n",
        "                               learning_rate=learning_rate,\n",
        "                               langs=langs,\n",
        "                               model_type=model_type,\n",
        "                               proportion=proportion)\n",
        "\n",
        "  pipeline.run_per_split(remixed_data=False)\n",
        "\n",
        "  end = time.time()\n",
        "\n",
        "  print(f\"\\nRunning the script took {running_time(start, end)}\")"
      ],
      "metadata": {
        "id": "eDTColWNuQGX",
        "colab": {
          "base_uri": "https://localhost:8080/"
        },
        "outputId": "dd956e2a-d002-45e6-baf6-9d1509baa41a"
      },
      "execution_count": null,
      "outputs": [
        {
          "output_type": "stream",
          "name": "stdout",
          "text": [
            "Setting up mono model with\n",
            "\tepochs: 40\n",
            "\tlearning rate: 5e-05\n",
            "\tlangs: ch\n"
          ]
        },
        {
          "output_type": "stream",
          "name": "stderr",
          "text": [
            "Some weights of the model checkpoint at facebook/wav2vec2-base were not used when initializing Wav2Vec2Model: ['quantizer.codevectors', 'project_q.bias', 'quantizer.weight_proj.weight', 'project_hid.bias', 'project_q.weight', 'quantizer.weight_proj.bias', 'project_hid.weight']\n",
            "- This IS expected if you are initializing Wav2Vec2Model from the checkpoint of a model trained on another task or with another architecture (e.g. initializing a BertForSequenceClassification model from a BertForPreTraining model).\n",
            "- This IS NOT expected if you are initializing Wav2Vec2Model from the checkpoint of a model that you expect to be exactly identical (initializing a BertForSequenceClassification model from a BertForSequenceClassification model).\n",
            "Some weights of the model checkpoint at facebook/wav2vec2-base were not used when initializing Wav2Vec2Model: ['quantizer.codevectors', 'project_q.bias', 'quantizer.weight_proj.weight', 'project_hid.bias', 'project_q.weight', 'quantizer.weight_proj.bias', 'project_hid.weight']\n",
            "- This IS expected if you are initializing Wav2Vec2Model from the checkpoint of a model trained on another task or with another architecture (e.g. initializing a BertForSequenceClassification model from a BertForPreTraining model).\n",
            "- This IS NOT expected if you are initializing Wav2Vec2Model from the checkpoint of a model that you expect to be exactly identical (initializing a BertForSequenceClassification model from a BertForSequenceClassification model).\n"
          ]
        },
        {
          "output_type": "stream",
          "name": "stdout",
          "text": [
            "Begin training\n"
          ]
        },
        {
          "output_type": "stream",
          "name": "stderr",
          "text": [
            "Epoch 1: 100%|██████████| 600/600 [00:04<00:00, 143.44batch/s, accuracy=53.7, loss=0.989]\n"
          ]
        },
        {
          "output_type": "stream",
          "name": "stdout",
          "text": [
            "accuracy=60.375, loss=0.7699186494830065\n"
          ]
        },
        {
          "output_type": "stream",
          "name": "stderr",
          "text": [
            "Epoch 2: 100%|██████████| 600/600 [00:04<00:00, 132.28batch/s, accuracy=77.5, loss=0.515]\n"
          ]
        },
        {
          "output_type": "stream",
          "name": "stdout",
          "text": [
            "accuracy=73.0, loss=0.5902336290382664\n"
          ]
        },
        {
          "output_type": "stream",
          "name": "stderr",
          "text": [
            "Epoch 3: 100%|██████████| 600/600 [00:04<00:00, 132.07batch/s, accuracy=85, loss=0.373]\n"
          ]
        },
        {
          "output_type": "stream",
          "name": "stdout",
          "text": [
            "accuracy=79.75, loss=0.48510826598976564\n"
          ]
        },
        {
          "output_type": "stream",
          "name": "stderr",
          "text": [
            "Epoch 4: 100%|██████████| 600/600 [00:04<00:00, 141.20batch/s, accuracy=88.1, loss=0.301]\n"
          ]
        },
        {
          "output_type": "stream",
          "name": "stdout",
          "text": [
            "accuracy=82.375, loss=0.43990052010831276\n"
          ]
        },
        {
          "output_type": "stream",
          "name": "stderr",
          "text": [
            "Epoch 5: 100%|██████████| 600/600 [00:04<00:00, 138.65batch/s, accuracy=89, loss=0.271]\n"
          ]
        },
        {
          "output_type": "stream",
          "name": "stdout",
          "text": [
            "accuracy=82.75, loss=0.40779067015155307\n"
          ]
        },
        {
          "output_type": "stream",
          "name": "stderr",
          "text": [
            "Epoch 6: 100%|██████████| 600/600 [00:04<00:00, 135.03batch/s, accuracy=90.9, loss=0.234]\n"
          ]
        },
        {
          "output_type": "stream",
          "name": "stdout",
          "text": [
            "accuracy=83.625, loss=0.4053739071245764\n"
          ]
        },
        {
          "output_type": "stream",
          "name": "stderr",
          "text": [
            "Epoch 7: 100%|██████████| 600/600 [00:04<00:00, 131.77batch/s, accuracy=91.8, loss=0.212]\n"
          ]
        },
        {
          "output_type": "stream",
          "name": "stdout",
          "text": [
            "accuracy=87.125, loss=0.33799216335198706\n"
          ]
        },
        {
          "output_type": "stream",
          "name": "stderr",
          "text": [
            "Epoch 8: 100%|██████████| 600/600 [00:04<00:00, 141.60batch/s, accuracy=92.4, loss=0.195]\n"
          ]
        },
        {
          "output_type": "stream",
          "name": "stdout",
          "text": [
            "accuracy=87.875, loss=0.3242690448253325\n"
          ]
        },
        {
          "output_type": "stream",
          "name": "stderr",
          "text": [
            "Epoch 9: 100%|██████████| 600/600 [00:04<00:00, 139.45batch/s, accuracy=93.3, loss=0.183]\n"
          ]
        },
        {
          "output_type": "stream",
          "name": "stdout",
          "text": [
            "accuracy=90.0, loss=0.2871471604897988\n"
          ]
        },
        {
          "output_type": "stream",
          "name": "stderr",
          "text": [
            "Epoch 10: 100%|██████████| 600/600 [00:04<00:00, 144.66batch/s, accuracy=93.5, loss=0.174]\n"
          ]
        },
        {
          "output_type": "stream",
          "name": "stdout",
          "text": [
            "accuracy=87.125, loss=0.328410328779114\n"
          ]
        },
        {
          "output_type": "stream",
          "name": "stderr",
          "text": [
            "Epoch 11: 100%|██████████| 600/600 [00:04<00:00, 134.14batch/s, accuracy=93.9, loss=0.161]\n"
          ]
        },
        {
          "output_type": "stream",
          "name": "stdout",
          "text": [
            "accuracy=88.625, loss=0.30114653873782743\n"
          ]
        },
        {
          "output_type": "stream",
          "name": "stderr",
          "text": [
            "Epoch 12: 100%|██████████| 600/600 [00:04<00:00, 142.71batch/s, accuracy=94.1, loss=0.154]\n"
          ]
        },
        {
          "output_type": "stream",
          "name": "stdout",
          "text": [
            "accuracy=91.5, loss=0.2539748881992017\n"
          ]
        },
        {
          "output_type": "stream",
          "name": "stderr",
          "text": [
            "Epoch 13: 100%|██████████| 600/600 [00:04<00:00, 139.54batch/s, accuracy=94.3, loss=0.151]\n"
          ]
        },
        {
          "output_type": "stream",
          "name": "stdout",
          "text": [
            "accuracy=89.375, loss=0.2647795091731038\n"
          ]
        },
        {
          "output_type": "stream",
          "name": "stderr",
          "text": [
            "Epoch 14: 100%|██████████| 600/600 [00:04<00:00, 128.38batch/s, accuracy=94.6, loss=0.14]\n"
          ]
        },
        {
          "output_type": "stream",
          "name": "stdout",
          "text": [
            "accuracy=89.5, loss=0.29309340986461224\n"
          ]
        },
        {
          "output_type": "stream",
          "name": "stderr",
          "text": [
            "Epoch 15: 100%|██████████| 600/600 [00:04<00:00, 135.03batch/s, accuracy=94.9, loss=0.135]\n"
          ]
        },
        {
          "output_type": "stream",
          "name": "stdout",
          "text": [
            "accuracy=87.25, loss=0.3596710210796627\n"
          ]
        },
        {
          "output_type": "stream",
          "name": "stderr",
          "text": [
            "Epoch 16: 100%|██████████| 600/600 [00:04<00:00, 140.77batch/s, accuracy=95, loss=0.132]\n"
          ]
        },
        {
          "output_type": "stream",
          "name": "stdout",
          "text": [
            "accuracy=89.875, loss=0.24625501793531002\n"
          ]
        },
        {
          "output_type": "stream",
          "name": "stderr",
          "text": [
            "Epoch 17: 100%|██████████| 600/600 [00:04<00:00, 138.02batch/s, accuracy=95.2, loss=0.124]\n"
          ]
        },
        {
          "output_type": "stream",
          "name": "stdout",
          "text": [
            "accuracy=89.25, loss=0.26680423613998955\n"
          ]
        },
        {
          "output_type": "stream",
          "name": "stderr",
          "text": [
            "Epoch 18: 100%|██████████| 600/600 [00:04<00:00, 128.47batch/s, accuracy=95.7, loss=0.119]\n"
          ]
        },
        {
          "output_type": "stream",
          "name": "stdout",
          "text": [
            "accuracy=87.625, loss=0.3419298483070722\n"
          ]
        },
        {
          "output_type": "stream",
          "name": "stderr",
          "text": [
            "Epoch 19: 100%|██████████| 600/600 [00:04<00:00, 138.16batch/s, accuracy=95.3, loss=0.119]\n"
          ]
        },
        {
          "output_type": "stream",
          "name": "stdout",
          "text": [
            "accuracy=90.125, loss=0.24445075017716106\n"
          ]
        },
        {
          "output_type": "stream",
          "name": "stderr",
          "text": [
            "Epoch 20: 100%|██████████| 600/600 [00:04<00:00, 140.56batch/s, accuracy=95.6, loss=0.115]\n"
          ]
        },
        {
          "output_type": "stream",
          "name": "stdout",
          "text": [
            "accuracy=92.25, loss=0.22644413240756364\n"
          ]
        },
        {
          "output_type": "stream",
          "name": "stderr",
          "text": [
            "Epoch 21: 100%|██████████| 600/600 [00:04<00:00, 136.95batch/s, accuracy=95.8, loss=0.107]\n"
          ]
        },
        {
          "output_type": "stream",
          "name": "stdout",
          "text": [
            "accuracy=91.625, loss=0.21561801189170463\n"
          ]
        },
        {
          "output_type": "stream",
          "name": "stderr",
          "text": [
            "Epoch 22: 100%|██████████| 600/600 [00:04<00:00, 126.82batch/s, accuracy=95.9, loss=0.108]\n"
          ]
        },
        {
          "output_type": "stream",
          "name": "stdout",
          "text": [
            "accuracy=88.625, loss=0.2867843739781605\n"
          ]
        },
        {
          "output_type": "stream",
          "name": "stderr",
          "text": [
            "Epoch 23: 100%|██████████| 600/600 [00:04<00:00, 138.46batch/s, accuracy=96.4, loss=0.0996]\n"
          ]
        },
        {
          "output_type": "stream",
          "name": "stdout",
          "text": [
            "accuracy=91.625, loss=0.23486394729133742\n"
          ]
        },
        {
          "output_type": "stream",
          "name": "stderr",
          "text": [
            "Epoch 24: 100%|██████████| 600/600 [00:04<00:00, 141.23batch/s, accuracy=96.2, loss=0.101]\n"
          ]
        },
        {
          "output_type": "stream",
          "name": "stdout",
          "text": [
            "accuracy=91.375, loss=0.2357589077035726\n"
          ]
        },
        {
          "output_type": "stream",
          "name": "stderr",
          "text": [
            "Epoch 25: 100%|██████████| 600/600 [00:04<00:00, 138.36batch/s, accuracy=96.2, loss=0.0989]\n"
          ]
        },
        {
          "output_type": "stream",
          "name": "stdout",
          "text": [
            "accuracy=90.125, loss=0.2476244649273059\n"
          ]
        },
        {
          "output_type": "stream",
          "name": "stderr",
          "text": [
            "Epoch 26: 100%|██████████| 600/600 [00:04<00:00, 129.09batch/s, accuracy=96.5, loss=0.0922]\n"
          ]
        },
        {
          "output_type": "stream",
          "name": "stdout",
          "text": [
            "accuracy=89.625, loss=0.2914979675946631\n"
          ]
        },
        {
          "output_type": "stream",
          "name": "stderr",
          "text": [
            "Epoch 27: 100%|██████████| 600/600 [00:04<00:00, 140.01batch/s, accuracy=96.6, loss=0.0912]\n"
          ]
        },
        {
          "output_type": "stream",
          "name": "stdout",
          "text": [
            "accuracy=89.625, loss=0.29905082822748436\n"
          ]
        },
        {
          "output_type": "stream",
          "name": "stderr",
          "text": [
            "Epoch 28: 100%|██████████| 600/600 [00:04<00:00, 139.65batch/s, accuracy=96.8, loss=0.0883]\n"
          ]
        },
        {
          "output_type": "stream",
          "name": "stdout",
          "text": [
            "accuracy=91.625, loss=0.22002423478689814\n"
          ]
        },
        {
          "output_type": "stream",
          "name": "stderr",
          "text": [
            "Epoch 29: 100%|██████████| 600/600 [00:04<00:00, 131.01batch/s, accuracy=96.7, loss=0.0884]\n"
          ]
        },
        {
          "output_type": "stream",
          "name": "stdout",
          "text": [
            "accuracy=90.0, loss=0.30307799374632666\n"
          ]
        },
        {
          "output_type": "stream",
          "name": "stderr",
          "text": [
            "Epoch 30: 100%|██████████| 600/600 [00:04<00:00, 129.79batch/s, accuracy=96.9, loss=0.0844]\n"
          ]
        },
        {
          "output_type": "stream",
          "name": "stdout",
          "text": [
            "accuracy=92.5, loss=0.21253490644014106\n"
          ]
        },
        {
          "output_type": "stream",
          "name": "stderr",
          "text": [
            "Epoch 31: 100%|██████████| 600/600 [00:04<00:00, 138.67batch/s, accuracy=97, loss=0.0824]\n"
          ]
        },
        {
          "output_type": "stream",
          "name": "stdout",
          "text": [
            "accuracy=90.0, loss=0.29766017040733395\n"
          ]
        },
        {
          "output_type": "stream",
          "name": "stderr",
          "text": [
            "Epoch 32: 100%|██████████| 600/600 [00:04<00:00, 138.95batch/s, accuracy=97.2, loss=0.0808]\n"
          ]
        },
        {
          "output_type": "stream",
          "name": "stdout",
          "text": [
            "accuracy=92.625, loss=0.20190668628327121\n"
          ]
        },
        {
          "output_type": "stream",
          "name": "stderr",
          "text": [
            "Epoch 33: 100%|██████████| 600/600 [00:04<00:00, 131.61batch/s, accuracy=97.2, loss=0.0758]\n"
          ]
        },
        {
          "output_type": "stream",
          "name": "stdout",
          "text": [
            "accuracy=91.375, loss=0.23618470382550555\n"
          ]
        },
        {
          "output_type": "stream",
          "name": "stderr",
          "text": [
            "Epoch 34: 100%|██████████| 600/600 [00:04<00:00, 126.16batch/s, accuracy=97, loss=0.081]\n"
          ]
        },
        {
          "output_type": "stream",
          "name": "stdout",
          "text": [
            "accuracy=91.375, loss=0.2434287237968655\n"
          ]
        },
        {
          "output_type": "stream",
          "name": "stderr",
          "text": [
            "Epoch 35: 100%|██████████| 600/600 [00:04<00:00, 138.50batch/s, accuracy=97.3, loss=0.0742]\n"
          ]
        },
        {
          "output_type": "stream",
          "name": "stdout",
          "text": [
            "accuracy=91.875, loss=0.21173575629785837\n"
          ]
        },
        {
          "output_type": "stream",
          "name": "stderr",
          "text": [
            "Epoch 36: 100%|██████████| 600/600 [00:04<00:00, 135.13batch/s, accuracy=97.2, loss=0.0768]\n"
          ]
        },
        {
          "output_type": "stream",
          "name": "stdout",
          "text": [
            "accuracy=93.625, loss=0.18033885744636227\n"
          ]
        },
        {
          "output_type": "stream",
          "name": "stderr",
          "text": [
            "Epoch 37: 100%|██████████| 600/600 [00:04<00:00, 138.18batch/s, accuracy=97.3, loss=0.0707]\n"
          ]
        },
        {
          "output_type": "stream",
          "name": "stdout",
          "text": [
            "accuracy=89.75, loss=0.272010965386856\n"
          ]
        },
        {
          "output_type": "stream",
          "name": "stderr",
          "text": [
            "Epoch 38: 100%|██████████| 600/600 [00:04<00:00, 130.80batch/s, accuracy=97.4, loss=0.0711]\n"
          ]
        },
        {
          "output_type": "stream",
          "name": "stdout",
          "text": [
            "accuracy=93.5, loss=0.18418353962097023\n"
          ]
        },
        {
          "output_type": "stream",
          "name": "stderr",
          "text": [
            "Epoch 39: 100%|██████████| 600/600 [00:04<00:00, 135.50batch/s, accuracy=97.6, loss=0.0657]\n"
          ]
        },
        {
          "output_type": "stream",
          "name": "stdout",
          "text": [
            "accuracy=92.5, loss=0.2093812898969911\n"
          ]
        },
        {
          "output_type": "stream",
          "name": "stderr",
          "text": [
            "Epoch 40: 100%|██████████| 600/600 [00:04<00:00, 138.00batch/s, accuracy=97.5, loss=0.0663]\n"
          ]
        },
        {
          "output_type": "stream",
          "name": "stdout",
          "text": [
            "accuracy=89.625, loss=0.29324227218660814\n",
            "\n",
            "Test performance\n",
            "lang accuracy loss\n",
            "------------------\n",
            "  en     49.4  2.9\n",
            "  ch     94.5  0.1\n",
            "\n"
          ]
        },
        {
          "output_type": "stream",
          "name": "stderr",
          "text": [
            "Some weights of the model checkpoint at facebook/wav2vec2-base were not used when initializing Wav2Vec2Model: ['quantizer.codevectors', 'project_q.bias', 'quantizer.weight_proj.weight', 'project_hid.bias', 'project_q.weight', 'quantizer.weight_proj.bias', 'project_hid.weight']\n",
            "- This IS expected if you are initializing Wav2Vec2Model from the checkpoint of a model trained on another task or with another architecture (e.g. initializing a BertForSequenceClassification model from a BertForPreTraining model).\n",
            "- This IS NOT expected if you are initializing Wav2Vec2Model from the checkpoint of a model that you expect to be exactly identical (initializing a BertForSequenceClassification model from a BertForSequenceClassification model).\n"
          ]
        },
        {
          "output_type": "stream",
          "name": "stdout",
          "text": [
            "Begin training\n"
          ]
        },
        {
          "output_type": "stream",
          "name": "stderr",
          "text": [
            "Epoch 1: 100%|██████████| 600/600 [00:04<00:00, 137.38batch/s, accuracy=53.9, loss=0.993]\n"
          ]
        },
        {
          "output_type": "stream",
          "name": "stdout",
          "text": [
            "accuracy=62.25, loss=0.7453620077413506\n"
          ]
        },
        {
          "output_type": "stream",
          "name": "stderr",
          "text": [
            "Epoch 2: 100%|██████████| 600/600 [00:04<00:00, 133.37batch/s, accuracy=76.8, loss=0.522]\n"
          ]
        },
        {
          "output_type": "stream",
          "name": "stdout",
          "text": [
            "accuracy=74.375, loss=0.5756049863983935\n"
          ]
        },
        {
          "output_type": "stream",
          "name": "stderr",
          "text": [
            "Epoch 3: 100%|██████████| 600/600 [00:04<00:00, 127.71batch/s, accuracy=84.7, loss=0.373]\n"
          ]
        },
        {
          "output_type": "stream",
          "name": "stdout",
          "text": [
            "accuracy=77.75, loss=0.5147486092682084\n"
          ]
        },
        {
          "output_type": "stream",
          "name": "stderr",
          "text": [
            "Epoch 4: 100%|██████████| 600/600 [00:04<00:00, 136.10batch/s, accuracy=87.8, loss=0.306]\n"
          ]
        },
        {
          "output_type": "stream",
          "name": "stdout",
          "text": [
            "accuracy=82.375, loss=0.4597705208586558\n"
          ]
        },
        {
          "output_type": "stream",
          "name": "stderr",
          "text": [
            "Epoch 5: 100%|██████████| 600/600 [00:04<00:00, 137.61batch/s, accuracy=89.5, loss=0.262]\n"
          ]
        },
        {
          "output_type": "stream",
          "name": "stdout",
          "text": [
            "accuracy=83.125, loss=0.4287510116807971\n"
          ]
        },
        {
          "output_type": "stream",
          "name": "stderr",
          "text": [
            "Epoch 6: 100%|██████████| 600/600 [00:04<00:00, 136.18batch/s, accuracy=90.7, loss=0.238]\n"
          ]
        },
        {
          "output_type": "stream",
          "name": "stdout",
          "text": [
            "accuracy=86.125, loss=0.3388274252429619\n"
          ]
        },
        {
          "output_type": "stream",
          "name": "stderr",
          "text": [
            "Epoch 7: 100%|██████████| 600/600 [00:04<00:00, 134.29batch/s, accuracy=91.7, loss=0.216]\n"
          ]
        },
        {
          "output_type": "stream",
          "name": "stdout",
          "text": [
            "accuracy=86.875, loss=0.33741032037903096\n"
          ]
        },
        {
          "output_type": "stream",
          "name": "stderr",
          "text": [
            "Epoch 8: 100%|██████████| 600/600 [00:04<00:00, 133.00batch/s, accuracy=92.2, loss=0.2]\n"
          ]
        },
        {
          "output_type": "stream",
          "name": "stdout",
          "text": [
            "accuracy=88.375, loss=0.31457500534793553\n"
          ]
        },
        {
          "output_type": "stream",
          "name": "stderr",
          "text": [
            "Epoch 9: 100%|██████████| 600/600 [00:04<00:00, 135.22batch/s, accuracy=93.1, loss=0.184]\n"
          ]
        },
        {
          "output_type": "stream",
          "name": "stdout",
          "text": [
            "accuracy=87.0, loss=0.33054266459757853\n"
          ]
        },
        {
          "output_type": "stream",
          "name": "stderr",
          "text": [
            "Epoch 10: 100%|██████████| 600/600 [00:04<00:00, 136.76batch/s, accuracy=93.1, loss=0.173]\n"
          ]
        },
        {
          "output_type": "stream",
          "name": "stdout",
          "text": [
            "accuracy=88.25, loss=0.2919589623035006\n"
          ]
        },
        {
          "output_type": "stream",
          "name": "stderr",
          "text": [
            "Epoch 11: 100%|██████████| 600/600 [00:04<00:00, 128.82batch/s, accuracy=93.8, loss=0.162]\n"
          ]
        },
        {
          "output_type": "stream",
          "name": "stdout",
          "text": [
            "accuracy=87.875, loss=0.30369743833910434\n"
          ]
        },
        {
          "output_type": "stream",
          "name": "stderr",
          "text": [
            "Epoch 12: 100%|██████████| 600/600 [00:04<00:00, 129.01batch/s, accuracy=93.9, loss=0.158]\n"
          ]
        },
        {
          "output_type": "stream",
          "name": "stdout",
          "text": [
            "accuracy=89.875, loss=0.26538831598222257\n"
          ]
        },
        {
          "output_type": "stream",
          "name": "stderr",
          "text": [
            "Epoch 13: 100%|██████████| 600/600 [00:04<00:00, 134.21batch/s, accuracy=94.2, loss=0.153]\n"
          ]
        },
        {
          "output_type": "stream",
          "name": "stdout",
          "text": [
            "accuracy=89.0, loss=0.27258236578366335\n"
          ]
        },
        {
          "output_type": "stream",
          "name": "stderr",
          "text": [
            "Epoch 14: 100%|██████████| 600/600 [00:04<00:00, 134.96batch/s, accuracy=94.5, loss=0.14]\n"
          ]
        },
        {
          "output_type": "stream",
          "name": "stdout",
          "text": [
            "accuracy=90.5, loss=0.24877684564492542\n"
          ]
        },
        {
          "output_type": "stream",
          "name": "stderr",
          "text": [
            "Epoch 15: 100%|██████████| 600/600 [00:04<00:00, 127.29batch/s, accuracy=94.5, loss=0.139]\n"
          ]
        },
        {
          "output_type": "stream",
          "name": "stdout",
          "text": [
            "accuracy=90.0, loss=0.26723820344500154\n"
          ]
        },
        {
          "output_type": "stream",
          "name": "stderr",
          "text": [
            "Epoch 16: 100%|██████████| 600/600 [00:04<00:00, 133.10batch/s, accuracy=94.9, loss=0.13]\n"
          ]
        },
        {
          "output_type": "stream",
          "name": "stdout",
          "text": [
            "accuracy=90.875, loss=0.25319881175118697\n"
          ]
        },
        {
          "output_type": "stream",
          "name": "stderr",
          "text": [
            "Epoch 17: 100%|██████████| 600/600 [00:04<00:00, 134.76batch/s, accuracy=95.4, loss=0.125]\n"
          ]
        },
        {
          "output_type": "stream",
          "name": "stdout",
          "text": [
            "accuracy=90.25, loss=0.2389247743718795\n"
          ]
        },
        {
          "output_type": "stream",
          "name": "stderr",
          "text": [
            "Epoch 18: 100%|██████████| 600/600 [00:04<00:00, 139.68batch/s, accuracy=95.2, loss=0.125]\n"
          ]
        },
        {
          "output_type": "stream",
          "name": "stdout",
          "text": [
            "accuracy=90.875, loss=0.23041279962312458\n"
          ]
        },
        {
          "output_type": "stream",
          "name": "stderr",
          "text": [
            "Epoch 19: 100%|██████████| 600/600 [00:04<00:00, 142.07batch/s, accuracy=95.7, loss=0.115]\n"
          ]
        },
        {
          "output_type": "stream",
          "name": "stdout",
          "text": [
            "accuracy=90.5, loss=0.23404921718625415\n"
          ]
        },
        {
          "output_type": "stream",
          "name": "stderr",
          "text": [
            "Epoch 20: 100%|██████████| 600/600 [00:04<00:00, 131.30batch/s, accuracy=96, loss=0.11]\n"
          ]
        },
        {
          "output_type": "stream",
          "name": "stdout",
          "text": [
            "accuracy=88.375, loss=0.313432241764405\n"
          ]
        },
        {
          "output_type": "stream",
          "name": "stderr",
          "text": [
            "Epoch 21: 100%|██████████| 600/600 [00:04<00:00, 137.57batch/s, accuracy=96, loss=0.11]\n"
          ]
        },
        {
          "output_type": "stream",
          "name": "stdout",
          "text": [
            "accuracy=90.375, loss=0.2941631302112061\n"
          ]
        },
        {
          "output_type": "stream",
          "name": "stderr",
          "text": [
            "Epoch 22: 100%|██████████| 600/600 [00:04<00:00, 134.86batch/s, accuracy=95.9, loss=0.106]\n"
          ]
        },
        {
          "output_type": "stream",
          "name": "stdout",
          "text": [
            "accuracy=91.75, loss=0.22058601702241687\n"
          ]
        },
        {
          "output_type": "stream",
          "name": "stderr",
          "text": [
            "Epoch 23: 100%|██████████| 600/600 [00:04<00:00, 135.50batch/s, accuracy=96.3, loss=0.102]\n"
          ]
        },
        {
          "output_type": "stream",
          "name": "stdout",
          "text": [
            "accuracy=90.125, loss=0.25079787503928236\n"
          ]
        },
        {
          "output_type": "stream",
          "name": "stderr",
          "text": [
            "Epoch 24: 100%|██████████| 600/600 [00:04<00:00, 128.74batch/s, accuracy=96.1, loss=0.103]\n"
          ]
        },
        {
          "output_type": "stream",
          "name": "stdout",
          "text": [
            "accuracy=90.5, loss=0.2521078417702596\n"
          ]
        },
        {
          "output_type": "stream",
          "name": "stderr",
          "text": [
            "Epoch 25: 100%|██████████| 600/600 [00:04<00:00, 137.29batch/s, accuracy=96.3, loss=0.0986]\n"
          ]
        },
        {
          "output_type": "stream",
          "name": "stdout",
          "text": [
            "accuracy=91.0, loss=0.23227197223370805\n"
          ]
        },
        {
          "output_type": "stream",
          "name": "stderr",
          "text": [
            "Epoch 26: 100%|██████████| 600/600 [00:04<00:00, 135.73batch/s, accuracy=96.4, loss=0.0968]\n"
          ]
        },
        {
          "output_type": "stream",
          "name": "stdout",
          "text": [
            "accuracy=90.125, loss=0.27604377830906907\n"
          ]
        },
        {
          "output_type": "stream",
          "name": "stderr",
          "text": [
            "Epoch 27: 100%|██████████| 600/600 [00:04<00:00, 132.92batch/s, accuracy=96.3, loss=0.0966]\n"
          ]
        },
        {
          "output_type": "stream",
          "name": "stdout",
          "text": [
            "accuracy=90.375, loss=0.26191963427206627\n"
          ]
        },
        {
          "output_type": "stream",
          "name": "stderr",
          "text": [
            "Epoch 28: 100%|██████████| 600/600 [00:04<00:00, 129.27batch/s, accuracy=96.6, loss=0.0915]\n"
          ]
        },
        {
          "output_type": "stream",
          "name": "stdout",
          "text": [
            "accuracy=90.75, loss=0.2466421094978127\n"
          ]
        },
        {
          "output_type": "stream",
          "name": "stderr",
          "text": [
            "Epoch 29: 100%|██████████| 600/600 [00:04<00:00, 134.51batch/s, accuracy=96.8, loss=0.0862]\n"
          ]
        },
        {
          "output_type": "stream",
          "name": "stdout",
          "text": [
            "accuracy=90.125, loss=0.2695133833756317\n"
          ]
        },
        {
          "output_type": "stream",
          "name": "stderr",
          "text": [
            "Epoch 30: 100%|██████████| 600/600 [00:04<00:00, 132.77batch/s, accuracy=96.7, loss=0.0839]\n"
          ]
        },
        {
          "output_type": "stream",
          "name": "stdout",
          "text": [
            "accuracy=92.75, loss=0.2112163903012092\n"
          ]
        },
        {
          "output_type": "stream",
          "name": "stderr",
          "text": [
            "Epoch 31: 100%|██████████| 600/600 [00:04<00:00, 134.77batch/s, accuracy=97.3, loss=0.0752]\n"
          ]
        },
        {
          "output_type": "stream",
          "name": "stdout",
          "text": [
            "accuracy=92.875, loss=0.20098423719489933\n"
          ]
        },
        {
          "output_type": "stream",
          "name": "stderr",
          "text": [
            "Epoch 32: 100%|██████████| 600/600 [00:04<00:00, 136.63batch/s, accuracy=97, loss=0.0813]\n"
          ]
        },
        {
          "output_type": "stream",
          "name": "stdout",
          "text": [
            "accuracy=92.5, loss=0.22438071434201107\n"
          ]
        },
        {
          "output_type": "stream",
          "name": "stderr",
          "text": [
            "Epoch 33: 100%|██████████| 600/600 [00:04<00:00, 127.73batch/s, accuracy=97.1, loss=0.0783]\n"
          ]
        },
        {
          "output_type": "stream",
          "name": "stdout",
          "text": [
            "accuracy=92.5, loss=0.21855263901012115\n"
          ]
        },
        {
          "output_type": "stream",
          "name": "stderr",
          "text": [
            "Epoch 34: 100%|██████████| 600/600 [00:04<00:00, 133.69batch/s, accuracy=97.2, loss=0.0737]\n"
          ]
        },
        {
          "output_type": "stream",
          "name": "stdout",
          "text": [
            "accuracy=92.5, loss=0.22537956920689972\n"
          ]
        },
        {
          "output_type": "stream",
          "name": "stderr",
          "text": [
            "Epoch 35: 100%|██████████| 600/600 [00:04<00:00, 132.13batch/s, accuracy=97, loss=0.0772]\n"
          ]
        },
        {
          "output_type": "stream",
          "name": "stdout",
          "text": [
            "accuracy=91.875, loss=0.22984655976226834\n"
          ]
        },
        {
          "output_type": "stream",
          "name": "stderr",
          "text": [
            "Epoch 36: 100%|██████████| 600/600 [00:04<00:00, 131.69batch/s, accuracy=97.4, loss=0.0702]\n"
          ]
        },
        {
          "output_type": "stream",
          "name": "stdout",
          "text": [
            "accuracy=93.625, loss=0.1936424069426995\n"
          ]
        },
        {
          "output_type": "stream",
          "name": "stderr",
          "text": [
            "Epoch 37: 100%|██████████| 600/600 [00:04<00:00, 129.13batch/s, accuracy=97.4, loss=0.0695]\n"
          ]
        },
        {
          "output_type": "stream",
          "name": "stdout",
          "text": [
            "accuracy=92.625, loss=0.20579308653459505\n"
          ]
        },
        {
          "output_type": "stream",
          "name": "stderr",
          "text": [
            "Epoch 38: 100%|██████████| 600/600 [00:04<00:00, 135.08batch/s, accuracy=97.3, loss=0.0709]\n"
          ]
        },
        {
          "output_type": "stream",
          "name": "stdout",
          "text": [
            "accuracy=92.375, loss=0.23244528640972106\n"
          ]
        },
        {
          "output_type": "stream",
          "name": "stderr",
          "text": [
            "Epoch 39: 100%|██████████| 600/600 [00:04<00:00, 131.16batch/s, accuracy=97.5, loss=0.0664]\n"
          ]
        },
        {
          "output_type": "stream",
          "name": "stdout",
          "text": [
            "accuracy=93.375, loss=0.19740471928921305\n"
          ]
        },
        {
          "output_type": "stream",
          "name": "stderr",
          "text": [
            "Epoch 40: 100%|██████████| 600/600 [00:04<00:00, 140.84batch/s, accuracy=97.6, loss=0.0643]\n"
          ]
        },
        {
          "output_type": "stream",
          "name": "stdout",
          "text": [
            "accuracy=93.875, loss=0.18135514838486\n",
            "\n",
            "Test performance\n",
            "lang accuracy loss\n",
            "------------------\n",
            "  en     54.4  2.3\n",
            "  ch     96.7  0.1\n",
            "\n",
            "\n",
            "\n",
            "Trained on ch Wav2Vec2.0-base voiceprints\n",
            "Average test performance over 2 iteration(s)\n",
            "lang accuracy loss\n",
            "------------------\n",
            "  en     51.9  2.6\n",
            "  ch     95.6  0.1\n",
            "\n",
            "Running the script took 00:06:20\n"
          ]
        }
      ]
    },
    {
      "cell_type": "markdown",
      "source": [
        "## Transform wav files to wav2vec2.0 pooled VPs"
      ],
      "metadata": {
        "id": "nk3PjE2oVEwh"
      }
    },
    {
      "cell_type": "code",
      "source": [
        " # w2v = pipeline.sermod._ser\n",
        "  # pooler = pipeline.sermod._pooler\n",
        "\n",
        "  # datasets_to_save = [pipeline.en_test_dataset]\n",
        "\n",
        "  # for dataset_to_save in datasets_to_save:\n",
        "  #   for i, (inputs, targets) in enumerate(dataset_to_save.samples):\n",
        "  #     # inputs, targets = dataset_to_save[i]\n",
        "  #     if torch.cuda.is_available():\n",
        "  #       inputs = inputs.cuda()\n",
        "  #       targets = targets.cuda()\n",
        "  #     with torch.no_grad():\n",
        "  #       res = w2v(inputs).last_hidden_state\n",
        "  #     res = pooler(res.transpose(1,2))\n",
        "  #     dataset_to_save.samples[i] = (res, targets)\n",
        "\n",
        "  #   save_langs = '_'.join(dataset_to_save.LANGS)\n",
        "  #   save_split = dataset_to_save.split\n",
        "  #   if save_split == \"evaluation\":\n",
        "  #     save_split = \"eval\"\n",
        "  #   to_save_path = os.path.join(pipeline.pickle_dir, \n",
        "  #                               f\"{save_langs}_{save_split}_dataset.pkl\")\n",
        "  #   with open(to_save_path, \"wb\") as outfile:\n",
        "  #     pickle.dump(dataset_to_save, outfile)\n",
        "\n",
        "  # i = 0\n",
        "  # for inputs, targets in DataLoader(pipeline.en_test_dataset, batch_size=1, #pipeline.sermod.BATCH_SIZE, \n",
        "  #                                   shuffle=False, num_workers=0, collate_fn=pipeline.sermod.coll_fn):\n",
        "  #   if torch.cuda.is_available():\n",
        "  #     inputs = inputs.cuda()\n",
        "  #     targets = targets.cuda()\n",
        "  #   # print(inputs.shape, targets.shape, \"\\n\", inputs, targets)\n",
        "  #   with torch.no_grad():\n",
        "  #     res = w2v(inputs).last_hidden_state\n",
        "  #   res = pooler(res.transpose(1,2))\n",
        "  #   pipeline.en_test_dataset.samples[i] = (res, targets)\n",
        "  #   i += 1\n",
        "  # # for i in range(len(pipeline.train_dataset.samples)):\n",
        "  # #   pipeline.train_dataset.samples[i] = pipeline.train_dataset[i]\n",
        "  # with open(os.path.join(pipeline.pickle_dir, f\"{'_'.join(langs)}_test_dataset.pkl\"), \"wb\") as outfile:\n",
        "  #   pickle.dump(pipeline.en_test_dataset, outfile)\n",
        "\n",
        "  # for i in range(len(pipeline.evaluation_dataset.samples)):\n",
        "  #   pipeline.evaluation_dataset.samples[i] = pipeline.evaluation_dataset[i]\n",
        "  # with open(os.path.join(pipeline.pickle_dir, f\"{'_'.join(langs)}_eval_dataset.pkl\"), \"wb\") as outfile:\n",
        "  #   pickle.dump(pipeline.eval_dataset, outfile)\n",
        "\n",
        "  # with open(os.path.join(pipeline.pickle_dir, f\"ch_test_dataset_pooled.pkl\"), \"wb\") as outfile:\n",
        "  #   pickle.dump(pipeline.ch_test_dataset, outfile)"
      ],
      "metadata": {
        "id": "j0axM1h5VCRZ"
      },
      "execution_count": null,
      "outputs": []
    }
  ],
  "metadata": {
    "accelerator": "GPU",
    "colab": {
      "provenance": [],
      "collapsed_sections": [
        "pyzERXlV-k9M",
        "Fx0LUkDL-tws",
        "lKewIeq0n4p7",
        "BM6-SC1s-8h0",
        "AMt0dhOBtxyh",
        "P1mo9Ni2t5At",
        "nk3PjE2oVEwh"
      ]
    },
    "gpuClass": "standard",
    "kernelspec": {
      "display_name": "Python 3",
      "name": "python3"
    },
    "language_info": {
      "name": "python"
    },
    "widgets": {
      "application/vnd.jupyter.widget-state+json": {
        "f158031e2b4f4a36a5f8738f7ba7d98c": {
          "model_module": "@jupyter-widgets/controls",
          "model_name": "HBoxModel",
          "model_module_version": "1.5.0",
          "state": {
            "_dom_classes": [],
            "_model_module": "@jupyter-widgets/controls",
            "_model_module_version": "1.5.0",
            "_model_name": "HBoxModel",
            "_view_count": null,
            "_view_module": "@jupyter-widgets/controls",
            "_view_module_version": "1.5.0",
            "_view_name": "HBoxView",
            "box_style": "",
            "children": [
              "IPY_MODEL_22c7bc9910124199adc6a7ebeb9e10cf",
              "IPY_MODEL_562a6ef79f504802a268614ced49aa30",
              "IPY_MODEL_68ced129a32041c6a492eda5a8afb14f"
            ],
            "layout": "IPY_MODEL_40efa11eb82740458def30c41bffa7f5"
          }
        },
        "22c7bc9910124199adc6a7ebeb9e10cf": {
          "model_module": "@jupyter-widgets/controls",
          "model_name": "HTMLModel",
          "model_module_version": "1.5.0",
          "state": {
            "_dom_classes": [],
            "_model_module": "@jupyter-widgets/controls",
            "_model_module_version": "1.5.0",
            "_model_name": "HTMLModel",
            "_view_count": null,
            "_view_module": "@jupyter-widgets/controls",
            "_view_module_version": "1.5.0",
            "_view_name": "HTMLView",
            "description": "",
            "description_tooltip": null,
            "layout": "IPY_MODEL_d135890fc1014b839f1eb5d11a372c52",
            "placeholder": "​",
            "style": "IPY_MODEL_b024c4acbae94f29b2aa1d743a885aad",
            "value": "Downloading (…)lve/main/config.json: 100%"
          }
        },
        "562a6ef79f504802a268614ced49aa30": {
          "model_module": "@jupyter-widgets/controls",
          "model_name": "FloatProgressModel",
          "model_module_version": "1.5.0",
          "state": {
            "_dom_classes": [],
            "_model_module": "@jupyter-widgets/controls",
            "_model_module_version": "1.5.0",
            "_model_name": "FloatProgressModel",
            "_view_count": null,
            "_view_module": "@jupyter-widgets/controls",
            "_view_module_version": "1.5.0",
            "_view_name": "ProgressView",
            "bar_style": "success",
            "description": "",
            "description_tooltip": null,
            "layout": "IPY_MODEL_8430a9ad9e724b08a3f03f7d9b5189ca",
            "max": 1842,
            "min": 0,
            "orientation": "horizontal",
            "style": "IPY_MODEL_5966e5c4d55041eb8cc152254d72f68d",
            "value": 1842
          }
        },
        "68ced129a32041c6a492eda5a8afb14f": {
          "model_module": "@jupyter-widgets/controls",
          "model_name": "HTMLModel",
          "model_module_version": "1.5.0",
          "state": {
            "_dom_classes": [],
            "_model_module": "@jupyter-widgets/controls",
            "_model_module_version": "1.5.0",
            "_model_name": "HTMLModel",
            "_view_count": null,
            "_view_module": "@jupyter-widgets/controls",
            "_view_module_version": "1.5.0",
            "_view_name": "HTMLView",
            "description": "",
            "description_tooltip": null,
            "layout": "IPY_MODEL_5f924f44bd994acaa1b73e9b3e11e1c2",
            "placeholder": "​",
            "style": "IPY_MODEL_1dd13a40631b498291a6babc11d33bda",
            "value": " 1.84k/1.84k [00:00&lt;00:00, 54.8kB/s]"
          }
        },
        "40efa11eb82740458def30c41bffa7f5": {
          "model_module": "@jupyter-widgets/base",
          "model_name": "LayoutModel",
          "model_module_version": "1.2.0",
          "state": {
            "_model_module": "@jupyter-widgets/base",
            "_model_module_version": "1.2.0",
            "_model_name": "LayoutModel",
            "_view_count": null,
            "_view_module": "@jupyter-widgets/base",
            "_view_module_version": "1.2.0",
            "_view_name": "LayoutView",
            "align_content": null,
            "align_items": null,
            "align_self": null,
            "border": null,
            "bottom": null,
            "display": null,
            "flex": null,
            "flex_flow": null,
            "grid_area": null,
            "grid_auto_columns": null,
            "grid_auto_flow": null,
            "grid_auto_rows": null,
            "grid_column": null,
            "grid_gap": null,
            "grid_row": null,
            "grid_template_areas": null,
            "grid_template_columns": null,
            "grid_template_rows": null,
            "height": null,
            "justify_content": null,
            "justify_items": null,
            "left": null,
            "margin": null,
            "max_height": null,
            "max_width": null,
            "min_height": null,
            "min_width": null,
            "object_fit": null,
            "object_position": null,
            "order": null,
            "overflow": null,
            "overflow_x": null,
            "overflow_y": null,
            "padding": null,
            "right": null,
            "top": null,
            "visibility": null,
            "width": null
          }
        },
        "d135890fc1014b839f1eb5d11a372c52": {
          "model_module": "@jupyter-widgets/base",
          "model_name": "LayoutModel",
          "model_module_version": "1.2.0",
          "state": {
            "_model_module": "@jupyter-widgets/base",
            "_model_module_version": "1.2.0",
            "_model_name": "LayoutModel",
            "_view_count": null,
            "_view_module": "@jupyter-widgets/base",
            "_view_module_version": "1.2.0",
            "_view_name": "LayoutView",
            "align_content": null,
            "align_items": null,
            "align_self": null,
            "border": null,
            "bottom": null,
            "display": null,
            "flex": null,
            "flex_flow": null,
            "grid_area": null,
            "grid_auto_columns": null,
            "grid_auto_flow": null,
            "grid_auto_rows": null,
            "grid_column": null,
            "grid_gap": null,
            "grid_row": null,
            "grid_template_areas": null,
            "grid_template_columns": null,
            "grid_template_rows": null,
            "height": null,
            "justify_content": null,
            "justify_items": null,
            "left": null,
            "margin": null,
            "max_height": null,
            "max_width": null,
            "min_height": null,
            "min_width": null,
            "object_fit": null,
            "object_position": null,
            "order": null,
            "overflow": null,
            "overflow_x": null,
            "overflow_y": null,
            "padding": null,
            "right": null,
            "top": null,
            "visibility": null,
            "width": null
          }
        },
        "b024c4acbae94f29b2aa1d743a885aad": {
          "model_module": "@jupyter-widgets/controls",
          "model_name": "DescriptionStyleModel",
          "model_module_version": "1.5.0",
          "state": {
            "_model_module": "@jupyter-widgets/controls",
            "_model_module_version": "1.5.0",
            "_model_name": "DescriptionStyleModel",
            "_view_count": null,
            "_view_module": "@jupyter-widgets/base",
            "_view_module_version": "1.2.0",
            "_view_name": "StyleView",
            "description_width": ""
          }
        },
        "8430a9ad9e724b08a3f03f7d9b5189ca": {
          "model_module": "@jupyter-widgets/base",
          "model_name": "LayoutModel",
          "model_module_version": "1.2.0",
          "state": {
            "_model_module": "@jupyter-widgets/base",
            "_model_module_version": "1.2.0",
            "_model_name": "LayoutModel",
            "_view_count": null,
            "_view_module": "@jupyter-widgets/base",
            "_view_module_version": "1.2.0",
            "_view_name": "LayoutView",
            "align_content": null,
            "align_items": null,
            "align_self": null,
            "border": null,
            "bottom": null,
            "display": null,
            "flex": null,
            "flex_flow": null,
            "grid_area": null,
            "grid_auto_columns": null,
            "grid_auto_flow": null,
            "grid_auto_rows": null,
            "grid_column": null,
            "grid_gap": null,
            "grid_row": null,
            "grid_template_areas": null,
            "grid_template_columns": null,
            "grid_template_rows": null,
            "height": null,
            "justify_content": null,
            "justify_items": null,
            "left": null,
            "margin": null,
            "max_height": null,
            "max_width": null,
            "min_height": null,
            "min_width": null,
            "object_fit": null,
            "object_position": null,
            "order": null,
            "overflow": null,
            "overflow_x": null,
            "overflow_y": null,
            "padding": null,
            "right": null,
            "top": null,
            "visibility": null,
            "width": null
          }
        },
        "5966e5c4d55041eb8cc152254d72f68d": {
          "model_module": "@jupyter-widgets/controls",
          "model_name": "ProgressStyleModel",
          "model_module_version": "1.5.0",
          "state": {
            "_model_module": "@jupyter-widgets/controls",
            "_model_module_version": "1.5.0",
            "_model_name": "ProgressStyleModel",
            "_view_count": null,
            "_view_module": "@jupyter-widgets/base",
            "_view_module_version": "1.2.0",
            "_view_name": "StyleView",
            "bar_color": null,
            "description_width": ""
          }
        },
        "5f924f44bd994acaa1b73e9b3e11e1c2": {
          "model_module": "@jupyter-widgets/base",
          "model_name": "LayoutModel",
          "model_module_version": "1.2.0",
          "state": {
            "_model_module": "@jupyter-widgets/base",
            "_model_module_version": "1.2.0",
            "_model_name": "LayoutModel",
            "_view_count": null,
            "_view_module": "@jupyter-widgets/base",
            "_view_module_version": "1.2.0",
            "_view_name": "LayoutView",
            "align_content": null,
            "align_items": null,
            "align_self": null,
            "border": null,
            "bottom": null,
            "display": null,
            "flex": null,
            "flex_flow": null,
            "grid_area": null,
            "grid_auto_columns": null,
            "grid_auto_flow": null,
            "grid_auto_rows": null,
            "grid_column": null,
            "grid_gap": null,
            "grid_row": null,
            "grid_template_areas": null,
            "grid_template_columns": null,
            "grid_template_rows": null,
            "height": null,
            "justify_content": null,
            "justify_items": null,
            "left": null,
            "margin": null,
            "max_height": null,
            "max_width": null,
            "min_height": null,
            "min_width": null,
            "object_fit": null,
            "object_position": null,
            "order": null,
            "overflow": null,
            "overflow_x": null,
            "overflow_y": null,
            "padding": null,
            "right": null,
            "top": null,
            "visibility": null,
            "width": null
          }
        },
        "1dd13a40631b498291a6babc11d33bda": {
          "model_module": "@jupyter-widgets/controls",
          "model_name": "DescriptionStyleModel",
          "model_module_version": "1.5.0",
          "state": {
            "_model_module": "@jupyter-widgets/controls",
            "_model_module_version": "1.5.0",
            "_model_name": "DescriptionStyleModel",
            "_view_count": null,
            "_view_module": "@jupyter-widgets/base",
            "_view_module_version": "1.2.0",
            "_view_name": "StyleView",
            "description_width": ""
          }
        },
        "b21a4251bb264ccbb0df886b7ce5077b": {
          "model_module": "@jupyter-widgets/controls",
          "model_name": "HBoxModel",
          "model_module_version": "1.5.0",
          "state": {
            "_dom_classes": [],
            "_model_module": "@jupyter-widgets/controls",
            "_model_module_version": "1.5.0",
            "_model_name": "HBoxModel",
            "_view_count": null,
            "_view_module": "@jupyter-widgets/controls",
            "_view_module_version": "1.5.0",
            "_view_name": "HBoxView",
            "box_style": "",
            "children": [
              "IPY_MODEL_1ea817d8c235458f89563488a00993c1",
              "IPY_MODEL_bd75cc8e2fff437b8bd220f9489e6e2b",
              "IPY_MODEL_c31286061d67478bbe06d654acb98135"
            ],
            "layout": "IPY_MODEL_fc1f9bd4dd694294ab21abbde6a5dd67"
          }
        },
        "1ea817d8c235458f89563488a00993c1": {
          "model_module": "@jupyter-widgets/controls",
          "model_name": "HTMLModel",
          "model_module_version": "1.5.0",
          "state": {
            "_dom_classes": [],
            "_model_module": "@jupyter-widgets/controls",
            "_model_module_version": "1.5.0",
            "_model_name": "HTMLModel",
            "_view_count": null,
            "_view_module": "@jupyter-widgets/controls",
            "_view_module_version": "1.5.0",
            "_view_name": "HTMLView",
            "description": "",
            "description_tooltip": null,
            "layout": "IPY_MODEL_7a32569a8b8347e6a609f0cc18587711",
            "placeholder": "​",
            "style": "IPY_MODEL_86cd82f0d4c94bc781bec1757fea4d5d",
            "value": "Downloading pytorch_model.bin: 100%"
          }
        },
        "bd75cc8e2fff437b8bd220f9489e6e2b": {
          "model_module": "@jupyter-widgets/controls",
          "model_name": "FloatProgressModel",
          "model_module_version": "1.5.0",
          "state": {
            "_dom_classes": [],
            "_model_module": "@jupyter-widgets/controls",
            "_model_module_version": "1.5.0",
            "_model_name": "FloatProgressModel",
            "_view_count": null,
            "_view_module": "@jupyter-widgets/controls",
            "_view_module_version": "1.5.0",
            "_view_name": "ProgressView",
            "bar_style": "success",
            "description": "",
            "description_tooltip": null,
            "layout": "IPY_MODEL_6af3dbd965534cdab6d348a936086680",
            "max": 380267417,
            "min": 0,
            "orientation": "horizontal",
            "style": "IPY_MODEL_c1f1f4c2e0744c06a0c8a93f569b3df8",
            "value": 380267417
          }
        },
        "c31286061d67478bbe06d654acb98135": {
          "model_module": "@jupyter-widgets/controls",
          "model_name": "HTMLModel",
          "model_module_version": "1.5.0",
          "state": {
            "_dom_classes": [],
            "_model_module": "@jupyter-widgets/controls",
            "_model_module_version": "1.5.0",
            "_model_name": "HTMLModel",
            "_view_count": null,
            "_view_module": "@jupyter-widgets/controls",
            "_view_module_version": "1.5.0",
            "_view_name": "HTMLView",
            "description": "",
            "description_tooltip": null,
            "layout": "IPY_MODEL_142ec5b410fc47e584576d9c7fdf6963",
            "placeholder": "​",
            "style": "IPY_MODEL_a89aea3fb686401f9b4087be15bfcc89",
            "value": " 380M/380M [00:01&lt;00:00, 286MB/s]"
          }
        },
        "fc1f9bd4dd694294ab21abbde6a5dd67": {
          "model_module": "@jupyter-widgets/base",
          "model_name": "LayoutModel",
          "model_module_version": "1.2.0",
          "state": {
            "_model_module": "@jupyter-widgets/base",
            "_model_module_version": "1.2.0",
            "_model_name": "LayoutModel",
            "_view_count": null,
            "_view_module": "@jupyter-widgets/base",
            "_view_module_version": "1.2.0",
            "_view_name": "LayoutView",
            "align_content": null,
            "align_items": null,
            "align_self": null,
            "border": null,
            "bottom": null,
            "display": null,
            "flex": null,
            "flex_flow": null,
            "grid_area": null,
            "grid_auto_columns": null,
            "grid_auto_flow": null,
            "grid_auto_rows": null,
            "grid_column": null,
            "grid_gap": null,
            "grid_row": null,
            "grid_template_areas": null,
            "grid_template_columns": null,
            "grid_template_rows": null,
            "height": null,
            "justify_content": null,
            "justify_items": null,
            "left": null,
            "margin": null,
            "max_height": null,
            "max_width": null,
            "min_height": null,
            "min_width": null,
            "object_fit": null,
            "object_position": null,
            "order": null,
            "overflow": null,
            "overflow_x": null,
            "overflow_y": null,
            "padding": null,
            "right": null,
            "top": null,
            "visibility": null,
            "width": null
          }
        },
        "7a32569a8b8347e6a609f0cc18587711": {
          "model_module": "@jupyter-widgets/base",
          "model_name": "LayoutModel",
          "model_module_version": "1.2.0",
          "state": {
            "_model_module": "@jupyter-widgets/base",
            "_model_module_version": "1.2.0",
            "_model_name": "LayoutModel",
            "_view_count": null,
            "_view_module": "@jupyter-widgets/base",
            "_view_module_version": "1.2.0",
            "_view_name": "LayoutView",
            "align_content": null,
            "align_items": null,
            "align_self": null,
            "border": null,
            "bottom": null,
            "display": null,
            "flex": null,
            "flex_flow": null,
            "grid_area": null,
            "grid_auto_columns": null,
            "grid_auto_flow": null,
            "grid_auto_rows": null,
            "grid_column": null,
            "grid_gap": null,
            "grid_row": null,
            "grid_template_areas": null,
            "grid_template_columns": null,
            "grid_template_rows": null,
            "height": null,
            "justify_content": null,
            "justify_items": null,
            "left": null,
            "margin": null,
            "max_height": null,
            "max_width": null,
            "min_height": null,
            "min_width": null,
            "object_fit": null,
            "object_position": null,
            "order": null,
            "overflow": null,
            "overflow_x": null,
            "overflow_y": null,
            "padding": null,
            "right": null,
            "top": null,
            "visibility": null,
            "width": null
          }
        },
        "86cd82f0d4c94bc781bec1757fea4d5d": {
          "model_module": "@jupyter-widgets/controls",
          "model_name": "DescriptionStyleModel",
          "model_module_version": "1.5.0",
          "state": {
            "_model_module": "@jupyter-widgets/controls",
            "_model_module_version": "1.5.0",
            "_model_name": "DescriptionStyleModel",
            "_view_count": null,
            "_view_module": "@jupyter-widgets/base",
            "_view_module_version": "1.2.0",
            "_view_name": "StyleView",
            "description_width": ""
          }
        },
        "6af3dbd965534cdab6d348a936086680": {
          "model_module": "@jupyter-widgets/base",
          "model_name": "LayoutModel",
          "model_module_version": "1.2.0",
          "state": {
            "_model_module": "@jupyter-widgets/base",
            "_model_module_version": "1.2.0",
            "_model_name": "LayoutModel",
            "_view_count": null,
            "_view_module": "@jupyter-widgets/base",
            "_view_module_version": "1.2.0",
            "_view_name": "LayoutView",
            "align_content": null,
            "align_items": null,
            "align_self": null,
            "border": null,
            "bottom": null,
            "display": null,
            "flex": null,
            "flex_flow": null,
            "grid_area": null,
            "grid_auto_columns": null,
            "grid_auto_flow": null,
            "grid_auto_rows": null,
            "grid_column": null,
            "grid_gap": null,
            "grid_row": null,
            "grid_template_areas": null,
            "grid_template_columns": null,
            "grid_template_rows": null,
            "height": null,
            "justify_content": null,
            "justify_items": null,
            "left": null,
            "margin": null,
            "max_height": null,
            "max_width": null,
            "min_height": null,
            "min_width": null,
            "object_fit": null,
            "object_position": null,
            "order": null,
            "overflow": null,
            "overflow_x": null,
            "overflow_y": null,
            "padding": null,
            "right": null,
            "top": null,
            "visibility": null,
            "width": null
          }
        },
        "c1f1f4c2e0744c06a0c8a93f569b3df8": {
          "model_module": "@jupyter-widgets/controls",
          "model_name": "ProgressStyleModel",
          "model_module_version": "1.5.0",
          "state": {
            "_model_module": "@jupyter-widgets/controls",
            "_model_module_version": "1.5.0",
            "_model_name": "ProgressStyleModel",
            "_view_count": null,
            "_view_module": "@jupyter-widgets/base",
            "_view_module_version": "1.2.0",
            "_view_name": "StyleView",
            "bar_color": null,
            "description_width": ""
          }
        },
        "142ec5b410fc47e584576d9c7fdf6963": {
          "model_module": "@jupyter-widgets/base",
          "model_name": "LayoutModel",
          "model_module_version": "1.2.0",
          "state": {
            "_model_module": "@jupyter-widgets/base",
            "_model_module_version": "1.2.0",
            "_model_name": "LayoutModel",
            "_view_count": null,
            "_view_module": "@jupyter-widgets/base",
            "_view_module_version": "1.2.0",
            "_view_name": "LayoutView",
            "align_content": null,
            "align_items": null,
            "align_self": null,
            "border": null,
            "bottom": null,
            "display": null,
            "flex": null,
            "flex_flow": null,
            "grid_area": null,
            "grid_auto_columns": null,
            "grid_auto_flow": null,
            "grid_auto_rows": null,
            "grid_column": null,
            "grid_gap": null,
            "grid_row": null,
            "grid_template_areas": null,
            "grid_template_columns": null,
            "grid_template_rows": null,
            "height": null,
            "justify_content": null,
            "justify_items": null,
            "left": null,
            "margin": null,
            "max_height": null,
            "max_width": null,
            "min_height": null,
            "min_width": null,
            "object_fit": null,
            "object_position": null,
            "order": null,
            "overflow": null,
            "overflow_x": null,
            "overflow_y": null,
            "padding": null,
            "right": null,
            "top": null,
            "visibility": null,
            "width": null
          }
        },
        "a89aea3fb686401f9b4087be15bfcc89": {
          "model_module": "@jupyter-widgets/controls",
          "model_name": "DescriptionStyleModel",
          "model_module_version": "1.5.0",
          "state": {
            "_model_module": "@jupyter-widgets/controls",
            "_model_module_version": "1.5.0",
            "_model_name": "DescriptionStyleModel",
            "_view_count": null,
            "_view_module": "@jupyter-widgets/base",
            "_view_module_version": "1.2.0",
            "_view_name": "StyleView",
            "description_width": ""
          }
        }
      }
    }
  },
  "nbformat": 4,
  "nbformat_minor": 0
}