{
 "cells": [
  {
   "cell_type": "code",
   "execution_count": 3,
   "metadata": {},
   "outputs": [],
   "source": [
    "import pandas as pd\n",
    "import os\n",
    "from functools import reduce"
   ]
  },
  {
   "cell_type": "code",
   "execution_count": 4,
   "metadata": {},
   "outputs": [],
   "source": [
    "scripts_dir = os.getcwd()\n",
    "os.chdir(\"../data\")\n",
    "data_dir = os.getcwd()\n",
    "os.chdir(\"../results\")\n",
    "results_dir = os.getcwd()\n",
    "os.chdir(\"../metadata\")\n",
    "meta_dir = os.getcwd()\n",
    "os.chdir(scripts_dir)"
   ]
  },
  {
   "cell_type": "code",
   "execution_count": 5,
   "metadata": {},
   "outputs": [],
   "source": [
    "all_speeches = os.path.join(meta_dir, \"riksdagen_speeches_with_ages.parquet\")\n",
    "all_speeches_df = pd.read_parquet(all_speeches)"
   ]
  },
  {
   "cell_type": "code",
   "execution_count": 6,
   "metadata": {},
   "outputs": [],
   "source": [
    "dfs = dict()\n",
    "splits = [\"train\", \"dev\", \"test\"]\n",
    "\n",
    "for split in splits:\n",
    "    across_age = f\"{split}_within_speaker_across_age_comparisons.parquet\"\n",
    "    within_age = f\"{split}_within_speaker_within_age_comparisons.parquet\"\n",
    "    acc_speaker_accr_age = f\"{split}_across_speaker_comparisons.parquet\"\n",
    "    acc_speaker_with_age = f\"{split}_across_speaker_within_age_comparisons.parquet\"\n",
    "\n",
    "    across_age_df = pd.read_parquet(os.path.join(meta_dir, across_age))\n",
    "    within_age_df = pd.read_parquet(os.path.join(meta_dir, within_age))\n",
    "    acc_speaker_accr_age_df = pd.read_parquet(os.path.join(meta_dir, acc_speaker_accr_age))\n",
    "    acc_speaker_with_age_df = pd.read_parquet(os.path.join(meta_dir, acc_speaker_with_age))\n",
    "\n",
    "    dfs[split] = [(across_age_df, 3), (within_age_df, 3), (acc_speaker_accr_age_df, 1), (acc_speaker_with_age_df, 1)]"
   ]
  },
  {
   "cell_type": "code",
   "execution_count": 7,
   "metadata": {},
   "outputs": [],
   "source": [
    "danfs = dict()\n",
    "\n",
    "for split in splits:\n",
    "    tmp_danfs = set()\n",
    "    for df, num_pairs in dfs[split]:\n",
    "        for pair_num in range(1, num_pairs+1):\n",
    "            tmp_danfs.update(set(reduce(lambda x, y: list(x) + list(y), df[f\"pair_{pair_num}\"].to_list())))\n",
    "    danfs[split] = tmp_danfs"
   ]
  },
  {
   "cell_type": "code",
   "execution_count": 8,
   "metadata": {},
   "outputs": [
    {
     "name": "stdout",
     "output_type": "stream",
     "text": [
      "train\n",
      "\tNumber of comparisons: 2379\n",
      "\tNumber of speeches: 7422\n",
      "dev\n",
      "\tNumber of comparisons: 480\n",
      "\tNumber of speeches: 1363\n",
      "test\n",
      "\tNumber of comparisons: 585\n",
      "\tNumber of speeches: 2310\n"
     ]
    }
   ],
   "source": [
    "for split in splits:\n",
    "    print(split)\n",
    "    print(f\"\\tNumber of comparisons: {len(dfs[split][3][0])}\")\n",
    "    print(f\"\\tNumber of speeches: {len(danfs[split])}\")"
   ]
  },
  {
   "cell_type": "code",
   "execution_count": 9,
   "metadata": {},
   "outputs": [
    {
     "name": "stderr",
     "output_type": "stream",
     "text": [
      "C:\\Users\\mayan\\AppData\\Local\\Temp\\ipykernel_9064\\3021129939.py:5: SettingWithCopyWarning: \n",
      "A value is trying to be set on a copy of a slice from a DataFrame.\n",
      "Try using .loc[row_indexer,col_indexer] = value instead\n",
      "\n",
      "See the caveats in the documentation: https://pandas.pydata.org/pandas-docs/stable/user_guide/indexing.html#returning-a-view-versus-a-copy\n",
      "  full_dfs[split][\"debateyear\"] = full_dfs[split][\"debatedate\"].apply(lambda x: x.year)\n",
      "C:\\Users\\mayan\\AppData\\Local\\Temp\\ipykernel_9064\\3021129939.py:5: SettingWithCopyWarning: \n",
      "A value is trying to be set on a copy of a slice from a DataFrame.\n",
      "Try using .loc[row_indexer,col_indexer] = value instead\n",
      "\n",
      "See the caveats in the documentation: https://pandas.pydata.org/pandas-docs/stable/user_guide/indexing.html#returning-a-view-versus-a-copy\n",
      "  full_dfs[split][\"debateyear\"] = full_dfs[split][\"debatedate\"].apply(lambda x: x.year)\n",
      "C:\\Users\\mayan\\AppData\\Local\\Temp\\ipykernel_9064\\3021129939.py:5: SettingWithCopyWarning: \n",
      "A value is trying to be set on a copy of a slice from a DataFrame.\n",
      "Try using .loc[row_indexer,col_indexer] = value instead\n",
      "\n",
      "See the caveats in the documentation: https://pandas.pydata.org/pandas-docs/stable/user_guide/indexing.html#returning-a-view-versus-a-copy\n",
      "  full_dfs[split][\"debateyear\"] = full_dfs[split][\"debatedate\"].apply(lambda x: x.year)\n"
     ]
    }
   ],
   "source": [
    "full_dfs = dict()\n",
    "\n",
    "for split in splits:\n",
    "    full_dfs[split] = all_speeches_df[all_speeches_df[\"dokid_anfnummer\"].apply(lambda x: x in danfs[split])]\n",
    "    full_dfs[split][\"debateyear\"] = full_dfs[split][\"debatedate\"].apply(lambda x: x.year)"
   ]
  },
  {
   "cell_type": "code",
   "execution_count": 25,
   "metadata": {},
   "outputs": [],
   "source": [
    "def print_df_data(df, split, metadata):\n",
    "    min_year, max_year = min(df[\"debatedate\"].tolist()),\\\n",
    "                         max(df[\"debatedate\"].tolist())\n",
    "    print(f\"first debate: {min_year}, last debate: {max_year}\")\n",
    "    metadata[\"First debate\"] = f\"{min_year.date()}\"\n",
    "    metadata[\"Last debate\"] = f\"{max_year.date()}\"\n",
    "    \n",
    "    num_debates = len(set(df[\"dokid\"]))\n",
    "    num_speeches = len(df)\n",
    "    print(f\"Number of debates: {num_debates}\")\n",
    "    print(f\"Number of speeches: {num_speeches}\")\n",
    "    metadata[\"Number of debates\"] = num_debates\n",
    "    metadata[\"Number of speeches\"] = num_speeches\n",
    "\n",
    "    num_speakers = len(set(df[\"intressent_id\"]))\n",
    "    print(f\"Number of speakers: {num_speakers}\")\n",
    "    metadata[\"Number of speakers\"] = num_speakers\n",
    "\n",
    "    min_age, max_age = min(df[df[\"age\"] != 0][\"age\"].tolist()),\\\n",
    "                         max(df[\"age\"].tolist())\n",
    "    print(f\"youngest age: {min_age}, oldest age: {max_age}\")\n",
    "    metadata[\"Youngest age\"] = min_age\n",
    "    metadata[\"Oldest age\"] = max_age\n",
    "\n",
    "    num_debs_per_year = df.groupby(\"debateyear\").agg([\"count\"])[\"dokid\"]\n",
    "    mean_debs = num_debs_per_year.mean()[0]\n",
    "    std_debs = num_debs_per_year.std()[0]\n",
    "    print(f\"Debates per year mean: {mean_debs:.0f}, std: {std_debs:.0f}\")\n",
    "    metadata[\"Debates per year, mean (std.)\"] = f\"{mean_debs:.0f} ({std_debs:.0f})\"\n",
    "\n",
    "    min_debs, min_year = num_debs_per_year.min()[0], num_debs_per_year.idxmin()[0]\n",
    "    max_debs, max_year = num_debs_per_year.max()[0], num_debs_per_year.idxmax()[0]\n",
    "    print(f\"Lowest number of debates ({min_debs}) in {min_year}\")\n",
    "    print(f\"Highest number of debates ({max_debs}) in {max_year}\")\n",
    "    metadata[\"Lowest number of debates (year)\"] = f\"{min_debs} ({min_year})\"\n",
    "    metadata[\"Highest number of debates (year)\"] = f\"{max_debs} ({max_year})\"\n",
    "    \n",
    "    num_debs_per_speaker = df.groupby(\"intressent_id\").agg([\"count\"])[\"dokid\"]\n",
    "    mean_speeches = num_debs_per_speaker.mean()[0]\n",
    "    std_speeches = num_debs_per_speaker.std()[0]\n",
    "    print(f\"Mean speeches per speaker: {mean_speeches:.0f}, std: {std_speeches:.0f}\")\n",
    "    metadata[\"Number of speeches per speaker, mean (std.)\"] = f\"{mean_speeches:.0f} ({std_speeches:.0f})\"\n",
    "\n",
    "#     num_debs_per_speaker = df.groupby([\"intressent_id\", \"debateyear\"])\\\n",
    "#         .agg([\"count\"])[\"dokid\"]\n",
    "#     mean_speeches = num_debs_per_speaker.mean()[0]\n",
    "#     std_speeches = num_debs_per_speaker.std()[0]\n",
    "#     print(f\"Mean speeches per speaker per year: {mean_speeches:.0f}, \\\n",
    "# std: {std_speeches:.0f}\")\n",
    "    #\n",
    "##    mean_speech_length = df.groupby(\"duration_segment\")\\\n",
    "##        .agg([\"mean\"])[\"dokid\"]\n",
    "#     mean_length = df[\"duration_segment\"].mean()\n",
    "#     std_length = df[\"duration_segment\"].std()\n",
    "#     print(f\"Mean speech_length: {mean_length:.0f}, \\\n",
    "# std: {std_length:.0f}\")\n",
    "\n",
    "    return metadata"
   ]
  },
  {
   "cell_type": "code",
   "execution_count": 26,
   "metadata": {},
   "outputs": [
    {
     "name": "stdout",
     "output_type": "stream",
     "text": [
      "train\n",
      "first debate: 2003-11-11 00:00:00, last debate: 2023-02-03 00:00:00\n",
      "Number of debates: 3156\n",
      "Number of speeches: 7422\n",
      "Number of speakers: 177\n",
      "youngest age: 19, oldest age: 78\n",
      "Debates per year mean: 353, std: 222\n",
      "Lowest number of debates (6) in 2003\n",
      "Highest number of debates (694) in 2016\n",
      "Mean speeches per speaker: 42, std: 44\n",
      "\n",
      "dev\n",
      "first debate: 2004-01-23 00:00:00, last debate: 2023-01-31 00:00:00\n",
      "Number of debates: 743\n",
      "Number of speeches: 1363\n",
      "Number of speakers: 36\n",
      "youngest age: 24, oldest age: 68\n",
      "Debates per year mean: 68, std: 32\n",
      "Lowest number of debates (7) in 2023\n",
      "Highest number of debates (123) in 2015\n",
      "Mean speeches per speaker: 38, std: 32\n",
      "\n",
      "test\n",
      "first debate: 2006-01-25 00:00:00, last debate: 2021-12-08 00:00:00\n",
      "Number of debates: 1191\n",
      "Number of speeches: 2310\n",
      "Number of speakers: 20\n",
      "youngest age: 24, oldest age: 58\n",
      "Debates per year mean: 144, std: 75\n",
      "Lowest number of debates (15) in 2021\n",
      "Highest number of debates (238) in 2016\n",
      "Mean speeches per speaker: 116, std: 36\n",
      "\n"
     ]
    }
   ],
   "source": [
    "metadata = dict()\n",
    "for split in splits:\n",
    "    print(split)\n",
    "    split_metadata = dict()\n",
    "    split_metatdata = print_df_data(full_dfs[split], split, split_metadata)\n",
    "    print()\n",
    "    metadata[split] = split_metadata"
   ]
  },
  {
   "cell_type": "code",
   "execution_count": 37,
   "metadata": {},
   "outputs": [
    {
     "name": "stdout",
     "output_type": "stream",
     "text": [
      "\t\tFirst debate & 2003-11-11 & 2004-01-23 & 2006-01-25 \\\\\n",
      "\t\tLast debate & 2023-02-03 & 2023-01-31 & 2021-12-08 \\\\\n",
      "\t\tNumber of debates & 3156 & 743 & 1191 \\\\\n",
      "\t\tNumber of speeches & 7422 & 1363 & 2310 \\\\\n",
      "\t\tNumber of speakers & 177 & 36 & 20 \\\\\n",
      "\t\tYoungest age & 19 & 24 & 24 \\\\\n",
      "\t\tOldest age & 78 & 68 & 58 \\\\\n",
      "\t\tDebates per year, mean (std.) & 353 (222) & 68 (32) & 144 (75) \\\\\n",
      "\t\tLowest number of debates (year) & 6 (2003) & 7 (2023) & 15 (2021) \\\\\n",
      "\t\tHighest number of debates (year) & 694 (2016) & 123 (2015) & 238 (2016) \\\\\n",
      "\t\tNumber of speeches per speaker, mean (std.) & 42 (44) & 38 (32) & 116 (36) \\\\\n"
     ]
    }
   ],
   "source": [
    "for key in metadata[\"train\"]:\n",
    "    print(f\"\\t\\t{key}\", end=\"\")\n",
    "    for split in splits:\n",
    "        print(f\" & {metadata[split][key]}\", end=\"\")\n",
    "    print(\" \\\\\\\\\")"
   ]
  }
 ],
 "metadata": {
  "kernelspec": {
   "display_name": "Python 3",
   "language": "python",
   "name": "python3"
  },
  "language_info": {
   "codemirror_mode": {
    "name": "ipython",
    "version": 3
   },
   "file_extension": ".py",
   "mimetype": "text/x-python",
   "name": "python",
   "nbconvert_exporter": "python",
   "pygments_lexer": "ipython3",
   "version": "3.11.0"
  },
  "orig_nbformat": 4
 },
 "nbformat": 4,
 "nbformat_minor": 2
}
