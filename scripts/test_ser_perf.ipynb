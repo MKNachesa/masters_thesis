{
 "cells": [
  {
   "cell_type": "code",
   "execution_count": 1,
   "metadata": {},
   "outputs": [],
   "source": [
    "import os\n",
    "import pickle as pkl\n",
    "from collections import defaultdict"
   ]
  },
  {
   "cell_type": "code",
   "execution_count": 2,
   "metadata": {},
   "outputs": [],
   "source": [
    "script_dir = os.getcwd()\n",
    "os.chdir(os.path.join(\"..\", \"results\", \"ser_perf\"))\n",
    "\n",
    "ser_perf_dir = os.getcwd()\n",
    "os.chdir(script_dir)\n",
    "\n",
    "model_perf = os.path.join(ser_perf_dir, \"performance_titanet_en_ch_40ep_eval_sp_7_en_original_data_False.pkl\")"
   ]
  },
  {
   "cell_type": "code",
   "execution_count": 3,
   "metadata": {},
   "outputs": [],
   "source": [
    "training_langs = [\"en\", \"ch\", \"en_ch\"]\n",
    "eval_sps = [7, 8]\n",
    "# original_data = [False, True]\n",
    "titanet_perf = {\"original data\": dict(), \"remixed data\": dict()}\n",
    "wav2vec2_perf = {\"original data\": dict(), \"remixed data\": dict()}\n",
    "perfs = {\"titanet\": titanet_perf, \"wav2vec2\": wav2vec2_perf}\n",
    "data_settings = [(\"remixed data\", False), (\"original data\", True)]"
   ]
  },
  {
   "cell_type": "code",
   "execution_count": 4,
   "metadata": {},
   "outputs": [],
   "source": [
    "for model in perfs:\n",
    "    for data_setting, data_bool in data_settings:\n",
    "        for training_lang in training_langs:\n",
    "            labels_correct = {\"en\": defaultdict(list), \"ch\": defaultdict(list)}\n",
    "            for eval_sp in eval_sps:\n",
    "                for eval_lang in training_lang.split(\"_\"):\n",
    "                    perf_file = f\"performance_{model}_{training_lang}_40ep_eval_sp_{eval_sp}_{eval_lang}_original_data_{data_bool}.pkl\"\n",
    "                    perf_path = os.path.join(ser_perf_dir, perf_file)\n",
    "                    with open(perf_path, \"rb\") as infile:\n",
    "                        perf = pkl.load(infile)\n",
    "                        for test_lang in [\"en\", \"ch\"]:\n",
    "                            for label in [0,1,2,3]:\n",
    "                                labels_correct[test_lang][label] += perf[\"test perf\"][test_lang][\"labels correct\"][label]\n",
    "            perfs[model][data_setting][training_lang] = labels_correct"
   ]
  },
  {
   "cell_type": "code",
   "execution_count": 5,
   "metadata": {},
   "outputs": [
    {
     "data": {
      "text/plain": [
       "dict_keys(['en', 'ch'])"
      ]
     },
     "execution_count": 5,
     "metadata": {},
     "output_type": "execute_result"
    }
   ],
   "source": [
    "perf[\"test perf\"][\"en\"][\"labels correct\"].keys()\n",
    "perf[\"test perf\"][\"en\"][\"labels correct\"][0]\n",
    "perf[\"test perf\"].keys()"
   ]
  },
  {
   "cell_type": "code",
   "execution_count": 6,
   "metadata": {},
   "outputs": [],
   "source": [
    "idx_to_label = {0: \"happy\", 1: \"angry\", 2: \"sad\", 3: \"neutral\"}"
   ]
  },
  {
   "cell_type": "code",
   "execution_count": 8,
   "metadata": {},
   "outputs": [
    {
     "name": "stdout",
     "output_type": "stream",
     "text": [
      "titanet\n",
      "model        en    ch en/ch   en    ch en/ch\n",
      "dataset         Original            Remixed       \n",
      "\\multicolumn{7}{c}{English} \\\\\n",
      "\\hline\n",
      "happy     & \\textcolor{black!95}{93.8} & \\textcolor{black!57}{48.0} & \\textcolor{black!95}{93.9} & \\textcolor{black!48}{37.0} & \\textcolor{black!47}{36.5} & \\textcolor{black!52}{42.3} \\\\\n",
      "angry     & \\textcolor{black!97}{96.7} & \\textcolor{black!50}{40.3} & \\textcolor{black!97}{95.9} & \\textcolor{black!84}{80.4} & \\textcolor{black!28}{13.6} & \\textcolor{black!58}{50.0} \\\\\n",
      "sad       & \\textcolor{black!97}{96.7} & \\textcolor{black!67}{60.2} & \\textcolor{black!97}{96.6} & \\textcolor{black!84}{80.5} & \\textcolor{black!70}{64.4} & \\textcolor{black!82}{78.5} \\\\\n",
      "neutral   & \\textcolor{black!98}{97.8} & \\textcolor{black!56}{46.7} & \\textcolor{black!98}{97.8} & \\textcolor{black!55}{46.6} & \\textcolor{black!79}{75.0} & \\textcolor{black!83}{79.9} \\\\\n",
      "\\hline\n",
      "\\multicolumn{7}{c}{Chinese} \\\\\n",
      "\\hline\n",
      "happy     & \\textcolor{black!75}{70.0} & \\textcolor{black!99}{98.3} & \\textcolor{black!99}{98.3} & \\textcolor{black!88}{85.4} & \\textcolor{black!95}{93.9} & \\textcolor{black!92}{90.3} \\\\\n",
      "angry     & \\textcolor{black!54}{44.7} & \\textcolor{black!98}{97.3} & \\textcolor{black!98}{97.3} & \\textcolor{black!36}{23.1} & \\textcolor{black!79}{74.8} & \\textcolor{black!81}{77.2} \\\\\n",
      "sad       & \\textcolor{black!96}{94.7} & \\textcolor{black!98}{98.0} & \\textcolor{black!99}{99.2} & \\textcolor{black!93}{91.2} & \\textcolor{black!92}{90.6} & \\textcolor{black!90}{87.7} \\\\\n",
      "neutral   & \\textcolor{black!35}{22.3} & \\textcolor{black!99}{99.3} & \\textcolor{black!100}{99.5} & \\textcolor{black!46}{35.7} & \\textcolor{black!65}{58.2} & \\textcolor{black!78}{73.1} \\\\\n",
      "\\hline\n",
      "\n",
      "wav2vec2\n",
      "model        en    ch en/ch   en    ch en/ch\n",
      "dataset         Original            Remixed       \n",
      "\\multicolumn{7}{c}{English} \\\\\n",
      "\\hline\n",
      "happy     & \\textcolor{black!87}{84.5} & \\textcolor{black!48}{37.5} & \\textcolor{black!89}{87.2} & \\textcolor{black!56}{47.0} & \\textcolor{black!50}{39.6} & \\textcolor{black!56}{46.6} \\\\\n",
      "angry     & \\textcolor{black!96}{94.7} & \\textcolor{black!62}{54.5} & \\textcolor{black!92}{90.8} & \\textcolor{black!77}{72.3} & \\textcolor{black!71}{65.4} & \\textcolor{black!73}{67.8} \\\\\n",
      "sad       & \\textcolor{black!95}{94.0} & \\textcolor{black!44}{33.2} & \\textcolor{black!93}{91.2} & \\textcolor{black!91}{89.8} & \\textcolor{black!55}{46.6} & \\textcolor{black!90}{87.9} \\\\\n",
      "neutral   & \\textcolor{black!90}{88.2} & \\textcolor{black!85}{82.5} & \\textcolor{black!88}{85.4} & \\textcolor{black!80}{76.1} & \\textcolor{black!86}{83.1} & \\textcolor{black!87}{84.5} \\\\\n",
      "\\hline\n",
      "\\multicolumn{7}{c}{Chinese} \\\\\n",
      "\\hline\n",
      "happy     & \\textcolor{black!59}{50.5} & \\textcolor{black!95}{94.3} & \\textcolor{black!94}{92.6} & \\textcolor{black!71}{65.2} & \\textcolor{black!87}{84.8} & \\textcolor{black!85}{82.0} \\\\\n",
      "angry     & \\textcolor{black!85}{82.5} & \\textcolor{black!95}{94.3} & \\textcolor{black!97}{96.2} & \\textcolor{black!64}{56.6} & \\textcolor{black!77}{72.1} & \\textcolor{black!75}{70.5} \\\\\n",
      "sad       & \\textcolor{black!81}{77.5} & \\textcolor{black!97}{96.5} & \\textcolor{black!97}{96.6} & \\textcolor{black!80}{76.1} & \\textcolor{black!87}{84.2} & \\textcolor{black!88}{86.0} \\\\\n",
      "neutral   & \\textcolor{black!42}{31.0} & \\textcolor{black!98}{97.2} & \\textcolor{black!92}{90.8} & \\textcolor{black!47}{36.7} & \\textcolor{black!78}{73.1} & \\textcolor{black!76}{71.2} \\\\\n",
      "\\hline\n",
      "\n"
     ]
    }
   ],
   "source": [
    "def print_per_label_perf(model, model_perf):\n",
    "    code_to_lang = {\"en\": \"English\", \"ch\": \"Chinese\"}\n",
    "    print(f\"{model}\")\n",
    "    # print(f\"{model} {data_setting}\")\n",
    "    print(f\"{'model':<7}   {'en':>5} {'ch':>5} {'en/ch':>5}{'en':>5} {'ch':>5} {'en/ch':>5}\")\n",
    "    print(f\"{'dataset':<7}   {'Original':^20}{'Remixed':^20}\")\n",
    "    for lang in [\"en\", \"ch\"]:\n",
    "        print(f\"\\multicolumn{{7}}{{c}}{{{code_to_lang[lang]}}} \\\\\\\\\")\n",
    "        print(\"\\hline\")\n",
    "        for label in [0,1,2,3]:\n",
    "            str_label = idx_to_label[label]\n",
    "            print(f\"{str_label:<7}   \", end=\"\")\n",
    "            for data_setting, _ in data_settings[::-1]:\n",
    "                for training_lang in training_langs:\n",
    "                    preds = model_perf[data_setting][training_lang][lang][label]\n",
    "                    score = sum(preds)/len(preds)*100\n",
    "                    print(f\"& \\\\textcolor{{black!{round((score+20)/1.2)}}}{{{score:.1f}}}\", end=\" \")\n",
    "            print(\"\\\\\\\\\")\n",
    "        print(\"\\hline\")\n",
    "\n",
    "for model in perfs:\n",
    "    # for data_setting, _ in data_settings:\n",
    "    print_per_label_perf(model, perfs[model])\n",
    "    print()"
   ]
  },
  {
   "cell_type": "code",
   "execution_count": 38,
   "metadata": {},
   "outputs": [
    {
     "name": "stdout",
     "output_type": "stream",
     "text": [
      "TitaNet-EN & 96.2 & 57.9 & 61.1 & 58.8 \\\\\n",
      "TitaNet-CH & 48.8 & 98.2 & 47.4 & 79.4 \\\\\n",
      "TitaNet-EN/CH & 96.0 & 98.6 & 62.7 & 82.1 \\\\\n",
      "\\hline\n",
      "Wav2Vec2.0-EN & 90.3 & 60.4 & 71.3 & 58.7 \\\\\n",
      "Wav2Vec2.0-CH & 51.9 & 95.6 & 58.7 & 78.6 \\\\\n",
      "Wav2Vec2.0-EN/CH & 88.6 & 94.1 & 71.7 & 77.4 \\\\\n",
      "\\hline\n"
     ]
    }
   ],
   "source": [
    "def print_perf(model, model_perf):\n",
    "    # code_to_lang = {\"en\": \"English\", \"ch\": \"Chinese\"}\n",
    "    model_to_table_name = {\"titanet\": \"TitaNet\", \"wav2vec2\": \"Wav2Vec2.0\"}\n",
    "    table_model = model_to_table_name[model]\n",
    "    # print(f\"{model}\")\n",
    "    # print(f\"{model} {data_setting}\")\n",
    "    # print(f\"{'model':<7}   {'en':>5} {'ch':>5} {'en/ch':>5}{'en':>5} {'ch':>5} {'en/ch':>5}\")\n",
    "    # print(f\"{'dataset':<7}   {'Original':^20}{'Remixed':^20}\")\n",
    "    for training_lang in training_langs:\n",
    "        # print(f\"\\multicolumn{{7}}{{c}}{{{code_to_lang[lang]}}} \\\\\\\\\")\n",
    "        # print(\"\\hline\")\n",
    "            # str_label = idx_to_label[label]\n",
    "        print(f\"{table_model}-\", end=\"\")\n",
    "        print(f\"{training_lang.replace('_', '/').upper()} \", end=\"\")\n",
    "        for data_setting, _ in data_settings[::-1]:\n",
    "            for lang in [\"en\", \"ch\"]:\n",
    "                score = []\n",
    "                for label in [0,1,2,3]:              \n",
    "                    score += model_perf[data_setting][training_lang][lang][label]\n",
    "                    # print(f\"& {score:.1f}\", end=\" \")\n",
    "        #     print(\"\\\\\\\\\")\n",
    "        # print(\"\\hline\")\n",
    "                avg = sum(score)/len(score)*100\n",
    "                print(f\"& {avg:.1f}\", end=\" \")\n",
    "        print(\"\\\\\\\\\")\n",
    "    print(\"\\hline\")\n",
    "\n",
    "for model in perfs:\n",
    "    # for data_setting, _ in data_settings:\n",
    "    print_perf(model, perfs[model])"
   ]
  }
 ],
 "metadata": {
  "kernelspec": {
   "display_name": "Python 3",
   "language": "python",
   "name": "python3"
  },
  "language_info": {
   "codemirror_mode": {
    "name": "ipython",
    "version": 3
   },
   "file_extension": ".py",
   "mimetype": "text/x-python",
   "name": "python",
   "nbconvert_exporter": "python",
   "pygments_lexer": "ipython3",
   "version": "3.11.0"
  },
  "orig_nbformat": 4
 },
 "nbformat": 4,
 "nbformat_minor": 2
}
